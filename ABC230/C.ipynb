{
 "cells": [
  {
   "cell_type": "code",
   "execution_count": 1,
   "id": "77275261-2aab-461c-a144-3002fcd1bf24",
   "metadata": {},
   "outputs": [
    {
     "data": {
      "application/vnd.jupyter.widget-view+json": {
       "model_id": "ffed228194d3448fad05ebebc1293b3a",
       "version_major": 2,
       "version_minor": 0
      },
      "text/plain": [
       "Textarea(value='')"
      ]
     },
     "metadata": {},
     "output_type": "display_data"
    }
   ],
   "source": [
    "# Ref: https://qiita.com/noca/items/00646efd9d4a7302f522\n",
    "from ipywidgets import Textarea\n",
    "import io\n",
    "if 'open' in globals():\n",
    "    del open\n",
    "if 'input' in globals():\n",
    "    del input\n",
    "original_open = open\n",
    "class custom_open():\n",
    "    def __init__(self):\n",
    "        self.text = ''\n",
    "    def __call__(self, file, *args, **kwargs):\n",
    "        if file == 0:\n",
    "            return io.StringIO(self.text)\n",
    "        return original_open(file, *args, **kwargs)\n",
    "    def updater(self, change):\n",
    "        self.text = change[\"new\"]\n",
    "class custom_input():\n",
    "    def __init__(self):\n",
    "        self.__sio = io.StringIO('')\n",
    "        self.shell = get_ipython()\n",
    "        if self.shell.events.callbacks['pre_run_cell'] != []:\n",
    "            self.shell.events.callbacks['pre_run_cell'] = []\n",
    "        self.shell.events.register('pre_run_cell', self.pre_run_cell)\n",
    "    def __call__(self):\n",
    "        return self.__sio.readline().strip()\n",
    "    def pre_run_cell(self, info):\n",
    "        text = self.shell.user_ns.get('text_area', None).value\n",
    "        self.__sio = io.StringIO(text)\n",
    "open = custom_open()\n",
    "input = custom_input()\n",
    "text_area = Textarea()\n",
    "text_area.observe(open.updater, names='value')\n",
    "display(text_area)"
   ]
  },
  {
   "cell_type": "code",
   "execution_count": 58,
   "id": "6f6d3fac-517f-4ad2-9ed8-3a7ae53303b1",
   "metadata": {},
   "outputs": [
    {
     "name": "stdout",
     "output_type": "stream",
     "text": [
      "...#.\n",
      "#.#..\n",
      ".#...\n",
      "#.#..\n",
      "...#.\n"
     ]
    }
   ],
   "source": [
    "N, A, B = map(int, input().split())\n",
    "P, Q, R, S = map(int, input().split())\n",
    "\n",
    "ans = [[\".\"] * (S-R+1) for _ in range(Q-P+1)]\n",
    "\n",
    "_min = max(1-A, 1-B)\n",
    "_max = min(N-A, N-B)\n",
    "for i in range(Q-P+1):\n",
    "    for j in range(S-R+1):\n",
    "        if (i+P) - A != (j+R) - B:\n",
    "            continue\n",
    "        k = (i+P) - A\n",
    "        if _min <= k <= _max:\n",
    "            ans[i][j] = \"#\"\n",
    "        # print((i+P), (j+R))\n",
    "            \n",
    "_min = max(1-A, B-N)\n",
    "_max = min(N-A, B-1)\n",
    "for i in range(Q-P+1):\n",
    "    for j in range(S-R+1):\n",
    "        if (i+P)-A != B-(j+R):\n",
    "            continue\n",
    "        k = (i+P) - A\n",
    "        if _min <= k <= _max:\n",
    "            ans[i][j] = \"#\"\n",
    "        # print((i+P), (j+R)) \n",
    "for a in ans:\n",
    "    print(''.join(a))"
   ]
  },
  {
   "cell_type": "code",
   "execution_count": 55,
   "id": "5f686c52-16f6-474b-a9d0-8818f6c79f36",
   "metadata": {},
   "outputs": [
    {
     "data": {
      "text/plain": [
       "[['.', '.', '.', '#', '.'],\n",
       " ['#', '.', '#', '.', '.'],\n",
       " ['.', '#', '.', '.', '.'],\n",
       " ['#', '.', '#', '.', '.'],\n",
       " ['.', '.', '.', '#', '.']]"
      ]
     },
     "execution_count": 55,
     "metadata": {},
     "output_type": "execute_result"
    }
   ],
   "source": [
    "ans"
   ]
  },
  {
   "cell_type": "code",
   "execution_count": null,
   "id": "95586fac-ae30-47c0-802b-6fe59ea95e10",
   "metadata": {},
   "outputs": [],
   "source": []
  }
 ],
 "metadata": {
  "kernelspec": {
   "display_name": "Python 3 (ipykernel)",
   "language": "python",
   "name": "python3"
  },
  "language_info": {
   "codemirror_mode": {
    "name": "ipython",
    "version": 3
   },
   "file_extension": ".py",
   "mimetype": "text/x-python",
   "name": "python",
   "nbconvert_exporter": "python",
   "pygments_lexer": "ipython3",
   "version": "3.9.12"
  }
 },
 "nbformat": 4,
 "nbformat_minor": 5
}
