{
 "cells": [
  {
   "cell_type": "code",
   "execution_count": 1,
   "id": "3411d156-74d7-475b-939e-23eebe529b4d",
   "metadata": {},
   "outputs": [
    {
     "data": {
      "application/vnd.jupyter.widget-view+json": {
       "model_id": "7f09a8f98fe2423c86003530349072bf",
       "version_major": 2,
       "version_minor": 0
      },
      "text/plain": [
       "Textarea(value='')"
      ]
     },
     "metadata": {},
     "output_type": "display_data"
    }
   ],
   "source": [
    "# Ref: https://qiita.com/noca/items/00646efd9d4a7302f522\n",
    "from ipywidgets import Textarea\n",
    "import io\n",
    "if 'open' in globals():\n",
    "    del open\n",
    "if 'input' in globals():\n",
    "    del input\n",
    "original_open = open\n",
    "class custom_open():\n",
    "    def __init__(self):\n",
    "        self.text = ''\n",
    "    def __call__(self, file, *args, **kwargs):\n",
    "        if file == 0:\n",
    "            return io.StringIO(self.text)\n",
    "        return original_open(file, *args, **kwargs)\n",
    "    def updater(self, change):\n",
    "        self.text = change[\"new\"]\n",
    "class custom_input():\n",
    "    def __init__(self):\n",
    "        self.__sio = io.StringIO('')\n",
    "        self.shell = get_ipython()\n",
    "        if self.shell.events.callbacks['pre_run_cell'] != []:\n",
    "            self.shell.events.callbacks['pre_run_cell'] = []\n",
    "        self.shell.events.register('pre_run_cell', self.pre_run_cell)\n",
    "    def __call__(self):\n",
    "        return self.__sio.readline().strip()\n",
    "    def pre_run_cell(self, info):\n",
    "        text = self.shell.user_ns.get('text_area', None).value\n",
    "        self.__sio = io.StringIO(text)\n",
    "open = custom_open()\n",
    "input = custom_input()\n",
    "text_area = Textarea()\n",
    "text_area.observe(open.updater, names='value')\n",
    "display(text_area)"
   ]
  },
  {
   "cell_type": "code",
   "execution_count": 34,
   "id": "dce56aa2-abdf-47a6-bf74-c17db18c488e",
   "metadata": {},
   "outputs": [
    {
     "name": "stdout",
     "output_type": "stream",
     "text": [
      "9\n"
     ]
    }
   ],
   "source": [
    "import sys\n",
    "from collections import deque\n",
    "N, M = map(int, input().split())\n",
    "G = [list() for _ in range(N)]\n",
    "for _ in range(M):\n",
    "    u, v = map(int, input().split())\n",
    "    u -= 1\n",
    "    v -= 1\n",
    "    G[u].append(v)\n",
    "    G[v].append(u)\n",
    "\n",
    "ans = N * (N-1) // 2\n",
    "visited = [-1] * N\n",
    "for s in range(N):\n",
    "    if visited[s] != -1:\n",
    "        continue\n",
    "    q = deque()\n",
    "    q.append(s)\n",
    "    visited[s] = 0\n",
    "    mod0 = 1\n",
    "    mod1 = 0\n",
    "    while q:\n",
    "        now = q.popleft()\n",
    "        for nex in G[now]:\n",
    "            if visited[nex] == -1:\n",
    "                visited[nex] = (visited[now] + 1) % 2\n",
    "                if visited[nex]:\n",
    "                    mod1 += 1\n",
    "                else:\n",
    "                    mod0 += 1\n",
    "                q.append(nex)\n",
    "            else:\n",
    "                if visited[nex] == visited[now]:\n",
    "                    print(0)\n",
    "                    sys.exit(0)\n",
    "    \n",
    "    ans -= mod0 * (mod0-1) // 2\n",
    "    ans -= mod1 * (mod1-1) // 2\n",
    "    \n",
    "print(ans - M)"
   ]
  },
  {
   "cell_type": "code",
   "execution_count": 35,
   "id": "e0f56126-6dc9-4fb4-ac9a-1d6569e56db7",
   "metadata": {},
   "outputs": [
    {
     "data": {
      "text/plain": [
       "[0, 0, 0, 0, 1, 1, 0, 1, 1]"
      ]
     },
     "execution_count": 35,
     "metadata": {},
     "output_type": "execute_result"
    }
   ],
   "source": [
    "visited"
   ]
  },
  {
   "cell_type": "code",
   "execution_count": 36,
   "id": "e4fcdd58-c28c-4c48-aa43-dcf68b5b11f2",
   "metadata": {},
   "outputs": [
    {
     "data": {
      "text/plain": [
       "36"
      ]
     },
     "execution_count": 36,
     "metadata": {},
     "output_type": "execute_result"
    }
   ],
   "source": [
    "N * (N-1) // 2"
   ]
  },
  {
   "cell_type": "code",
   "execution_count": null,
   "id": "f7626f1d-c194-4548-be38-b36619bd8aa8",
   "metadata": {},
   "outputs": [],
   "source": []
  }
 ],
 "metadata": {
  "kernelspec": {
   "display_name": "Python 3 (ipykernel)",
   "language": "python",
   "name": "python3"
  },
  "language_info": {
   "codemirror_mode": {
    "name": "ipython",
    "version": 3
   },
   "file_extension": ".py",
   "mimetype": "text/x-python",
   "name": "python",
   "nbconvert_exporter": "python",
   "pygments_lexer": "ipython3",
   "version": "3.9.12"
  }
 },
 "nbformat": 4,
 "nbformat_minor": 5
}
