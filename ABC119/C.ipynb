{
 "cells": [
  {
   "cell_type": "code",
   "execution_count": 1,
   "id": "581f1ca0-0542-4cde-b3ed-7c193e147d02",
   "metadata": {},
   "outputs": [
    {
     "data": {
      "application/vnd.jupyter.widget-view+json": {
       "model_id": "00407f4115624950bca1ef6f637da249",
       "version_major": 2,
       "version_minor": 0
      },
      "text/plain": [
       "Textarea(value='')"
      ]
     },
     "metadata": {},
     "output_type": "display_data"
    }
   ],
   "source": [
    "# Ref: https://qiita.com/noca/items/00646efd9d4a7302f522\n",
    "from ipywidgets import Textarea\n",
    "import io\n",
    "if 'open' in globals():\n",
    "    del open\n",
    "if 'input' in globals():\n",
    "    del input\n",
    "original_open = open\n",
    "class custom_open():\n",
    "    def __init__(self):\n",
    "        self.text = ''\n",
    "    def __call__(self, file, *args, **kwargs):\n",
    "        if file == 0:\n",
    "            return io.StringIO(self.text)\n",
    "        return original_open(file, *args, **kwargs)\n",
    "    def updater(self, change):\n",
    "        self.text = change[\"new\"]\n",
    "class custom_input():\n",
    "    def __init__(self):\n",
    "        self.__sio = io.StringIO('')\n",
    "        self.shell = get_ipython()\n",
    "        if self.shell.events.callbacks['pre_run_cell'] != []:\n",
    "            self.shell.events.callbacks['pre_run_cell'] = []\n",
    "        self.shell.events.register('pre_run_cell', self.pre_run_cell)\n",
    "    def __call__(self):\n",
    "        return self.__sio.readline().strip()\n",
    "    def pre_run_cell(self, info):\n",
    "        text = self.shell.user_ns.get('text_area', None).value\n",
    "        self.__sio = io.StringIO(text)\n",
    "open = custom_open()\n",
    "input = custom_input()\n",
    "text_area = Textarea()\n",
    "text_area.observe(open.updater, names='value')\n",
    "display(text_area)"
   ]
  },
  {
   "cell_type": "code",
   "execution_count": 35,
   "id": "e2f554a7-4f7c-4c1b-aaf9-e72b44e420eb",
   "metadata": {},
   "outputs": [
    {
     "name": "stdout",
     "output_type": "stream",
     "text": [
      "243\n"
     ]
    }
   ],
   "source": [
    "N, A, B, C = map(int, input().split())\n",
    "L = [int(input()) for _ in range(N)]\n",
    "L.sort()\n",
    "\n",
    "ans = 10 ** 20\n",
    "flag = [0] * N\n",
    "bit = 1 << (2 * N)\n",
    "for i in range(bit):\n",
    "    for j in range(N):\n",
    "        # print(bin(i))\n",
    "        if i >> (2*j) & 3 == 3:\n",
    "            flag[j] = 3\n",
    "        elif i >> (2*j) & 2 == 2:\n",
    "            flag[j] = 2\n",
    "        elif i >> (2*j) & 1 == 1:\n",
    "            flag[j] = 1\n",
    "        else:\n",
    "            flag[j] = 0   \n",
    "    # print(flag)\n",
    "    a = 0\n",
    "    b = 0\n",
    "    c = 0\n",
    "    ap = -1\n",
    "    bp = -1\n",
    "    cp = -1\n",
    "    for j in range(N):\n",
    "        if flag[j] == 1:\n",
    "            a += L[j]\n",
    "            ap += 1\n",
    "        elif flag[j] == 2:\n",
    "            b += L[j]\n",
    "            bp += 1\n",
    "        elif flag[j] == 3:\n",
    "            c += L[j]\n",
    "            cp += 1\n",
    "    \n",
    "    if a == 0 or b == 0 or c == 0:\n",
    "        continue\n",
    "        \n",
    "    temp = (ap+bp+cp) * 10 + abs(A-a) + abs(B-b) + abs(C-c)\n",
    "    ans = min(ans, temp)\n",
    "    \n",
    "print(ans)"
   ]
  },
  {
   "cell_type": "code",
   "execution_count": null,
   "id": "4a0f2357-5e9b-40e4-bbc8-141050c16732",
   "metadata": {},
   "outputs": [],
   "source": []
  },
  {
   "cell_type": "code",
   "execution_count": null,
   "id": "1980b5af-2d91-4d21-bf84-4e59268c9806",
   "metadata": {},
   "outputs": [],
   "source": []
  }
 ],
 "metadata": {
  "kernelspec": {
   "display_name": "Python 3 (ipykernel)",
   "language": "python",
   "name": "python3"
  },
  "language_info": {
   "codemirror_mode": {
    "name": "ipython",
    "version": 3
   },
   "file_extension": ".py",
   "mimetype": "text/x-python",
   "name": "python",
   "nbconvert_exporter": "python",
   "pygments_lexer": "ipython3",
   "version": "3.9.12"
  }
 },
 "nbformat": 4,
 "nbformat_minor": 5
}
