{
 "cells": [
  {
   "cell_type": "code",
   "execution_count": 2,
   "id": "d476e846-b7ca-421c-a8bc-b623000453e2",
   "metadata": {},
   "outputs": [
    {
     "data": {
      "application/vnd.jupyter.widget-view+json": {
       "model_id": "2d6b62f8df46493a964120d1a5bb0735",
       "version_major": 2,
       "version_minor": 0
      },
      "text/plain": [
       "Textarea(value='')"
      ]
     },
     "metadata": {},
     "output_type": "display_data"
    }
   ],
   "source": [
    "# Ref: https://qiita.com/noca/items/00646efd9d4a7302f522\n",
    "from ipywidgets import Textarea\n",
    "import io\n",
    "if 'open' in globals():\n",
    "    del open\n",
    "if 'input' in globals():\n",
    "    del input\n",
    "original_open = open\n",
    "class custom_open():\n",
    "    def __init__(self):\n",
    "        self.text = ''\n",
    "    def __call__(self, file, *args, **kwargs):\n",
    "        if file == 0:\n",
    "            return io.StringIO(self.text)\n",
    "        return original_open(file, *args, **kwargs)\n",
    "    def updater(self, change):\n",
    "        self.text = change[\"new\"]\n",
    "class custom_input():\n",
    "    def __init__(self):\n",
    "        self.__sio = io.StringIO('')\n",
    "        self.shell = get_ipython()\n",
    "        if self.shell.events.callbacks['pre_run_cell'] != []:\n",
    "            self.shell.events.callbacks['pre_run_cell'] = []\n",
    "        self.shell.events.register('pre_run_cell', self.pre_run_cell)\n",
    "    def __call__(self):\n",
    "        return self.__sio.readline().strip()\n",
    "    def pre_run_cell(self, info):\n",
    "        text = self.shell.user_ns.get('text_area', None).value\n",
    "        self.__sio = io.StringIO(text)\n",
    "open = custom_open()\n",
    "input = custom_input()\n",
    "text_area = Textarea()\n",
    "text_area.observe(open.updater, names='value')\n",
    "display(text_area)"
   ]
  },
  {
   "cell_type": "code",
   "execution_count": 130,
   "id": "0c11e0e7-7498-4d6b-ba44-ad359f991869",
   "metadata": {},
   "outputs": [
    {
     "name": "stdout",
     "output_type": "stream",
     "text": [
      "7\n"
     ]
    }
   ],
   "source": [
    "N = int(input())\n",
    "A = [0] + list(map(int, input().split()))\n",
    "\n",
    "k = 0\n",
    "while 1:\n",
    "    if 1 << k > N:\n",
    "        break\n",
    "    k += 1\n",
    "\n",
    "arr = [[0] * (N+1) for _ in range(k)]\n",
    "\n",
    "for x in range(1, N+1):\n",
    "    arr[0][x] = A[x]\n",
    "    \n",
    "for i in range(1, k):\n",
    "    for x in range(1, N+1):\n",
    "        pre = arr[i-1][x]\n",
    "        arr[i][x] = arr[i-1][pre]\n",
    "\n",
    "def f(x):\n",
    "    now = x\n",
    "    for kk in range(k):\n",
    "        if N & (1 << kk) == 0:\n",
    "            continue\n",
    "        now = arr[kk][now]\n",
    "        # print(now)\n",
    "    return now\n",
    "        \n",
    "flag = [False] * (N+1)\n",
    "cnt = 0\n",
    "for i in range(1, N+1):\n",
    "    x = f(i)\n",
    "    if flag[x]:\n",
    "        continue\n",
    "    else:\n",
    "        flag[x] = True\n",
    "        cnt += 1\n",
    "print(cnt)"
   ]
  },
  {
   "cell_type": "code",
   "execution_count": 131,
   "id": "d23c28ea-af45-4e04-8c06-c62c1d1bfedf",
   "metadata": {},
   "outputs": [
    {
     "data": {
      "text/plain": [
       "[[0, 2, 2, 3, 4, 5, 6, 7, 8],\n",
       " [0, 2, 2, 3, 4, 5, 6, 7, 8],\n",
       " [0, 2, 2, 3, 4, 5, 6, 7, 8],\n",
       " [0, 2, 2, 3, 4, 5, 6, 7, 8]]"
      ]
     },
     "execution_count": 131,
     "metadata": {},
     "output_type": "execute_result"
    }
   ],
   "source": [
    "arr"
   ]
  },
  {
   "cell_type": "code",
   "execution_count": 132,
   "id": "8f61a40b-62ee-4bcf-8fb7-a2567c0d94d6",
   "metadata": {},
   "outputs": [
    {
     "data": {
      "text/plain": [
       "2"
      ]
     },
     "execution_count": 132,
     "metadata": {},
     "output_type": "execute_result"
    }
   ],
   "source": [
    "f(1)"
   ]
  },
  {
   "cell_type": "code",
   "execution_count": 133,
   "id": "2bf0cd9e-6bc7-4ab6-9341-81674ad931cc",
   "metadata": {},
   "outputs": [
    {
     "data": {
      "text/plain": [
       "'0b1000'"
      ]
     },
     "execution_count": 133,
     "metadata": {},
     "output_type": "execute_result"
    }
   ],
   "source": [
    "bin(8)"
   ]
  },
  {
   "cell_type": "code",
   "execution_count": 137,
   "id": "59b28db0-fbf9-4859-a1ae-55d085c89910",
   "metadata": {},
   "outputs": [
    {
     "name": "stdout",
     "output_type": "stream",
     "text": [
      "7\n"
     ]
    }
   ],
   "source": [
    "N = int(input())\n",
    "A = [0] + list(map(int, input().split()))\n",
    "\n",
    "k = 30\n",
    "arr = [[0] * (N+1) for _ in range(k)]\n",
    "\n",
    "for x in range(1, N+1):\n",
    "    arr[0][x] = A[x]\n",
    "    \n",
    "for i in range(1, k):\n",
    "    for x in range(1, N+1):\n",
    "        pre = arr[i-1][x]\n",
    "        arr[i][x] = arr[i-1][pre]\n",
    "\n",
    "s = set(arr[k-1])\n",
    "print(len(s)-1)"
   ]
  },
  {
   "cell_type": "code",
   "execution_count": 138,
   "id": "c7e53e15-2032-4ecd-8363-f98cff4940b9",
   "metadata": {},
   "outputs": [
    {
     "data": {
      "text/plain": [
       "1073741824"
      ]
     },
     "execution_count": 138,
     "metadata": {},
     "output_type": "execute_result"
    }
   ],
   "source": [
    "1 << 30"
   ]
  },
  {
   "cell_type": "code",
   "execution_count": null,
   "id": "deffa56b-b306-4961-b77b-dfb0bec7b51a",
   "metadata": {},
   "outputs": [],
   "source": []
  }
 ],
 "metadata": {
  "kernelspec": {
   "display_name": "Python 3 (ipykernel)",
   "language": "python",
   "name": "python3"
  },
  "language_info": {
   "codemirror_mode": {
    "name": "ipython",
    "version": 3
   },
   "file_extension": ".py",
   "mimetype": "text/x-python",
   "name": "python",
   "nbconvert_exporter": "python",
   "pygments_lexer": "ipython3",
   "version": "3.9.12"
  }
 },
 "nbformat": 4,
 "nbformat_minor": 5
}
