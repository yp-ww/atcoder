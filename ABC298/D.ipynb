{
 "cells": [
  {
   "cell_type": "code",
   "execution_count": 1,
   "id": "586c2e84-21f8-444e-9b6e-1d557a22cb61",
   "metadata": {},
   "outputs": [
    {
     "data": {
      "application/vnd.jupyter.widget-view+json": {
       "model_id": "cb3a91812f044297ad44421aee141bc9",
       "version_major": 2,
       "version_minor": 0
      },
      "text/plain": [
       "Textarea(value='')"
      ]
     },
     "metadata": {},
     "output_type": "display_data"
    }
   ],
   "source": [
    "# Ref: https://qiita.com/noca/items/00646efd9d4a7302f522\n",
    "from ipywidgets import Textarea\n",
    "import io\n",
    "if 'open' in globals():\n",
    "    del open\n",
    "if 'input' in globals():\n",
    "    del input\n",
    "original_open = open\n",
    "class custom_open():\n",
    "    def __init__(self):\n",
    "        self.text = ''\n",
    "    def __call__(self, file, *args, **kwargs):\n",
    "        if file == 0:\n",
    "            return io.StringIO(self.text)\n",
    "        return original_open(file, *args, **kwargs)\n",
    "    def updater(self, change):\n",
    "        self.text = change[\"new\"]\n",
    "class custom_input():\n",
    "    def __init__(self):\n",
    "        self.__sio = io.StringIO('')\n",
    "        self.shell = get_ipython()\n",
    "        if self.shell.events.callbacks['pre_run_cell'] != []:\n",
    "            self.shell.events.callbacks['pre_run_cell'] = []\n",
    "        self.shell.events.register('pre_run_cell', self.pre_run_cell)\n",
    "    def __call__(self):\n",
    "        return self.__sio.readline().strip()\n",
    "    def pre_run_cell(self, info):\n",
    "        text = self.shell.user_ns.get('text_area', None).value\n",
    "        self.__sio = io.StringIO(text)\n",
    "open = custom_open()\n",
    "input = custom_input()\n",
    "text_area = Textarea()\n",
    "text_area.observe(open.updater, names='value')\n",
    "display(text_area)"
   ]
  },
  {
   "cell_type": "code",
   "execution_count": 46,
   "id": "e34a666a-c739-4fd3-b599-c44c15b1eaed",
   "metadata": {},
   "outputs": [
    {
     "name": "stdout",
     "output_type": "stream",
     "text": [
      "0\n"
     ]
    }
   ],
   "source": [
    "Q = int(input())\n",
    "Query = [list(map(int, input().split())) for _ in range(Q)]\n",
    "\n",
    "MOD = 998244353\n",
    "\n",
    "S = [1]\n",
    "ans = 1\n",
    "cnt = 0\n",
    "l = 1\n",
    "for q in Query:\n",
    "    if q[0] == 1:\n",
    "        x = q[1]\n",
    "        ans *= 10\n",
    "        ans += x\n",
    "        ans %= MOD\n",
    "        S.append(x)\n",
    "        l += 1\n",
    "               \n",
    "    elif q[0] == 2:\n",
    "        y = S[cnt]\n",
    "        c = l-1\n",
    "        y *= pow(10, c, MOD)\n",
    "        y %= MOD\n",
    "        ans -= y\n",
    "        ans %= MOD\n",
    "        l -= 1\n",
    "        S[cnt] = 0\n",
    "        cnt += 1\n",
    "    else:\n",
    "        print(ans%MOD)"
   ]
  },
  {
   "cell_type": "code",
   "execution_count": 37,
   "id": "a791fee6-822d-49f9-b19b-4426b0a21b70",
   "metadata": {},
   "outputs": [
    {
     "data": {
      "text/plain": [
       "[0, 5]"
      ]
     },
     "execution_count": 37,
     "metadata": {},
     "output_type": "execute_result"
    }
   ],
   "source": [
    "S"
   ]
  },
  {
   "cell_type": "code",
   "execution_count": 38,
   "id": "43bac5e7-cae7-4a2b-9212-f7ec3810e0c5",
   "metadata": {},
   "outputs": [
    {
     "data": {
      "text/plain": [
       "'998244353'"
      ]
     },
     "execution_count": 38,
     "metadata": {},
     "output_type": "execute_result"
    }
   ],
   "source": [
    "a"
   ]
  },
  {
   "cell_type": "code",
   "execution_count": 27,
   "id": "edbe3a67-8302-4391-8df0-a02798355eaa",
   "metadata": {},
   "outputs": [
    {
     "data": {
      "text/plain": [
       "1"
      ]
     },
     "execution_count": 27,
     "metadata": {},
     "output_type": "execute_result"
    }
   ],
   "source": [
    "15//(10**1)"
   ]
  },
  {
   "cell_type": "code",
   "execution_count": 42,
   "id": "82c5f1aa-ec89-44f2-9a11-95257476b166",
   "metadata": {},
   "outputs": [
    {
     "data": {
      "text/plain": [
       "10000000000"
      ]
     },
     "execution_count": 42,
     "metadata": {},
     "output_type": "execute_result"
    }
   ],
   "source": [
    "10 ** 10"
   ]
  },
  {
   "cell_type": "code",
   "execution_count": null,
   "id": "2e121f60-73d0-41d9-9dac-6f9790b572ed",
   "metadata": {},
   "outputs": [],
   "source": []
  }
 ],
 "metadata": {
  "kernelspec": {
   "display_name": "Python 3 (ipykernel)",
   "language": "python",
   "name": "python3"
  },
  "language_info": {
   "codemirror_mode": {
    "name": "ipython",
    "version": 3
   },
   "file_extension": ".py",
   "mimetype": "text/x-python",
   "name": "python",
   "nbconvert_exporter": "python",
   "pygments_lexer": "ipython3",
   "version": "3.9.12"
  }
 },
 "nbformat": 4,
 "nbformat_minor": 5
}
