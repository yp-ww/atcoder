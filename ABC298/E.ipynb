{
 "cells": [
  {
   "cell_type": "code",
   "execution_count": 1,
   "id": "e3376184-5fc1-47d7-86bd-7348556f6715",
   "metadata": {},
   "outputs": [
    {
     "data": {
      "application/vnd.jupyter.widget-view+json": {
       "model_id": "71feef2421df447084372034c8848e4c",
       "version_major": 2,
       "version_minor": 0
      },
      "text/plain": [
       "Textarea(value='')"
      ]
     },
     "metadata": {},
     "output_type": "display_data"
    }
   ],
   "source": [
    "# Ref: https://qiita.com/noca/items/00646efd9d4a7302f522\n",
    "from ipywidgets import Textarea\n",
    "import io\n",
    "if 'open' in globals():\n",
    "    del open\n",
    "if 'input' in globals():\n",
    "    del input\n",
    "original_open = open\n",
    "class custom_open():\n",
    "    def __init__(self):\n",
    "        self.text = ''\n",
    "    def __call__(self, file, *args, **kwargs):\n",
    "        if file == 0:\n",
    "            return io.StringIO(self.text)\n",
    "        return original_open(file, *args, **kwargs)\n",
    "    def updater(self, change):\n",
    "        self.text = change[\"new\"]\n",
    "class custom_input():\n",
    "    def __init__(self):\n",
    "        self.__sio = io.StringIO('')\n",
    "        self.shell = get_ipython()\n",
    "        if self.shell.events.callbacks['pre_run_cell'] != []:\n",
    "            self.shell.events.callbacks['pre_run_cell'] = []\n",
    "        self.shell.events.register('pre_run_cell', self.pre_run_cell)\n",
    "    def __call__(self):\n",
    "        return self.__sio.readline().strip()\n",
    "    def pre_run_cell(self, info):\n",
    "        text = self.shell.user_ns.get('text_area', None).value\n",
    "        self.__sio = io.StringIO(text)\n",
    "open = custom_open()\n",
    "input = custom_input()\n",
    "text_area = Textarea()\n",
    "text_area.observe(open.updater, names='value')\n",
    "display(text_area)"
   ]
  },
  {
   "cell_type": "code",
   "execution_count": 45,
   "id": "5166de79-f8f1-467b-89a6-3c74faf0ba8a",
   "metadata": {},
   "outputs": [
    {
     "name": "stdout",
     "output_type": "stream",
     "text": [
      "665496236\n"
     ]
    }
   ],
   "source": [
    "N, A, B, P, Q = map(int, input().split())\n",
    "MOD = 998244353\n",
    "\n",
    "dp = [[[0] * 2 for __ in range(N+1)] for _ in range(N+1)]\n",
    "dp[0][A][0] = 1\n",
    "dp[0][B][1] = 1\n",
    "\n",
    "for i in range(N):\n",
    "    for j in range(1, N):\n",
    "        if dp[i][j][0] != 0:\n",
    "            for k in range(1, P+1):\n",
    "                dp[i+1][min(j+k, N)][0] += dp[i][j][0] * pow(P, MOD-2, MOD)\n",
    "                dp[i+1][min(j+k, N)][0] %= MOD\n",
    "        if dp[i][j][1] != 0:\n",
    "            for k in range(1, Q+1):\n",
    "                dp[i+1][min(j+k, N)][1] += dp[i][j][1] * pow(Q, MOD-2, MOD)\n",
    "                dp[i+1][min(j+k, N)][1] %= MOD\n",
    "\n",
    "tot = 0\n",
    "ans = 0\n",
    "for i in range(N):\n",
    "    ans += dp[i][N][0] * (1-tot)\n",
    "    ans %= MOD\n",
    "    tot += dp[i][N][1]\n",
    "    tot %= MOD\n",
    "print(ans)"
   ]
  },
  {
   "cell_type": "code",
   "execution_count": 42,
   "id": "a6b8b040-daa6-49d6-8286-b99faa5b9fc9",
   "metadata": {},
   "outputs": [
    {
     "data": {
      "text/plain": [
       "[[[0, 0], [0, 0], [1, 0], [0, 1], [0, 0]],\n",
       " [[0, 0], [0, 0], [0, 0], [332748118, 0], [665496236, 1]],\n",
       " [[0, 0], [0, 0], [0, 0], [0, 0], [332748118, 0]],\n",
       " [[0, 0], [0, 0], [0, 0], [0, 0], [0, 0]],\n",
       " [[0, 0], [0, 0], [0, 0], [0, 0], [0, 0]]]"
      ]
     },
     "execution_count": 42,
     "metadata": {},
     "output_type": "execute_result"
    }
   ],
   "source": [
    "dp"
   ]
  },
  {
   "cell_type": "code",
   "execution_count": null,
   "id": "c287a9a3-467e-4390-bba8-5e74f664e7c1",
   "metadata": {},
   "outputs": [],
   "source": []
  }
 ],
 "metadata": {
  "kernelspec": {
   "display_name": "Python 3 (ipykernel)",
   "language": "python",
   "name": "python3"
  },
  "language_info": {
   "codemirror_mode": {
    "name": "ipython",
    "version": 3
   },
   "file_extension": ".py",
   "mimetype": "text/x-python",
   "name": "python",
   "nbconvert_exporter": "python",
   "pygments_lexer": "ipython3",
   "version": "3.9.12"
  }
 },
 "nbformat": 4,
 "nbformat_minor": 5
}
