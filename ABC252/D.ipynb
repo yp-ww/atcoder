{
 "cells": [
  {
   "cell_type": "code",
   "execution_count": 1,
   "id": "b3c5a304-9e3c-4285-bde7-9e230e442122",
   "metadata": {},
   "outputs": [
    {
     "data": {
      "application/vnd.jupyter.widget-view+json": {
       "model_id": "65517dd82ebe44cdbd7ba5ed950601ce",
       "version_major": 2,
       "version_minor": 0
      },
      "text/plain": [
       "Textarea(value='')"
      ]
     },
     "metadata": {},
     "output_type": "display_data"
    }
   ],
   "source": [
    "# Ref: https://qiita.com/noca/items/00646efd9d4a7302f522\n",
    "from ipywidgets import Textarea\n",
    "import io\n",
    "if 'open' in globals():\n",
    "    del open\n",
    "if 'input' in globals():\n",
    "    del input\n",
    "original_open = open\n",
    "class custom_open():\n",
    "    def __init__(self):\n",
    "        self.text = ''\n",
    "    def __call__(self, file, *args, **kwargs):\n",
    "        if file == 0:\n",
    "            return io.StringIO(self.text)\n",
    "        return original_open(file, *args, **kwargs)\n",
    "    def updater(self, change):\n",
    "        self.text = change[\"new\"]\n",
    "class custom_input():\n",
    "    def __init__(self):\n",
    "        self.__sio = io.StringIO('')\n",
    "        self.shell = get_ipython()\n",
    "        if self.shell.events.callbacks['pre_run_cell'] != []:\n",
    "            self.shell.events.callbacks['pre_run_cell'] = []\n",
    "        self.shell.events.register('pre_run_cell', self.pre_run_cell)\n",
    "    def __call__(self):\n",
    "        return self.__sio.readline().strip()\n",
    "    def pre_run_cell(self, info):\n",
    "        text = self.shell.user_ns.get('text_area', None).value\n",
    "        self.__sio = io.StringIO(text)\n",
    "open = custom_open()\n",
    "input = custom_input()\n",
    "text_area = Textarea()\n",
    "text_area.observe(open.updater, names='value')\n",
    "display(text_area)"
   ]
  },
  {
   "cell_type": "code",
   "execution_count": 32,
   "id": "59db6c2a-649c-43ec-81e0-d273ae068174",
   "metadata": {},
   "outputs": [
    {
     "name": "stdout",
     "output_type": "stream",
     "text": [
      "120\n"
     ]
    }
   ],
   "source": [
    "N = int(input())\n",
    "A = list(map(int, input().split()))\n",
    "\n",
    "A_MAX = 2 * (10 ** 5)\n",
    "cnt = [0] * (A_MAX+1)\n",
    "unique = [False] * (A_MAX+1)\n",
    "for i in range(N):\n",
    "    a = A[i]\n",
    "    cnt[a] += 1\n",
    "    unique[a] = True\n",
    "\n",
    "T = sum(unique)\n",
    "ans = N * (N-1) * (N-2) // 6\n",
    "\n",
    "for c in cnt:\n",
    "    if c <= 1:\n",
    "        continue\n",
    "    \n",
    "    if c >= 3:\n",
    "        ans -= c * (c-1) * (c-2) // 6\n",
    "        \n",
    "        x = c * (c-1) // 2\n",
    "        y = N - c\n",
    "        if y < 0:\n",
    "            y = 0\n",
    "\n",
    "        ans -= x * y\n",
    "        \n",
    "    if c == 2:\n",
    "        x = c * (c-1) // 2\n",
    "        y = N - c\n",
    "        if y < 0:\n",
    "            y = 0\n",
    "\n",
    "        ans -= x * y\n",
    "    \n",
    "print(ans)"
   ]
  },
  {
   "cell_type": "code",
   "execution_count": 35,
   "id": "d86c8b09-8458-44fb-8a6d-0b4964a5b98a",
   "metadata": {},
   "outputs": [
    {
     "data": {
      "text/plain": [
       "120"
      ]
     },
     "execution_count": 35,
     "metadata": {},
     "output_type": "execute_result"
    }
   ],
   "source": [
    "N * (N-1) * (N-2) // 6"
   ]
  },
  {
   "cell_type": "code",
   "execution_count": null,
   "id": "ca893173-4065-4e3d-8717-b9122d823571",
   "metadata": {},
   "outputs": [],
   "source": []
  },
  {
   "cell_type": "code",
   "execution_count": null,
   "id": "5d59f7fa-d7de-4913-b673-8bcf5bec0d73",
   "metadata": {},
   "outputs": [],
   "source": []
  }
 ],
 "metadata": {
  "kernelspec": {
   "display_name": "Python 3 (ipykernel)",
   "language": "python",
   "name": "python3"
  },
  "language_info": {
   "codemirror_mode": {
    "name": "ipython",
    "version": 3
   },
   "file_extension": ".py",
   "mimetype": "text/x-python",
   "name": "python",
   "nbconvert_exporter": "python",
   "pygments_lexer": "ipython3",
   "version": "3.9.12"
  }
 },
 "nbformat": 4,
 "nbformat_minor": 5
}
