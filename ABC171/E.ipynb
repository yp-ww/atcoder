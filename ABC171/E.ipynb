{
 "cells": [
  {
   "cell_type": "code",
   "execution_count": 1,
   "id": "10c06a0e-4cbf-463d-b142-584c6ba43f08",
   "metadata": {},
   "outputs": [
    {
     "data": {
      "application/vnd.jupyter.widget-view+json": {
       "model_id": "37d5d3ee8e3c4b2b8d4db69d7cb44fe4",
       "version_major": 2,
       "version_minor": 0
      },
      "text/plain": [
       "Textarea(value='')"
      ]
     },
     "metadata": {},
     "output_type": "display_data"
    }
   ],
   "source": [
    "# Ref: https://qiita.com/noca/items/00646efd9d4a7302f522\n",
    "from ipywidgets import Textarea\n",
    "import io\n",
    "if 'open' in globals():\n",
    "    del open\n",
    "if 'input' in globals():\n",
    "    del input\n",
    "original_open = open\n",
    "class custom_open():\n",
    "    def __init__(self):\n",
    "        self.text = ''\n",
    "    def __call__(self, file, *args, **kwargs):\n",
    "        if file == 0:\n",
    "            return io.StringIO(self.text)\n",
    "        return original_open(file, *args, **kwargs)\n",
    "    def updater(self, change):\n",
    "        self.text = change[\"new\"]\n",
    "class custom_input():\n",
    "    def __init__(self):\n",
    "        self.__sio = io.StringIO('')\n",
    "        self.shell = get_ipython()\n",
    "        if self.shell.events.callbacks['pre_run_cell'] != []:\n",
    "            self.shell.events.callbacks['pre_run_cell'] = []\n",
    "        self.shell.events.register('pre_run_cell', self.pre_run_cell)\n",
    "    def __call__(self):\n",
    "        return self.__sio.readline().strip()\n",
    "    def pre_run_cell(self, info):\n",
    "        text = self.shell.user_ns.get('text_area', None).value\n",
    "        self.__sio = io.StringIO(text)\n",
    "open = custom_open()\n",
    "input = custom_input()\n",
    "text_area = Textarea()\n",
    "text_area.observe(open.updater, names='value')\n",
    "display(text_area)"
   ]
  },
  {
   "cell_type": "code",
   "execution_count": 10,
   "id": "8d9ce6ba-9abb-4ea5-8148-1cda03252ba3",
   "metadata": {},
   "outputs": [
    {
     "name": "stdout",
     "output_type": "stream",
     "text": [
      "26 5 7 22\n"
     ]
    }
   ],
   "source": [
    "N = int(input())\n",
    "A = list(map(int, input().split()))\n",
    "ans = [0] * N\n",
    "\n",
    "l = A[0]\n",
    "for i in range(1, N):\n",
    "    l ^= A[i]\n",
    "    \n",
    "for i in range(N):\n",
    "    ans[i] = l ^ A[i]\n",
    "    \n",
    "print(*ans)"
   ]
  },
  {
   "cell_type": "code",
   "execution_count": 3,
   "id": "d0fe9341-db10-4ded-b2b1-58014d547401",
   "metadata": {},
   "outputs": [
    {
     "data": {
      "text/plain": [
       "0"
      ]
     },
     "execution_count": 3,
     "metadata": {},
     "output_type": "execute_result"
    }
   ],
   "source": [
    "5 ^ 5"
   ]
  },
  {
   "cell_type": "code",
   "execution_count": 4,
   "id": "f6b1d7f9-c9fc-4d28-a1c5-5ab9cc4ccc33",
   "metadata": {},
   "outputs": [
    {
     "data": {
      "text/plain": [
       "5"
      ]
     },
     "execution_count": 4,
     "metadata": {},
     "output_type": "execute_result"
    }
   ],
   "source": [
    "5 ^ 5 ^ 5"
   ]
  },
  {
   "cell_type": "code",
   "execution_count": 8,
   "id": "ee6db97b-7a57-4bd8-8d74-e952b1c5647c",
   "metadata": {},
   "outputs": [
    {
     "data": {
      "text/plain": [
       "22"
      ]
     },
     "execution_count": 8,
     "metadata": {},
     "output_type": "execute_result"
    }
   ],
   "source": [
    "20 ^ 9 ^ 11 ^ 24 ^ 24"
   ]
  },
  {
   "cell_type": "code",
   "execution_count": null,
   "id": "7f59328d-aab1-4fd7-be75-71951c7a8730",
   "metadata": {},
   "outputs": [],
   "source": []
  }
 ],
 "metadata": {
  "kernelspec": {
   "display_name": "Python 3 (ipykernel)",
   "language": "python",
   "name": "python3"
  },
  "language_info": {
   "codemirror_mode": {
    "name": "ipython",
    "version": 3
   },
   "file_extension": ".py",
   "mimetype": "text/x-python",
   "name": "python",
   "nbconvert_exporter": "python",
   "pygments_lexer": "ipython3",
   "version": "3.9.12"
  }
 },
 "nbformat": 4,
 "nbformat_minor": 5
}
