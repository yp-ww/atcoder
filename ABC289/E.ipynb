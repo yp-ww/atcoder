{
 "cells": [
  {
   "cell_type": "code",
   "execution_count": 2,
   "id": "fcfd7594-d200-4224-a59c-a22b9179f54c",
   "metadata": {},
   "outputs": [
    {
     "data": {
      "application/vnd.jupyter.widget-view+json": {
       "model_id": "7b64b44d8e5c4b17bc29d4e47c5556e6",
       "version_major": 2,
       "version_minor": 0
      },
      "text/plain": [
       "Textarea(value='')"
      ]
     },
     "metadata": {},
     "output_type": "display_data"
    }
   ],
   "source": [
    "# Ref: https://qiita.com/noca/items/00646efd9d4a7302f522\n",
    "from ipywidgets import Textarea\n",
    "import io\n",
    "if 'open' in globals():\n",
    "    del open\n",
    "if 'input' in globals():\n",
    "    del input\n",
    "original_open = open\n",
    "class custom_open():\n",
    "    def __init__(self):\n",
    "        self.text = ''\n",
    "    def __call__(self, file, *args, **kwargs):\n",
    "        if file == 0:\n",
    "            return io.StringIO(self.text)\n",
    "        return original_open(file, *args, **kwargs)\n",
    "    def updater(self, change):\n",
    "        self.text = change[\"new\"]\n",
    "class custom_input():\n",
    "    def __init__(self):\n",
    "        self.__sio = io.StringIO('')\n",
    "        self.shell = get_ipython()\n",
    "        if self.shell.events.callbacks['pre_run_cell'] != []:\n",
    "            self.shell.events.callbacks['pre_run_cell'] = []\n",
    "        self.shell.events.register('pre_run_cell', self.pre_run_cell)\n",
    "    def __call__(self):\n",
    "        return self.__sio.readline().strip()\n",
    "    def pre_run_cell(self, info):\n",
    "        text = self.shell.user_ns.get('text_area', None).value\n",
    "        self.__sio = io.StringIO(text)\n",
    "open = custom_open()\n",
    "input = custom_input()\n",
    "text_area = Textarea()\n",
    "text_area.observe(open.updater, names='value')\n",
    "display(text_area)"
   ]
  },
  {
   "cell_type": "code",
   "execution_count": 51,
   "id": "8ae03d7b-9c5d-481c-8ed4-1a4c968cb180",
   "metadata": {},
   "outputs": [
    {
     "name": "stdout",
     "output_type": "stream",
     "text": [
      "3\n",
      "-1\n",
      "3\n"
     ]
    }
   ],
   "source": [
    "from collections import deque\n",
    "T = int(input())\n",
    "\n",
    "for ___ in range(T):\n",
    "    N, M = map(int, input().split())\n",
    "    G = [list() for _ in range(N+1)]\n",
    "    C = [-1] + list(map(int, input().split()))\n",
    "\n",
    "    for _ in range(M):\n",
    "        u, v = map(int, input().split())\n",
    "        G[u].append(v)\n",
    "        G[v].append(u)\n",
    "\n",
    "    INF = 10 ** 20\n",
    "    L = [[0] * (N+1) for _ in range(N+1)]    \n",
    "    for i in range(1, N+1):\n",
    "        for j in range(i, N+1):\n",
    "            if C[i] == C[j]:\n",
    "                L[i][j] = INF\n",
    "                L[j][i] = INF\n",
    "\n",
    "    if L[1][N]:\n",
    "        print(-1)\n",
    "        continue\n",
    "\n",
    "    q = deque()\n",
    "    q.append((1, N))\n",
    "    L[1][N] = 0\n",
    "    while q:\n",
    "        now_i, now_j = q.popleft()\n",
    "        for nex_i in G[now_i]:\n",
    "            for nex_j in G[now_j]:\n",
    "                if L[nex_i][nex_j]:\n",
    "                    continue\n",
    "                L[nex_i][nex_j] = L[now_i][now_j] + 1\n",
    "                q.append((nex_i, nex_j))\n",
    "    \n",
    "    if L[N][1]:\n",
    "        print(L[N][1])\n",
    "    else:\n",
    "        print(-1)"
   ]
  },
  {
   "cell_type": "code",
   "execution_count": 48,
   "id": "7a222962-9ede-4f7f-a793-e0683ec591d8",
   "metadata": {},
   "outputs": [
    {
     "data": {
      "text/plain": [
       "[[0, 0, 0, 0, 0],\n",
       " [0, 100000000000000000000, 3, 100000000000000000000, 2],\n",
       " [0, 2, 100000000000000000000, 2, 100000000000000000000],\n",
       " [0, 100000000000000000000, 1, 100000000000000000000, 4],\n",
       " [0, 3, 100000000000000000000, 3, 100000000000000000000]]"
      ]
     },
     "execution_count": 48,
     "metadata": {},
     "output_type": "execute_result"
    }
   ],
   "source": [
    "L"
   ]
  },
  {
   "cell_type": "code",
   "execution_count": 49,
   "id": "44e24129-1b0a-4753-97cb-fac384365043",
   "metadata": {},
   "outputs": [
    {
     "data": {
      "text/plain": [
       "[[100000000000000000000,\n",
       "  100000000000000000000,\n",
       "  100000000000000000000,\n",
       "  100000000000000000000,\n",
       "  100000000000000000000],\n",
       " [100000000000000000000,\n",
       "  100000000000000000000,\n",
       "  100000000000000000000,\n",
       "  100000000000000000000,\n",
       "  100000000000000000000],\n",
       " [100000000000000000000,\n",
       "  100000000000000000000,\n",
       "  100000000000000000000,\n",
       "  100000000000000000000,\n",
       "  100000000000000000000],\n",
       " [100000000000000000000,\n",
       "  100000000000000000000,\n",
       "  100000000000000000000,\n",
       "  100000000000000000000,\n",
       "  100000000000000000000],\n",
       " [100000000000000000000,\n",
       "  100000000000000000000,\n",
       "  100000000000000000000,\n",
       "  100000000000000000000,\n",
       "  100000000000000000000]]"
      ]
     },
     "execution_count": 49,
     "metadata": {},
     "output_type": "execute_result"
    }
   ],
   "source": [
    "d"
   ]
  },
  {
   "cell_type": "code",
   "execution_count": null,
   "id": "0e262b99-2e8d-46d3-bebe-2fd6d3bc6c3c",
   "metadata": {},
   "outputs": [],
   "source": []
  }
 ],
 "metadata": {
  "kernelspec": {
   "display_name": "Python 3 (ipykernel)",
   "language": "python",
   "name": "python3"
  },
  "language_info": {
   "codemirror_mode": {
    "name": "ipython",
    "version": 3
   },
   "file_extension": ".py",
   "mimetype": "text/x-python",
   "name": "python",
   "nbconvert_exporter": "python",
   "pygments_lexer": "ipython3",
   "version": "3.9.12"
  }
 },
 "nbformat": 4,
 "nbformat_minor": 5
}
