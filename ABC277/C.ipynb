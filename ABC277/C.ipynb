{
 "cells": [
  {
   "cell_type": "code",
   "execution_count": 1,
   "id": "29fd7c1e-491d-4bee-98a2-b897605bd834",
   "metadata": {},
   "outputs": [
    {
     "data": {
      "application/vnd.jupyter.widget-view+json": {
       "model_id": "9634e9f3e5b44406a681da8e2786b076",
       "version_major": 2,
       "version_minor": 0
      },
      "text/plain": [
       "Textarea(value='')"
      ]
     },
     "metadata": {},
     "output_type": "display_data"
    }
   ],
   "source": [
    "# Ref: https://qiita.com/noca/items/00646efd9d4a7302f522\n",
    "from ipywidgets import Textarea\n",
    "import io\n",
    "if 'open' in globals():\n",
    "    del open\n",
    "if 'input' in globals():\n",
    "    del input\n",
    "original_open = open\n",
    "class custom_open():\n",
    "    def __init__(self):\n",
    "        self.text = ''\n",
    "    def __call__(self, file, *args, **kwargs):\n",
    "        if file == 0:\n",
    "            return io.StringIO(self.text)\n",
    "        return original_open(file, *args, **kwargs)\n",
    "    def updater(self, change):\n",
    "        self.text = change[\"new\"]\n",
    "class custom_input():\n",
    "    def __init__(self):\n",
    "        self.__sio = io.StringIO('')\n",
    "        self.shell = get_ipython()\n",
    "        if self.shell.events.callbacks['pre_run_cell'] != []:\n",
    "            self.shell.events.callbacks['pre_run_cell'] = []\n",
    "        self.shell.events.register('pre_run_cell', self.pre_run_cell)\n",
    "    def __call__(self):\n",
    "        return self.__sio.readline().strip()\n",
    "    def pre_run_cell(self, info):\n",
    "        text = self.shell.user_ns.get('text_area', None).value\n",
    "        self.__sio = io.StringIO(text)\n",
    "open = custom_open()\n",
    "input = custom_input()\n",
    "text_area = Textarea()\n",
    "text_area.observe(open.updater, names='value')\n",
    "display(text_area)"
   ]
  },
  {
   "cell_type": "code",
   "execution_count": 88,
   "id": "3282f019-983a-45bd-adc7-5827ace80831",
   "metadata": {},
   "outputs": [
    {
     "name": "stdout",
     "output_type": "stream",
     "text": [
      "12\n"
     ]
    }
   ],
   "source": [
    "import sys\n",
    "sys.setrecursionlimit(10**9 + 10)\n",
    "from collections import defaultdict, deque\n",
    "\n",
    "N = int(input())\n",
    "d = defaultdict(list)\n",
    "\n",
    "for _ in range(N):\n",
    "    a, b = map(int, input().split())\n",
    "    d[a].append(b)\n",
    "    d[b].append(a)\n",
    "\n",
    "# BFS\n",
    "# q = deque()\n",
    "# q.append(1)\n",
    "# visited = set([1])\n",
    "# while q:\n",
    "#     v = q.popleft()\n",
    "#     for nex in d[v]:\n",
    "#         if nex in visited:\n",
    "#             continue\n",
    "#         q.append(nex)\n",
    "#         visited.add(nex)\n",
    "        \n",
    "# # print(visited)\n",
    "# print(max(visited))\n",
    "\n",
    "# DFS\n",
    "if 1 not in d:\n",
    "    print(1)\n",
    "    sys.exit(0)\n",
    "    \n",
    "_max = 1\n",
    "visited = set()\n",
    "def f(s):\n",
    "    global _max\n",
    "    global visited\n",
    "    visited.add(s)\n",
    "    for nex in d[s]:\n",
    "        _max = max(_max, nex)\n",
    "        if nex in visited:\n",
    "            continue\n",
    "        if nex in d:\n",
    "            f(nex)\n",
    "    return \n",
    "\n",
    "f(1)\n",
    "print(_max)"
   ]
  },
  {
   "cell_type": "code",
   "execution_count": 89,
   "id": "b3f1e86e-eedb-49da-b973-89894679685c",
   "metadata": {},
   "outputs": [
    {
     "data": {
      "text/plain": [
       "defaultdict(list,\n",
       "            {1: [3, 5, 12], 3: [1, 5, 11], 5: [1, 3, 12], 12: [1, 5], 11: [3]})"
      ]
     },
     "execution_count": 89,
     "metadata": {},
     "output_type": "execute_result"
    }
   ],
   "source": [
    "d"
   ]
  },
  {
   "cell_type": "code",
   "execution_count": null,
   "id": "5926da9c-f459-4740-a382-823ffb2684be",
   "metadata": {},
   "outputs": [],
   "source": []
  },
  {
   "cell_type": "code",
   "execution_count": null,
   "id": "32fd7524-6291-4513-8c10-07fba7b2dd2f",
   "metadata": {},
   "outputs": [],
   "source": []
  }
 ],
 "metadata": {
  "kernelspec": {
   "display_name": "Python 3 (ipykernel)",
   "language": "python",
   "name": "python3"
  },
  "language_info": {
   "codemirror_mode": {
    "name": "ipython",
    "version": 3
   },
   "file_extension": ".py",
   "mimetype": "text/x-python",
   "name": "python",
   "nbconvert_exporter": "python",
   "pygments_lexer": "ipython3",
   "version": "3.9.12"
  }
 },
 "nbformat": 4,
 "nbformat_minor": 5
}
