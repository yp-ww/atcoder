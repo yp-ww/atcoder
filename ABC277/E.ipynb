{
 "cells": [
  {
   "cell_type": "code",
   "execution_count": 1,
   "id": "03473e98-5546-4a37-8ddc-14085fc41d45",
   "metadata": {},
   "outputs": [
    {
     "data": {
      "application/vnd.jupyter.widget-view+json": {
       "model_id": "86ba81c7cd2945c59f944906d6fc6138",
       "version_major": 2,
       "version_minor": 0
      },
      "text/plain": [
       "Textarea(value='')"
      ]
     },
     "metadata": {},
     "output_type": "display_data"
    }
   ],
   "source": [
    "# Ref: https://qiita.com/noca/items/00646efd9d4a7302f522\n",
    "from ipywidgets import Textarea\n",
    "import io\n",
    "if 'open' in globals():\n",
    "    del open\n",
    "if 'input' in globals():\n",
    "    del input\n",
    "original_open = open\n",
    "class custom_open():\n",
    "    def __init__(self):\n",
    "        self.text = ''\n",
    "    def __call__(self, file, *args, **kwargs):\n",
    "        if file == 0:\n",
    "            return io.StringIO(self.text)\n",
    "        return original_open(file, *args, **kwargs)\n",
    "    def updater(self, change):\n",
    "        self.text = change[\"new\"]\n",
    "class custom_input():\n",
    "    def __init__(self):\n",
    "        self.__sio = io.StringIO('')\n",
    "        self.shell = get_ipython()\n",
    "        if self.shell.events.callbacks['pre_run_cell'] != []:\n",
    "            self.shell.events.callbacks['pre_run_cell'] = []\n",
    "        self.shell.events.register('pre_run_cell', self.pre_run_cell)\n",
    "    def __call__(self):\n",
    "        return self.__sio.readline().strip()\n",
    "    def pre_run_cell(self, info):\n",
    "        text = self.shell.user_ns.get('text_area', None).value\n",
    "        self.__sio = io.StringIO(text)\n",
    "open = custom_open()\n",
    "input = custom_input()\n",
    "text_area = Textarea()\n",
    "text_area.observe(open.updater, names='value')\n",
    "display(text_area)"
   ]
  },
  {
   "cell_type": "code",
   "execution_count": 32,
   "id": "db448637-e4e7-4d68-8061-d92a5aabe196",
   "metadata": {},
   "outputs": [
    {
     "name": "stdout",
     "output_type": "stream",
     "text": [
      "5\n"
     ]
    },
    {
     "ename": "SystemExit",
     "evalue": "0",
     "output_type": "error",
     "traceback": [
      "An exception has occurred, use %tb to see the full traceback.\n",
      "\u001b[1;31mSystemExit\u001b[0m\u001b[1;31m:\u001b[0m 0\n"
     ]
    }
   ],
   "source": [
    "import sys\n",
    "from collections import deque\n",
    "N, M, K = map(int, input().split())\n",
    "G0 = [list() for _ in range(N+1)]\n",
    "G1 = [list() for _ in range(N+1)]\n",
    "for _ in range(M):\n",
    "    u, v, a = map(int, input().split())\n",
    "    if a == 0:\n",
    "        G0[u].append(v)\n",
    "        G0[v].append(u)\n",
    "    if a == 1:\n",
    "        G1[u].append(v)\n",
    "        G1[v].append(u)\n",
    "        \n",
    "S = list(map(int, input().split()))\n",
    "SW = [False] * (N+1)\n",
    "for i in range(K):\n",
    "    SW[S[i]] = True\n",
    "\n",
    "q = deque()\n",
    "q.append((1, 1, 0))\n",
    "\n",
    "v0 = [False] * (N+1)\n",
    "v1 = [False] * (N+1)\n",
    "\n",
    "v1[1] = True\n",
    "while q:\n",
    "    now, sw, cnt = q.popleft()\n",
    "    flag = False\n",
    "    \n",
    "    if SW[now]:\n",
    "        flag = True\n",
    "        sw += 1\n",
    "        sw %= 2\n",
    "    \n",
    "    if flag:\n",
    "        for nex in G0[now]:\n",
    "            if v0[nex]:\n",
    "                continue\n",
    "            v0[nex] = True\n",
    "            q.append((nex, 0, cnt+1))\n",
    "            if nex == N:\n",
    "                print(cnt+1)\n",
    "                sys.exit(0)\n",
    "        \n",
    "        for nex in G1[now]:\n",
    "            if v1[nex]:\n",
    "                continue\n",
    "            v1[nex] = True\n",
    "            q.append((nex, 1, cnt+1))\n",
    "            if nex == N:\n",
    "                print(cnt+1)\n",
    "                sys.exit(0)\n",
    "                \n",
    "    if sw == 0:\n",
    "        for nex in G0[now]:\n",
    "            if v0[nex]:\n",
    "                continue\n",
    "            v0[nex] = True\n",
    "            q.append((nex, sw, cnt+1))\n",
    "            if nex == N:\n",
    "                print(cnt+1)\n",
    "                sys.exit(0)\n",
    "            \n",
    "    if sw == 1:\n",
    "        for nex in G1[now]:\n",
    "            if v1[nex]:\n",
    "                continue\n",
    "            v1[nex] = True\n",
    "            q.append((nex, sw, cnt+1))\n",
    "            if nex == N:\n",
    "                print(cnt+1)\n",
    "                sys.exit(0)\n",
    "                \n",
    "print(-1)"
   ]
  },
  {
   "cell_type": "code",
   "execution_count": 29,
   "id": "d708964f-a737-474b-91d1-765c70e9002e",
   "metadata": {},
   "outputs": [
    {
     "data": {
      "text/plain": [
       "[False, True, False, True, False, False]"
      ]
     },
     "execution_count": 29,
     "metadata": {},
     "output_type": "execute_result"
    }
   ],
   "source": [
    "v0"
   ]
  },
  {
   "cell_type": "code",
   "execution_count": null,
   "id": "91e67984-4e23-45b3-9471-706e4e1ce8ad",
   "metadata": {},
   "outputs": [],
   "source": []
  }
 ],
 "metadata": {
  "kernelspec": {
   "display_name": "Python 3 (ipykernel)",
   "language": "python",
   "name": "python3"
  },
  "language_info": {
   "codemirror_mode": {
    "name": "ipython",
    "version": 3
   },
   "file_extension": ".py",
   "mimetype": "text/x-python",
   "name": "python",
   "nbconvert_exporter": "python",
   "pygments_lexer": "ipython3",
   "version": "3.9.12"
  }
 },
 "nbformat": 4,
 "nbformat_minor": 5
}
