{
 "cells": [
  {
   "cell_type": "code",
   "execution_count": 56,
   "id": "ab1a829b-dd53-4591-b750-25815a1f7971",
   "metadata": {},
   "outputs": [
    {
     "data": {
      "application/vnd.jupyter.widget-view+json": {
       "model_id": "1c4f8d9f9aac4744b9a9a9b3d17a7d05",
       "version_major": 2,
       "version_minor": 0
      },
      "text/plain": [
       "Textarea(value='')"
      ]
     },
     "metadata": {},
     "output_type": "display_data"
    }
   ],
   "source": [
    "# Ref: https://qiita.com/noca/items/00646efd9d4a7302f522\n",
    "from ipywidgets import Textarea\n",
    "import io\n",
    "if 'open' in globals():\n",
    "    del open\n",
    "if 'input' in globals():\n",
    "    del input\n",
    "original_open = open\n",
    "class custom_open():\n",
    "    def __init__(self):\n",
    "        self.text = ''\n",
    "    def __call__(self, file, *args, **kwargs):\n",
    "        if file == 0:\n",
    "            return io.StringIO(self.text)\n",
    "        return original_open(file, *args, **kwargs)\n",
    "    def updater(self, change):\n",
    "        self.text = change[\"new\"]\n",
    "class custom_input():\n",
    "    def __init__(self):\n",
    "        self.__sio = io.StringIO('')\n",
    "        self.shell = get_ipython()\n",
    "        if self.shell.events.callbacks['pre_run_cell'] != []:\n",
    "            self.shell.events.callbacks['pre_run_cell'] = []\n",
    "        self.shell.events.register('pre_run_cell', self.pre_run_cell)\n",
    "    def __call__(self):\n",
    "        return self.__sio.readline().strip()\n",
    "    def pre_run_cell(self, info):\n",
    "        text = self.shell.user_ns.get('text_area', None).value\n",
    "        self.__sio = io.StringIO(text)\n",
    "open = custom_open()\n",
    "input = custom_input()\n",
    "text_area = Textarea()\n",
    "text_area.observe(open.updater, names='value')\n",
    "display(text_area)"
   ]
  },
  {
   "cell_type": "code",
   "execution_count": 69,
   "id": "5d02deec-f42c-4011-80e5-23e4ec07eaa2",
   "metadata": {},
   "outputs": [
    {
     "name": "stdout",
     "output_type": "stream",
     "text": [
      "2\n"
     ]
    }
   ],
   "source": [
    "N = int(input())\n",
    "X, Y = map(int, input().split())\n",
    "\n",
    "MAX = 300\n",
    "INF = 10**20\n",
    "dp = [[[INF] * (MAX+1) for _ in range(MAX+1)] for _ in range(N+1)]\n",
    "dp[0][0][0] = 0\n",
    "\n",
    "for i in range(1, N+1):\n",
    "    a, b = map(int, input().split())\n",
    "    for j in range(MAX+1):\n",
    "        for k in range(MAX+1):\n",
    "            dp[i][j][k] = min(dp[i-1][j][k], dp[i-1][max(0, j-a)][max(0, k-b)] + 1)\n",
    "            \n",
    "if dp[N][X][Y] == INF:\n",
    "    print(-1)\n",
    "else:\n",
    "    print(dp[N][X][Y])"
   ]
  },
  {
   "cell_type": "code",
   "execution_count": null,
   "id": "b959a741-e270-47ce-aed9-20f57b1894ab",
   "metadata": {},
   "outputs": [],
   "source": []
  }
 ],
 "metadata": {
  "kernelspec": {
   "display_name": "Python 3 (ipykernel)",
   "language": "python",
   "name": "python3"
  },
  "language_info": {
   "codemirror_mode": {
    "name": "ipython",
    "version": 3
   },
   "file_extension": ".py",
   "mimetype": "text/x-python",
   "name": "python",
   "nbconvert_exporter": "python",
   "pygments_lexer": "ipython3",
   "version": "3.9.12"
  }
 },
 "nbformat": 4,
 "nbformat_minor": 5
}
