{
 "cells": [
  {
   "cell_type": "code",
   "execution_count": 1,
   "id": "73a68ee4-a57c-4ea8-95a7-748e6b021d1a",
   "metadata": {},
   "outputs": [
    {
     "data": {
      "application/vnd.jupyter.widget-view+json": {
       "model_id": "0da05e4719a84bf7902034b89b6b7dc8",
       "version_major": 2,
       "version_minor": 0
      },
      "text/plain": [
       "Textarea(value='')"
      ]
     },
     "metadata": {},
     "output_type": "display_data"
    }
   ],
   "source": [
    "# Ref: https://qiita.com/noca/items/00646efd9d4a7302f522\n",
    "from ipywidgets import Textarea\n",
    "import io\n",
    "if 'open' in globals():\n",
    "    del open\n",
    "if 'input' in globals():\n",
    "    del input\n",
    "original_open = open\n",
    "class custom_open():\n",
    "    def __init__(self):\n",
    "        self.text = ''\n",
    "    def __call__(self, file, *args, **kwargs):\n",
    "        if file == 0:\n",
    "            return io.StringIO(self.text)\n",
    "        return original_open(file, *args, **kwargs)\n",
    "    def updater(self, change):\n",
    "        self.text = change[\"new\"]\n",
    "class custom_input():\n",
    "    def __init__(self):\n",
    "        self.__sio = io.StringIO('')\n",
    "        self.shell = get_ipython()\n",
    "        if self.shell.events.callbacks['pre_run_cell'] != []:\n",
    "            self.shell.events.callbacks['pre_run_cell'] = []\n",
    "        self.shell.events.register('pre_run_cell', self.pre_run_cell)\n",
    "    def __call__(self):\n",
    "        return self.__sio.readline().strip()\n",
    "    def pre_run_cell(self, info):\n",
    "        text = self.shell.user_ns.get('text_area', None).value\n",
    "        self.__sio = io.StringIO(text)\n",
    "open = custom_open()\n",
    "input = custom_input()\n",
    "text_area = Textarea()\n",
    "text_area.observe(open.updater, names='value')\n",
    "display(text_area)"
   ]
  },
  {
   "cell_type": "code",
   "execution_count": 13,
   "id": "3f052b31-e5ef-4fd1-9c47-75174163e73d",
   "metadata": {},
   "outputs": [
    {
     "name": "stdout",
     "output_type": "stream",
     "text": [
      "7 6 5 4 3 2 1 0\n"
     ]
    }
   ],
   "source": [
    "N = int(input())\n",
    "S = \".\" + input()\n",
    "\n",
    "l = [-1] * (N+1) \n",
    "r = [-1] * (N+1)\n",
    "\n",
    "for i in range(1, N+1):\n",
    "    if S[i] == \"L\":\n",
    "        if l[i-1] != -1:\n",
    "            r[l[i-1]] = i\n",
    "            l[i] = l[i-1]\n",
    "        l[i-1] = i\n",
    "        r[i] = i-1\n",
    "        \n",
    "    if S[i] == \"R\":\n",
    "        if r[i-1] != -1:\n",
    "            l[r[i-1]] = i\n",
    "            r[i] = r[i-1]\n",
    "        r[i-1] = i\n",
    "        l[i] = i-1\n",
    "        \n",
    "s = 0\n",
    "for i in range(N+1):\n",
    "    if l[i] == -1:\n",
    "        s = i\n",
    "        \n",
    "ans = []\n",
    "right = s\n",
    "while right != -1:\n",
    "    ans.append(right)\n",
    "    right = r[right]\n",
    "    \n",
    "print(*ans)"
   ]
  },
  {
   "cell_type": "code",
   "execution_count": 14,
   "id": "ed14933e-f073-4748-ada6-89742dd50312",
   "metadata": {},
   "outputs": [
    {
     "data": {
      "text/plain": [
       "[1, 2, 3, 4, 5, 6, 7, -1]"
      ]
     },
     "execution_count": 14,
     "metadata": {},
     "output_type": "execute_result"
    }
   ],
   "source": [
    "l"
   ]
  },
  {
   "cell_type": "code",
   "execution_count": 8,
   "id": "ec2d9c9e-a4f5-4b55-b7d4-8fa6d722ab92",
   "metadata": {},
   "outputs": [
    {
     "data": {
      "text/plain": [
       "[-1, 0, 1, 2, 3, 4, 5, 6]"
      ]
     },
     "execution_count": 8,
     "metadata": {},
     "output_type": "execute_result"
    }
   ],
   "source": [
    "r"
   ]
  },
  {
   "cell_type": "code",
   "execution_count": null,
   "id": "fbbd7b1b-0b03-48d9-b977-0408c698daa8",
   "metadata": {},
   "outputs": [],
   "source": []
  }
 ],
 "metadata": {
  "kernelspec": {
   "display_name": "Python 3 (ipykernel)",
   "language": "python",
   "name": "python3"
  },
  "language_info": {
   "codemirror_mode": {
    "name": "ipython",
    "version": 3
   },
   "file_extension": ".py",
   "mimetype": "text/x-python",
   "name": "python",
   "nbconvert_exporter": "python",
   "pygments_lexer": "ipython3",
   "version": "3.9.12"
  }
 },
 "nbformat": 4,
 "nbformat_minor": 5
}
