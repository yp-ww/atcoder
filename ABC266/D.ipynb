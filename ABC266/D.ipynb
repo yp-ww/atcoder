{
 "cells": [
  {
   "cell_type": "code",
   "execution_count": 1,
   "id": "d9916cd8-d298-40ee-b8c8-f21bc96bc26c",
   "metadata": {},
   "outputs": [
    {
     "data": {
      "application/vnd.jupyter.widget-view+json": {
       "model_id": "aeb7dd7990864b529aa323e25e832ea3",
       "version_major": 2,
       "version_minor": 0
      },
      "text/plain": [
       "Textarea(value='')"
      ]
     },
     "metadata": {},
     "output_type": "display_data"
    }
   ],
   "source": [
    "# Ref: https://qiita.com/noca/items/00646efd9d4a7302f522\n",
    "from ipywidgets import Textarea\n",
    "import io\n",
    "if 'open' in globals():\n",
    "    del open\n",
    "if 'input' in globals():\n",
    "    del input\n",
    "original_open = open\n",
    "class custom_open():\n",
    "    def __init__(self):\n",
    "        self.text = ''\n",
    "    def __call__(self, file, *args, **kwargs):\n",
    "        if file == 0:\n",
    "            return io.StringIO(self.text)\n",
    "        return original_open(file, *args, **kwargs)\n",
    "    def updater(self, change):\n",
    "        self.text = change[\"new\"]\n",
    "class custom_input():\n",
    "    def __init__(self):\n",
    "        self.__sio = io.StringIO('')\n",
    "        self.shell = get_ipython()\n",
    "        if self.shell.events.callbacks['pre_run_cell'] != []:\n",
    "            self.shell.events.callbacks['pre_run_cell'] = []\n",
    "        self.shell.events.register('pre_run_cell', self.pre_run_cell)\n",
    "    def __call__(self):\n",
    "        return self.__sio.readline().strip()\n",
    "    def pre_run_cell(self, info):\n",
    "        text = self.shell.user_ns.get('text_area', None).value\n",
    "        self.__sio = io.StringIO(text)\n",
    "open = custom_open()\n",
    "input = custom_input()\n",
    "text_area = Textarea()\n",
    "text_area.observe(open.updater, names='value')\n",
    "display(text_area)"
   ]
  },
  {
   "cell_type": "code",
   "execution_count": 14,
   "id": "c34570a2-3190-44cc-add4-28887c5f348a",
   "metadata": {},
   "outputs": [
    {
     "name": "stdout",
     "output_type": "stream",
     "text": [
      "101\n"
     ]
    }
   ],
   "source": [
    "N = int(input())\n",
    "TXA = [map(int, input().split()) for _ in range(N)]\n",
    "\n",
    "T_MAX = 10 ** 5\n",
    "dp = [[-1] * 5 for _ in range(T_MAX+1)]\n",
    "\n",
    "TX = [[0] * 5 for _ in range(T_MAX+1)]\n",
    "for t, x, a in TXA:\n",
    "    TX[t][x] = a\n",
    "\n",
    "dp[0][0] = 0\n",
    "for i in range(T_MAX):\n",
    "    for j in range(5):\n",
    "        if dp[i][j] == -1:\n",
    "            continue\n",
    "            \n",
    "        dp[i+1][j] = max(dp[i+1][j], dp[i][j] + TX[i+1][j])\n",
    "        \n",
    "        if j - 1 >= 0:\n",
    "            dp[i+1][j-1] = max(dp[i+1][j-1], dp[i][j] + TX[i+1][j-1])\n",
    "        \n",
    "        if j + 1 < 5:\n",
    "            dp[i+1][j+1] = max(dp[i+1][j+1], dp[i][j] + TX[i+1][j+1])\n",
    "\n",
    "print(max(dp[T_MAX]))"
   ]
  },
  {
   "cell_type": "code",
   "execution_count": 10,
   "id": "8ccc098a-a06b-491d-983c-292118b208b2",
   "metadata": {},
   "outputs": [
    {
     "data": {
      "text/plain": [
       "[[0, 0, 0, 0, 0],\n",
       " [100, 0, 0, 0, 0],\n",
       " [0, 0, 0, 0, 0],\n",
       " [0, 0, 0, 10, 0],\n",
       " [0, 0, 0, 0, 0],\n",
       " [0, 0, 0, 0, 1],\n",
       " [0, 0, 0, 0, 0],\n",
       " [0, 0, 0, 0, 0],\n",
       " [0, 0, 0, 0, 0],\n",
       " [0, 0, 0, 0, 0],\n",
       " [0, 0, 0, 0, 0]]"
      ]
     },
     "execution_count": 10,
     "metadata": {},
     "output_type": "execute_result"
    }
   ],
   "source": [
    "TX"
   ]
  },
  {
   "cell_type": "code",
   "execution_count": 11,
   "id": "54beaa82-b639-4561-9ceb-cd8029099f7a",
   "metadata": {},
   "outputs": [
    {
     "data": {
      "text/plain": [
       "[[0, -1, -1, -1, -1],\n",
       " [100, 0, -1, -1, -1],\n",
       " [100, 100, 0, -1, -1],\n",
       " [100, 100, 100, 10, -1],\n",
       " [100, 100, 100, 100, 10],\n",
       " [100, 100, 100, 100, 101],\n",
       " [100, 100, 100, 101, 101],\n",
       " [100, 100, 101, 101, 101],\n",
       " [100, 101, 101, 101, 101],\n",
       " [101, 101, 101, 101, 101],\n",
       " [101, 101, 101, 101, 101]]"
      ]
     },
     "execution_count": 11,
     "metadata": {},
     "output_type": "execute_result"
    }
   ],
   "source": [
    "dp"
   ]
  },
  {
   "cell_type": "code",
   "execution_count": null,
   "id": "a8c9c6b1-e281-4cac-a8b4-9074f8d467e4",
   "metadata": {},
   "outputs": [],
   "source": []
  }
 ],
 "metadata": {
  "kernelspec": {
   "display_name": "Python 3 (ipykernel)",
   "language": "python",
   "name": "python3"
  },
  "language_info": {
   "codemirror_mode": {
    "name": "ipython",
    "version": 3
   },
   "file_extension": ".py",
   "mimetype": "text/x-python",
   "name": "python",
   "nbconvert_exporter": "python",
   "pygments_lexer": "ipython3",
   "version": "3.9.12"
  }
 },
 "nbformat": 4,
 "nbformat_minor": 5
}
