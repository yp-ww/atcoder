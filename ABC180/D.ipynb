{
 "cells": [
  {
   "cell_type": "code",
   "execution_count": 1,
   "id": "1391d29e-5229-4dad-8189-178d24b0d4f2",
   "metadata": {},
   "outputs": [
    {
     "data": {
      "application/vnd.jupyter.widget-view+json": {
       "model_id": "687dbe0e26a24a7da6e72bb90deeffb3",
       "version_major": 2,
       "version_minor": 0
      },
      "text/plain": [
       "Textarea(value='')"
      ]
     },
     "metadata": {},
     "output_type": "display_data"
    }
   ],
   "source": [
    "# Ref: https://qiita.com/noca/items/00646efd9d4a7302f522\n",
    "from ipywidgets import Textarea\n",
    "import io\n",
    "if 'open' in globals():\n",
    "    del open\n",
    "if 'input' in globals():\n",
    "    del input\n",
    "original_open = open\n",
    "class custom_open():\n",
    "    def __init__(self):\n",
    "        self.text = ''\n",
    "    def __call__(self, file, *args, **kwargs):\n",
    "        if file == 0:\n",
    "            return io.StringIO(self.text)\n",
    "        return original_open(file, *args, **kwargs)\n",
    "    def updater(self, change):\n",
    "        self.text = change[\"new\"]\n",
    "class custom_input():\n",
    "    def __init__(self):\n",
    "        self.__sio = io.StringIO('')\n",
    "        self.shell = get_ipython()\n",
    "        if self.shell.events.callbacks['pre_run_cell'] != []:\n",
    "            self.shell.events.callbacks['pre_run_cell'] = []\n",
    "        self.shell.events.register('pre_run_cell', self.pre_run_cell)\n",
    "    def __call__(self):\n",
    "        return self.__sio.readline().strip()\n",
    "    def pre_run_cell(self, info):\n",
    "        text = self.shell.user_ns.get('text_area', None).value\n",
    "        self.__sio = io.StringIO(text)\n",
    "open = custom_open()\n",
    "input = custom_input()\n",
    "text_area = Textarea()\n",
    "text_area.observe(open.updater, names='value')\n",
    "display(text_area)"
   ]
  },
  {
   "cell_type": "code",
   "execution_count": 53,
   "id": "15e090c4-a78f-4c29-baa6-ab945c09eea0",
   "metadata": {},
   "outputs": [
    {
     "name": "stdout",
     "output_type": "stream",
     "text": [
      "1000000007\n"
     ]
    }
   ],
   "source": [
    "X, Y, A, B = map(int, input().split())\n",
    "\n",
    "l = 0\n",
    "r = 70\n",
    "\n",
    "# while r - l > 1:\n",
    "#     mid = (l + r) // 2\n",
    "#     if X * (A ** mid) < X * (A**(mid-1)) + B:\n",
    "#         l = mid\n",
    "#     else:\n",
    "#         r = mid\n",
    "\n",
    "# ans = 0\n",
    "# XX = X\n",
    "# if X * (A ** l) < Y:\n",
    "#     ans += l\n",
    "#     ans += (Y - (X * (A ** l))) // B\n",
    "#     if (Y - (X * (A ** l))) % B == 0:\n",
    "#         ans -= 1\n",
    "#     print(ans)\n",
    "# else:\n",
    "#     while 1:\n",
    "#         l -= 1\n",
    "#         if X * (A ** l) < Y:\n",
    "#             print(l)\n",
    "#             break\n",
    "\n",
    "ans = 0\n",
    "while A * X <= X + B and A * X < Y:\n",
    "    X *= A\n",
    "    ans += 1\n",
    "    \n",
    "ans += (Y - X - 1) // B\n",
    "print(ans)"
   ]
  },
  {
   "cell_type": "code",
   "execution_count": null,
   "id": "67b60490-c686-4eae-85bc-e8d34ea86d24",
   "metadata": {},
   "outputs": [],
   "source": []
  },
  {
   "cell_type": "code",
   "execution_count": null,
   "id": "61e1b37a-614f-4a0d-9374-33dcd3224155",
   "metadata": {},
   "outputs": [],
   "source": []
  }
 ],
 "metadata": {
  "kernelspec": {
   "display_name": "Python 3 (ipykernel)",
   "language": "python",
   "name": "python3"
  },
  "language_info": {
   "codemirror_mode": {
    "name": "ipython",
    "version": 3
   },
   "file_extension": ".py",
   "mimetype": "text/x-python",
   "name": "python",
   "nbconvert_exporter": "python",
   "pygments_lexer": "ipython3",
   "version": "3.9.12"
  }
 },
 "nbformat": 4,
 "nbformat_minor": 5
}
