{
 "cells": [
  {
   "cell_type": "code",
   "execution_count": 1,
   "id": "0e45d538-8d76-4248-a227-c8a6c6eb2fec",
   "metadata": {},
   "outputs": [
    {
     "data": {
      "application/vnd.jupyter.widget-view+json": {
       "model_id": "98a32338714549e7aaaf8fe9740a6f73",
       "version_major": 2,
       "version_minor": 0
      },
      "text/plain": [
       "Textarea(value='')"
      ]
     },
     "metadata": {},
     "output_type": "display_data"
    }
   ],
   "source": [
    "# Ref: https://qiita.com/noca/items/00646efd9d4a7302f522\n",
    "from ipywidgets import Textarea\n",
    "import io\n",
    "if 'open' in globals():\n",
    "    del open\n",
    "if 'input' in globals():\n",
    "    del input\n",
    "original_open = open\n",
    "class custom_open():\n",
    "    def __init__(self):\n",
    "        self.text = ''\n",
    "    def __call__(self, file, *args, **kwargs):\n",
    "        if file == 0:\n",
    "            return io.StringIO(self.text)\n",
    "        return original_open(file, *args, **kwargs)\n",
    "    def updater(self, change):\n",
    "        self.text = change[\"new\"]\n",
    "class custom_input():\n",
    "    def __init__(self):\n",
    "        self.__sio = io.StringIO('')\n",
    "        self.shell = get_ipython()\n",
    "        if self.shell.events.callbacks['pre_run_cell'] != []:\n",
    "            self.shell.events.callbacks['pre_run_cell'] = []\n",
    "        self.shell.events.register('pre_run_cell', self.pre_run_cell)\n",
    "    def __call__(self):\n",
    "        return self.__sio.readline().strip()\n",
    "    def pre_run_cell(self, info):\n",
    "        text = self.shell.user_ns.get('text_area', None).value\n",
    "        self.__sio = io.StringIO(text)\n",
    "open = custom_open()\n",
    "input = custom_input()\n",
    "text_area = Textarea()\n",
    "text_area.observe(open.updater, names='value')\n",
    "display(text_area)"
   ]
  },
  {
   "cell_type": "code",
   "execution_count": 19,
   "id": "a9c23944-e22f-487a-bf11-f309c651ce7c",
   "metadata": {},
   "outputs": [
    {
     "name": "stdout",
     "output_type": "stream",
     "text": [
      "8\n",
      "1\n",
      "2\n",
      "4\n",
      "5\n",
      "8\n",
      "10\n",
      "11\n",
      "13\n"
     ]
    }
   ],
   "source": [
    "N, M = map(int, input().split())\n",
    "A = list(map(int, input().split()))\n",
    "\n",
    "MAX = 10 ** 5\n",
    "flag = [True] * (MAX+1)\n",
    "for a in A:\n",
    "    flag[a] = False\n",
    "flag[1] = True\n",
    "    \n",
    "v = [True] * (MAX+1)\n",
    "P = set()\n",
    "for i in range(2, MAX+1):\n",
    "    if not v[i]:\n",
    "        continue\n",
    "    p = i\n",
    "    c = p\n",
    "    while 1:\n",
    "        c += p\n",
    "        if c > MAX:\n",
    "            break\n",
    "        v[c] = False\n",
    "        if not flag[c]:\n",
    "            P.add(p)     \n",
    "\n",
    "for p in list(P):\n",
    "    c = p\n",
    "    while 1:\n",
    "        flag[c] = False\n",
    "        c += p\n",
    "        if c > MAX:\n",
    "            break\n",
    "cnt = 0\n",
    "ans = []\n",
    "for i in range(1, M+1):\n",
    "    if flag[i]:\n",
    "        cnt += 1\n",
    "        ans.append(i)\n",
    "print(cnt)\n",
    "for a in ans:\n",
    "    print(a)"
   ]
  },
  {
   "cell_type": "code",
   "execution_count": null,
   "id": "16264fd8-0897-488d-b0b0-af2cef4cfe33",
   "metadata": {},
   "outputs": [],
   "source": []
  }
 ],
 "metadata": {
  "kernelspec": {
   "display_name": "Python 3 (ipykernel)",
   "language": "python",
   "name": "python3"
  },
  "language_info": {
   "codemirror_mode": {
    "name": "ipython",
    "version": 3
   },
   "file_extension": ".py",
   "mimetype": "text/x-python",
   "name": "python",
   "nbconvert_exporter": "python",
   "pygments_lexer": "ipython3",
   "version": "3.9.12"
  }
 },
 "nbformat": 4,
 "nbformat_minor": 5
}
