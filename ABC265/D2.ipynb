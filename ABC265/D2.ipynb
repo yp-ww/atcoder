{
 "cells": [
  {
   "cell_type": "code",
   "execution_count": 1,
   "id": "c50bbf7d-ec39-4101-ad7e-8b2e75d47555",
   "metadata": {},
   "outputs": [
    {
     "data": {
      "application/vnd.jupyter.widget-view+json": {
       "model_id": "41cb8c99ffe14a278be1ea727a986c88",
       "version_major": 2,
       "version_minor": 0
      },
      "text/plain": [
       "Textarea(value='')"
      ]
     },
     "metadata": {},
     "output_type": "display_data"
    }
   ],
   "source": [
    "# Ref: https://qiita.com/noca/items/00646efd9d4a7302f522\n",
    "from ipywidgets import Textarea\n",
    "import io\n",
    "if 'open' in globals():\n",
    "    del open\n",
    "if 'input' in globals():\n",
    "    del input\n",
    "original_open = open\n",
    "class custom_open():\n",
    "    def __init__(self):\n",
    "        self.text = ''\n",
    "    def __call__(self, file, *args, **kwargs):\n",
    "        if file == 0:\n",
    "            return io.StringIO(self.text)\n",
    "        return original_open(file, *args, **kwargs)\n",
    "    def updater(self, change):\n",
    "        self.text = change[\"new\"]\n",
    "class custom_input():\n",
    "    def __init__(self):\n",
    "        self.__sio = io.StringIO('')\n",
    "        self.shell = get_ipython()\n",
    "        if self.shell.events.callbacks['pre_run_cell'] != []:\n",
    "            self.shell.events.callbacks['pre_run_cell'] = []\n",
    "        self.shell.events.register('pre_run_cell', self.pre_run_cell)\n",
    "    def __call__(self):\n",
    "        return self.__sio.readline().strip()\n",
    "    def pre_run_cell(self, info):\n",
    "        text = self.shell.user_ns.get('text_area', None).value\n",
    "        self.__sio = io.StringIO(text)\n",
    "open = custom_open()\n",
    "input = custom_input()\n",
    "text_area = Textarea()\n",
    "text_area.observe(open.updater, names='value')\n",
    "display(text_area)"
   ]
  },
  {
   "cell_type": "code",
   "execution_count": 41,
   "id": "509d3760-e7af-441e-97fc-c881d9c27d05",
   "metadata": {},
   "outputs": [
    {
     "name": "stdout",
     "output_type": "stream",
     "text": [
      "Yes\n"
     ]
    },
    {
     "ename": "SystemExit",
     "evalue": "0",
     "output_type": "error",
     "traceback": [
      "An exception has occurred, use %tb to see the full traceback.\n",
      "\u001b[1;31mSystemExit\u001b[0m\u001b[1;31m:\u001b[0m 0\n"
     ]
    }
   ],
   "source": [
    "import sys\n",
    "N, P, Q, R = map(int, input().split())\n",
    "A = list(map(int, input().split()))\n",
    "\n",
    "_sum = [0]\n",
    "for a in A:\n",
    "    _sum.append(_sum[-1] + a)\n",
    "\n",
    "for x in range(N-2):\n",
    "    \n",
    "    l = x\n",
    "    r = N - 2\n",
    "    while r - l > 1:\n",
    "        mid = (l + r) // 2\n",
    "        if _sum[mid+1] - _sum[x] <= P:\n",
    "            l = mid\n",
    "        else:\n",
    "            r = mid\n",
    "    \n",
    "    if not _sum[l+1] - _sum[x] == P:\n",
    "        continue\n",
    "    \n",
    "    y = r\n",
    "    l = y\n",
    "    r = N - 1\n",
    "    while r - l > 1:\n",
    "        mid = (l + r) // 2\n",
    "        if _sum[mid+1] - _sum[y] <= Q:\n",
    "            l = mid\n",
    "        else:\n",
    "            r = mid\n",
    "        \n",
    "    if not _sum[l+1] - _sum[y] == Q:\n",
    "        continue\n",
    "    \n",
    "    z = r\n",
    "    l = z\n",
    "    r = N\n",
    "    while r - l > 1:\n",
    "        mid = (l + r) // 2\n",
    "        if _sum[mid+1] - _sum[z] <= R:\n",
    "            l = mid\n",
    "        else:\n",
    "            r = mid\n",
    "            \n",
    "    if not _sum[l+1] - _sum[z] == R:\n",
    "        continue\n",
    "        \n",
    "    print(\"Yes\")\n",
    "    sys.exit(0)\n",
    "\n",
    "print(\"No\")"
   ]
  },
  {
   "cell_type": "code",
   "execution_count": 40,
   "id": "3d2a2fad-fbdc-4bc6-8c8c-c474b80c6027",
   "metadata": {},
   "outputs": [
    {
     "data": {
      "text/plain": [
       "[0, 1, 4, 6, 8, 10, 13, 14, 18, 21, 23]"
      ]
     },
     "execution_count": 40,
     "metadata": {},
     "output_type": "execute_result"
    }
   ],
   "source": [
    "_sum"
   ]
  },
  {
   "cell_type": "code",
   "execution_count": null,
   "id": "0990f454-00ee-4029-8042-3a4cedf1d950",
   "metadata": {},
   "outputs": [],
   "source": []
  },
  {
   "cell_type": "code",
   "execution_count": null,
   "id": "2a31c1c0-0c09-4553-8cca-a7a0abdcd47a",
   "metadata": {},
   "outputs": [],
   "source": []
  }
 ],
 "metadata": {
  "kernelspec": {
   "display_name": "Python 3 (ipykernel)",
   "language": "python",
   "name": "python3"
  },
  "language_info": {
   "codemirror_mode": {
    "name": "ipython",
    "version": 3
   },
   "file_extension": ".py",
   "mimetype": "text/x-python",
   "name": "python",
   "nbconvert_exporter": "python",
   "pygments_lexer": "ipython3",
   "version": "3.9.12"
  }
 },
 "nbformat": 4,
 "nbformat_minor": 5
}
