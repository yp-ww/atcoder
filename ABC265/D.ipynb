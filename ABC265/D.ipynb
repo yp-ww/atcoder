{
 "cells": [
  {
   "cell_type": "code",
   "execution_count": 1,
   "id": "9440a67c-f673-480d-9cd6-22547607b97c",
   "metadata": {},
   "outputs": [
    {
     "data": {
      "application/vnd.jupyter.widget-view+json": {
       "model_id": "57d6dfccc92e4c2a9e3b4ea826d6f373",
       "version_major": 2,
       "version_minor": 0
      },
      "text/plain": [
       "Textarea(value='')"
      ]
     },
     "metadata": {},
     "output_type": "display_data"
    }
   ],
   "source": [
    "# Ref: https://qiita.com/noca/items/00646efd9d4a7302f522\n",
    "from ipywidgets import Textarea\n",
    "import io\n",
    "if 'open' in globals():\n",
    "    del open\n",
    "if 'input' in globals():\n",
    "    del input\n",
    "original_open = open\n",
    "class custom_open():\n",
    "    def __init__(self):\n",
    "        self.text = ''\n",
    "    def __call__(self, file, *args, **kwargs):\n",
    "        if file == 0:\n",
    "            return io.StringIO(self.text)\n",
    "        return original_open(file, *args, **kwargs)\n",
    "    def updater(self, change):\n",
    "        self.text = change[\"new\"]\n",
    "class custom_input():\n",
    "    def __init__(self):\n",
    "        self.__sio = io.StringIO('')\n",
    "        self.shell = get_ipython()\n",
    "        if self.shell.events.callbacks['pre_run_cell'] != []:\n",
    "            self.shell.events.callbacks['pre_run_cell'] = []\n",
    "        self.shell.events.register('pre_run_cell', self.pre_run_cell)\n",
    "    def __call__(self):\n",
    "        return self.__sio.readline().strip()\n",
    "    def pre_run_cell(self, info):\n",
    "        text = self.shell.user_ns.get('text_area', None).value\n",
    "        self.__sio = io.StringIO(text)\n",
    "open = custom_open()\n",
    "input = custom_input()\n",
    "text_area = Textarea()\n",
    "text_area.observe(open.updater, names='value')\n",
    "display(text_area)"
   ]
  },
  {
   "cell_type": "code",
   "execution_count": 52,
   "id": "3521743f-73ad-4eee-90da-9c67439427eb",
   "metadata": {
    "tags": []
   },
   "outputs": [
    {
     "name": "stdout",
     "output_type": "stream",
     "text": [
      "Yes\n"
     ]
    },
    {
     "ename": "SystemExit",
     "evalue": "0",
     "output_type": "error",
     "traceback": [
      "An exception has occurred, use %tb to see the full traceback.\n",
      "\u001b[1;31mSystemExit\u001b[0m\u001b[1;31m:\u001b[0m 0\n"
     ]
    }
   ],
   "source": [
    "import sys\n",
    "N, P, Q, R = map(int, input().split())\n",
    "A = [0] + list(map(int, input().split()))\n",
    "\n",
    "S = [0] * (N+1)\n",
    "for i in range(1, N+1):\n",
    "    S[i] = S[i-1] + A[i]\n",
    "                \n",
    "cnt = 0\n",
    "for x in range(1, N-1):\n",
    "    X = x\n",
    "    \n",
    "    l = X + 1\n",
    "    r = N - 1\n",
    "    while r - l > 1:\n",
    "        mid = (l + r) // 2\n",
    "        if S[mid-1] - S[X-1] < P:\n",
    "            l = mid\n",
    "        else:\n",
    "            r = mid\n",
    "            \n",
    "    flag = False\n",
    "    for y in range(max(X+1,l-2), min(N, r+2)):\n",
    "        if S[y-1] - S[X-1] == P:\n",
    "            flag = True\n",
    "            Y = y\n",
    "            break\n",
    "            \n",
    "    if not flag:\n",
    "        continue\n",
    "    \n",
    "    # print(X, Y)\n",
    "    \n",
    "    l = Y + 1\n",
    "    r = N\n",
    "    while r - l > 1:\n",
    "        mid = (l + r) // 2\n",
    "        if S[mid-1] - S[Y-1] < Q:\n",
    "            l = mid\n",
    "        else:\n",
    "            r = mid\n",
    "    \n",
    "    flag = False\n",
    "    for z in range(max(Y+1,l-2), min(N+1, r+2)):\n",
    "        if S[z-1] - S[Y-1] == Q:\n",
    "            flag = True\n",
    "            Z = z\n",
    "            break\n",
    "            \n",
    "    if not flag:\n",
    "        continue\n",
    "    \n",
    "    # print(X, Y, Z)\n",
    "        \n",
    "    l = Z + 1\n",
    "    r = N + 1\n",
    "    while r - l > 1:\n",
    "        mid = (l + r) // 2\n",
    "        if S[mid-1] - S[Z-1] < R:\n",
    "            l = mid\n",
    "        else:\n",
    "            r = mid\n",
    "    \n",
    "    flag = False\n",
    "    for w in range(max(Z+1,l-2), min(N+2, r+2)):\n",
    "        if S[w-1] - S[Z-1] == R:\n",
    "            flag = True\n",
    "            W = w\n",
    "            break\n",
    "            \n",
    "    if not flag:\n",
    "        continue\n",
    "        \n",
    "    # print(X, Y, Z, W)\n",
    "    print(\"Yes\")\n",
    "    sys.exit(0)\n",
    "    \n",
    "    # TLE\n",
    "    # for y in range(x+1, N):\n",
    "    #     if S[y-1] - S[x-1] == P:\n",
    "    #         for z in range(y+1, N+1):\n",
    "    #             if S[z-1] - S[y-1] == Q:\n",
    "    #                 for w in range(z+1, N+2):\n",
    "    #                     if S[w-1] - S[z-1] == R:\n",
    "    #                         print(\"Yes\")\n",
    "    #                         sys.exit(0)\n",
    "print(\"No\")"
   ]
  },
  {
   "cell_type": "code",
   "execution_count": 50,
   "id": "e72663a8-ea63-4b30-a264-2bf53f1a0dc5",
   "metadata": {},
   "outputs": [
    {
     "data": {
      "text/plain": [
       "[0, 1, 4, 6, 8, 10, 13, 14, 18, 21, 23]"
      ]
     },
     "execution_count": 50,
     "metadata": {},
     "output_type": "execute_result"
    }
   ],
   "source": [
    "S"
   ]
  },
  {
   "cell_type": "code",
   "execution_count": 35,
   "id": "09761592-8b9d-43e7-9e18-02a428b784b2",
   "metadata": {},
   "outputs": [
    {
     "data": {
      "text/plain": [
       "0"
      ]
     },
     "execution_count": 35,
     "metadata": {},
     "output_type": "execute_result"
    }
   ],
   "source": [
    "cnt"
   ]
  },
  {
   "cell_type": "code",
   "execution_count": 36,
   "id": "db983557-046f-494a-9dfc-5245011a7377",
   "metadata": {},
   "outputs": [
    {
     "data": {
      "text/plain": [
       "[0, 1, 3, 2, 2, 2, 3, 1, 4, 3, 2]"
      ]
     },
     "execution_count": 36,
     "metadata": {},
     "output_type": "execute_result"
    }
   ],
   "source": [
    "A"
   ]
  },
  {
   "cell_type": "code",
   "execution_count": null,
   "id": "2c3e06c1-4d03-41bd-9286-9069cc7aca29",
   "metadata": {},
   "outputs": [],
   "source": []
  }
 ],
 "metadata": {
  "kernelspec": {
   "display_name": "Python 3 (ipykernel)",
   "language": "python",
   "name": "python3"
  },
  "language_info": {
   "codemirror_mode": {
    "name": "ipython",
    "version": 3
   },
   "file_extension": ".py",
   "mimetype": "text/x-python",
   "name": "python",
   "nbconvert_exporter": "python",
   "pygments_lexer": "ipython3",
   "version": "3.9.12"
  }
 },
 "nbformat": 4,
 "nbformat_minor": 5
}
