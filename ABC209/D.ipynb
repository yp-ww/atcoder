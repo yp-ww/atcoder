{
 "cells": [
  {
   "cell_type": "code",
   "execution_count": 1,
   "id": "f8f2c33d-dc45-463c-b02b-13c69c793257",
   "metadata": {},
   "outputs": [
    {
     "data": {
      "application/vnd.jupyter.widget-view+json": {
       "model_id": "9bb8793e7c344f23a0aaea9f7bdfb68c",
       "version_major": 2,
       "version_minor": 0
      },
      "text/plain": [
       "Textarea(value='')"
      ]
     },
     "metadata": {},
     "output_type": "display_data"
    }
   ],
   "source": [
    "# Ref: https://qiita.com/noca/items/00646efd9d4a7302f522\n",
    "from ipywidgets import Textarea\n",
    "import io\n",
    "if 'open' in globals():\n",
    "    del open\n",
    "if 'input' in globals():\n",
    "    del input\n",
    "original_open = open\n",
    "class custom_open():\n",
    "    def __init__(self):\n",
    "        self.text = ''\n",
    "    def __call__(self, file, *args, **kwargs):\n",
    "        if file == 0:\n",
    "            return io.StringIO(self.text)\n",
    "        return original_open(file, *args, **kwargs)\n",
    "    def updater(self, change):\n",
    "        self.text = change[\"new\"]\n",
    "class custom_input():\n",
    "    def __init__(self):\n",
    "        self.__sio = io.StringIO('')\n",
    "        self.shell = get_ipython()\n",
    "        if self.shell.events.callbacks['pre_run_cell'] != []:\n",
    "            self.shell.events.callbacks['pre_run_cell'] = []\n",
    "        self.shell.events.register('pre_run_cell', self.pre_run_cell)\n",
    "    def __call__(self):\n",
    "        return self.__sio.readline().strip()\n",
    "    def pre_run_cell(self, info):\n",
    "        text = self.shell.user_ns.get('text_area', None).value\n",
    "        self.__sio = io.StringIO(text)\n",
    "open = custom_open()\n",
    "input = custom_input()\n",
    "text_area = Textarea()\n",
    "text_area.observe(open.updater, names='value')\n",
    "display(text_area)"
   ]
  },
  {
   "cell_type": "code",
   "execution_count": 3,
   "id": "5783526c-dd20-48d8-94f9-5df7d108be09",
   "metadata": {},
   "outputs": [
    {
     "name": "stdout",
     "output_type": "stream",
     "text": [
      "Town\n",
      "Road\n",
      "Town\n",
      "Town\n",
      "Town\n",
      "Town\n",
      "Road\n",
      "Road\n",
      "Road\n"
     ]
    }
   ],
   "source": [
    "from collections import deque\n",
    "N, Q = map(int, input().split())\n",
    "\n",
    "G = [list() for _ in range(N+1)]\n",
    "for _ in range(N-1):\n",
    "    a, b = map(int, input().split())\n",
    "    G[a].append(b)\n",
    "    G[b].append(a)\n",
    "\n",
    "Query = [list(map(int, input().split())) for _ in range(Q)]\n",
    "\n",
    "q = deque()\n",
    "q.append((1, 0))\n",
    "\n",
    "dis = [-1] * (N+1)\n",
    "dis[1] = 0\n",
    "while q:\n",
    "    now, pre = q.popleft()\n",
    "    for nex in G[now]:\n",
    "        if dis[nex] == -1:\n",
    "            dis[nex] = dis[now] + 1\n",
    "            q.append((nex, now))\n",
    "\n",
    "for c, d in Query:\n",
    "    x = dis[c] + dis[d]\n",
    "    if x % 2:\n",
    "        print(\"Road\")\n",
    "    else:\n",
    "        print(\"Town\")"
   ]
  },
  {
   "cell_type": "code",
   "execution_count": null,
   "id": "c9a7c058-9207-427c-982f-04e51425591e",
   "metadata": {},
   "outputs": [],
   "source": []
  }
 ],
 "metadata": {
  "kernelspec": {
   "display_name": "Python 3 (ipykernel)",
   "language": "python",
   "name": "python3"
  },
  "language_info": {
   "codemirror_mode": {
    "name": "ipython",
    "version": 3
   },
   "file_extension": ".py",
   "mimetype": "text/x-python",
   "name": "python",
   "nbconvert_exporter": "python",
   "pygments_lexer": "ipython3",
   "version": "3.9.12"
  }
 },
 "nbformat": 4,
 "nbformat_minor": 5
}
