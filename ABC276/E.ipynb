{
 "cells": [
  {
   "cell_type": "code",
   "execution_count": 1,
   "id": "94c0dffc-7a30-409e-8487-ce830c2bc1da",
   "metadata": {},
   "outputs": [
    {
     "data": {
      "application/vnd.jupyter.widget-view+json": {
       "model_id": "948ce58cbe02458c82b4de46c88d6157",
       "version_major": 2,
       "version_minor": 0
      },
      "text/plain": [
       "Textarea(value='')"
      ]
     },
     "metadata": {},
     "output_type": "display_data"
    }
   ],
   "source": [
    "# Ref: https://qiita.com/noca/items/00646efd9d4a7302f522\n",
    "from ipywidgets import Textarea\n",
    "import io\n",
    "if 'open' in globals():\n",
    "    del open\n",
    "if 'input' in globals():\n",
    "    del input\n",
    "original_open = open\n",
    "class custom_open():\n",
    "    def __init__(self):\n",
    "        self.text = ''\n",
    "    def __call__(self, file, *args, **kwargs):\n",
    "        if file == 0:\n",
    "            return io.StringIO(self.text)\n",
    "        return original_open(file, *args, **kwargs)\n",
    "    def updater(self, change):\n",
    "        self.text = change[\"new\"]\n",
    "class custom_input():\n",
    "    def __init__(self):\n",
    "        self.__sio = io.StringIO('')\n",
    "        self.shell = get_ipython()\n",
    "        if self.shell.events.callbacks['pre_run_cell'] != []:\n",
    "            self.shell.events.callbacks['pre_run_cell'] = []\n",
    "        self.shell.events.register('pre_run_cell', self.pre_run_cell)\n",
    "    def __call__(self):\n",
    "        return self.__sio.readline().strip()\n",
    "    def pre_run_cell(self, info):\n",
    "        text = self.shell.user_ns.get('text_area', None).value\n",
    "        self.__sio = io.StringIO(text)\n",
    "open = custom_open()\n",
    "input = custom_input()\n",
    "text_area = Textarea()\n",
    "text_area.observe(open.updater, names='value')\n",
    "display(text_area)"
   ]
  },
  {
   "cell_type": "code",
   "execution_count": 32,
   "id": "85f2fbce-5cba-4a2a-9404-c8a4ce7fb7a4",
   "metadata": {},
   "outputs": [
    {
     "name": "stdout",
     "output_type": "stream",
     "text": [
      "Yes\n"
     ]
    },
    {
     "ename": "SystemExit",
     "evalue": "0",
     "output_type": "error",
     "traceback": [
      "An exception has occurred, use %tb to see the full traceback.\n",
      "\u001b[1;31mSystemExit\u001b[0m\u001b[1;31m:\u001b[0m 0\n"
     ]
    }
   ],
   "source": [
    "import sys\n",
    "from collections import deque\n",
    "H, W = map(int, input().split())\n",
    "C = [list(input()) for _ in range(H)]\n",
    "\n",
    "for i in range(H):\n",
    "    for j in range(W):\n",
    "        if C[i][j] == \"S\":\n",
    "            sh = i\n",
    "            sw = j\n",
    "            \n",
    "dhdw= [(1, 0), (0, 1), (-1, 0), (0, -1)]\n",
    "\n",
    "for dhs, dws in dhdw:\n",
    "    if 0 <= sh+dhs < H and 0 <= sw+dws < W:\n",
    "        pass\n",
    "    else:\n",
    "        continue\n",
    "        \n",
    "    q = deque()\n",
    "    q.append((sh+dhs, sw+dws, 1))\n",
    "    visited = [[False] * W for _ in range(H)]\n",
    "    visited[sh][sw] = True\n",
    "    visited[sh+dhs][sw+dws] = True\n",
    "    if C[sh+dhs][sw+dws] == \"#\":\n",
    "        continue\n",
    "\n",
    "    while q:\n",
    "        now_h, now_w, cnt = q.popleft()\n",
    "        # print(now_h, now_w, cnt)\n",
    "        \n",
    "        for dh, dw in dhdw:\n",
    "            nex_h = now_h + dh\n",
    "            nex_w = now_w + dw\n",
    "            if 0 <= nex_h < H and 0 <= nex_w < W:\n",
    "                if C[nex_h][nex_w] == \"#\":\n",
    "                    continue\n",
    "                if visited[nex_h][nex_w]:\n",
    "                    if nex_h == sh and nex_w == sw and cnt+1 >= 4:\n",
    "                        print(\"Yes\")\n",
    "                        sys.exit(0)\n",
    "                    continue\n",
    "                visited[nex_h][nex_w] = True\n",
    "                q.append((nex_h, nex_w, cnt + 1))\n",
    "            \n",
    "print(\"No\")"
   ]
  },
  {
   "cell_type": "code",
   "execution_count": 31,
   "id": "014b3b15-f206-49ed-9b59-a78ad5c3ba24",
   "metadata": {},
   "outputs": [
    {
     "data": {
      "text/plain": [
       "[['.', '.', '.', '.'],\n",
       " ['#', '.', '#', '.'],\n",
       " ['.', 'S', '.', '.'],\n",
       " ['.', '#', '#', '.']]"
      ]
     },
     "execution_count": 31,
     "metadata": {},
     "output_type": "execute_result"
    }
   ],
   "source": [
    "C"
   ]
  },
  {
   "cell_type": "code",
   "execution_count": null,
   "id": "73c2f825-747f-48fe-b8ba-2f4bed8fbeb3",
   "metadata": {},
   "outputs": [],
   "source": []
  }
 ],
 "metadata": {
  "kernelspec": {
   "display_name": "Python 3 (ipykernel)",
   "language": "python",
   "name": "python3"
  },
  "language_info": {
   "codemirror_mode": {
    "name": "ipython",
    "version": 3
   },
   "file_extension": ".py",
   "mimetype": "text/x-python",
   "name": "python",
   "nbconvert_exporter": "python",
   "pygments_lexer": "ipython3",
   "version": "3.9.12"
  }
 },
 "nbformat": 4,
 "nbformat_minor": 5
}
