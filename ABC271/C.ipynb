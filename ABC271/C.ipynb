{
 "cells": [
  {
   "cell_type": "code",
   "execution_count": 1,
   "id": "48a2597e-4949-4e86-89ff-eaa63b876097",
   "metadata": {},
   "outputs": [
    {
     "data": {
      "application/vnd.jupyter.widget-view+json": {
       "model_id": "375ab6b8b97446b6b2a18cc9de475d1b",
       "version_major": 2,
       "version_minor": 0
      },
      "text/plain": [
       "Textarea(value='')"
      ]
     },
     "metadata": {},
     "output_type": "display_data"
    }
   ],
   "source": [
    "# Ref: https://qiita.com/noca/items/00646efd9d4a7302f522\n",
    "from ipywidgets import Textarea\n",
    "import io\n",
    "if 'open' in globals():\n",
    "    del open\n",
    "if 'input' in globals():\n",
    "    del input\n",
    "original_open = open\n",
    "class custom_open():\n",
    "    def __init__(self):\n",
    "        self.text = ''\n",
    "    def __call__(self, file, *args, **kwargs):\n",
    "        if file == 0:\n",
    "            return io.StringIO(self.text)\n",
    "        return original_open(file, *args, **kwargs)\n",
    "    def updater(self, change):\n",
    "        self.text = change[\"new\"]\n",
    "class custom_input():\n",
    "    def __init__(self):\n",
    "        self.__sio = io.StringIO('')\n",
    "        self.shell = get_ipython()\n",
    "        if self.shell.events.callbacks['pre_run_cell'] != []:\n",
    "            self.shell.events.callbacks['pre_run_cell'] = []\n",
    "        self.shell.events.register('pre_run_cell', self.pre_run_cell)\n",
    "    def __call__(self):\n",
    "        return self.__sio.readline().strip()\n",
    "    def pre_run_cell(self, info):\n",
    "        text = self.shell.user_ns.get('text_area', None).value\n",
    "        self.__sio = io.StringIO(text)\n",
    "open = custom_open()\n",
    "input = custom_input()\n",
    "text_area = Textarea()\n",
    "text_area.observe(open.updater, names='value')\n",
    "display(text_area)"
   ]
  },
  {
   "cell_type": "code",
   "execution_count": 39,
   "id": "4c3d56cf-6d94-4634-96fc-8785a178c11b",
   "metadata": {},
   "outputs": [
    {
     "name": "stdout",
     "output_type": "stream",
     "text": [
      "6\n"
     ]
    }
   ],
   "source": [
    "from collections import defaultdict \n",
    "N = int(input())\n",
    "A = list(map(int, input().split()))\n",
    "A.sort()\n",
    "\n",
    "B = set(A)\n",
    "B = list(B)\n",
    "gomi = N - len(B)\n",
    "\n",
    "d = defaultdict(bool)\n",
    "for b in B:\n",
    "    d[b] = True\n",
    "\n",
    "cnt = 0\n",
    "while 1:\n",
    "    cnt += 1\n",
    "    if d[cnt]:\n",
    "        d[cnt] = False\n",
    "\n",
    "    else:\n",
    "        if gomi >= 2:\n",
    "            gomi -= 2\n",
    "\n",
    "        elif gomi == 1:\n",
    "            if d[B[-1]]:\n",
    "                d[B[-1]] = False\n",
    "                gomi += 1\n",
    "                gomi -= 2\n",
    "                B.pop()\n",
    "                \n",
    "            else:\n",
    "                print(cnt-1)\n",
    "                break\n",
    "        \n",
    "        elif gomi == 0:\n",
    "            if len(B) < 2:\n",
    "                print(cnt-1)\n",
    "                break\n",
    "                \n",
    "            if d[B[-1]] and d[B[-2]]:\n",
    "                d[B[-1]] = False\n",
    "                d[B[-2]] = False\n",
    "                gomi += 2\n",
    "                gomi -= 2\n",
    "                B.pop()\n",
    "                B.pop()\n",
    "                \n",
    "            else:\n",
    "                print(cnt-1)\n",
    "                break"
   ]
  },
  {
   "cell_type": "code",
   "execution_count": 35,
   "id": "0913fd81-1047-4ec5-8da4-c349245ca747",
   "metadata": {},
   "outputs": [
    {
     "data": {
      "text/plain": [
       "[1, 2]"
      ]
     },
     "execution_count": 35,
     "metadata": {},
     "output_type": "execute_result"
    }
   ],
   "source": [
    "B"
   ]
  },
  {
   "cell_type": "code",
   "execution_count": 36,
   "id": "1b73013a-f0c3-4880-a8db-8ced36ede085",
   "metadata": {},
   "outputs": [
    {
     "data": {
      "text/plain": [
       "1"
      ]
     },
     "execution_count": 36,
     "metadata": {},
     "output_type": "execute_result"
    }
   ],
   "source": [
    "B[-2]"
   ]
  },
  {
   "cell_type": "code",
   "execution_count": 37,
   "id": "8b0914fd-f361-4236-8f9a-a1a13c713cbb",
   "metadata": {},
   "outputs": [
    {
     "data": {
      "text/plain": [
       "defaultdict(bool,\n",
       "            {1: False,\n",
       "             2: False,\n",
       "             3: False,\n",
       "             4: False,\n",
       "             5: False,\n",
       "             6: False,\n",
       "             7: False})"
      ]
     },
     "execution_count": 37,
     "metadata": {},
     "output_type": "execute_result"
    }
   ],
   "source": [
    "d"
   ]
  },
  {
   "cell_type": "code",
   "execution_count": null,
   "id": "a8d14e48-7c14-4679-95b3-e83b7d9867ef",
   "metadata": {},
   "outputs": [],
   "source": []
  }
 ],
 "metadata": {
  "kernelspec": {
   "display_name": "Python 3 (ipykernel)",
   "language": "python",
   "name": "python3"
  },
  "language_info": {
   "codemirror_mode": {
    "name": "ipython",
    "version": 3
   },
   "file_extension": ".py",
   "mimetype": "text/x-python",
   "name": "python",
   "nbconvert_exporter": "python",
   "pygments_lexer": "ipython3",
   "version": "3.9.12"
  }
 },
 "nbformat": 4,
 "nbformat_minor": 5
}
