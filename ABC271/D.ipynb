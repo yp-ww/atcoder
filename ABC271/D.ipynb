{
 "cells": [
  {
   "cell_type": "code",
   "execution_count": 1,
   "id": "f126502f-bc42-41c1-9597-db1a08778ec8",
   "metadata": {},
   "outputs": [
    {
     "data": {
      "application/vnd.jupyter.widget-view+json": {
       "model_id": "5786e371b36448b497a23991da316b40",
       "version_major": 2,
       "version_minor": 0
      },
      "text/plain": [
       "Textarea(value='')"
      ]
     },
     "metadata": {},
     "output_type": "display_data"
    }
   ],
   "source": [
    "# Ref: https://qiita.com/noca/items/00646efd9d4a7302f522\n",
    "from ipywidgets import Textarea\n",
    "import io\n",
    "if 'open' in globals():\n",
    "    del open\n",
    "if 'input' in globals():\n",
    "    del input\n",
    "original_open = open\n",
    "class custom_open():\n",
    "    def __init__(self):\n",
    "        self.text = ''\n",
    "    def __call__(self, file, *args, **kwargs):\n",
    "        if file == 0:\n",
    "            return io.StringIO(self.text)\n",
    "        return original_open(file, *args, **kwargs)\n",
    "    def updater(self, change):\n",
    "        self.text = change[\"new\"]\n",
    "class custom_input():\n",
    "    def __init__(self):\n",
    "        self.__sio = io.StringIO('')\n",
    "        self.shell = get_ipython()\n",
    "        if self.shell.events.callbacks['pre_run_cell'] != []:\n",
    "            self.shell.events.callbacks['pre_run_cell'] = []\n",
    "        self.shell.events.register('pre_run_cell', self.pre_run_cell)\n",
    "    def __call__(self):\n",
    "        return self.__sio.readline().strip()\n",
    "    def pre_run_cell(self, info):\n",
    "        text = self.shell.user_ns.get('text_area', None).value\n",
    "        self.__sio = io.StringIO(text)\n",
    "open = custom_open()\n",
    "input = custom_input()\n",
    "text_area = Textarea()\n",
    "text_area.observe(open.updater, names='value')\n",
    "display(text_area)"
   ]
  },
  {
   "cell_type": "code",
   "execution_count": 16,
   "id": "01b9d03a-a94e-47d9-835a-54505b212a45",
   "metadata": {},
   "outputs": [
    {
     "name": "stdout",
     "output_type": "stream",
     "text": [
      "Yes\n",
      "THH\n"
     ]
    }
   ],
   "source": [
    "import sys\n",
    "N, S = map(int, input().split())\n",
    "AB = [list(map(int, input().split())) for _ in range(N)]\n",
    "\n",
    "dp = [[False] * (S+1) for _ in range(N+1)]\n",
    "path = [[\"\"] * (S+1) for _ in range(N+1)]\n",
    "dp[0][0] = True\n",
    "path[0][0] = \"\"\n",
    "\n",
    "for i in range(N):\n",
    "    a, b = AB[i]\n",
    "    for j in range(S):\n",
    "        if dp[i][j]:\n",
    "            if j + a <= S:\n",
    "                dp[i+1][j+a] = True\n",
    "                path[i+1][j+a] = path[i][j]\n",
    "                path[i+1][j+a] += \"H\"\n",
    "            if j + b <= S:\n",
    "                dp[i+1][j+b] = True\n",
    "                path[i+1][j+b] = path[i][j]\n",
    "                path[i+1][j+b] += \"T\"\n",
    "\n",
    "if not dp[N][S]:\n",
    "    print(\"No\")\n",
    "else:\n",
    "    print(\"Yes\")\n",
    "    print(path[N][S])"
   ]
  },
  {
   "cell_type": "code",
   "execution_count": 10,
   "id": "afc43b04-5473-41ed-a669-2291953abecb",
   "metadata": {},
   "outputs": [
    {
     "data": {
      "text/plain": [
       "True"
      ]
     },
     "execution_count": 10,
     "metadata": {},
     "output_type": "execute_result"
    }
   ],
   "source": [
    "dp[N][S]"
   ]
  },
  {
   "cell_type": "code",
   "execution_count": null,
   "id": "15d81ae3-8685-481e-b270-09f10f82e44f",
   "metadata": {},
   "outputs": [],
   "source": []
  },
  {
   "cell_type": "code",
   "execution_count": null,
   "id": "3468f4e2-f6e5-4500-bf44-bb329e74044c",
   "metadata": {},
   "outputs": [],
   "source": []
  }
 ],
 "metadata": {
  "kernelspec": {
   "display_name": "Python 3 (ipykernel)",
   "language": "python",
   "name": "python3"
  },
  "language_info": {
   "codemirror_mode": {
    "name": "ipython",
    "version": 3
   },
   "file_extension": ".py",
   "mimetype": "text/x-python",
   "name": "python",
   "nbconvert_exporter": "python",
   "pygments_lexer": "ipython3",
   "version": "3.9.12"
  }
 },
 "nbformat": 4,
 "nbformat_minor": 5
}
