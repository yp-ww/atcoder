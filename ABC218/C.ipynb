{
 "cells": [
  {
   "cell_type": "code",
   "execution_count": 1,
   "id": "95dc895a-ff0c-40ad-b852-465e89e3f156",
   "metadata": {},
   "outputs": [
    {
     "data": {
      "application/vnd.jupyter.widget-view+json": {
       "model_id": "45b743b720e7477aa0da9eeb77791010",
       "version_major": 2,
       "version_minor": 0
      },
      "text/plain": [
       "Textarea(value='')"
      ]
     },
     "metadata": {},
     "output_type": "display_data"
    }
   ],
   "source": [
    "# Ref: https://qiita.com/noca/items/00646efd9d4a7302f522\n",
    "from ipywidgets import Textarea\n",
    "import io\n",
    "if 'open' in globals():\n",
    "    del open\n",
    "if 'input' in globals():\n",
    "    del input\n",
    "original_open = open\n",
    "class custom_open():\n",
    "    def __init__(self):\n",
    "        self.text = ''\n",
    "    def __call__(self, file, *args, **kwargs):\n",
    "        if file == 0:\n",
    "            return io.StringIO(self.text)\n",
    "        return original_open(file, *args, **kwargs)\n",
    "    def updater(self, change):\n",
    "        self.text = change[\"new\"]\n",
    "class custom_input():\n",
    "    def __init__(self):\n",
    "        self.__sio = io.StringIO('')\n",
    "        self.shell = get_ipython()\n",
    "        if self.shell.events.callbacks['pre_run_cell'] != []:\n",
    "            self.shell.events.callbacks['pre_run_cell'] = []\n",
    "        self.shell.events.register('pre_run_cell', self.pre_run_cell)\n",
    "    def __call__(self):\n",
    "        return self.__sio.readline().strip()\n",
    "    def pre_run_cell(self, info):\n",
    "        text = self.shell.user_ns.get('text_area', None).value\n",
    "        self.__sio = io.StringIO(text)\n",
    "open = custom_open()\n",
    "input = custom_input()\n",
    "text_area = Textarea()\n",
    "text_area.observe(open.updater, names='value')\n",
    "display(text_area)"
   ]
  },
  {
   "cell_type": "code",
   "execution_count": 177,
   "id": "6c14738b-09e4-4bec-8447-505a91de2172",
   "metadata": {},
   "outputs": [
    {
     "name": "stdout",
     "output_type": "stream",
     "text": [
      "Yes\n"
     ]
    },
    {
     "ename": "SystemExit",
     "evalue": "0",
     "output_type": "error",
     "traceback": [
      "An exception has occurred, use %tb to see the full traceback.\n",
      "\u001b[1;31mSystemExit\u001b[0m\u001b[1;31m:\u001b[0m 0\n"
     ]
    }
   ],
   "source": [
    "import sys\n",
    "N = int(input())\n",
    "S = [list(input()) for _ in range(N)]\n",
    "T = [list(input()) for _ in range(N)]\n",
    "\n",
    "def rotate_right(X):\n",
    "    X = X[::-1]\n",
    "    return list(zip(*X))\n",
    "\n",
    "def find_top(X):\n",
    "    for i in range(N):\n",
    "        for j in range(N):\n",
    "            if X[i][j] == \"#\":\n",
    "                return (i, j)\n",
    "cnt0 = 0\n",
    "cnt1 = 0\n",
    "for i in range(N):\n",
    "    for j in range(N):\n",
    "        if S[i][j] == \"#\":\n",
    "            cnt0 += 1\n",
    "        if T[i][j] == \"#\":\n",
    "            cnt1 += 1\n",
    "if cnt0 != cnt1:\n",
    "    print(\"No\")\n",
    "    sys.exit(0)\n",
    "            \n",
    "def issame(X, Y):\n",
    "    Xi, Xj = find_top(X)\n",
    "    Yi, Yj = find_top(Y)\n",
    "    di = Yi - Xi\n",
    "    dj = Yj - Xj\n",
    "    for i in range(N):\n",
    "        for j in range(N):\n",
    "            ii = i + di\n",
    "            jj = j + dj\n",
    "            if 0 <= ii < N and 0 <= jj < N:\n",
    "                if X[i][j] != Y[ii][jj]:\n",
    "                    return False\n",
    "            else:\n",
    "                if X[i][j] == \"#\":\n",
    "                    return False\n",
    "                \n",
    "    return True\n",
    "\n",
    "for _ in range(4):\n",
    "    if issame(S, T):\n",
    "        print(\"Yes\")\n",
    "        sys.exit(0)\n",
    "    S = rotate_right(S)\n",
    "print(\"No\")"
   ]
  },
  {
   "cell_type": "code",
   "execution_count": 178,
   "id": "73aeede5-d6a3-4085-bc44-6c8c4fef1c56",
   "metadata": {},
   "outputs": [
    {
     "data": {
      "text/plain": [
       "[['.', '.', '.', '.', '.'],\n",
       " ['.', '.', '.', '.', '.'],\n",
       " ['.', '.', '.', '.', '#'],\n",
       " ['.', '.', '.', '#', '#'],\n",
       " ['.', '.', '.', '.', '#']]"
      ]
     },
     "execution_count": 178,
     "metadata": {},
     "output_type": "execute_result"
    }
   ],
   "source": [
    "T"
   ]
  },
  {
   "cell_type": "code",
   "execution_count": 179,
   "id": "e1963cab-a396-4323-b54a-3afedd3bc7c6",
   "metadata": {},
   "outputs": [
    {
     "data": {
      "text/plain": [
       "[('.', '.', '.', '.', '.'),\n",
       " ('.', '.', '#', '.', '.'),\n",
       " ('.', '#', '#', '.', '.'),\n",
       " ('.', '.', '#', '.', '.'),\n",
       " ('.', '.', '.', '.', '.')]"
      ]
     },
     "execution_count": 179,
     "metadata": {},
     "output_type": "execute_result"
    }
   ],
   "source": [
    "S"
   ]
  },
  {
   "cell_type": "code",
   "execution_count": null,
   "id": "0d235d11-83ed-4294-aa39-100ba89fed06",
   "metadata": {},
   "outputs": [],
   "source": []
  }
 ],
 "metadata": {
  "kernelspec": {
   "display_name": "Python 3 (ipykernel)",
   "language": "python",
   "name": "python3"
  },
  "language_info": {
   "codemirror_mode": {
    "name": "ipython",
    "version": 3
   },
   "file_extension": ".py",
   "mimetype": "text/x-python",
   "name": "python",
   "nbconvert_exporter": "python",
   "pygments_lexer": "ipython3",
   "version": "3.9.12"
  }
 },
 "nbformat": 4,
 "nbformat_minor": 5
}
