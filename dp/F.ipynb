{
 "cells": [
  {
   "cell_type": "code",
   "execution_count": 1,
   "id": "b7cc08aa-2d32-4219-bd4a-80db02a48e46",
   "metadata": {},
   "outputs": [
    {
     "data": {
      "application/vnd.jupyter.widget-view+json": {
       "model_id": "4fdd224889574cfc86ab10ff8942b184",
       "version_major": 2,
       "version_minor": 0
      },
      "text/plain": [
       "Textarea(value='')"
      ]
     },
     "metadata": {},
     "output_type": "display_data"
    }
   ],
   "source": [
    "# Ref: https://qiita.com/noca/items/00646efd9d4a7302f522\n",
    "from ipywidgets import Textarea\n",
    "import io\n",
    "if 'open' in globals():\n",
    "    del open\n",
    "if 'input' in globals():\n",
    "    del input\n",
    "original_open = open\n",
    "class custom_open():\n",
    "    def __init__(self):\n",
    "        self.text = ''\n",
    "    def __call__(self, file, *args, **kwargs):\n",
    "        if file == 0:\n",
    "            return io.StringIO(self.text)\n",
    "        return original_open(file, *args, **kwargs)\n",
    "    def updater(self, change):\n",
    "        self.text = change[\"new\"]\n",
    "class custom_input():\n",
    "    def __init__(self):\n",
    "        self.__sio = io.StringIO('')\n",
    "        self.shell = get_ipython()\n",
    "        if self.shell.events.callbacks['pre_run_cell'] != []:\n",
    "            self.shell.events.callbacks['pre_run_cell'] = []\n",
    "        self.shell.events.register('pre_run_cell', self.pre_run_cell)\n",
    "    def __call__(self):\n",
    "        return self.__sio.readline().strip()\n",
    "    def pre_run_cell(self, info):\n",
    "        text = self.shell.user_ns.get('text_area', None).value\n",
    "        self.__sio = io.StringIO(text)\n",
    "open = custom_open()\n",
    "input = custom_input()\n",
    "text_area = Textarea()\n",
    "text_area.observe(open.updater, names='value')\n",
    "display(text_area)"
   ]
  },
  {
   "cell_type": "code",
   "execution_count": 50,
   "id": "8170d685-409c-453d-8d47-8ff158c88b3e",
   "metadata": {},
   "outputs": [
    {
     "name": "stdout",
     "output_type": "stream",
     "text": [
      "aaadara\n"
     ]
    }
   ],
   "source": [
    "S = input()\n",
    "T = input()\n",
    "N = len(S)\n",
    "M = len(T)\n",
    "\n",
    "dp = [[0] * (M+1) for _ in range(N+1)]\n",
    "for i in range(1, N+1):\n",
    "    for j in range(1, M+1):\n",
    "        c = 1 if S[i-1] == T[j-1] else 0\n",
    "        dp[i][j] = max(dp[i-1][j], dp[i][j-1], dp[i-1][j-1] + c)\n",
    "\n",
    "temp = dp[N][M]\n",
    "ans = []\n",
    "for i in range(N, 0, -1):\n",
    "    for j in range(M, 0, -1):\n",
    "        if dp[i-1][j] == temp-1 and dp[i][j-1] == temp-1 and dp[i-1][j-1] == temp-1:\n",
    "            if S[i-1] == T[j-1]:\n",
    "                ans.append(S[i-1])\n",
    "                temp -= 1\n",
    "                break\n",
    "ans.reverse()\n",
    "temp = \"\"\n",
    "for a in ans:\n",
    "    temp += a\n",
    "print(temp)"
   ]
  },
  {
   "cell_type": "code",
   "execution_count": 51,
   "id": "2cc6e2ac-f066-45c8-9391-854caa9fac53",
   "metadata": {},
   "outputs": [
    {
     "data": {
      "text/plain": [
       "[[0, 0, 0, 0, 0, 0, 0, 0, 0, 0, 0, 0, 0],\n",
       " [0, 1, 1, 1, 1, 1, 1, 1, 1, 1, 1, 1, 1],\n",
       " [0, 1, 1, 1, 1, 1, 1, 1, 1, 1, 1, 1, 1],\n",
       " [0, 1, 1, 1, 1, 1, 1, 1, 1, 1, 1, 2, 2],\n",
       " [0, 1, 1, 2, 2, 2, 2, 2, 2, 2, 2, 2, 3],\n",
       " [0, 1, 1, 2, 2, 2, 2, 2, 2, 2, 2, 2, 3],\n",
       " [0, 1, 1, 2, 2, 3, 3, 3, 3, 3, 3, 3, 3],\n",
       " [0, 1, 1, 2, 3, 3, 3, 3, 4, 4, 4, 4, 4],\n",
       " [0, 1, 1, 2, 3, 4, 4, 4, 4, 5, 5, 5, 5],\n",
       " [0, 1, 1, 2, 3, 4, 4, 4, 4, 5, 5, 5, 5],\n",
       " [0, 1, 1, 2, 3, 4, 4, 4, 4, 5, 5, 6, 6],\n",
       " [0, 1, 1, 2, 3, 4, 4, 4, 4, 5, 5, 6, 7]]"
      ]
     },
     "execution_count": 51,
     "metadata": {},
     "output_type": "execute_result"
    }
   ],
   "source": [
    "dp"
   ]
  },
  {
   "cell_type": "code",
   "execution_count": 49,
   "id": "3aa17917-d43d-4b4e-b26d-0a6f433aa97d",
   "metadata": {},
   "outputs": [
    {
     "data": {
      "text/plain": [
       "['a', 'a', 'a', 'd', 'a', 'r', 'a']"
      ]
     },
     "execution_count": 49,
     "metadata": {},
     "output_type": "execute_result"
    }
   ],
   "source": [
    "ans"
   ]
  },
  {
   "cell_type": "code",
   "execution_count": null,
   "id": "7f23ce48-a2ed-4b41-9f01-993e7b099549",
   "metadata": {},
   "outputs": [],
   "source": []
  }
 ],
 "metadata": {
  "kernelspec": {
   "display_name": "Python 3 (ipykernel)",
   "language": "python",
   "name": "python3"
  },
  "language_info": {
   "codemirror_mode": {
    "name": "ipython",
    "version": 3
   },
   "file_extension": ".py",
   "mimetype": "text/x-python",
   "name": "python",
   "nbconvert_exporter": "python",
   "pygments_lexer": "ipython3",
   "version": "3.9.12"
  }
 },
 "nbformat": 4,
 "nbformat_minor": 5
}
