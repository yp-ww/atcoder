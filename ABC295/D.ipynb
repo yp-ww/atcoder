{
 "cells": [
  {
   "cell_type": "code",
   "execution_count": 1,
   "id": "1b4581f8-1ded-4604-a5df-a4d6b304af6c",
   "metadata": {},
   "outputs": [
    {
     "data": {
      "application/vnd.jupyter.widget-view+json": {
       "model_id": "f5b10a1da94040a5b82b882481a2cc15",
       "version_major": 2,
       "version_minor": 0
      },
      "text/plain": [
       "Textarea(value='')"
      ]
     },
     "metadata": {},
     "output_type": "display_data"
    }
   ],
   "source": [
    "# Ref: https://qiita.com/noca/items/00646efd9d4a7302f522\n",
    "from ipywidgets import Textarea\n",
    "import io\n",
    "if 'open' in globals():\n",
    "    del open\n",
    "if 'input' in globals():\n",
    "    del input\n",
    "original_open = open\n",
    "class custom_open():\n",
    "    def __init__(self):\n",
    "        self.text = ''\n",
    "    def __call__(self, file, *args, **kwargs):\n",
    "        if file == 0:\n",
    "            return io.StringIO(self.text)\n",
    "        return original_open(file, *args, **kwargs)\n",
    "    def updater(self, change):\n",
    "        self.text = change[\"new\"]\n",
    "class custom_input():\n",
    "    def __init__(self):\n",
    "        self.__sio = io.StringIO('')\n",
    "        self.shell = get_ipython()\n",
    "        if self.shell.events.callbacks['pre_run_cell'] != []:\n",
    "            self.shell.events.callbacks['pre_run_cell'] = []\n",
    "        self.shell.events.register('pre_run_cell', self.pre_run_cell)\n",
    "    def __call__(self):\n",
    "        return self.__sio.readline().strip()\n",
    "    def pre_run_cell(self, info):\n",
    "        text = self.shell.user_ns.get('text_area', None).value\n",
    "        self.__sio = io.StringIO(text)\n",
    "open = custom_open()\n",
    "input = custom_input()\n",
    "text_area = Textarea()\n",
    "text_area.observe(open.updater, names='value')\n",
    "display(text_area)"
   ]
  },
  {
   "cell_type": "code",
   "execution_count": 43,
   "id": "e799659b-b754-404f-9f5e-0f844e81c89d",
   "metadata": {},
   "outputs": [
    {
     "name": "stdout",
     "output_type": "stream",
     "text": [
      "185\n"
     ]
    }
   ],
   "source": [
    "S = input()\n",
    "N = len(S)\n",
    "_sum = [[0] for _ in range(10)]\n",
    "\n",
    "for i in range(10):\n",
    "    for j in range(N):\n",
    "        if i == int(S[j]):\n",
    "            _sum[i].append((_sum[i][-1]+1)%2)\n",
    "        else:\n",
    "            _sum[i].append((_sum[i][-1])%2)\n",
    "    \n",
    "A = list(zip(*_sum))\n",
    "# for a in A:\n",
    "#     print(*a)\n",
    "    \n",
    "arr = [0] * (1 << 10)\n",
    "for i in range(N+1):\n",
    "    x = 0\n",
    "    for j in range(10):\n",
    "        x += 2 ** j * A[i][j]\n",
    "    # print(x)\n",
    "    arr[x] += 1\n",
    "\n",
    "ans = 0\n",
    "for i in range(1 << 10):\n",
    "    a = arr[i]\n",
    "    ans += a * (a-1) // 2\n",
    "print(ans)"
   ]
  },
  {
   "cell_type": "code",
   "execution_count": 40,
   "id": "5f5d49e1-7eb7-409e-bb4f-a5c4abc9454e",
   "metadata": {},
   "outputs": [
    {
     "data": {
      "text/plain": [
       "[(0, 0, 0, 0, 0, 0, 0, 0, 0, 0),\n",
       " (1, 0, 0, 0, 0, 0, 0, 0, 0, 0),\n",
       " (1, 1, 0, 0, 0, 0, 0, 0, 0, 0),\n",
       " (1, 0, 0, 0, 0, 0, 0, 0, 0, 0),\n",
       " (1, 0, 1, 0, 0, 0, 0, 0, 0, 0),\n",
       " (1, 0, 0, 0, 0, 0, 0, 0, 0, 0),\n",
       " (1, 0, 1, 0, 0, 0, 0, 0, 0, 0),\n",
       " (1, 0, 1, 1, 0, 0, 0, 0, 0, 0),\n",
       " (1, 0, 1, 0, 0, 0, 0, 0, 0, 0),\n",
       " (1, 0, 1, 1, 0, 0, 0, 0, 0, 0),\n",
       " (1, 0, 1, 0, 0, 0, 0, 0, 0, 0),\n",
       " (1, 0, 1, 0, 1, 0, 0, 0, 0, 0),\n",
       " (1, 0, 1, 0, 0, 0, 0, 0, 0, 0),\n",
       " (1, 0, 1, 0, 1, 0, 0, 0, 0, 0),\n",
       " (1, 0, 1, 0, 0, 0, 0, 0, 0, 0),\n",
       " (1, 0, 1, 0, 1, 0, 0, 0, 0, 0),\n",
       " (1, 0, 1, 0, 1, 1, 0, 0, 0, 0),\n",
       " (1, 0, 1, 0, 1, 0, 0, 0, 0, 0),\n",
       " (1, 0, 1, 0, 1, 1, 0, 0, 0, 0),\n",
       " (1, 0, 1, 0, 1, 0, 0, 0, 0, 0),\n",
       " (1, 0, 1, 0, 1, 1, 0, 0, 0, 0),\n",
       " (1, 0, 1, 0, 1, 0, 0, 0, 0, 0),\n",
       " (1, 0, 1, 0, 1, 0, 1, 0, 0, 0),\n",
       " (1, 0, 1, 0, 1, 0, 0, 0, 0, 0),\n",
       " (1, 0, 1, 0, 1, 0, 1, 0, 0, 0),\n",
       " (1, 0, 1, 0, 1, 0, 0, 0, 0, 0),\n",
       " (1, 0, 1, 0, 1, 0, 1, 0, 0, 0),\n",
       " (1, 0, 1, 0, 1, 0, 0, 0, 0, 0),\n",
       " (1, 0, 1, 0, 1, 0, 1, 0, 0, 0),\n",
       " (1, 0, 1, 0, 1, 0, 1, 1, 0, 0),\n",
       " (1, 0, 1, 0, 1, 0, 1, 0, 0, 0),\n",
       " (1, 0, 1, 0, 1, 0, 1, 1, 0, 0),\n",
       " (1, 0, 1, 0, 1, 0, 1, 0, 0, 0),\n",
       " (1, 0, 1, 0, 1, 0, 1, 1, 0, 0),\n",
       " (1, 0, 1, 0, 1, 0, 1, 0, 0, 0),\n",
       " (1, 0, 1, 0, 1, 0, 1, 1, 0, 0),\n",
       " (1, 0, 1, 0, 1, 0, 1, 0, 0, 0),\n",
       " (1, 0, 1, 0, 1, 0, 1, 0, 1, 0),\n",
       " (1, 0, 1, 0, 1, 0, 1, 0, 0, 0),\n",
       " (1, 0, 1, 0, 1, 0, 1, 0, 1, 0),\n",
       " (1, 0, 1, 0, 1, 0, 1, 0, 0, 0),\n",
       " (1, 0, 1, 0, 1, 0, 1, 0, 1, 0),\n",
       " (1, 0, 1, 0, 1, 0, 1, 0, 0, 0),\n",
       " (1, 0, 1, 0, 1, 0, 1, 0, 1, 0),\n",
       " (1, 0, 1, 0, 1, 0, 1, 0, 0, 0),\n",
       " (1, 0, 1, 0, 1, 0, 1, 0, 1, 0),\n",
       " (1, 0, 1, 0, 1, 0, 1, 0, 1, 1),\n",
       " (1, 0, 1, 0, 1, 0, 1, 0, 1, 0),\n",
       " (1, 0, 1, 0, 1, 0, 1, 0, 1, 1),\n",
       " (1, 0, 1, 0, 1, 0, 1, 0, 1, 0),\n",
       " (1, 0, 1, 0, 1, 0, 1, 0, 1, 1),\n",
       " (1, 0, 1, 0, 1, 0, 1, 0, 1, 0),\n",
       " (1, 0, 1, 0, 1, 0, 1, 0, 1, 1),\n",
       " (1, 0, 1, 0, 1, 0, 1, 0, 1, 0),\n",
       " (1, 0, 1, 0, 1, 0, 1, 0, 1, 1),\n",
       " (1, 0, 1, 0, 1, 0, 1, 0, 1, 0)]"
      ]
     },
     "execution_count": 40,
     "metadata": {},
     "output_type": "execute_result"
    }
   ],
   "source": [
    "A"
   ]
  },
  {
   "cell_type": "code",
   "execution_count": null,
   "id": "3d121f67-3ab0-4fc4-b773-d1e7ec67bebf",
   "metadata": {},
   "outputs": [],
   "source": []
  }
 ],
 "metadata": {
  "kernelspec": {
   "display_name": "Python 3 (ipykernel)",
   "language": "python",
   "name": "python3"
  },
  "language_info": {
   "codemirror_mode": {
    "name": "ipython",
    "version": 3
   },
   "file_extension": ".py",
   "mimetype": "text/x-python",
   "name": "python",
   "nbconvert_exporter": "python",
   "pygments_lexer": "ipython3",
   "version": "3.9.12"
  }
 },
 "nbformat": 4,
 "nbformat_minor": 5
}
