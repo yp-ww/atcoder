{
 "cells": [
  {
   "cell_type": "code",
   "execution_count": 1,
   "id": "7b193764-28f0-4bcf-a1d0-8b2c42726909",
   "metadata": {},
   "outputs": [
    {
     "data": {
      "application/vnd.jupyter.widget-view+json": {
       "model_id": "f95ada21977b4f8a8689dc37ffc77542",
       "version_major": 2,
       "version_minor": 0
      },
      "text/plain": [
       "Textarea(value='')"
      ]
     },
     "metadata": {},
     "output_type": "display_data"
    }
   ],
   "source": [
    "# Ref: https://qiita.com/noca/items/00646efd9d4a7302f522\n",
    "from ipywidgets import Textarea\n",
    "import io\n",
    "if 'open' in globals():\n",
    "    del open\n",
    "if 'input' in globals():\n",
    "    del input\n",
    "original_open = open\n",
    "class custom_open():\n",
    "    def __init__(self):\n",
    "        self.text = ''\n",
    "    def __call__(self, file, *args, **kwargs):\n",
    "        if file == 0:\n",
    "            return io.StringIO(self.text)\n",
    "        return original_open(file, *args, **kwargs)\n",
    "    def updater(self, change):\n",
    "        self.text = change[\"new\"]\n",
    "class custom_input():\n",
    "    def __init__(self):\n",
    "        self.__sio = io.StringIO('')\n",
    "        self.shell = get_ipython()\n",
    "        if self.shell.events.callbacks['pre_run_cell'] != []:\n",
    "            self.shell.events.callbacks['pre_run_cell'] = []\n",
    "        self.shell.events.register('pre_run_cell', self.pre_run_cell)\n",
    "    def __call__(self):\n",
    "        return self.__sio.readline().strip()\n",
    "    def pre_run_cell(self, info):\n",
    "        text = self.shell.user_ns.get('text_area', None).value\n",
    "        self.__sio = io.StringIO(text)\n",
    "open = custom_open()\n",
    "input = custom_input()\n",
    "text_area = Textarea()\n",
    "text_area.observe(open.updater, names='value')\n",
    "display(text_area)"
   ]
  },
  {
   "cell_type": "code",
   "execution_count": 54,
   "id": "83ca9821-454e-4cd7-8d76-d82f96a21a12",
   "metadata": {},
   "outputs": [
    {
     "name": "stdout",
     "output_type": "stream",
     "text": [
      "0 100000\n"
     ]
    }
   ],
   "source": [
    "from collections import deque\n",
    "N, M = map(int, input().split())\n",
    "ABCD = [list(input().split()) for _ in range(M)]\n",
    "\n",
    "indeg = [0] * (2*N+2)\n",
    "G = [list() for _ in range(2*N+2)]\n",
    "def idx(n, color):\n",
    "    if color == \"R\":\n",
    "        return n * 2\n",
    "    else:\n",
    "        return n * 2 + 1\n",
    "\n",
    "for i in range(1, N+1):\n",
    "    indeg[idx(i, \"R\")] += 1\n",
    "    indeg[idx(i, \"B\")] += 1\n",
    "    G[idx(i, \"R\")].append(idx(i, \"B\"))\n",
    "    G[idx(i, \"B\")].append(idx(i, \"R\"))\n",
    "\n",
    "for a, b, c, d in ABCD:\n",
    "    a = int(a)\n",
    "    c = int(c)\n",
    "    G[idx(a, b)].append(idx(c, d))\n",
    "    G[idx(c, d)].append(idx(a, b))\n",
    "    indeg[idx(a, b)] += 1\n",
    "    indeg[idx(c, d)] += 1\n",
    "\n",
    "Y = 0\n",
    "v = [False] * (N+1)\n",
    "vv = [False] * (2*N+2)\n",
    "for i in range(2, 2*N+2):\n",
    "    if v[i//2]:\n",
    "        continue\n",
    "    if indeg[i] != 1:\n",
    "        continue\n",
    "    \n",
    "    s = i\n",
    "    q = deque()\n",
    "    q.append(s)\n",
    "    vv[s] = True\n",
    "    while q:\n",
    "        now = q.popleft()\n",
    "        for nex in G[now]:\n",
    "            if vv[nex]:\n",
    "                continue\n",
    "            vv[nex] = True\n",
    "            v[nex//2] = True\n",
    "            q.append(nex)\n",
    "    \n",
    "    Y += 1\n",
    "\n",
    "X = 0\n",
    "for i in range(2, 2*N+2):\n",
    "    if v[i//2]:\n",
    "        continue\n",
    "        \n",
    "    s = i\n",
    "    q = deque()\n",
    "    q.append(s)\n",
    "    vv[s] = True\n",
    "    while q:\n",
    "        now = q.popleft()\n",
    "        for nex in G[now]:\n",
    "            if vv[nex]:\n",
    "                continue\n",
    "            vv[nex] = True\n",
    "            v[nex//2] = True\n",
    "            q.append(nex)\n",
    "            \n",
    "    X += 1\n",
    "    \n",
    "print(X, Y)"
   ]
  },
  {
   "cell_type": "code",
   "execution_count": 31,
   "id": "2bb1d754-4a9b-41f5-8db1-a4ddc752353b",
   "metadata": {},
   "outputs": [
    {
     "data": {
      "text/plain": [
       "[(0, 'R'), (1, 'R'), (4, 'R'), (5, 'R'), (4, 'R'), (3, 'R')]"
      ]
     },
     "execution_count": 31,
     "metadata": {},
     "output_type": "execute_result"
    }
   ],
   "source": [
    "B"
   ]
  },
  {
   "cell_type": "code",
   "execution_count": 32,
   "id": "86e4d2e8-2e43-429a-b0ea-306a651cda8c",
   "metadata": {},
   "outputs": [
    {
     "data": {
      "text/plain": [
       "(2, 'B')"
      ]
     },
     "execution_count": 32,
     "metadata": {},
     "output_type": "execute_result"
    }
   ],
   "source": [
    "R[2]"
   ]
  },
  {
   "cell_type": "code",
   "execution_count": 33,
   "id": "b7de18b7-9f8e-499a-99ef-b689d6585a1c",
   "metadata": {},
   "outputs": [
    {
     "data": {
      "text/plain": [
       "(4, 'R')"
      ]
     },
     "execution_count": 33,
     "metadata": {},
     "output_type": "execute_result"
    }
   ],
   "source": [
    "B[2]"
   ]
  },
  {
   "cell_type": "code",
   "execution_count": null,
   "id": "1d0ddc41-3e70-4c89-88b9-ed338511ca28",
   "metadata": {},
   "outputs": [],
   "source": []
  }
 ],
 "metadata": {
  "kernelspec": {
   "display_name": "Python 3 (ipykernel)",
   "language": "python",
   "name": "python3"
  },
  "language_info": {
   "codemirror_mode": {
    "name": "ipython",
    "version": 3
   },
   "file_extension": ".py",
   "mimetype": "text/x-python",
   "name": "python",
   "nbconvert_exporter": "python",
   "pygments_lexer": "ipython3",
   "version": "3.9.12"
  }
 },
 "nbformat": 4,
 "nbformat_minor": 5
}
