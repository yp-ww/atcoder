{
 "cells": [
  {
   "cell_type": "code",
   "execution_count": 1,
   "id": "42d18f43-ca9b-4a6d-857f-c8ff74af0e4d",
   "metadata": {},
   "outputs": [
    {
     "data": {
      "application/vnd.jupyter.widget-view+json": {
       "model_id": "7f81f3559dca44e098414486f05847b7",
       "version_major": 2,
       "version_minor": 0
      },
      "text/plain": [
       "Textarea(value='')"
      ]
     },
     "metadata": {},
     "output_type": "display_data"
    }
   ],
   "source": [
    "# Ref: https://qiita.com/noca/items/00646efd9d4a7302f522\n",
    "from ipywidgets import Textarea\n",
    "import io\n",
    "if 'open' in globals():\n",
    "    del open\n",
    "if 'input' in globals():\n",
    "    del input\n",
    "original_open = open\n",
    "class custom_open():\n",
    "    def __init__(self):\n",
    "        self.text = ''\n",
    "    def __call__(self, file, *args, **kwargs):\n",
    "        if file == 0:\n",
    "            return io.StringIO(self.text)\n",
    "        return original_open(file, *args, **kwargs)\n",
    "    def updater(self, change):\n",
    "        self.text = change[\"new\"]\n",
    "class custom_input():\n",
    "    def __init__(self):\n",
    "        self.__sio = io.StringIO('')\n",
    "        self.shell = get_ipython()\n",
    "        if self.shell.events.callbacks['pre_run_cell'] != []:\n",
    "            self.shell.events.callbacks['pre_run_cell'] = []\n",
    "        self.shell.events.register('pre_run_cell', self.pre_run_cell)\n",
    "    def __call__(self):\n",
    "        return self.__sio.readline().strip()\n",
    "    def pre_run_cell(self, info):\n",
    "        text = self.shell.user_ns.get('text_area', None).value\n",
    "        self.__sio = io.StringIO(text)\n",
    "open = custom_open()\n",
    "input = custom_input()\n",
    "text_area = Textarea()\n",
    "text_area.observe(open.updater, names='value')\n",
    "display(text_area)"
   ]
  },
  {
   "cell_type": "code",
   "execution_count": 101,
   "id": "56c1cf68-b7b3-4260-9e04-2ba4c753668d",
   "metadata": {},
   "outputs": [
    {
     "name": "stdout",
     "output_type": "stream",
     "text": [
      "10\n"
     ]
    }
   ],
   "source": [
    "H, W = map(int, input().split())\n",
    "MOD = 10 ** 9 + 7\n",
    "S = [list(input()) for _ in range(H)]    \n",
    "\n",
    "X = [[0] * W for _ in range(H)]\n",
    "Y = [[0] * W for _ in range(H)]\n",
    "Z = [[0] * W for _ in range(H)]\n",
    "dp = [[0] * W for _ in range(H)]\n",
    "\n",
    "X[0][0] = 1\n",
    "Y[0][0] = 1\n",
    "Z[0][0] = 1\n",
    "\n",
    "for i in range(H):\n",
    "    for j in range(W):\n",
    "        if i == 0 and j == 0:\n",
    "            continue\n",
    "        if S[i][j] == \"#\":\n",
    "            X[i][j] = 0\n",
    "            Y[i][j] = 0\n",
    "            Z[i][j] = 0\n",
    "            continue\n",
    "        \n",
    "        if j-1 >= 0:\n",
    "            X[i][j] = X[i][j-1] + dp[i][j-1]\n",
    "        if i-1 >= 0:\n",
    "            Y[i][j] = Y[i-1][j] + dp[i-1][j]\n",
    "        if i-1 >= 0 and j-1 >= 0:\n",
    "            Z[i][j] = Z[i-1][j-1] + dp[i-1][j-1]\n",
    "        \n",
    "        dp[i][j] = X[i][j] + Y[i][j] + Z[i][j]\n",
    "        dp[i][j] %= MOD\n",
    "        \n",
    "print(dp[H-1][W-1])"
   ]
  },
  {
   "cell_type": "code",
   "execution_count": null,
   "id": "1aa60808-7702-4f7a-bfb3-76a556efb079",
   "metadata": {},
   "outputs": [],
   "source": []
  },
  {
   "cell_type": "code",
   "execution_count": 97,
   "id": "738a972e-7843-470a-a6ec-f4bd8c8faf57",
   "metadata": {},
   "outputs": [
    {
     "data": {
      "text/plain": [
       "[[0, 1, 2], [1, 0, 3], [2, 3, 10]]"
      ]
     },
     "execution_count": 97,
     "metadata": {},
     "output_type": "execute_result"
    }
   ],
   "source": [
    "dp"
   ]
  },
  {
   "cell_type": "code",
   "execution_count": 98,
   "id": "ceeaa98c-fde6-41c1-a092-f5aa02c0b786",
   "metadata": {},
   "outputs": [
    {
     "data": {
      "text/plain": [
       "[[1, 1, 2], [0, 0, 0], [0, 2, 5]]"
      ]
     },
     "execution_count": 98,
     "metadata": {},
     "output_type": "execute_result"
    }
   ],
   "source": [
    "X"
   ]
  },
  {
   "cell_type": "code",
   "execution_count": 99,
   "id": "2ab704fa-5749-4827-bb4c-bf539d339de7",
   "metadata": {},
   "outputs": [
    {
     "data": {
      "text/plain": [
       "[[1, 0, 0], [1, 0, 2], [2, 0, 5]]"
      ]
     },
     "execution_count": 99,
     "metadata": {},
     "output_type": "execute_result"
    }
   ],
   "source": [
    "Y"
   ]
  },
  {
   "cell_type": "code",
   "execution_count": null,
   "id": "781da092-3ff7-4c21-85f0-63aa59238f79",
   "metadata": {},
   "outputs": [],
   "source": []
  }
 ],
 "metadata": {
  "kernelspec": {
   "display_name": "Python 3 (ipykernel)",
   "language": "python",
   "name": "python3"
  },
  "language_info": {
   "codemirror_mode": {
    "name": "ipython",
    "version": 3
   },
   "file_extension": ".py",
   "mimetype": "text/x-python",
   "name": "python",
   "nbconvert_exporter": "python",
   "pygments_lexer": "ipython3",
   "version": "3.9.12"
  }
 },
 "nbformat": 4,
 "nbformat_minor": 5
}
