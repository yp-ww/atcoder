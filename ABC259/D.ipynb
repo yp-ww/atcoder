{
 "cells": [
  {
   "cell_type": "code",
   "execution_count": 1,
   "id": "a2e89175-5800-4531-a88c-8b060c0d11ba",
   "metadata": {},
   "outputs": [
    {
     "data": {
      "application/vnd.jupyter.widget-view+json": {
       "model_id": "af40fed1df054afd9e99d98433b954de",
       "version_major": 2,
       "version_minor": 0
      },
      "text/plain": [
       "Textarea(value='')"
      ]
     },
     "metadata": {},
     "output_type": "display_data"
    }
   ],
   "source": [
    "# Ref: https://qiita.com/noca/items/00646efd9d4a7302f522\n",
    "from ipywidgets import Textarea\n",
    "import io\n",
    "if 'open' in globals():\n",
    "    del open\n",
    "if 'input' in globals():\n",
    "    del input\n",
    "original_open = open\n",
    "class custom_open():\n",
    "    def __init__(self):\n",
    "        self.text = ''\n",
    "    def __call__(self, file, *args, **kwargs):\n",
    "        if file == 0:\n",
    "            return io.StringIO(self.text)\n",
    "        return original_open(file, *args, **kwargs)\n",
    "    def updater(self, change):\n",
    "        self.text = change[\"new\"]\n",
    "class custom_input():\n",
    "    def __init__(self):\n",
    "        self.__sio = io.StringIO('')\n",
    "        self.shell = get_ipython()\n",
    "        if self.shell.events.callbacks['pre_run_cell'] != []:\n",
    "            self.shell.events.callbacks['pre_run_cell'] = []\n",
    "        self.shell.events.register('pre_run_cell', self.pre_run_cell)\n",
    "    def __call__(self):\n",
    "        return self.__sio.readline().strip()\n",
    "    def pre_run_cell(self, info):\n",
    "        text = self.shell.user_ns.get('text_area', None).value\n",
    "        self.__sio = io.StringIO(text)\n",
    "open = custom_open()\n",
    "input = custom_input()\n",
    "text_area = Textarea()\n",
    "text_area.observe(open.updater, names='value')\n",
    "display(text_area)"
   ]
  },
  {
   "cell_type": "code",
   "execution_count": 44,
   "id": "fbd9779d-4292-4eb7-8333-67fb3bbd2260",
   "metadata": {},
   "outputs": [
    {
     "name": "stdout",
     "output_type": "stream",
     "text": [
      "Yes\n"
     ]
    }
   ],
   "source": [
    "# https://manabitimes.jp/math/745\n",
    "N = int(input())\n",
    "sx, sy, tx, ty = map(int, input().split())\n",
    "XYR = [list(map(int, input().split())) for _ in range(N)]\n",
    "\n",
    "par = [i for i in range(N)]\n",
    "size = [1] * N\n",
    "\n",
    "def root(x):\n",
    "    while par[x] != x:\n",
    "        x = par[x]\n",
    "    return x\n",
    "    \n",
    "def issame(x, y):\n",
    "    return root(x) == root(y)\n",
    "\n",
    "def unite(x, y):\n",
    "    x = root(x)\n",
    "    y = root(y)\n",
    "    if x == y:\n",
    "        return 0\n",
    "    if size[x] <= size[y]:\n",
    "        par[x] = y\n",
    "        size[y] += size[x]\n",
    "    else:\n",
    "        par[y] = x\n",
    "        size[x] += size[y]\n",
    "    \n",
    "\n",
    "def judge(x1, y1, r1, x2, y2, r2):\n",
    "    d2 = (x1 - x2)**2 + (y1 - y2)**2\n",
    "    if (r1 - r2)**2 <= d2 <= (r1 + r2)**2:\n",
    "        return True\n",
    "    else:\n",
    "        return False\n",
    "    \n",
    "s = -1\n",
    "t = -1\n",
    "for i in range(N):\n",
    "    x1, y1, r1 = XYR[i]\n",
    "    for j in range(i+1, N):\n",
    "        x2, y2, r2 = XYR[j]\n",
    "        if judge(x1, y1, r1, x2, y2, r2):\n",
    "            unite(i, j)\n",
    "\n",
    "    if judge(x1, y1, r1, sx, sy, 0):\n",
    "        s = i\n",
    "    \n",
    "    if judge(x1, y1, r1, tx, ty, 0):\n",
    "        t = i\n",
    "        \n",
    "\n",
    "if s == -1 or t == -1:\n",
    "    print(\"No\")\n",
    "else:\n",
    "    if issame(s, t):\n",
    "        print(\"Yes\")\n",
    "    else:\n",
    "        print(\"No\")"
   ]
  },
  {
   "cell_type": "code",
   "execution_count": null,
   "id": "e763edf5-c627-4dec-9ccf-3d5a53224886",
   "metadata": {},
   "outputs": [],
   "source": []
  },
  {
   "cell_type": "code",
   "execution_count": null,
   "id": "5de7aad2-becd-4123-88b5-5d5a6b8e2d3a",
   "metadata": {},
   "outputs": [],
   "source": []
  },
  {
   "cell_type": "code",
   "execution_count": null,
   "id": "08db8e93-8a8a-4085-9972-ef55864a09b5",
   "metadata": {},
   "outputs": [],
   "source": []
  }
 ],
 "metadata": {
  "kernelspec": {
   "display_name": "Python 3 (ipykernel)",
   "language": "python",
   "name": "python3"
  },
  "language_info": {
   "codemirror_mode": {
    "name": "ipython",
    "version": 3
   },
   "file_extension": ".py",
   "mimetype": "text/x-python",
   "name": "python",
   "nbconvert_exporter": "python",
   "pygments_lexer": "ipython3",
   "version": "3.9.12"
  }
 },
 "nbformat": 4,
 "nbformat_minor": 5
}
