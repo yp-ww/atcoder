{
 "cells": [
  {
   "cell_type": "code",
   "execution_count": 1,
   "id": "929b2ea3-b857-45c9-a1d1-b11c59b3c68d",
   "metadata": {},
   "outputs": [
    {
     "data": {
      "application/vnd.jupyter.widget-view+json": {
       "model_id": "ddb105202d194880979204e1c2ea43f2",
       "version_major": 2,
       "version_minor": 0
      },
      "text/plain": [
       "Textarea(value='')"
      ]
     },
     "metadata": {},
     "output_type": "display_data"
    }
   ],
   "source": [
    "# Ref: https://qiita.com/noca/items/00646efd9d4a7302f522\n",
    "from ipywidgets import Textarea\n",
    "import io\n",
    "if 'open' in globals():\n",
    "    del open\n",
    "if 'input' in globals():\n",
    "    del input\n",
    "original_open = open\n",
    "class custom_open():\n",
    "    def __init__(self):\n",
    "        self.text = ''\n",
    "    def __call__(self, file, *args, **kwargs):\n",
    "        if file == 0:\n",
    "            return io.StringIO(self.text)\n",
    "        return original_open(file, *args, **kwargs)\n",
    "    def updater(self, change):\n",
    "        self.text = change[\"new\"]\n",
    "class custom_input():\n",
    "    def __init__(self):\n",
    "        self.__sio = io.StringIO('')\n",
    "        self.shell = get_ipython()\n",
    "        if self.shell.events.callbacks['pre_run_cell'] != []:\n",
    "            self.shell.events.callbacks['pre_run_cell'] = []\n",
    "        self.shell.events.register('pre_run_cell', self.pre_run_cell)\n",
    "    def __call__(self):\n",
    "        return self.__sio.readline().strip()\n",
    "    def pre_run_cell(self, info):\n",
    "        text = self.shell.user_ns.get('text_area', None).value\n",
    "        self.__sio = io.StringIO(text)\n",
    "open = custom_open()\n",
    "input = custom_input()\n",
    "text_area = Textarea()\n",
    "text_area.observe(open.updater, names='value')\n",
    "display(text_area)"
   ]
  },
  {
   "cell_type": "code",
   "execution_count": 7,
   "id": "4d6c13c2-edc5-43d5-b5c0-1e69193a85ec",
   "metadata": {},
   "outputs": [],
   "source": [
    "import sys\n",
    "S = list(input()) + [\"?\"]\n",
    "T = list(input()) + [\"?\"]\n",
    "\n",
    "cnt = 1\n",
    "s = []\n",
    "now = S[0]\n",
    "for i in range(1, len(S)):\n",
    "    if S[i] == now:\n",
    "        cnt += 1\n",
    "    else:\n",
    "        s.append((now, cnt))\n",
    "        now = S[i]\n",
    "        cnt = 1\n",
    "        \n",
    "cnt = 1\n",
    "t = []\n",
    "now = T[0]\n",
    "for i in range(1, len(T)):\n",
    "    if T[i] == now:\n",
    "        cnt += 1\n",
    "    else:\n",
    "        t.append((now, cnt))\n",
    "        now = T[i]\n",
    "        cnt = 1\n",
    "    \n",
    "if len(s) != len(t):\n",
    "    print(\"No\")\n",
    "    sys.exit(0)\n",
    "    \n",
    "flag = True\n",
    "for i in range(len(t)):\n",
    "    s_str, s_cnt = s[i][0], s[i][1]\n",
    "    t_str, t_cnt = t[i][0], t[i][1]\n",
    "    \n",
    "    if s_str != t_str:\n",
    "        flag = False\n",
    "        break\n",
    "    \n",
    "    if s_cnt == 1 and t_cnt > 1:\n",
    "        flag = False\n",
    "        break\n",
    "    \n",
    "    if s_cnt > t_cnt:\n",
    "        flag = False\n",
    "        break\n",
    "        \n",
    "if flag:\n",
    "    print(\"Yes\")\n",
    "else:\n",
    "    print(\"No\")\n",
    "        \n",
    "    "
   ]
  },
  {
   "cell_type": "code",
   "execution_count": 8,
   "id": "acbf6c3c-223e-4f38-895c-87597b217b37",
   "metadata": {},
   "outputs": [
    {
     "data": {
      "text/plain": [
       "[('a', 1), ('b', 2), ('a', 2), ('c', 1)]"
      ]
     },
     "execution_count": 8,
     "metadata": {},
     "output_type": "execute_result"
    }
   ],
   "source": [
    "s"
   ]
  },
  {
   "cell_type": "code",
   "execution_count": 9,
   "id": "0df87ccd-0a9a-4400-9c94-70e54d69db69",
   "metadata": {},
   "outputs": [
    {
     "data": {
      "text/plain": [
       "[('a', 1), ('b', 4), ('a', 3), ('c', 1)]"
      ]
     },
     "execution_count": 9,
     "metadata": {},
     "output_type": "execute_result"
    }
   ],
   "source": [
    "t"
   ]
  },
  {
   "cell_type": "code",
   "execution_count": null,
   "id": "9ead4bc7-a6f2-45f1-8b92-c9f7cf64538d",
   "metadata": {},
   "outputs": [],
   "source": []
  }
 ],
 "metadata": {
  "kernelspec": {
   "display_name": "Python 3 (ipykernel)",
   "language": "python",
   "name": "python3"
  },
  "language_info": {
   "codemirror_mode": {
    "name": "ipython",
    "version": 3
   },
   "file_extension": ".py",
   "mimetype": "text/x-python",
   "name": "python",
   "nbconvert_exporter": "python",
   "pygments_lexer": "ipython3",
   "version": "3.9.12"
  }
 },
 "nbformat": 4,
 "nbformat_minor": 5
}
