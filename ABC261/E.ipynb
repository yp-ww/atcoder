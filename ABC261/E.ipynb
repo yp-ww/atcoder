{
 "cells": [
  {
   "cell_type": "code",
   "execution_count": 1,
   "id": "08f4551d-44b2-4141-b36f-dda353a5eb96",
   "metadata": {},
   "outputs": [
    {
     "data": {
      "application/vnd.jupyter.widget-view+json": {
       "model_id": "11238a916e5e41d2b2cb668e314dd643",
       "version_major": 2,
       "version_minor": 0
      },
      "text/plain": [
       "Textarea(value='')"
      ]
     },
     "metadata": {},
     "output_type": "display_data"
    }
   ],
   "source": [
    "# Ref: https://qiita.com/noca/items/00646efd9d4a7302f522\n",
    "from ipywidgets import Textarea\n",
    "import io\n",
    "if 'open' in globals():\n",
    "    del open\n",
    "if 'input' in globals():\n",
    "    del input\n",
    "original_open = open\n",
    "class custom_open():\n",
    "    def __init__(self):\n",
    "        self.text = ''\n",
    "    def __call__(self, file, *args, **kwargs):\n",
    "        if file == 0:\n",
    "            return io.StringIO(self.text)\n",
    "        return original_open(file, *args, **kwargs)\n",
    "    def updater(self, change):\n",
    "        self.text = change[\"new\"]\n",
    "class custom_input():\n",
    "    def __init__(self):\n",
    "        self.__sio = io.StringIO('')\n",
    "        self.shell = get_ipython()\n",
    "        if self.shell.events.callbacks['pre_run_cell'] != []:\n",
    "            self.shell.events.callbacks['pre_run_cell'] = []\n",
    "        self.shell.events.register('pre_run_cell', self.pre_run_cell)\n",
    "    def __call__(self):\n",
    "        return self.__sio.readline().strip()\n",
    "    def pre_run_cell(self, info):\n",
    "        text = self.shell.user_ns.get('text_area', None).value\n",
    "        self.__sio = io.StringIO(text)\n",
    "open = custom_open()\n",
    "input = custom_input()\n",
    "text_area = Textarea()\n",
    "text_area.observe(open.updater, names='value')\n",
    "display(text_area)"
   ]
  },
  {
   "cell_type": "code",
   "execution_count": 32,
   "id": "0ce2a566-60f6-4f79-b50d-17182bae7f43",
   "metadata": {},
   "outputs": [
    {
     "name": "stdout",
     "output_type": "stream",
     "text": [
      "0\n",
      "2\n",
      "1\n",
      "0\n",
      "5\n",
      "3\n",
      "3\n",
      "11\n",
      "2\n"
     ]
    }
   ],
   "source": [
    "N, C = map(int, input().split())\n",
    "\n",
    "MAX = 31\n",
    "dp0 = [[0] * MAX for _ in range(N+1)]\n",
    "dp1 = [[1] * MAX for _ in range(N+1)]\n",
    "\n",
    "\n",
    "for i in range(N):\n",
    "    t, a = map(int, input().split())\n",
    "\n",
    "    for j in range(MAX):\n",
    "        bit = 1 if (1<<j) & a else 0\n",
    "        if t == 1:\n",
    "            dp0[i+1][j] = dp0[i][j] & bit\n",
    "            dp1[i+1][j] = dp1[i][j] & bit\n",
    "\n",
    "        elif t == 2:\n",
    "            dp0[i+1][j] = dp0[i][j] | bit\n",
    "            dp1[i+1][j] = dp1[i][j] | bit\n",
    "            \n",
    "        elif t == 3:\n",
    "            dp0[i+1][j] = dp0[i][j] ^ bit\n",
    "            dp1[i+1][j] = dp1[i][j] ^ bit            \n",
    "    \n",
    "    temp = 0\n",
    "    for j in range(MAX):\n",
    "        bit = 1 if (1<<j) & C else 0\n",
    "        if bit:\n",
    "            temp += (1 << j) * dp1[i+1][j]\n",
    "        else:\n",
    "            temp += (1 << j) * dp0[i+1][j]\n",
    "    \n",
    "    C = temp\n",
    "    print(C)"
   ]
  },
  {
   "cell_type": "code",
   "execution_count": null,
   "id": "f191dd0b-82dc-49c0-9a03-b454932a2f88",
   "metadata": {},
   "outputs": [],
   "source": []
  }
 ],
 "metadata": {
  "kernelspec": {
   "display_name": "Python 3 (ipykernel)",
   "language": "python",
   "name": "python3"
  },
  "language_info": {
   "codemirror_mode": {
    "name": "ipython",
    "version": 3
   },
   "file_extension": ".py",
   "mimetype": "text/x-python",
   "name": "python",
   "nbconvert_exporter": "python",
   "pygments_lexer": "ipython3",
   "version": "3.9.12"
  }
 },
 "nbformat": 4,
 "nbformat_minor": 5
}
