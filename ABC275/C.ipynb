{
 "cells": [
  {
   "cell_type": "code",
   "execution_count": 1,
   "id": "4b058047-430c-4834-8f29-15acc2bcd08b",
   "metadata": {},
   "outputs": [
    {
     "data": {
      "application/vnd.jupyter.widget-view+json": {
       "model_id": "11892000774547a88292e90dfd157c90",
       "version_major": 2,
       "version_minor": 0
      },
      "text/plain": [
       "Textarea(value='')"
      ]
     },
     "metadata": {},
     "output_type": "display_data"
    }
   ],
   "source": [
    "# Ref: https://qiita.com/noca/items/00646efd9d4a7302f522\n",
    "from ipywidgets import Textarea\n",
    "import io\n",
    "if 'open' in globals():\n",
    "    del open\n",
    "if 'input' in globals():\n",
    "    del input\n",
    "original_open = open\n",
    "class custom_open():\n",
    "    def __init__(self):\n",
    "        self.text = ''\n",
    "    def __call__(self, file, *args, **kwargs):\n",
    "        if file == 0:\n",
    "            return io.StringIO(self.text)\n",
    "        return original_open(file, *args, **kwargs)\n",
    "    def updater(self, change):\n",
    "        self.text = change[\"new\"]\n",
    "class custom_input():\n",
    "    def __init__(self):\n",
    "        self.__sio = io.StringIO('')\n",
    "        self.shell = get_ipython()\n",
    "        if self.shell.events.callbacks['pre_run_cell'] != []:\n",
    "            self.shell.events.callbacks['pre_run_cell'] = []\n",
    "        self.shell.events.register('pre_run_cell', self.pre_run_cell)\n",
    "    def __call__(self):\n",
    "        return self.__sio.readline().strip()\n",
    "    def pre_run_cell(self, info):\n",
    "        text = self.shell.user_ns.get('text_area', None).value\n",
    "        self.__sio = io.StringIO(text)\n",
    "open = custom_open()\n",
    "input = custom_input()\n",
    "text_area = Textarea()\n",
    "text_area.observe(open.updater, names='value')\n",
    "display(text_area)"
   ]
  },
  {
   "cell_type": "code",
   "execution_count": 59,
   "id": "615fd580-4475-4619-8699-29ad8f2127ea",
   "metadata": {
    "tags": []
   },
   "outputs": [
    {
     "name": "stdout",
     "output_type": "stream",
     "text": [
      "540\n"
     ]
    }
   ],
   "source": [
    "S = [list(input()) for _ in range(9)]\n",
    "\n",
    "cnt = 0\n",
    "for a in range(81):\n",
    "    ax, ay = a//9, a%9\n",
    "    if S[ax][ay] != \"#\":\n",
    "        continue\n",
    "    for b in range(a+1, 81):\n",
    "        bx, by = b//9, b%9\n",
    "        if S[bx][by] != \"#\":\n",
    "            continue\n",
    "        for c in range(b+1, 81):\n",
    "            cx, cy = c//9, c%9\n",
    "            if S[cx][cy] != \"#\":\n",
    "                continue\n",
    "            for d in range(c+1, 81):\n",
    "                dx, dy = d//9, d%9\n",
    "                if S[dx][dy] != \"#\":\n",
    "                    continue\n",
    "                abx = abs(ax - bx)\n",
    "                aby = abs(ay - by)\n",
    "                bdx = abs(bx - dx)\n",
    "                bdy = abs(by - dy)            \n",
    "                cdx = abs(cx - dx)\n",
    "                cdy = abs(cy - dy)\n",
    "                acx = abs(ax - cx)\n",
    "                acy = abs(ay - cy)\n",
    "                ad = (ax - dx)**2 + (ay - dy)**2\n",
    "                bc = (bx - cx)**2 + (by - cy)**2\n",
    "                if abx == bdy == cdx == acy and aby == bdx == cdy == acx and ad == bc:\n",
    "                    # print(a,b,c,d)\n",
    "                    cnt += 1\n",
    "print(cnt)"
   ]
  },
  {
   "cell_type": "code",
   "execution_count": 60,
   "id": "d6a02384-e902-403d-b159-6e4b49fa1663",
   "metadata": {},
   "outputs": [
    {
     "data": {
      "text/plain": [
       "[['#', '#', '#', '#', '#', '#', '#', '#', '#'],\n",
       " ['#', '#', '#', '#', '#', '#', '#', '#', '#'],\n",
       " ['#', '#', '#', '#', '#', '#', '#', '#', '#'],\n",
       " ['#', '#', '#', '#', '#', '#', '#', '#', '#'],\n",
       " ['#', '#', '#', '#', '#', '#', '#', '#', '#'],\n",
       " ['#', '#', '#', '#', '#', '#', '#', '#', '#'],\n",
       " ['#', '#', '#', '#', '#', '#', '#', '#', '#'],\n",
       " ['#', '#', '#', '#', '#', '#', '#', '#', '#'],\n",
       " ['#', '#', '#', '#', '#', '#', '#', '#', '#']]"
      ]
     },
     "execution_count": 60,
     "metadata": {},
     "output_type": "execute_result"
    }
   ],
   "source": [
    "S"
   ]
  },
  {
   "cell_type": "code",
   "execution_count": 61,
   "id": "d0acda6f-be3d-4287-a7ba-8c33e3f7bd46",
   "metadata": {},
   "outputs": [
    {
     "data": {
      "text/plain": [
       "6561"
      ]
     },
     "execution_count": 61,
     "metadata": {},
     "output_type": "execute_result"
    }
   ],
   "source": [
    "9**4"
   ]
  },
  {
   "cell_type": "code",
   "execution_count": null,
   "id": "6394cffa-d694-49b5-9ca2-bb00a90af1f5",
   "metadata": {},
   "outputs": [],
   "source": []
  }
 ],
 "metadata": {
  "kernelspec": {
   "display_name": "Python 3 (ipykernel)",
   "language": "python",
   "name": "python3"
  },
  "language_info": {
   "codemirror_mode": {
    "name": "ipython",
    "version": 3
   },
   "file_extension": ".py",
   "mimetype": "text/x-python",
   "name": "python",
   "nbconvert_exporter": "python",
   "pygments_lexer": "ipython3",
   "version": "3.9.12"
  }
 },
 "nbformat": 4,
 "nbformat_minor": 5
}
