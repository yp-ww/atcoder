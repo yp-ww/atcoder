{
 "cells": [
  {
   "cell_type": "code",
   "execution_count": 1,
   "id": "952735b7-731c-4a0b-a122-eee79b84f881",
   "metadata": {},
   "outputs": [
    {
     "data": {
      "application/vnd.jupyter.widget-view+json": {
       "model_id": "a9817c3fdfd24f6486c20effa927eea6",
       "version_major": 2,
       "version_minor": 0
      },
      "text/plain": [
       "Textarea(value='')"
      ]
     },
     "metadata": {},
     "output_type": "display_data"
    }
   ],
   "source": [
    "# Ref: https://qiita.com/noca/items/00646efd9d4a7302f522\n",
    "from ipywidgets import Textarea\n",
    "import io\n",
    "if 'open' in globals():\n",
    "    del open\n",
    "if 'input' in globals():\n",
    "    del input\n",
    "original_open = open\n",
    "class custom_open():\n",
    "    def __init__(self):\n",
    "        self.text = ''\n",
    "    def __call__(self, file, *args, **kwargs):\n",
    "        if file == 0:\n",
    "            return io.StringIO(self.text)\n",
    "        return original_open(file, *args, **kwargs)\n",
    "    def updater(self, change):\n",
    "        self.text = change[\"new\"]\n",
    "class custom_input():\n",
    "    def __init__(self):\n",
    "        self.__sio = io.StringIO('')\n",
    "        self.shell = get_ipython()\n",
    "        if self.shell.events.callbacks['pre_run_cell'] != []:\n",
    "            self.shell.events.callbacks['pre_run_cell'] = []\n",
    "        self.shell.events.register('pre_run_cell', self.pre_run_cell)\n",
    "    def __call__(self):\n",
    "        return self.__sio.readline().strip()\n",
    "    def pre_run_cell(self, info):\n",
    "        text = self.shell.user_ns.get('text_area', None).value\n",
    "        self.__sio = io.StringIO(text)\n",
    "open = custom_open()\n",
    "input = custom_input()\n",
    "text_area = Textarea()\n",
    "text_area.observe(open.updater, names='value')\n",
    "display(text_area)"
   ]
  },
  {
   "cell_type": "code",
   "execution_count": 36,
   "id": "03b36807-52a1-445d-a1f4-f6fc6fbd56b2",
   "metadata": {},
   "outputs": [
    {
     "name": "stdout",
     "output_type": "stream",
     "text": [
      "0\n",
      "2\n",
      "1\n",
      "3\n",
      "0\n",
      "3\n",
      "1\n",
      "4\n",
      "2\n"
     ]
    }
   ],
   "source": [
    "import math\n",
    "T = int(input())\n",
    "\n",
    "for _ in range(T):\n",
    "    N, D, K = map(int, input().split())\n",
    "    # N, D, K = 10, 3, 6\n",
    "    K -= 1\n",
    "    A = 0\n",
    "    B = N * D // math.gcd(N, D)\n",
    "    C = B // D\n",
    "    x = K // C\n",
    "    y = K % C\n",
    "    z = (x + D * y) % N\n",
    "    print(z) "
   ]
  },
  {
   "cell_type": "code",
   "execution_count": null,
   "id": "ecdc0ee9-a3ec-4339-8b96-6764874e54d1",
   "metadata": {},
   "outputs": [],
   "source": [
    "0, 3, 6, 9, 2, 5, 8, 1, 4, 7, 0\n",
    "\n",
    "3 10 30"
   ]
  }
 ],
 "metadata": {
  "kernelspec": {
   "display_name": "Python 3 (ipykernel)",
   "language": "python",
   "name": "python3"
  },
  "language_info": {
   "codemirror_mode": {
    "name": "ipython",
    "version": 3
   },
   "file_extension": ".py",
   "mimetype": "text/x-python",
   "name": "python",
   "nbconvert_exporter": "python",
   "pygments_lexer": "ipython3",
   "version": "3.9.12"
  }
 },
 "nbformat": 4,
 "nbformat_minor": 5
}
