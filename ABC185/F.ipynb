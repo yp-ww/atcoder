{
 "cells": [
  {
   "cell_type": "code",
   "execution_count": 1,
   "id": "8decb1f2-c876-47c2-b2c8-f7c82f7218af",
   "metadata": {},
   "outputs": [
    {
     "data": {
      "application/vnd.jupyter.widget-view+json": {
       "model_id": "2a9a01b0157242de8dfc1ac14fc7dec9",
       "version_major": 2,
       "version_minor": 0
      },
      "text/plain": [
       "Textarea(value='')"
      ]
     },
     "metadata": {},
     "output_type": "display_data"
    }
   ],
   "source": [
    "# Ref: https://qiita.com/noca/items/00646efd9d4a7302f522\n",
    "from ipywidgets import Textarea\n",
    "import io\n",
    "if 'open' in globals():\n",
    "    del open\n",
    "if 'input' in globals():\n",
    "    del input\n",
    "original_open = open\n",
    "class custom_open():\n",
    "    def __init__(self):\n",
    "        self.text = ''\n",
    "    def __call__(self, file, *args, **kwargs):\n",
    "        if file == 0:\n",
    "            return io.StringIO(self.text)\n",
    "        return original_open(file, *args, **kwargs)\n",
    "    def updater(self, change):\n",
    "        self.text = change[\"new\"]\n",
    "class custom_input():\n",
    "    def __init__(self):\n",
    "        self.__sio = io.StringIO('')\n",
    "        self.shell = get_ipython()\n",
    "        if self.shell.events.callbacks['pre_run_cell'] != []:\n",
    "            self.shell.events.callbacks['pre_run_cell'] = []\n",
    "        self.shell.events.register('pre_run_cell', self.pre_run_cell)\n",
    "    def __call__(self):\n",
    "        return self.__sio.readline().strip()\n",
    "    def pre_run_cell(self, info):\n",
    "        text = self.shell.user_ns.get('text_area', None).value\n",
    "        self.__sio = io.StringIO(text)\n",
    "open = custom_open()\n",
    "input = custom_input()\n",
    "text_area = Textarea()\n",
    "text_area.observe(open.updater, names='value')\n",
    "display(text_area)"
   ]
  },
  {
   "cell_type": "code",
   "execution_count": 46,
   "id": "9f86c7ad-e977-457b-b89d-8203f25af4b5",
   "metadata": {},
   "outputs": [
    {
     "name": "stdout",
     "output_type": "stream",
     "text": [
      "1\n",
      "0\n",
      "5\n",
      "3\n",
      "0\n"
     ]
    }
   ],
   "source": [
    "import sys\n",
    "sys.setrecursionlimit(10 ** 6)\n",
    "\n",
    "N, Q = map(int, input().split())\n",
    "A = list(map(int, input().split()))\n",
    "\n",
    "siz = 1\n",
    "while siz < N:\n",
    "    siz *= 2\n",
    "\n",
    "#b 1-index\n",
    "node = [False] * 2 * siz\n",
    "\n",
    "def update(pos, x):\n",
    "    pos += siz\n",
    "    node[pos] ^= x\n",
    "    \n",
    "    while pos >= 2:\n",
    "        pos //= 2\n",
    "        node[pos] = node[pos*2] ^ node[pos*2+1]\n",
    "\n",
    "# u：セル番号\n",
    "# [a, b)：セルに対応する区間\n",
    "# [l, r)：求めたい区間の結果\n",
    "def query(l, r, a=0, b=siz, u=1):\n",
    "    if r <= a or b <= l:\n",
    "        return False\n",
    "    \n",
    "    if l <= a and b <= r:\n",
    "        return node[u]\n",
    "    \n",
    "    mid = (a + b) // 2\n",
    "    vl = query(l, r, a, mid, u * 2)\n",
    "    vr = query(l, r, mid, b, u * 2 + 1)\n",
    "    return vl ^ vr\n",
    "\n",
    "for i in range(N):\n",
    "    update(i, A[i])\n",
    "\n",
    "for _ in range(Q):\n",
    "    t, x, y = map(int, input().split())\n",
    "    if t == 1:\n",
    "        x -= 1\n",
    "        update(x, y)\n",
    "    \n",
    "    if t == 2:\n",
    "        x -= 1\n",
    "        ans = query(x, y)\n",
    "        print(ans)"
   ]
  },
  {
   "cell_type": "code",
   "execution_count": 47,
   "id": "9660989e-c182-4704-96c5-3cd017816778",
   "metadata": {},
   "outputs": [
    {
     "data": {
      "text/plain": [
       "[False,\n",
       " 2,\n",
       " 0,\n",
       " 2,\n",
       " 5,\n",
       " 5,\n",
       " 2,\n",
       " False,\n",
       " 2,\n",
       " 7,\n",
       " 5,\n",
       " 0,\n",
       " 2,\n",
       " False,\n",
       " False,\n",
       " False,\n",
       " 7,\n",
       " 5,\n",
       " 3,\n",
       " 4,\n",
       " 7,\n",
       " 2,\n",
       " 0,\n",
       " 0,\n",
       " 5,\n",
       " 7,\n",
       " False,\n",
       " False,\n",
       " False,\n",
       " False,\n",
       " False,\n",
       " False]"
      ]
     },
     "execution_count": 47,
     "metadata": {},
     "output_type": "execute_result"
    }
   ],
   "source": [
    "node"
   ]
  },
  {
   "cell_type": "code",
   "execution_count": 48,
   "id": "9992e076-b3b6-4155-ac13-44c5afbd9cdf",
   "metadata": {},
   "outputs": [
    {
     "data": {
      "text/plain": [
       "16"
      ]
     },
     "execution_count": 48,
     "metadata": {},
     "output_type": "execute_result"
    }
   ],
   "source": [
    "siz"
   ]
  },
  {
   "cell_type": "code",
   "execution_count": null,
   "id": "849d5a2e-b9f5-47a5-ba6d-213a0288535a",
   "metadata": {},
   "outputs": [],
   "source": []
  }
 ],
 "metadata": {
  "kernelspec": {
   "display_name": "Python 3 (ipykernel)",
   "language": "python",
   "name": "python3"
  },
  "language_info": {
   "codemirror_mode": {
    "name": "ipython",
    "version": 3
   },
   "file_extension": ".py",
   "mimetype": "text/x-python",
   "name": "python",
   "nbconvert_exporter": "python",
   "pygments_lexer": "ipython3",
   "version": "3.9.12"
  }
 },
 "nbformat": 4,
 "nbformat_minor": 5
}
