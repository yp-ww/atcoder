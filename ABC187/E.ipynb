{
 "cells": [
  {
   "cell_type": "code",
   "execution_count": 1,
   "id": "e827cbe2-f5a1-4dc8-aaad-d8c60105bdf0",
   "metadata": {},
   "outputs": [
    {
     "data": {
      "application/vnd.jupyter.widget-view+json": {
       "model_id": "9032896b6a864e0ba76494725e047634",
       "version_major": 2,
       "version_minor": 0
      },
      "text/plain": [
       "Textarea(value='')"
      ]
     },
     "metadata": {},
     "output_type": "display_data"
    }
   ],
   "source": [
    "# Ref: https://qiita.com/noca/items/00646efd9d4a7302f522\n",
    "from ipywidgets import Textarea\n",
    "import io\n",
    "if 'open' in globals():\n",
    "    del open\n",
    "if 'input' in globals():\n",
    "    del input\n",
    "original_open = open\n",
    "class custom_open():\n",
    "    def __init__(self):\n",
    "        self.text = ''\n",
    "    def __call__(self, file, *args, **kwargs):\n",
    "        if file == 0:\n",
    "            return io.StringIO(self.text)\n",
    "        return original_open(file, *args, **kwargs)\n",
    "    def updater(self, change):\n",
    "        self.text = change[\"new\"]\n",
    "class custom_input():\n",
    "    def __init__(self):\n",
    "        self.__sio = io.StringIO('')\n",
    "        self.shell = get_ipython()\n",
    "        if self.shell.events.callbacks['pre_run_cell'] != []:\n",
    "            self.shell.events.callbacks['pre_run_cell'] = []\n",
    "        self.shell.events.register('pre_run_cell', self.pre_run_cell)\n",
    "    def __call__(self):\n",
    "        return self.__sio.readline().strip()\n",
    "    def pre_run_cell(self, info):\n",
    "        text = self.shell.user_ns.get('text_area', None).value\n",
    "        self.__sio = io.StringIO(text)\n",
    "open = custom_open()\n",
    "input = custom_input()\n",
    "text_area = Textarea()\n",
    "text_area.observe(open.updater, names='value')\n",
    "display(text_area)"
   ]
  },
  {
   "cell_type": "code",
   "execution_count": 93,
   "id": "2a66a33b-2861-4c4b-8e57-24afbf873558",
   "metadata": {},
   "outputs": [
    {
     "name": "stdout",
     "output_type": "stream",
     "text": [
      "11\n",
      "110\n",
      "1110\n",
      "110\n",
      "100\n"
     ]
    }
   ],
   "source": [
    "N = int(input())\n",
    "G = [list() for _ in range(N+1)]\n",
    "E = []\n",
    "for _ in range(N-1):\n",
    "    a, b = map(int, input().split())\n",
    "    G[a].append(b)\n",
    "    G[b].append(a)\n",
    "    E.append((a, b))\n",
    "    \n",
    "S = [0] * (N+1)\n",
    "depth = [-1] * (N+1)\n",
    "depth[1] = 0\n",
    "q = [1]\n",
    "while q:\n",
    "    now = q.pop()\n",
    "    for nex in G[now]:\n",
    "        if depth[nex] != -1:\n",
    "            continue\n",
    "        depth[nex] = depth[now] + 1\n",
    "        q.append(nex)\n",
    "\n",
    "Q = int(input())\n",
    "for _ in range(Q):\n",
    "    t, e, x = map(int, input().split())\n",
    "    a, b = E[e-1]\n",
    "    \n",
    "    if t == 1:\n",
    "        if depth[a] < depth[b]:\n",
    "            S[1] += x\n",
    "            S[b] -= x\n",
    "        else:\n",
    "            S[a] += x\n",
    "\n",
    "    else:\n",
    "        if depth[b] < depth[a]:\n",
    "            S[1] += x\n",
    "            S[a] -= x\n",
    "        else:\n",
    "            S[b] += x\n",
    "    \n",
    "    # print(ans, S)\n",
    "    \n",
    "ans = [-1] * (N+1)\n",
    "ans[1] = S[1]\n",
    "q = [1]\n",
    "while q:\n",
    "    now = q.pop()\n",
    "    for nex in G[now]:\n",
    "        if ans[nex] != -1:\n",
    "            continue\n",
    "        ans[nex] = ans[now] + S[nex]\n",
    "        q.append(nex)\n",
    "\n",
    "for i in range(1, N+1):\n",
    "    print(ans[i])\n"
   ]
  },
  {
   "cell_type": "code",
   "execution_count": 90,
   "id": "fe7a41f2-cbab-4666-a96c-7886e736166d",
   "metadata": {},
   "outputs": [
    {
     "data": {
      "text/plain": [
       "[1, 2, 2, 4]"
      ]
     },
     "execution_count": 90,
     "metadata": {},
     "output_type": "execute_result"
    }
   ],
   "source": [
    "A"
   ]
  },
  {
   "cell_type": "code",
   "execution_count": 88,
   "id": "34a11e50-0493-498c-9775-69cb2cd441d1",
   "metadata": {},
   "outputs": [
    {
     "data": {
      "text/plain": [
       "[2, 3, 4, 5]"
      ]
     },
     "execution_count": 88,
     "metadata": {},
     "output_type": "execute_result"
    }
   ],
   "source": [
    "B"
   ]
  },
  {
   "cell_type": "code",
   "execution_count": 83,
   "id": "4efa203d-c536-463c-8649-af4ecac25558",
   "metadata": {},
   "outputs": [
    {
     "data": {
      "text/plain": [
       "[-1, 0, 1, 2, 2, 3]"
      ]
     },
     "execution_count": 83,
     "metadata": {},
     "output_type": "execute_result"
    }
   ],
   "source": [
    "depth"
   ]
  },
  {
   "cell_type": "code",
   "execution_count": 84,
   "id": "bac2b7b6-e9c0-46d8-9001-37adc250e5f3",
   "metadata": {},
   "outputs": [
    {
     "data": {
      "text/plain": [
       "[0, 111, 999, 0, 0, -10]"
      ]
     },
     "execution_count": 84,
     "metadata": {},
     "output_type": "execute_result"
    }
   ],
   "source": [
    "S"
   ]
  },
  {
   "cell_type": "code",
   "execution_count": 85,
   "id": "1db0b87c-bfbf-4915-84a4-f8047cba9cf0",
   "metadata": {},
   "outputs": [
    {
     "data": {
      "text/plain": [
       "1111"
      ]
     },
     "execution_count": 85,
     "metadata": {},
     "output_type": "execute_result"
    }
   ],
   "source": [
    "ans"
   ]
  },
  {
   "cell_type": "code",
   "execution_count": 64,
   "id": "8f459355-3263-472b-b20d-f8d006d71d1f",
   "metadata": {},
   "outputs": [
    {
     "data": {
      "text/plain": [
       "122"
      ]
     },
     "execution_count": 64,
     "metadata": {},
     "output_type": "execute_result"
    }
   ],
   "source": []
  },
  {
   "cell_type": "code",
   "execution_count": null,
   "id": "e06596ce-76d4-48c6-90e5-a87a18eb8bbe",
   "metadata": {},
   "outputs": [],
   "source": []
  },
  {
   "cell_type": "code",
   "execution_count": null,
   "id": "6f7ae50a-10ca-47cc-b65e-82ca22361e68",
   "metadata": {},
   "outputs": [],
   "source": []
  }
 ],
 "metadata": {
  "kernelspec": {
   "display_name": "Python 3 (ipykernel)",
   "language": "python",
   "name": "python3"
  },
  "language_info": {
   "codemirror_mode": {
    "name": "ipython",
    "version": 3
   },
   "file_extension": ".py",
   "mimetype": "text/x-python",
   "name": "python",
   "nbconvert_exporter": "python",
   "pygments_lexer": "ipython3",
   "version": "3.9.12"
  }
 },
 "nbformat": 4,
 "nbformat_minor": 5
}
