{
 "cells": [
  {
   "cell_type": "code",
   "execution_count": 1,
   "id": "2f0b6523-0484-4211-ae54-d449ac89cee8",
   "metadata": {},
   "outputs": [
    {
     "data": {
      "application/vnd.jupyter.widget-view+json": {
       "model_id": "d1a1a2baa1e740b19782908ca8230067",
       "version_major": 2,
       "version_minor": 0
      },
      "text/plain": [
       "Textarea(value='')"
      ]
     },
     "metadata": {},
     "output_type": "display_data"
    }
   ],
   "source": [
    "# Ref: https://qiita.com/noca/items/00646efd9d4a7302f522\n",
    "from ipywidgets import Textarea\n",
    "import io\n",
    "if 'open' in globals():\n",
    "    del open\n",
    "if 'input' in globals():\n",
    "    del input\n",
    "original_open = open\n",
    "class custom_open():\n",
    "    def __init__(self):\n",
    "        self.text = ''\n",
    "    def __call__(self, file, *args, **kwargs):\n",
    "        if file == 0:\n",
    "            return io.StringIO(self.text)\n",
    "        return original_open(file, *args, **kwargs)\n",
    "    def updater(self, change):\n",
    "        self.text = change[\"new\"]\n",
    "class custom_input():\n",
    "    def __init__(self):\n",
    "        self.__sio = io.StringIO('')\n",
    "        self.shell = get_ipython()\n",
    "        if self.shell.events.callbacks['pre_run_cell'] != []:\n",
    "            self.shell.events.callbacks['pre_run_cell'] = []\n",
    "        self.shell.events.register('pre_run_cell', self.pre_run_cell)\n",
    "    def __call__(self):\n",
    "        return self.__sio.readline().strip()\n",
    "    def pre_run_cell(self, info):\n",
    "        text = self.shell.user_ns.get('text_area', None).value\n",
    "        self.__sio = io.StringIO(text)\n",
    "open = custom_open()\n",
    "input = custom_input()\n",
    "text_area = Textarea()\n",
    "text_area.observe(open.updater, names='value')\n",
    "display(text_area)"
   ]
  },
  {
   "cell_type": "code",
   "execution_count": 26,
   "id": "eb610910-dc9c-437f-a463-67d53f596a1f",
   "metadata": {},
   "outputs": [
    {
     "name": "stdout",
     "output_type": "stream",
     "text": [
      "26\n"
     ]
    }
   ],
   "source": [
    "import heapq\n",
    "N, M, X, Y = map(int, input().split())\n",
    "\n",
    "G = [list() for _ in range(N+1)]\n",
    "for _ in range(M):\n",
    "    a, b, t, k = map(int, input().split())\n",
    "    G[a].append((b, t, k))\n",
    "    G[b].append((a, t, k))\n",
    "\n",
    "INF = 10 ** 20\n",
    "d = [INF] * (N+1)\n",
    "d[X] = 0\n",
    "h = []\n",
    "heapq.heappush(h, (0, X))\n",
    "v = [False] * (N+1)\n",
    "while h:\n",
    "    time, now = heapq.heappop(h)\n",
    "    if v[now]:\n",
    "        continue\n",
    "    v[now] = True\n",
    "    for nex, t, k in G[now]:\n",
    "        if v[nex]:\n",
    "            continue\n",
    "        d[nex] = min(d[nex], (k - time%k)%k + time + t)\n",
    "        heapq.heappush(h, (d[nex], nex))\n",
    "\n",
    "ans = d[Y]\n",
    "if ans == INF:\n",
    "    print(-1)\n",
    "else:\n",
    "    print(ans)"
   ]
  },
  {
   "cell_type": "code",
   "execution_count": 24,
   "id": "b590124d-9ac6-43d3-9976-b22a77d6a5f7",
   "metadata": {},
   "outputs": [
    {
     "data": {
      "text/plain": [
       "[1000000000000, 20, 6, 16, 19, 21, 0, 26, 16, 24]"
      ]
     },
     "execution_count": 24,
     "metadata": {},
     "output_type": "execute_result"
    }
   ],
   "source": [
    "d"
   ]
  },
  {
   "cell_type": "code",
   "execution_count": 21,
   "id": "f840e6f0-3706-489f-a06d-1bc8856e7c62",
   "metadata": {},
   "outputs": [
    {
     "data": {
      "text/plain": [
       "7"
      ]
     },
     "execution_count": 21,
     "metadata": {},
     "output_type": "execute_result"
    }
   ],
   "source": [
    "d[Y]"
   ]
  },
  {
   "cell_type": "code",
   "execution_count": 22,
   "id": "0602400a-bf84-4c29-9bba-84bb7db264d9",
   "metadata": {},
   "outputs": [
    {
     "data": {
      "text/plain": [
       "2"
      ]
     },
     "execution_count": 22,
     "metadata": {},
     "output_type": "execute_result"
    }
   ],
   "source": [
    "time = 0\n",
    "k = 3\n",
    "t = 2\n",
    "(k - time%k)%k + time + t"
   ]
  },
  {
   "cell_type": "code",
   "execution_count": null,
   "id": "902926bc-a93f-40f9-b52d-9edf8a6e3819",
   "metadata": {},
   "outputs": [],
   "source": []
  },
  {
   "cell_type": "code",
   "execution_count": null,
   "id": "5a304c2d-a695-43f0-90b5-7a1098d24849",
   "metadata": {},
   "outputs": [],
   "source": []
  }
 ],
 "metadata": {
  "kernelspec": {
   "display_name": "Python 3 (ipykernel)",
   "language": "python",
   "name": "python3"
  },
  "language_info": {
   "codemirror_mode": {
    "name": "ipython",
    "version": 3
   },
   "file_extension": ".py",
   "mimetype": "text/x-python",
   "name": "python",
   "nbconvert_exporter": "python",
   "pygments_lexer": "ipython3",
   "version": "3.9.12"
  }
 },
 "nbformat": 4,
 "nbformat_minor": 5
}
