{
 "cells": [
  {
   "cell_type": "code",
   "execution_count": 1,
   "id": "68d27088-3440-440c-ad47-c237418b1ef9",
   "metadata": {},
   "outputs": [
    {
     "data": {
      "application/vnd.jupyter.widget-view+json": {
       "model_id": "5e61ab88b67c434db631bfb23e8dbdb4",
       "version_major": 2,
       "version_minor": 0
      },
      "text/plain": [
       "Textarea(value='')"
      ]
     },
     "metadata": {},
     "output_type": "display_data"
    }
   ],
   "source": [
    "# Ref: https://qiita.com/noca/items/00646efd9d4a7302f522\n",
    "from ipywidgets import Textarea\n",
    "import io\n",
    "if 'open' in globals():\n",
    "    del open\n",
    "if 'input' in globals():\n",
    "    del input\n",
    "original_open = open\n",
    "class custom_open():\n",
    "    def __init__(self):\n",
    "        self.text = ''\n",
    "    def __call__(self, file, *args, **kwargs):\n",
    "        if file == 0:\n",
    "            return io.StringIO(self.text)\n",
    "        return original_open(file, *args, **kwargs)\n",
    "    def updater(self, change):\n",
    "        self.text = change[\"new\"]\n",
    "class custom_input():\n",
    "    def __init__(self):\n",
    "        self.__sio = io.StringIO('')\n",
    "        self.shell = get_ipython()\n",
    "        if self.shell.events.callbacks['pre_run_cell'] != []:\n",
    "            self.shell.events.callbacks['pre_run_cell'] = []\n",
    "        self.shell.events.register('pre_run_cell', self.pre_run_cell)\n",
    "    def __call__(self):\n",
    "        return self.__sio.readline().strip()\n",
    "    def pre_run_cell(self, info):\n",
    "        text = self.shell.user_ns.get('text_area', None).value\n",
    "        self.__sio = io.StringIO(text)\n",
    "open = custom_open()\n",
    "input = custom_input()\n",
    "text_area = Textarea()\n",
    "text_area.observe(open.updater, names='value')\n",
    "display(text_area)"
   ]
  },
  {
   "cell_type": "code",
   "execution_count": 135,
   "id": "491f5879-dddb-46a0-b76c-ee8796699dc9",
   "metadata": {},
   "outputs": [
    {
     "name": "stdout",
     "output_type": "stream",
     "text": [
      "14\n"
     ]
    }
   ],
   "source": [
    "# https://www.youtube.com/watch?v=vGdgA5YdBho&t=1489s\n",
    "\n",
    "N, L, R = map(int, input().split())\n",
    "A = list(map(int, input().split()))\n",
    "\n",
    "_sum = [0]\n",
    "for a in A:\n",
    "    _sum.append(_sum[-1]+a)\n",
    "\n",
    "# left[l] = L * l - _sum[l]\n",
    "left = [L * l - _sum[l] for l in range(N+1)]\n",
    "\n",
    "# right[r] = \n",
    "right = [R * (N-r) + _sum[r] for r in range(N+1)]\n",
    "\n",
    "right_min = right\n",
    "for i in range(N-1, -1, -1):\n",
    "    right_min[i] = min(right_min[i], right_min[i+1])\n",
    "\n",
    "# for l in range(N+1):\n",
    "#     for r in range(l, N+1):\n",
    "        # tmp = L * l + R * (N-r) + sum(A[l:r])\n",
    "        # tmp = L * l + R * (N-r) + _sum[r] - _sum[l]\n",
    "        # tmp = L * l - _sum[l] + R * (N-r) + _sum[r]\n",
    "        # tmp = left[l] + right[r]\n",
    "\n",
    "ans = 10 ** 20\n",
    "for l in range(N+1):\n",
    "    # tmp = left[l] + min(right[l:])\n",
    "    tmp = left[l] + right_min[l]\n",
    "    ans = min(ans, tmp)\n",
    "    \n",
    "print(ans)"
   ]
  },
  {
   "cell_type": "code",
   "execution_count": 132,
   "id": "d8a8d05e-d204-4e83-a88b-f8321cf59161",
   "metadata": {},
   "outputs": [
    {
     "data": {
      "text/plain": [
       "[0, 5, 10, 10, 16, 19]"
      ]
     },
     "execution_count": 132,
     "metadata": {},
     "output_type": "execute_result"
    }
   ],
   "source": [
    "_sum"
   ]
  },
  {
   "cell_type": "code",
   "execution_count": 133,
   "id": "425148e5-a93e-44b1-b4ac-d82f92b75248",
   "metadata": {},
   "outputs": [
    {
     "data": {
      "text/plain": [
       "[15, 16, 16, 16, 19, 19]"
      ]
     },
     "execution_count": 133,
     "metadata": {},
     "output_type": "execute_result"
    }
   ],
   "source": [
    "right_min"
   ]
  },
  {
   "cell_type": "code",
   "execution_count": null,
   "id": "0c6e2653-f442-4e9b-a299-8b0367a29d66",
   "metadata": {},
   "outputs": [],
   "source": []
  }
 ],
 "metadata": {
  "kernelspec": {
   "display_name": "Python 3 (ipykernel)",
   "language": "python",
   "name": "python3"
  },
  "language_info": {
   "codemirror_mode": {
    "name": "ipython",
    "version": 3
   },
   "file_extension": ".py",
   "mimetype": "text/x-python",
   "name": "python",
   "nbconvert_exporter": "python",
   "pygments_lexer": "ipython3",
   "version": "3.9.12"
  }
 },
 "nbformat": 4,
 "nbformat_minor": 5
}
