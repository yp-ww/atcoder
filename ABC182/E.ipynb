{
 "cells": [
  {
   "cell_type": "code",
   "execution_count": 1,
   "id": "62874e38-b8cb-4802-af3f-019ed1322799",
   "metadata": {},
   "outputs": [
    {
     "data": {
      "application/vnd.jupyter.widget-view+json": {
       "model_id": "6cce40b40bc3402385e77c1b12e3a7b2",
       "version_major": 2,
       "version_minor": 0
      },
      "text/plain": [
       "Textarea(value='')"
      ]
     },
     "metadata": {},
     "output_type": "display_data"
    }
   ],
   "source": [
    "# Ref: https://qiita.com/noca/items/00646efd9d4a7302f522\n",
    "from ipywidgets import Textarea\n",
    "import io\n",
    "if 'open' in globals():\n",
    "    del open\n",
    "if 'input' in globals():\n",
    "    del input\n",
    "original_open = open\n",
    "class custom_open():\n",
    "    def __init__(self):\n",
    "        self.text = ''\n",
    "    def __call__(self, file, *args, **kwargs):\n",
    "        if file == 0:\n",
    "            return io.StringIO(self.text)\n",
    "        return original_open(file, *args, **kwargs)\n",
    "    def updater(self, change):\n",
    "        self.text = change[\"new\"]\n",
    "class custom_input():\n",
    "    def __init__(self):\n",
    "        self.__sio = io.StringIO('')\n",
    "        self.shell = get_ipython()\n",
    "        if self.shell.events.callbacks['pre_run_cell'] != []:\n",
    "            self.shell.events.callbacks['pre_run_cell'] = []\n",
    "        self.shell.events.register('pre_run_cell', self.pre_run_cell)\n",
    "    def __call__(self):\n",
    "        return self.__sio.readline().strip()\n",
    "    def pre_run_cell(self, info):\n",
    "        text = self.shell.user_ns.get('text_area', None).value\n",
    "        self.__sio = io.StringIO(text)\n",
    "open = custom_open()\n",
    "input = custom_input()\n",
    "text_area = Textarea()\n",
    "text_area.observe(open.updater, names='value')\n",
    "display(text_area)"
   ]
  },
  {
   "cell_type": "code",
   "execution_count": 65,
   "id": "f6d2bd48-3112-4fa6-b109-da0623f1872e",
   "metadata": {},
   "outputs": [
    {
     "name": "stdout",
     "output_type": "stream",
     "text": [
      "20\n"
     ]
    }
   ],
   "source": [
    "import bisect\n",
    "H, W, N, M = map(int, input().split())\n",
    "\n",
    "G1 = [[0] * W for _ in range(H)]\n",
    "G2 = [[0] * W for _ in range(H)]\n",
    "\n",
    "for _ in range(N):\n",
    "    a, b = map(int, input().split())\n",
    "    a -= 1\n",
    "    b -= 1\n",
    "    G1[a][b] = 1\n",
    "    G2[a][b] = 1\n",
    "    \n",
    "for _ in range(M):\n",
    "    c, d = map(int, input().split())\n",
    "    c -= 1\n",
    "    d -= 1\n",
    "    G1[c][d] = -1\n",
    "    G2[c][d] = -1\n",
    "    \n",
    "for i in range(H):\n",
    "    for j in range(W):\n",
    "        if j == 0:\n",
    "            continue\n",
    "        if G1[i][j] == -1:\n",
    "            continue\n",
    "        if G1[i][j-1] == 1:\n",
    "            G1[i][j] = 1\n",
    "    \n",
    "    for j in range(W-1, -1, -1):\n",
    "        if j == W-1:\n",
    "            continue\n",
    "        if G1[i][j] == -1:\n",
    "            continue\n",
    "        if G1[i][j+1] == 1:\n",
    "            G1[i][j] = 1\n",
    "        \n",
    "for j in range(W):\n",
    "    for i in range(H):\n",
    "        if i == 0:\n",
    "            continue\n",
    "        if G2[i][j] == -1:\n",
    "            continue\n",
    "        if G2[i-1][j] == 1:\n",
    "            G2[i][j] = 1\n",
    "    \n",
    "    for i in range(H-1, -1, -1):\n",
    "        if i == H-1:\n",
    "            continue\n",
    "        if G2[i][j] == -1:\n",
    "            continue\n",
    "        if G2[i+1][j] == 1:\n",
    "            G2[i][j] = 1\n",
    "cnt = 0\n",
    "for i in range(H):\n",
    "    for j in range(W):\n",
    "        if G1[i][j] + G2[i][j] >= 1:\n",
    "            cnt += 1\n",
    "print(cnt)"
   ]
  },
  {
   "cell_type": "code",
   "execution_count": 63,
   "id": "8706f3a0-c7ac-4966-b24f-7771a912f3d4",
   "metadata": {},
   "outputs": [
    {
     "data": {
      "text/plain": [
       "[[1, 1, 1, 1, 1],\n",
       " [1, 1, 1, -1, 0],\n",
       " [1, 1, 1, -1, 0],\n",
       " [0, -1, 1, 1, 1],\n",
       " [1, 1, 1, 1, 1]]"
      ]
     },
     "execution_count": 63,
     "metadata": {},
     "output_type": "execute_result"
    }
   ],
   "source": [
    "G1"
   ]
  },
  {
   "cell_type": "code",
   "execution_count": 64,
   "id": "cec121d7-99f4-4073-be6e-7db6828263df",
   "metadata": {},
   "outputs": [
    {
     "data": {
      "text/plain": [
       "[[1, 1, 1, 0, 0],\n",
       " [1, 1, 1, -1, 0],\n",
       " [1, 1, 1, -1, 0],\n",
       " [1, -1, 1, 1, 0],\n",
       " [1, 0, 1, 1, 0]]"
      ]
     },
     "execution_count": 64,
     "metadata": {},
     "output_type": "execute_result"
    }
   ],
   "source": [
    "G2"
   ]
  },
  {
   "cell_type": "code",
   "execution_count": null,
   "id": "08fa62ef-7370-4722-8008-0f53d00f50f7",
   "metadata": {},
   "outputs": [],
   "source": []
  }
 ],
 "metadata": {
  "kernelspec": {
   "display_name": "Python 3 (ipykernel)",
   "language": "python",
   "name": "python3"
  },
  "language_info": {
   "codemirror_mode": {
    "name": "ipython",
    "version": 3
   },
   "file_extension": ".py",
   "mimetype": "text/x-python",
   "name": "python",
   "nbconvert_exporter": "python",
   "pygments_lexer": "ipython3",
   "version": "3.9.12"
  }
 },
 "nbformat": 4,
 "nbformat_minor": 5
}
