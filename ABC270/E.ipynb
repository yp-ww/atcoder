{
 "cells": [
  {
   "cell_type": "code",
   "execution_count": 1,
   "id": "1a97c54a-721f-4558-bbc9-6a893795ad75",
   "metadata": {},
   "outputs": [
    {
     "data": {
      "application/vnd.jupyter.widget-view+json": {
       "model_id": "351d95062981458992356aca2bedc7fd",
       "version_major": 2,
       "version_minor": 0
      },
      "text/plain": [
       "Textarea(value='')"
      ]
     },
     "metadata": {},
     "output_type": "display_data"
    }
   ],
   "source": [
    "# Ref: https://qiita.com/noca/items/00646efd9d4a7302f522\n",
    "from ipywidgets import Textarea\n",
    "import io\n",
    "if 'open' in globals():\n",
    "    del open\n",
    "if 'input' in globals():\n",
    "    del input\n",
    "original_open = open\n",
    "class custom_open():\n",
    "    def __init__(self):\n",
    "        self.text = ''\n",
    "    def __call__(self, file, *args, **kwargs):\n",
    "        if file == 0:\n",
    "            return io.StringIO(self.text)\n",
    "        return original_open(file, *args, **kwargs)\n",
    "    def updater(self, change):\n",
    "        self.text = change[\"new\"]\n",
    "class custom_input():\n",
    "    def __init__(self):\n",
    "        self.__sio = io.StringIO('')\n",
    "        self.shell = get_ipython()\n",
    "        if self.shell.events.callbacks['pre_run_cell'] != []:\n",
    "            self.shell.events.callbacks['pre_run_cell'] = []\n",
    "        self.shell.events.register('pre_run_cell', self.pre_run_cell)\n",
    "    def __call__(self):\n",
    "        return self.__sio.readline().strip()\n",
    "    def pre_run_cell(self, info):\n",
    "        text = self.shell.user_ns.get('text_area', None).value\n",
    "        self.__sio = io.StringIO(text)\n",
    "open = custom_open()\n",
    "input = custom_input()\n",
    "text_area = Textarea()\n",
    "text_area.observe(open.updater, names='value')\n",
    "display(text_area)"
   ]
  },
  {
   "cell_type": "code",
   "execution_count": 67,
   "id": "91859f78-532f-409e-8e41-40ca95f97aee",
   "metadata": {},
   "outputs": [
    {
     "name": "stdout",
     "output_type": "stream",
     "text": [
      "0 1 0\n"
     ]
    }
   ],
   "source": [
    "import bisect \n",
    "N, K = map(int, input().split())\n",
    "A = list(map(int, input().split()))\n",
    "\n",
    "B = sorted(A)\n",
    "S = list(set(A))\n",
    "S.sort()\n",
    "\n",
    "offset = 0\n",
    "idx = 0\n",
    "tot = 0\n",
    "while 1:\n",
    "    x = S[idx]\n",
    "    if x == 0:\n",
    "        idx += 1\n",
    "        continue\n",
    "    \n",
    "    cnt = N - bisect.bisect_left(B, x)\n",
    "    \n",
    "    if (x - offset) * cnt + tot < K:\n",
    "        tot += (x - offset) * cnt\n",
    "        offset = x\n",
    "        idx += 1\n",
    "        \n",
    "    else:\n",
    "        y = (K - tot) // cnt\n",
    "        z = (K - tot) % cnt\n",
    "        ans = [max(0, A[i]-y-offset) for i in range(N)]\n",
    "        c = 0\n",
    "        for i in range(N):\n",
    "            if c == z:\n",
    "                break\n",
    "                \n",
    "            if ans[i] > 0:\n",
    "                ans[i] -= 1\n",
    "                c += 1\n",
    "            \n",
    "        break\n",
    "\n",
    "print(*ans)"
   ]
  },
  {
   "cell_type": "code",
   "execution_count": 66,
   "id": "9a299892-6d16-45f4-9e72-8d5cd9513315",
   "metadata": {},
   "outputs": [
    {
     "data": {
      "text/plain": [
       "[0, 1, 3]"
      ]
     },
     "execution_count": 66,
     "metadata": {},
     "output_type": "execute_result"
    }
   ],
   "source": [
    "S"
   ]
  },
  {
   "cell_type": "code",
   "execution_count": 64,
   "id": "23bc472f-45ab-4d6f-b1b9-ac998436a21c",
   "metadata": {},
   "outputs": [
    {
     "data": {
      "text/plain": [
       "3"
      ]
     },
     "execution_count": 64,
     "metadata": {},
     "output_type": "execute_result"
    }
   ],
   "source": [
    "x"
   ]
  },
  {
   "cell_type": "code",
   "execution_count": null,
   "id": "24d6335d-e2a0-42c0-9310-a9e3e377fbb0",
   "metadata": {},
   "outputs": [],
   "source": []
  }
 ],
 "metadata": {
  "kernelspec": {
   "display_name": "Python 3 (ipykernel)",
   "language": "python",
   "name": "python3"
  },
  "language_info": {
   "codemirror_mode": {
    "name": "ipython",
    "version": 3
   },
   "file_extension": ".py",
   "mimetype": "text/x-python",
   "name": "python",
   "nbconvert_exporter": "python",
   "pygments_lexer": "ipython3",
   "version": "3.9.12"
  }
 },
 "nbformat": 4,
 "nbformat_minor": 5
}
