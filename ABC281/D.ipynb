{
 "cells": [
  {
   "cell_type": "code",
   "execution_count": 1,
   "id": "61786b89-80c1-4d52-a172-e301f0b1f8e5",
   "metadata": {},
   "outputs": [
    {
     "data": {
      "application/vnd.jupyter.widget-view+json": {
       "model_id": "c64da21b04ee4dceb0629fd721cc0ad1",
       "version_major": 2,
       "version_minor": 0
      },
      "text/plain": [
       "Textarea(value='')"
      ]
     },
     "metadata": {},
     "output_type": "display_data"
    }
   ],
   "source": [
    "# Ref: https://qiita.com/noca/items/00646efd9d4a7302f522\n",
    "from ipywidgets import Textarea\n",
    "import io\n",
    "if 'open' in globals():\n",
    "    del open\n",
    "if 'input' in globals():\n",
    "    del input\n",
    "original_open = open\n",
    "class custom_open():\n",
    "    def __init__(self):\n",
    "        self.text = ''\n",
    "    def __call__(self, file, *args, **kwargs):\n",
    "        if file == 0:\n",
    "            return io.StringIO(self.text)\n",
    "        return original_open(file, *args, **kwargs)\n",
    "    def updater(self, change):\n",
    "        self.text = change[\"new\"]\n",
    "class custom_input():\n",
    "    def __init__(self):\n",
    "        self.__sio = io.StringIO('')\n",
    "        self.shell = get_ipython()\n",
    "        if self.shell.events.callbacks['pre_run_cell'] != []:\n",
    "            self.shell.events.callbacks['pre_run_cell'] = []\n",
    "        self.shell.events.register('pre_run_cell', self.pre_run_cell)\n",
    "    def __call__(self):\n",
    "        return self.__sio.readline().strip()\n",
    "    def pre_run_cell(self, info):\n",
    "        text = self.shell.user_ns.get('text_area', None).value\n",
    "        self.__sio = io.StringIO(text)\n",
    "open = custom_open()\n",
    "input = custom_input()\n",
    "text_area = Textarea()\n",
    "text_area.observe(open.updater, names='value')\n",
    "display(text_area)"
   ]
  },
  {
   "cell_type": "code",
   "execution_count": 17,
   "id": "60dc0d75-5854-443f-8871-00e6ab56ced6",
   "metadata": {},
   "outputs": [
    {
     "name": "stdout",
     "output_type": "stream",
     "text": [
      "21\n"
     ]
    }
   ],
   "source": [
    "from collections import defaultdict\n",
    "N, K, D = map(int, input().split())\n",
    "A = list(map(int, input().split()))\n",
    "\n",
    "dp = [[[-1] * D for __ in range(K+1)] for _ in range(N+1)]\n",
    "dp[0][0][0] = 0\n",
    "\n",
    "for i in range(N):\n",
    "    # A[i] まで使う\n",
    "    for j in range(K+1):\n",
    "        # j個選んでいる\n",
    "        for k in range(D):\n",
    "            # 和 % D = r のときの和の最大値\n",
    "            \n",
    "            if dp[i][j][k] == -1:\n",
    "                continue\n",
    "            \n",
    "            # A[i] を選ばない場合\n",
    "            dp[i+1][j][k] = max(dp[i+1][j][k], dp[i][j][k])\n",
    "            \n",
    "            # A[i] を選ぶ場合\n",
    "            if j+1 <= K:\n",
    "                dp[i+1][j+1][(k+A[i])%D] = max(dp[i+1][j+1][(k+A[i])%D], dp[i][j][k]+A[i])\n",
    "            \n",
    "print(dp[N][K][0])"
   ]
  },
  {
   "cell_type": "code",
   "execution_count": null,
   "id": "c1988a48-09ac-4db7-85b2-04382572e910",
   "metadata": {},
   "outputs": [],
   "source": []
  },
  {
   "cell_type": "code",
   "execution_count": null,
   "id": "e124efff-b8ab-476d-9e40-e7f2f399792f",
   "metadata": {},
   "outputs": [],
   "source": []
  },
  {
   "cell_type": "code",
   "execution_count": 15,
   "id": "a5d89233-66be-4f46-91d8-5b634cb9c643",
   "metadata": {},
   "outputs": [
    {
     "data": {
      "text/plain": [
       "[[[0, -1, -1], [-1, -1, -1], [-1, -1, -1], [-1, -1, -1]],\n",
       " [[0, -1, -1], [-1, 1, -1], [-1, -1, -1], [-1, -1, -1]],\n",
       " [[0, -1, -1], [-1, 1, 2], [3, -1, -1], [-1, -1, -1]],\n",
       " [[0, -1, -1], [3, 1, 2], [3, 4, 5], [6, -1, -1]],\n",
       " [[0, -1, -1], [3, 4, 2], [7, 7, 7], [9, 7, 8]],\n",
       " [[0, -1, -1], [3, 4, 5], [9, 8, 8], [12, 12, 12]],\n",
       " [[0, -1, -1], [6, 4, 5], [9, 10, 11], [15, 14, 14]],\n",
       " [[0, -1, -1], [6, 7, 5], [13, 13, 13], [18, 16, 17]],\n",
       " [[0, -1, -1], [6, 7, 8], [15, 14, 14], [21, 21, 21]]]"
      ]
     },
     "execution_count": 15,
     "metadata": {},
     "output_type": "execute_result"
    }
   ],
   "source": [
    "dp"
   ]
  },
  {
   "cell_type": "code",
   "execution_count": null,
   "id": "2179f2cf-d772-4021-9f44-92573eb7bbf3",
   "metadata": {},
   "outputs": [],
   "source": []
  },
  {
   "cell_type": "code",
   "execution_count": null,
   "id": "baf5ef04-4649-4210-a21d-dff1686270ae",
   "metadata": {},
   "outputs": [],
   "source": []
  }
 ],
 "metadata": {
  "kernelspec": {
   "display_name": "Python 3 (ipykernel)",
   "language": "python",
   "name": "python3"
  },
  "language_info": {
   "codemirror_mode": {
    "name": "ipython",
    "version": 3
   },
   "file_extension": ".py",
   "mimetype": "text/x-python",
   "name": "python",
   "nbconvert_exporter": "python",
   "pygments_lexer": "ipython3",
   "version": "3.9.12"
  }
 },
 "nbformat": 4,
 "nbformat_minor": 5
}
