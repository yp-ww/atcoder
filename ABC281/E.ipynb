{
 "cells": [
  {
   "cell_type": "code",
   "execution_count": 1,
   "id": "9abc1dce-4ef8-40f2-8d0f-f9bfa77ce779",
   "metadata": {},
   "outputs": [
    {
     "data": {
      "application/vnd.jupyter.widget-view+json": {
       "model_id": "65d58466810a468fa9fbc8f53b7ff925",
       "version_major": 2,
       "version_minor": 0
      },
      "text/plain": [
       "Textarea(value='')"
      ]
     },
     "metadata": {},
     "output_type": "display_data"
    }
   ],
   "source": [
    "# Ref: https://qiita.com/noca/items/00646efd9d4a7302f522\n",
    "from ipywidgets import Textarea\n",
    "import io\n",
    "if 'open' in globals():\n",
    "    del open\n",
    "if 'input' in globals():\n",
    "    del input\n",
    "original_open = open\n",
    "class custom_open():\n",
    "    def __init__(self):\n",
    "        self.text = ''\n",
    "    def __call__(self, file, *args, **kwargs):\n",
    "        if file == 0:\n",
    "            return io.StringIO(self.text)\n",
    "        return original_open(file, *args, **kwargs)\n",
    "    def updater(self, change):\n",
    "        self.text = change[\"new\"]\n",
    "class custom_input():\n",
    "    def __init__(self):\n",
    "        self.__sio = io.StringIO('')\n",
    "        self.shell = get_ipython()\n",
    "        if self.shell.events.callbacks['pre_run_cell'] != []:\n",
    "            self.shell.events.callbacks['pre_run_cell'] = []\n",
    "        self.shell.events.register('pre_run_cell', self.pre_run_cell)\n",
    "    def __call__(self):\n",
    "        return self.__sio.readline().strip()\n",
    "    def pre_run_cell(self, info):\n",
    "        text = self.shell.user_ns.get('text_area', None).value\n",
    "        self.__sio = io.StringIO(text)\n",
    "open = custom_open()\n",
    "input = custom_input()\n",
    "text_area = Textarea()\n",
    "text_area.observe(open.updater, names='value')\n",
    "display(text_area)"
   ]
  },
  {
   "cell_type": "code",
   "execution_count": 162,
   "id": "260a143d-0925-46d3-9ccf-560fd7baf31a",
   "metadata": {},
   "outputs": [
    {
     "name": "stdout",
     "output_type": "stream",
     "text": [
      "12\n",
      "3\n",
      "34\n",
      "231\n",
      "35\n",
      "1\n"
     ]
    }
   ],
   "source": [
    "import heapq\n",
    "N, M, K = map(int, input().split())\n",
    "A = list(map(int, input().split()))\n",
    "\n",
    "h = [] # 登録候補、小さい値を優先保持\n",
    "l = [] # 登録済み、大きい値を優先保持\n",
    "flag = [False] * (N+1)\n",
    "\n",
    "B = A[:M]\n",
    "B = [(B[j] * -1, j) for j in range(M)]\n",
    "# print(B)\n",
    "B.sort()\n",
    "ans = 0\n",
    "for j in range(M-K, M):\n",
    "    ans += -1 * B[j][0]\n",
    "    flag[B[j][1]] = True\n",
    "    heapq.heappush(l, B[j])\n",
    "for j in range(M-K):\n",
    "    heapq.heappush(h, (-1 * B[j][0], B[j][1]))\n",
    "print(ans)\n",
    "        \n",
    "for i in range(1, N-M+1):\n",
    "    heapq.heappush(h, (A[i+M-1], i+M-1))\n",
    "    \n",
    "    if flag[i-1]:\n",
    "        ans -= A[i-1]\n",
    "        flag[i-1] = False\n",
    "        while h:\n",
    "            h_val, h_pos = heapq.heappop(h)\n",
    "            if h_pos >= i:\n",
    "                break\n",
    "        flag[h_pos] = True\n",
    "        heapq.heappush(l, (-1 * h_val, h_pos))\n",
    "        ans += h_val\n",
    "        print(ans)\n",
    "\n",
    "    else:\n",
    "        while h:\n",
    "            h_val, h_pos = h[0]\n",
    "            if h_pos < i:\n",
    "                heapq.heappop(h)\n",
    "            else:\n",
    "                break\n",
    "        while l:\n",
    "            l_val, l_pos = l[0]\n",
    "            if l_pos < i:\n",
    "                heapq.heappop(l)\n",
    "            else:\n",
    "                break\n",
    "                \n",
    "        if h_val < -1 * l_val:\n",
    "            h_val, h_pos = heapq.heappop(h)\n",
    "            l_val, l_pos = heapq.heappop(l)\n",
    "            l_val *= -1\n",
    "            ans += h_val\n",
    "            ans -= l_val\n",
    "            flag[h_pos] = True\n",
    "            flag[l_pos] = False\n",
    "            heapq.heappush(l, (-1 * h_val, h_pos))\n",
    "            heapq.heappush(h, (l_val, l_pos))\n",
    "        print(ans)"
   ]
  },
  {
   "cell_type": "code",
   "execution_count": 163,
   "id": "653c95f4-12ff-441e-bc0a-7e77079b686c",
   "metadata": {},
   "outputs": [
    {
     "data": {
      "text/plain": [
       "[]"
      ]
     },
     "execution_count": 163,
     "metadata": {},
     "output_type": "execute_result"
    }
   ],
   "source": [
    "h"
   ]
  },
  {
   "cell_type": "code",
   "execution_count": 164,
   "id": "8e51e085-e588-4076-95f7-2f60523391a1",
   "metadata": {},
   "outputs": [
    {
     "data": {
      "text/plain": [
       "[(-231, 3), (-35, 4), (-12, 0), (-3, 1), (-34, 2), (-1, 5)]"
      ]
     },
     "execution_count": 164,
     "metadata": {},
     "output_type": "execute_result"
    }
   ],
   "source": [
    "l"
   ]
  },
  {
   "cell_type": "code",
   "execution_count": null,
   "id": "d1247b5e-a8d9-496e-abae-a1d8118efc38",
   "metadata": {},
   "outputs": [],
   "source": []
  },
  {
   "cell_type": "code",
   "execution_count": null,
   "id": "06f6b0c2-4522-44ee-9787-8f9fb8d5381a",
   "metadata": {},
   "outputs": [],
   "source": []
  }
 ],
 "metadata": {
  "kernelspec": {
   "display_name": "Python 3 (ipykernel)",
   "language": "python",
   "name": "python3"
  },
  "language_info": {
   "codemirror_mode": {
    "name": "ipython",
    "version": 3
   },
   "file_extension": ".py",
   "mimetype": "text/x-python",
   "name": "python",
   "nbconvert_exporter": "python",
   "pygments_lexer": "ipython3",
   "version": "3.9.12"
  }
 },
 "nbformat": 4,
 "nbformat_minor": 5
}
