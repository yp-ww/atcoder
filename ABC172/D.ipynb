{
 "cells": [
  {
   "cell_type": "code",
   "execution_count": 1,
   "id": "06566ad1-4c3a-467b-8f83-0669a7579af6",
   "metadata": {},
   "outputs": [
    {
     "data": {
      "application/vnd.jupyter.widget-view+json": {
       "model_id": "d4030a3fbbce44fab322be6fecace0ff",
       "version_major": 2,
       "version_minor": 0
      },
      "text/plain": [
       "Textarea(value='')"
      ]
     },
     "metadata": {},
     "output_type": "display_data"
    }
   ],
   "source": [
    "# Ref: https://qiita.com/noca/items/00646efd9d4a7302f522\n",
    "from ipywidgets import Textarea\n",
    "import io\n",
    "if 'open' in globals():\n",
    "    del open\n",
    "if 'input' in globals():\n",
    "    del input\n",
    "original_open = open\n",
    "class custom_open():\n",
    "    def __init__(self):\n",
    "        self.text = ''\n",
    "    def __call__(self, file, *args, **kwargs):\n",
    "        if file == 0:\n",
    "            return io.StringIO(self.text)\n",
    "        return original_open(file, *args, **kwargs)\n",
    "    def updater(self, change):\n",
    "        self.text = change[\"new\"]\n",
    "class custom_input():\n",
    "    def __init__(self):\n",
    "        self.__sio = io.StringIO('')\n",
    "        self.shell = get_ipython()\n",
    "        if self.shell.events.callbacks['pre_run_cell'] != []:\n",
    "            self.shell.events.callbacks['pre_run_cell'] = []\n",
    "        self.shell.events.register('pre_run_cell', self.pre_run_cell)\n",
    "    def __call__(self):\n",
    "        return self.__sio.readline().strip()\n",
    "    def pre_run_cell(self, info):\n",
    "        text = self.shell.user_ns.get('text_area', None).value\n",
    "        self.__sio = io.StringIO(text)\n",
    "open = custom_open()\n",
    "input = custom_input()\n",
    "text_area = Textarea()\n",
    "text_area.observe(open.updater, names='value')\n",
    "display(text_area)"
   ]
  },
  {
   "cell_type": "code",
   "execution_count": 137,
   "id": "4b1e6d29-d5e2-4185-a2df-fe0dc69a344d",
   "metadata": {},
   "outputs": [
    {
     "name": "stdout",
     "output_type": "stream",
     "text": [
      "26879\n"
     ]
    }
   ],
   "source": [
    "N = int(input())\n",
    "\n",
    "MAX = 10 ** 7\n",
    "flag = [True] * (MAX+1)\n",
    "arr = [0] * (MAX+1)\n",
    "arr[1] = 1\n",
    "for i in range(2, MAX+1):\n",
    "    if not flag[i]:\n",
    "        continue\n",
    "    c = i\n",
    "    arr[c] = 2\n",
    "    while 1:\n",
    "        c += i\n",
    "        if c > MAX:\n",
    "            break\n",
    "        arr[c] += arr[c//i] + 1\n",
    "        flag[c] = False\n",
    "\n",
    "ans = 0\n",
    "for i in range(1, N+1):\n",
    "    ans += i * arr[i]\n",
    "print(ans)"
   ]
  },
  {
   "cell_type": "code",
   "execution_count": null,
   "id": "0c09a03c-4eb8-412e-bfcb-48f333b508b7",
   "metadata": {},
   "outputs": [],
   "source": []
  },
  {
   "cell_type": "code",
   "execution_count": 154,
   "id": "f9939129-caa4-42d3-964d-b8822a83f942",
   "metadata": {},
   "outputs": [
    {
     "name": "stdout",
     "output_type": "stream",
     "text": [
      "838627288460105\n"
     ]
    }
   ],
   "source": [
    "# O(N)\n",
    "N = int(input())\n",
    "ans = 0\n",
    "for i in range(1, N+1):\n",
    "    l = i\n",
    "    n = N // i\n",
    "    r = l + (n-1) * i\n",
    "    ans += n * (l + r) // 2\n",
    "print(ans)"
   ]
  },
  {
   "cell_type": "code",
   "execution_count": 156,
   "id": "6ae4a9b7-c620-4ae7-badb-ea596e004146",
   "metadata": {},
   "outputs": [
    {
     "name": "stdout",
     "output_type": "stream",
     "text": [
      "838627288460105\n"
     ]
    }
   ],
   "source": [
    "# O(N**0.5)\n",
    "N = int(input())\n",
    "ans = 0\n",
    "x = 0\n",
    "while 1:\n",
    "    x += 1\n",
    "    l = x * x\n",
    "    n = N // x - (x-1)\n",
    "    if n <= 0:\n",
    "        break\n",
    "    r = x * (N // x)\n",
    "    ans += n * (l+r) - l\n",
    "print(ans)"
   ]
  },
  {
   "cell_type": "code",
   "execution_count": null,
   "id": "3f8ec4c8-70cd-4089-867d-1f5976312134",
   "metadata": {},
   "outputs": [],
   "source": []
  }
 ],
 "metadata": {
  "kernelspec": {
   "display_name": "Python 3 (ipykernel)",
   "language": "python",
   "name": "python3"
  },
  "language_info": {
   "codemirror_mode": {
    "name": "ipython",
    "version": 3
   },
   "file_extension": ".py",
   "mimetype": "text/x-python",
   "name": "python",
   "nbconvert_exporter": "python",
   "pygments_lexer": "ipython3",
   "version": "3.9.12"
  }
 },
 "nbformat": 4,
 "nbformat_minor": 5
}
