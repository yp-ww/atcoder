{
 "cells": [
  {
   "cell_type": "code",
   "execution_count": 1,
   "id": "c2c5ff46-80f9-4e9a-acce-f6557b3287c4",
   "metadata": {},
   "outputs": [
    {
     "data": {
      "application/vnd.jupyter.widget-view+json": {
       "model_id": "92fb638aeb73419bb9110597b35e80f4",
       "version_major": 2,
       "version_minor": 0
      },
      "text/plain": [
       "Textarea(value='')"
      ]
     },
     "metadata": {},
     "output_type": "display_data"
    }
   ],
   "source": [
    "# Ref: https://qiita.com/noca/items/00646efd9d4a7302f522\n",
    "from ipywidgets import Textarea\n",
    "import io\n",
    "if 'open' in globals():\n",
    "    del open\n",
    "if 'input' in globals():\n",
    "    del input\n",
    "original_open = open\n",
    "class custom_open():\n",
    "    def __init__(self):\n",
    "        self.text = ''\n",
    "    def __call__(self, file, *args, **kwargs):\n",
    "        if file == 0:\n",
    "            return io.StringIO(self.text)\n",
    "        return original_open(file, *args, **kwargs)\n",
    "    def updater(self, change):\n",
    "        self.text = change[\"new\"]\n",
    "class custom_input():\n",
    "    def __init__(self):\n",
    "        self.__sio = io.StringIO('')\n",
    "        self.shell = get_ipython()\n",
    "        if self.shell.events.callbacks['pre_run_cell'] != []:\n",
    "            self.shell.events.callbacks['pre_run_cell'] = []\n",
    "        self.shell.events.register('pre_run_cell', self.pre_run_cell)\n",
    "    def __call__(self):\n",
    "        return self.__sio.readline().strip()\n",
    "    def pre_run_cell(self, info):\n",
    "        text = self.shell.user_ns.get('text_area', None).value\n",
    "        self.__sio = io.StringIO(text)\n",
    "open = custom_open()\n",
    "input = custom_input()\n",
    "text_area = Textarea()\n",
    "text_area.observe(open.updater, names='value')\n",
    "display(text_area)"
   ]
  },
  {
   "cell_type": "code",
   "execution_count": 12,
   "id": "f75d3c95-8bc2-418e-8ae9-7919043404bd",
   "metadata": {},
   "outputs": [
    {
     "name": "stdout",
     "output_type": "stream",
     "text": [
      "54\n"
     ]
    }
   ],
   "source": [
    "N, M = map(int, input().split())\n",
    "A = list(map(int, input().split()))\n",
    "\n",
    "INF = - 10 ** 30\n",
    "dp = [[INF] * (N+1) for _ in range(M+1)]\n",
    "\n",
    "dp[0][0] = 0\n",
    "\n",
    "for i in range(M):\n",
    "    for j in range(N):\n",
    "        if dp[i][j] == INF:\n",
    "            continue\n",
    "        \n",
    "        dp[i+1][j+1] = max(dp[i+1][j+1], dp[i][j] + (i+1)*A[j])\n",
    "        dp[i][j+1] = max(dp[i][j+1], dp[i][j])\n",
    "    \n",
    "print(max(dp[M]))"
   ]
  },
  {
   "cell_type": "code",
   "execution_count": 13,
   "id": "a0f6f20f-64f3-49fe-b9b7-d48a4728be51",
   "metadata": {},
   "outputs": [
    {
     "data": {
      "text/plain": [
       "[[0, 0, 0, 0, 0, 0, 0, 0, 0, 0, 0],\n",
       " [-1000000000000000000000000000000, -3, 1, 1, 1, 1, 9, 9, 9, 9, 9],\n",
       " [-1000000000000000000000000000000,\n",
       "  -1000000000000000000000000000000,\n",
       "  -1,\n",
       "  -1,\n",
       "  3,\n",
       "  3,\n",
       "  19,\n",
       "  19,\n",
       "  21,\n",
       "  21,\n",
       "  21],\n",
       " [-1000000000000000000000000000000,\n",
       "  -1000000000000000000000000000000,\n",
       "  -1000000000000000000000000000000,\n",
       "  -13,\n",
       "  2,\n",
       "  2,\n",
       "  30,\n",
       "  30,\n",
       "  37,\n",
       "  37,\n",
       "  37],\n",
       " [-1000000000000000000000000000000,\n",
       "  -1000000000000000000000000000000,\n",
       "  -1000000000000000000000000000000,\n",
       "  -1000000000000000000000000000000,\n",
       "  -9,\n",
       "  -18,\n",
       "  38,\n",
       "  22,\n",
       "  54,\n",
       "  17,\n",
       "  49]]"
      ]
     },
     "execution_count": 13,
     "metadata": {},
     "output_type": "execute_result"
    }
   ],
   "source": [
    "dp"
   ]
  },
  {
   "cell_type": "code",
   "execution_count": null,
   "id": "cb7b61b1-0fa2-4ce4-b995-89a1204363ed",
   "metadata": {},
   "outputs": [],
   "source": []
  }
 ],
 "metadata": {
  "kernelspec": {
   "display_name": "Python 3 (ipykernel)",
   "language": "python",
   "name": "python3"
  },
  "language_info": {
   "codemirror_mode": {
    "name": "ipython",
    "version": 3
   },
   "file_extension": ".py",
   "mimetype": "text/x-python",
   "name": "python",
   "nbconvert_exporter": "python",
   "pygments_lexer": "ipython3",
   "version": "3.9.12"
  }
 },
 "nbformat": 4,
 "nbformat_minor": 5
}
