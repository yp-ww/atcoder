{
 "cells": [
  {
   "cell_type": "code",
   "execution_count": 1,
   "id": "7e9df91b-9de0-4e89-bb13-6f665f28e2d2",
   "metadata": {},
   "outputs": [
    {
     "data": {
      "application/vnd.jupyter.widget-view+json": {
       "model_id": "6f3058e0af8e4daba6165b280cad3efb",
       "version_major": 2,
       "version_minor": 0
      },
      "text/plain": [
       "Textarea(value='')"
      ]
     },
     "metadata": {},
     "output_type": "display_data"
    }
   ],
   "source": [
    "# Ref: https://qiita.com/noca/items/00646efd9d4a7302f522\n",
    "from ipywidgets import Textarea\n",
    "import io\n",
    "if 'open' in globals():\n",
    "    del open\n",
    "if 'input' in globals():\n",
    "    del input\n",
    "original_open = open\n",
    "class custom_open():\n",
    "    def __init__(self):\n",
    "        self.text = ''\n",
    "    def __call__(self, file, *args, **kwargs):\n",
    "        if file == 0:\n",
    "            return io.StringIO(self.text)\n",
    "        return original_open(file, *args, **kwargs)\n",
    "    def updater(self, change):\n",
    "        self.text = change[\"new\"]\n",
    "class custom_input():\n",
    "    def __init__(self):\n",
    "        self.__sio = io.StringIO('')\n",
    "        self.shell = get_ipython()\n",
    "        if self.shell.events.callbacks['pre_run_cell'] != []:\n",
    "            self.shell.events.callbacks['pre_run_cell'] = []\n",
    "        self.shell.events.register('pre_run_cell', self.pre_run_cell)\n",
    "    def __call__(self):\n",
    "        return self.__sio.readline().strip()\n",
    "    def pre_run_cell(self, info):\n",
    "        text = self.shell.user_ns.get('text_area', None).value\n",
    "        self.__sio = io.StringIO(text)\n",
    "open = custom_open()\n",
    "input = custom_input()\n",
    "text_area = Textarea()\n",
    "text_area.observe(open.updater, names='value')\n",
    "display(text_area)"
   ]
  },
  {
   "cell_type": "code",
   "execution_count": 34,
   "id": "52202e0c-8db7-4b19-8d92-70fe3c4d1535",
   "metadata": {},
   "outputs": [
    {
     "name": "stdout",
     "output_type": "stream",
     "text": [
      "31\n"
     ]
    }
   ],
   "source": [
    "N, M = map(int, input().split())\n",
    "A = [0] + list(map(int, input().split()))\n",
    "\n",
    "_sum = [0] * (N+1)\n",
    "for i in range(1, N+1):\n",
    "    _sum[i] += _sum[i-1] + A[i]    \n",
    "\n",
    "_max = -1 * 10**30\n",
    "ans = [0] * (N+1)\n",
    "for s in range(1, N+1):\n",
    "    if s + M > N+1:\n",
    "        break\n",
    "    if s == 1:\n",
    "        cnt = 0\n",
    "        for i in range(1, M+1):\n",
    "            cnt += i * A[s+i-1]\n",
    "        ans[s] = cnt\n",
    "        _max = max(_max, ans[s])\n",
    "        continue\n",
    "    ans[s] = ans[s-1] - (_sum[s+M-2] - _sum[s-2]) + A[s+M-1]*M\n",
    "    # print(ans)\n",
    "    _max = max(_max, ans[s])\n",
    "print(_max)"
   ]
  },
  {
   "cell_type": "code",
   "execution_count": 32,
   "id": "f485faaf-0aac-4a46-a4ea-e5c54f6789bf",
   "metadata": {},
   "outputs": [
    {
     "data": {
      "text/plain": [
       "[0, 5, 9, 8, 16]"
      ]
     },
     "execution_count": 32,
     "metadata": {},
     "output_type": "execute_result"
    }
   ],
   "source": [
    "_sum"
   ]
  },
  {
   "cell_type": "code",
   "execution_count": null,
   "id": "9e9f74a9-a56c-4fbf-a731-f0d703d75157",
   "metadata": {},
   "outputs": [],
   "source": []
  },
  {
   "cell_type": "code",
   "execution_count": null,
   "id": "c4ef2759-ce57-4dd6-b905-353792bf2297",
   "metadata": {},
   "outputs": [],
   "source": []
  }
 ],
 "metadata": {
  "kernelspec": {
   "display_name": "Python 3 (ipykernel)",
   "language": "python",
   "name": "python3"
  },
  "language_info": {
   "codemirror_mode": {
    "name": "ipython",
    "version": 3
   },
   "file_extension": ".py",
   "mimetype": "text/x-python",
   "name": "python",
   "nbconvert_exporter": "python",
   "pygments_lexer": "ipython3",
   "version": "3.9.12"
  }
 },
 "nbformat": 4,
 "nbformat_minor": 5
}
