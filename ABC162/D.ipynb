{
 "cells": [
  {
   "cell_type": "code",
   "execution_count": 1,
   "id": "ea3b07e7-616a-4898-b181-be776ffcfc1e",
   "metadata": {},
   "outputs": [
    {
     "data": {
      "application/vnd.jupyter.widget-view+json": {
       "model_id": "9784276c521b4cafb4e622c03e89686a",
       "version_major": 2,
       "version_minor": 0
      },
      "text/plain": [
       "Textarea(value='')"
      ]
     },
     "metadata": {},
     "output_type": "display_data"
    }
   ],
   "source": [
    "# Ref: https://qiita.com/noca/items/00646efd9d4a7302f522\n",
    "from ipywidgets import Textarea\n",
    "import io\n",
    "if 'open' in globals():\n",
    "    del open\n",
    "if 'input' in globals():\n",
    "    del input\n",
    "original_open = open\n",
    "class custom_open():\n",
    "    def __init__(self):\n",
    "        self.text = ''\n",
    "    def __call__(self, file, *args, **kwargs):\n",
    "        if file == 0:\n",
    "            return io.StringIO(self.text)\n",
    "        return original_open(file, *args, **kwargs)\n",
    "    def updater(self, change):\n",
    "        self.text = change[\"new\"]\n",
    "class custom_input():\n",
    "    def __init__(self):\n",
    "        self.__sio = io.StringIO('')\n",
    "        self.shell = get_ipython()\n",
    "        if self.shell.events.callbacks['pre_run_cell'] != []:\n",
    "            self.shell.events.callbacks['pre_run_cell'] = []\n",
    "        self.shell.events.register('pre_run_cell', self.pre_run_cell)\n",
    "    def __call__(self):\n",
    "        return self.__sio.readline().strip()\n",
    "    def pre_run_cell(self, info):\n",
    "        text = self.shell.user_ns.get('text_area', None).value\n",
    "        self.__sio = io.StringIO(text)\n",
    "open = custom_open()\n",
    "input = custom_input()\n",
    "text_area = Textarea()\n",
    "text_area.observe(open.updater, names='value')\n",
    "display(text_area)"
   ]
  },
  {
   "cell_type": "code",
   "execution_count": 26,
   "id": "504129d2-4154-46aa-8855-ba12a2769622",
   "metadata": {},
   "outputs": [
    {
     "name": "stdout",
     "output_type": "stream",
     "text": [
      "1\n"
     ]
    }
   ],
   "source": [
    "import itertools\n",
    "N = int(input())\n",
    "S = input()\n",
    "\n",
    "R = [0] * N\n",
    "G = [0] * N\n",
    "B = [0] * N\n",
    "r = 0\n",
    "g = 0\n",
    "b = 0\n",
    "for i in range(N):\n",
    "    if S[i] == \"R\":\n",
    "        R[i] = 1\n",
    "        r += 1\n",
    "    elif S[i] == \"G\":\n",
    "        G[i] = 1\n",
    "        g += 1\n",
    "    else:\n",
    "        B[i] = 1\n",
    "        b += 1\n",
    "        \n",
    "def f3(x):\n",
    "    return x * (x-1) * (x-2) // 6\n",
    "\n",
    "def f2(x):\n",
    "    return x * (x-1) // 2\n",
    "\n",
    "ans = f3(N)\n",
    "ans -= f2(r) * (N-r)\n",
    "ans -= f2(g) * (N-g)\n",
    "ans -= f2(b) * (N-b)\n",
    "ans -= f3(r)\n",
    "ans -= f3(g)\n",
    "ans -= f3(b)\n",
    "\n",
    "for d in range(1, 4000):\n",
    "    for s in range(N):\n",
    "        i = s\n",
    "        j = i + d\n",
    "        k = j + d\n",
    "        if k >= N:\n",
    "            break\n",
    "        for ii, jj, kk in list(itertools.permutations((i, j, k))):\n",
    "            if R[ii] and G[jj] and B[kk]:\n",
    "                ans -= 1\n",
    "    \n",
    "print(ans)"
   ]
  },
  {
   "cell_type": "code",
   "execution_count": 25,
   "id": "ed32346e-ac84-4dcd-a3b1-e9cfe561aa62",
   "metadata": {},
   "outputs": [
    {
     "data": {
      "text/plain": [
       "1"
      ]
     },
     "execution_count": 25,
     "metadata": {},
     "output_type": "execute_result"
    }
   ],
   "source": [
    "ans"
   ]
  },
  {
   "cell_type": "code",
   "execution_count": null,
   "id": "b5a47c64-a120-4687-a3c4-b4ce821932b7",
   "metadata": {},
   "outputs": [],
   "source": []
  },
  {
   "cell_type": "code",
   "execution_count": null,
   "id": "56d0f96b-1838-4417-ace9-fa440cf45a8f",
   "metadata": {},
   "outputs": [],
   "source": []
  }
 ],
 "metadata": {
  "kernelspec": {
   "display_name": "Python 3 (ipykernel)",
   "language": "python",
   "name": "python3"
  },
  "language_info": {
   "codemirror_mode": {
    "name": "ipython",
    "version": 3
   },
   "file_extension": ".py",
   "mimetype": "text/x-python",
   "name": "python",
   "nbconvert_exporter": "python",
   "pygments_lexer": "ipython3",
   "version": "3.9.12"
  }
 },
 "nbformat": 4,
 "nbformat_minor": 5
}
