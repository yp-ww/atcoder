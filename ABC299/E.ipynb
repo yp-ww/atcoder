{
 "cells": [
  {
   "cell_type": "code",
   "execution_count": 1,
   "id": "72090d12-8697-43ad-a540-8eabed0562ce",
   "metadata": {},
   "outputs": [
    {
     "data": {
      "application/vnd.jupyter.widget-view+json": {
       "model_id": "c67b23ddb0ed4c8c917eb318193ac286",
       "version_major": 2,
       "version_minor": 0
      },
      "text/plain": [
       "Textarea(value='')"
      ]
     },
     "metadata": {},
     "output_type": "display_data"
    }
   ],
   "source": [
    "# Ref: https://qiita.com/noca/items/00646efd9d4a7302f522\n",
    "from ipywidgets import Textarea\n",
    "import io\n",
    "if 'open' in globals():\n",
    "    del open\n",
    "if 'input' in globals():\n",
    "    del input\n",
    "original_open = open\n",
    "class custom_open():\n",
    "    def __init__(self):\n",
    "        self.text = ''\n",
    "    def __call__(self, file, *args, **kwargs):\n",
    "        if file == 0:\n",
    "            return io.StringIO(self.text)\n",
    "        return original_open(file, *args, **kwargs)\n",
    "    def updater(self, change):\n",
    "        self.text = change[\"new\"]\n",
    "class custom_input():\n",
    "    def __init__(self):\n",
    "        self.__sio = io.StringIO('')\n",
    "        self.shell = get_ipython()\n",
    "        if self.shell.events.callbacks['pre_run_cell'] != []:\n",
    "            self.shell.events.callbacks['pre_run_cell'] = []\n",
    "        self.shell.events.register('pre_run_cell', self.pre_run_cell)\n",
    "    def __call__(self):\n",
    "        return self.__sio.readline().strip()\n",
    "    def pre_run_cell(self, info):\n",
    "        text = self.shell.user_ns.get('text_area', None).value\n",
    "        self.__sio = io.StringIO(text)\n",
    "open = custom_open()\n",
    "input = custom_input()\n",
    "text_area = Textarea()\n",
    "text_area.observe(open.updater, names='value')\n",
    "display(text_area)"
   ]
  },
  {
   "cell_type": "code",
   "execution_count": 93,
   "id": "69ad3754-5788-425a-a6ce-53f2080fdee5",
   "metadata": {},
   "outputs": [
    {
     "name": "stdout",
     "output_type": "stream",
     "text": [
      "Yes\n",
      "11100\n"
     ]
    }
   ],
   "source": [
    "import sys\n",
    "from collections import deque\n",
    "N, M = map(int, input().split())\n",
    "\n",
    "G = [list() for _ in range(N+1)]\n",
    "for _ in range(M):\n",
    "    u, v = map(int, input().split())\n",
    "    G[u].append(v)\n",
    "    G[v].append(u)\n",
    "    \n",
    "dis = [[-1] * (N+1) for _ in range(N+1)]\n",
    "for i in range(1, N+1):\n",
    "    q = deque()\n",
    "    q.append((i, 0))\n",
    "    dis[i][i] = 0\n",
    "    while q:\n",
    "        now, d = q.popleft()\n",
    "        for nex in G[now]:\n",
    "            if dis[i][nex] != -1:\n",
    "                continue\n",
    "            dis[i][nex] = d + 1\n",
    "            q.append((nex, d+1))\n",
    "            \n",
    "K = int(input())\n",
    "P = [[1] * (N+1) for _ in range(N+1)]\n",
    "pair = []\n",
    "for _ in range(K):\n",
    "    p, d = map(int, input().split())\n",
    "    pair.append((p, d))\n",
    "    \n",
    "    for i in range(1, N+1):\n",
    "        if dis[p][i] < d:\n",
    "            P[p][i] = 0\n",
    "            \n",
    "Q = [-1] * (N+1)\n",
    "for i in range(1, N+1):\n",
    "    a = 1\n",
    "    for j in range(1, N+1):\n",
    "        a *= P[j][i]\n",
    "    Q[i] = a\n",
    "\n",
    "flag = True\n",
    "for p, d in pair:\n",
    "    _min = 10 ** 10\n",
    "    for i in range(1, N+1):\n",
    "        if Q[i]:\n",
    "            _min = min(_min, dis[p][i])\n",
    "    if _min != d:\n",
    "        flag = False\n",
    "        break\n",
    "\n",
    "if flag:\n",
    "    print(\"Yes\")\n",
    "    print(*Q[1:], sep= \"\")\n",
    "else:\n",
    "    print(\"No\")"
   ]
  },
  {
   "cell_type": "code",
   "execution_count": 94,
   "id": "668214b1-81cd-4b0d-a336-1d2432133c0a",
   "metadata": {},
   "outputs": [
    {
     "data": {
      "text/plain": [
       "[[-1, -1, -1, -1, -1, -1],\n",
       " [-1, 0, 1, 1, 2, 3],\n",
       " [-1, 1, 0, 1, 2, 3],\n",
       " [-1, 1, 1, 0, 1, 2],\n",
       " [-1, 2, 2, 1, 0, 1],\n",
       " [-1, 3, 3, 2, 1, 0]]"
      ]
     },
     "execution_count": 94,
     "metadata": {},
     "output_type": "execute_result"
    }
   ],
   "source": [
    "dis"
   ]
  },
  {
   "cell_type": "code",
   "execution_count": 91,
   "id": "af66c975-b232-4ec5-82c5-f66cfba067c6",
   "metadata": {},
   "outputs": [
    {
     "data": {
      "text/plain": [
       "[[1, 1, 1, 1, 1, 1],\n",
       " [1, 1, 1, 1, 1, 1],\n",
       " [1, 1, 1, 1, 1, 1],\n",
       " [1, 1, 1, 1, 1, 1],\n",
       " [1, 1, 1, 1, 1, 1],\n",
       " [1, 1, 1, 1, 0, 0]]"
      ]
     },
     "execution_count": 91,
     "metadata": {},
     "output_type": "execute_result"
    }
   ],
   "source": [
    "P"
   ]
  },
  {
   "cell_type": "code",
   "execution_count": 92,
   "id": "a71570bc-824c-464d-817b-23c1c2e96a10",
   "metadata": {},
   "outputs": [
    {
     "data": {
      "text/plain": [
       "[-1, 1, 1, 1, 0, 0]"
      ]
     },
     "execution_count": 92,
     "metadata": {},
     "output_type": "execute_result"
    }
   ],
   "source": [
    "Q"
   ]
  },
  {
   "cell_type": "code",
   "execution_count": null,
   "id": "63436982-912b-4dd5-9321-9f8597921c9c",
   "metadata": {},
   "outputs": [],
   "source": []
  }
 ],
 "metadata": {
  "kernelspec": {
   "display_name": "Python 3 (ipykernel)",
   "language": "python",
   "name": "python3"
  },
  "language_info": {
   "codemirror_mode": {
    "name": "ipython",
    "version": 3
   },
   "file_extension": ".py",
   "mimetype": "text/x-python",
   "name": "python",
   "nbconvert_exporter": "python",
   "pygments_lexer": "ipython3",
   "version": "3.9.12"
  }
 },
 "nbformat": 4,
 "nbformat_minor": 5
}
