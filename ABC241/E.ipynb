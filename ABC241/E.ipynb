{
 "cells": [
  {
   "cell_type": "code",
   "execution_count": 1,
   "id": "98c226e7-7c94-4240-9f9a-feda8dc73102",
   "metadata": {},
   "outputs": [
    {
     "data": {
      "application/vnd.jupyter.widget-view+json": {
       "model_id": "dc9e0cd24d30432e9fe960c8cc96f215",
       "version_major": 2,
       "version_minor": 0
      },
      "text/plain": [
       "Textarea(value='')"
      ]
     },
     "metadata": {},
     "output_type": "display_data"
    }
   ],
   "source": [
    "# Ref: https://qiita.com/noca/items/00646efd9d4a7302f522\n",
    "from ipywidgets import Textarea\n",
    "import io\n",
    "if 'open' in globals():\n",
    "    del open\n",
    "if 'input' in globals():\n",
    "    del input\n",
    "original_open = open\n",
    "class custom_open():\n",
    "    def __init__(self):\n",
    "        self.text = ''\n",
    "    def __call__(self, file, *args, **kwargs):\n",
    "        if file == 0:\n",
    "            return io.StringIO(self.text)\n",
    "        return original_open(file, *args, **kwargs)\n",
    "    def updater(self, change):\n",
    "        self.text = change[\"new\"]\n",
    "class custom_input():\n",
    "    def __init__(self):\n",
    "        self.__sio = io.StringIO('')\n",
    "        self.shell = get_ipython()\n",
    "        if self.shell.events.callbacks['pre_run_cell'] != []:\n",
    "            self.shell.events.callbacks['pre_run_cell'] = []\n",
    "        self.shell.events.register('pre_run_cell', self.pre_run_cell)\n",
    "    def __call__(self):\n",
    "        return self.__sio.readline().strip()\n",
    "    def pre_run_cell(self, info):\n",
    "        text = self.shell.user_ns.get('text_area', None).value\n",
    "        self.__sio = io.StringIO(text)\n",
    "open = custom_open()\n",
    "input = custom_input()\n",
    "text_area = Textarea()\n",
    "text_area.observe(open.updater, names='value')\n",
    "display(text_area)"
   ]
  },
  {
   "cell_type": "code",
   "execution_count": 59,
   "id": "85cee0a3-018a-4e4e-8f08-25d624a45bbd",
   "metadata": {},
   "outputs": [
    {
     "name": "stdout",
     "output_type": "stream",
     "text": [
      "826617499998784056\n"
     ]
    }
   ],
   "source": [
    "N, K = map(int, input().split())\n",
    "A = list(map(int, input().split()))\n",
    "\n",
    "X = 0\n",
    "flag = [0] * N\n",
    "\n",
    "cnt = 0\n",
    "arr = [0]\n",
    "while cnt < K:\n",
    "    cnt += 1\n",
    "    if flag[X % N] == 0:\n",
    "        flag[X % N] = cnt\n",
    "        X += A[X % N]\n",
    "        arr.append(X)\n",
    "    else:\n",
    "        offset = flag[X % N]\n",
    "        cnt -= 1\n",
    "        break\n",
    "\n",
    "if cnt != K:\n",
    "    _sum = arr[cnt] - arr[offset-1]\n",
    "    step = (K - cnt) // (cnt - (offset - 1))\n",
    "    amari = (K - cnt) % (cnt - (offset - 1))\n",
    "    \n",
    "    X += step * _sum \n",
    "    X += arr[amari+offset-1] - arr[offset-1]\n",
    "    print(X)\n",
    "else:\n",
    "    print(X)"
   ]
  },
  {
   "cell_type": "code",
   "execution_count": 52,
   "id": "03f28594-8002-480b-bbe9-122d351244db",
   "metadata": {},
   "outputs": [
    {
     "data": {
      "text/plain": [
       "6"
      ]
     },
     "execution_count": 52,
     "metadata": {},
     "output_type": "execute_result"
    }
   ],
   "source": [
    "cnt"
   ]
  },
  {
   "cell_type": "code",
   "execution_count": 53,
   "id": "9036a8ab-da1d-4a8d-a2b6-ed592eee97fb",
   "metadata": {},
   "outputs": [
    {
     "data": {
      "text/plain": [
       "3"
      ]
     },
     "execution_count": 53,
     "metadata": {},
     "output_type": "execute_result"
    }
   ],
   "source": [
    "offset"
   ]
  },
  {
   "cell_type": "code",
   "execution_count": 54,
   "id": "32fdce5f-f9ca-4a0e-aef8-b5eb0b6b631b",
   "metadata": {},
   "outputs": [
    {
     "data": {
      "text/plain": [
       "[0, 260522, 696948, 1400445, 2090526, 3023973, 4003418]"
      ]
     },
     "execution_count": 54,
     "metadata": {},
     "output_type": "execute_result"
    }
   ],
   "source": [
    "arr"
   ]
  },
  {
   "cell_type": "code",
   "execution_count": 55,
   "id": "1244cb62-fda9-470a-bb54-9881582f50aa",
   "metadata": {},
   "outputs": [
    {
     "data": {
      "text/plain": [
       "3306470"
      ]
     },
     "execution_count": 55,
     "metadata": {},
     "output_type": "execute_result"
    }
   ],
   "source": [
    "arr[cnt] - arr[offset-1]"
   ]
  },
  {
   "cell_type": "code",
   "execution_count": 57,
   "id": "8b50d75f-e4a5-40e7-a0db-fc84aeac9f14",
   "metadata": {},
   "outputs": [
    {
     "data": {
      "text/plain": [
       "1400445"
      ]
     },
     "execution_count": 57,
     "metadata": {},
     "output_type": "execute_result"
    }
   ],
   "source": [
    "arr[offset]"
   ]
  },
  {
   "cell_type": "code",
   "execution_count": 58,
   "id": "39227632-e525-4662-88af-231f8ee6d832",
   "metadata": {},
   "outputs": [
    {
     "data": {
      "text/plain": [
       "2"
      ]
     },
     "execution_count": 58,
     "metadata": {},
     "output_type": "execute_result"
    }
   ],
   "source": [
    "amari"
   ]
  },
  {
   "cell_type": "code",
   "execution_count": null,
   "id": "52afaab7-ff19-4ffc-8481-d095bdc5215e",
   "metadata": {},
   "outputs": [],
   "source": []
  }
 ],
 "metadata": {
  "kernelspec": {
   "display_name": "Python 3 (ipykernel)",
   "language": "python",
   "name": "python3"
  },
  "language_info": {
   "codemirror_mode": {
    "name": "ipython",
    "version": 3
   },
   "file_extension": ".py",
   "mimetype": "text/x-python",
   "name": "python",
   "nbconvert_exporter": "python",
   "pygments_lexer": "ipython3",
   "version": "3.9.12"
  }
 },
 "nbformat": 4,
 "nbformat_minor": 5
}
