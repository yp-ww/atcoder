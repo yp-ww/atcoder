{
 "cells": [
  {
   "cell_type": "code",
   "execution_count": 1,
   "id": "3ac57ae3-c85b-4166-ab59-a265d4341ab6",
   "metadata": {},
   "outputs": [
    {
     "data": {
      "application/vnd.jupyter.widget-view+json": {
       "model_id": "ce3373722fa64dd881728696176de8c8",
       "version_major": 2,
       "version_minor": 0
      },
      "text/plain": [
       "Textarea(value='')"
      ]
     },
     "metadata": {},
     "output_type": "display_data"
    }
   ],
   "source": [
    "# Ref: https://qiita.com/noca/items/00646efd9d4a7302f522\n",
    "from ipywidgets import Textarea\n",
    "import io\n",
    "if 'open' in globals():\n",
    "    del open\n",
    "if 'input' in globals():\n",
    "    del input\n",
    "original_open = open\n",
    "class custom_open():\n",
    "    def __init__(self):\n",
    "        self.text = ''\n",
    "    def __call__(self, file, *args, **kwargs):\n",
    "        if file == 0:\n",
    "            return io.StringIO(self.text)\n",
    "        return original_open(file, *args, **kwargs)\n",
    "    def updater(self, change):\n",
    "        self.text = change[\"new\"]\n",
    "class custom_input():\n",
    "    def __init__(self):\n",
    "        self.__sio = io.StringIO('')\n",
    "        self.shell = get_ipython()\n",
    "        if self.shell.events.callbacks['pre_run_cell'] != []:\n",
    "            self.shell.events.callbacks['pre_run_cell'] = []\n",
    "        self.shell.events.register('pre_run_cell', self.pre_run_cell)\n",
    "    def __call__(self):\n",
    "        return self.__sio.readline().strip()\n",
    "    def pre_run_cell(self, info):\n",
    "        text = self.shell.user_ns.get('text_area', None).value\n",
    "        self.__sio = io.StringIO(text)\n",
    "open = custom_open()\n",
    "input = custom_input()\n",
    "text_area = Textarea()\n",
    "text_area.observe(open.updater, names='value')\n",
    "display(text_area)"
   ]
  },
  {
   "cell_type": "code",
   "execution_count": 39,
   "id": "a0212ad8-d4af-4cfb-81da-88501f915c76",
   "metadata": {
    "tags": []
   },
   "outputs": [
    {
     "name": "stdout",
     "output_type": "stream",
     "text": [
      "0b0 0 [0, 0, 0, 0, 0, 0, 0, 0, 0, 0, 0, 0, 0, 0, 0, 0, 0, 0, 0, 0, 0, 0, 0, 0, 0, 0]\n",
      "0b1 0 [0, 1, 0, 0, 0, 0, 0, 1, 0, 1, 0, 0, 1, 1, 0, 0, 1, 0, 0, 1, 1, 1, 0, 0, 1, 0]\n",
      "0b10 0 [0, 1, 0, 1, 1, 0, 0, 0, 0, 1, 0, 0, 1, 0, 0, 0, 1, 0, 0, 0, 0, 0, 0, 0, 1, 0]\n",
      "0b11 0 [0, 2, 0, 1, 1, 0, 0, 1, 0, 2, 0, 0, 2, 1, 0, 0, 2, 0, 0, 1, 1, 1, 0, 0, 2, 0]\n",
      "0b100 0 [0, 1, 0, 0, 1, 0, 0, 0, 0, 0, 1, 0, 0, 1, 1, 0, 0, 1, 0, 0, 0, 0, 0, 0, 0, 0]\n",
      "0b101 0 [0, 2, 0, 0, 1, 0, 0, 1, 0, 1, 1, 0, 1, 2, 1, 0, 1, 1, 0, 1, 1, 1, 0, 0, 1, 0]\n",
      "0b110 0 [0, 2, 0, 1, 2, 0, 0, 0, 0, 1, 1, 0, 1, 1, 1, 0, 1, 1, 0, 0, 0, 0, 0, 0, 1, 0]\n",
      "0b111 1 [0, 3, 0, 1, 2, 0, 0, 1, 0, 2, 1, 0, 2, 2, 1, 0, 2, 1, 0, 1, 1, 1, 0, 0, 2, 0]\n",
      "0b1000 1 [0, 1, 0, 1, 1, 1, 0, 1, 0, 1, 1, 0, 0, 0, 1, 1, 1, 0, 1, 1, 0, 1, 1, 0, 0, 0]\n",
      "0b1001 1 [0, 2, 0, 1, 1, 1, 0, 2, 0, 2, 1, 0, 1, 1, 1, 1, 2, 0, 1, 2, 1, 2, 1, 0, 1, 0]\n",
      "0b1010 1 [0, 2, 0, 2, 2, 1, 0, 1, 0, 2, 1, 0, 1, 0, 1, 1, 2, 0, 1, 1, 0, 1, 1, 0, 1, 0]\n",
      "0b1011 3 [0, 3, 0, 2, 2, 1, 0, 2, 0, 3, 1, 0, 2, 1, 1, 1, 3, 0, 1, 2, 1, 2, 1, 0, 2, 0]\n",
      "0b1100 3 [0, 2, 0, 1, 2, 1, 0, 1, 0, 1, 2, 0, 0, 1, 2, 1, 1, 1, 1, 1, 0, 1, 1, 0, 0, 0]\n",
      "0b1101 3 [0, 3, 0, 1, 2, 1, 0, 2, 0, 2, 2, 0, 1, 2, 2, 1, 2, 1, 1, 2, 1, 2, 1, 0, 1, 0]\n",
      "0b1110 3 [0, 3, 0, 2, 3, 1, 0, 1, 0, 2, 2, 0, 1, 1, 2, 1, 2, 1, 1, 1, 0, 1, 1, 0, 1, 0]\n",
      "0b1111 3 [0, 4, 0, 2, 3, 1, 0, 2, 0, 3, 2, 0, 2, 2, 2, 1, 3, 1, 1, 2, 1, 2, 1, 0, 2, 0]\n",
      "0b10000 3 [0, 1, 1, 1, 0, 1, 0, 1, 0, 1, 0, 0, 0, 1, 0, 0, 1, 0, 1, 1, 1, 0, 0, 0, 1, 1]\n",
      "0b10001 3 [0, 2, 1, 1, 0, 1, 0, 2, 0, 2, 0, 0, 1, 2, 0, 0, 2, 0, 1, 2, 2, 1, 0, 0, 2, 1]\n",
      "0b10010 3 [0, 2, 1, 2, 1, 1, 0, 1, 0, 2, 0, 0, 1, 1, 0, 0, 2, 0, 1, 1, 1, 0, 0, 0, 2, 1]\n",
      "0b10011 4 [0, 3, 1, 2, 1, 1, 0, 2, 0, 3, 0, 0, 2, 2, 0, 0, 3, 0, 1, 2, 2, 1, 0, 0, 3, 1]\n",
      "0b10100 4 [0, 2, 1, 1, 1, 1, 0, 1, 0, 1, 1, 0, 0, 2, 1, 0, 1, 1, 1, 1, 1, 0, 0, 0, 1, 1]\n",
      "0b10101 4 [0, 3, 1, 1, 1, 1, 0, 2, 0, 2, 1, 0, 1, 3, 1, 0, 2, 1, 1, 2, 2, 1, 0, 0, 2, 1]\n",
      "0b10110 4 [0, 3, 1, 2, 2, 1, 0, 1, 0, 2, 1, 0, 1, 2, 1, 0, 2, 1, 1, 1, 1, 0, 0, 0, 2, 1]\n",
      "0b10111 4 [0, 4, 1, 2, 2, 1, 0, 2, 0, 3, 1, 0, 2, 3, 1, 0, 3, 1, 1, 2, 2, 1, 0, 0, 3, 1]\n",
      "0b11000 4 [0, 2, 1, 2, 1, 2, 0, 2, 0, 2, 1, 0, 0, 1, 1, 1, 2, 0, 2, 2, 1, 1, 1, 0, 1, 1]\n",
      "0b11001 5 [0, 3, 1, 2, 1, 2, 0, 3, 0, 3, 1, 0, 1, 2, 1, 1, 3, 0, 2, 3, 2, 2, 1, 0, 2, 1]\n",
      "0b11010 5 [0, 3, 1, 3, 2, 2, 0, 2, 0, 3, 1, 0, 1, 1, 1, 1, 3, 0, 2, 2, 1, 1, 1, 0, 2, 1]\n",
      "0b11011 5 [0, 4, 1, 3, 2, 2, 0, 3, 0, 4, 1, 0, 2, 2, 1, 1, 4, 0, 2, 3, 2, 2, 1, 0, 3, 1]\n",
      "0b11100 5 [0, 3, 1, 2, 2, 2, 0, 2, 0, 2, 2, 0, 0, 2, 2, 1, 2, 1, 2, 2, 1, 1, 1, 0, 1, 1]\n",
      "0b11101 5 [0, 4, 1, 2, 2, 2, 0, 3, 0, 3, 2, 0, 1, 3, 2, 1, 3, 1, 2, 3, 2, 2, 1, 0, 2, 1]\n",
      "0b11110 5 [0, 4, 1, 3, 3, 2, 0, 2, 0, 3, 2, 0, 1, 2, 2, 1, 3, 1, 2, 2, 1, 1, 1, 0, 2, 1]\n",
      "0b11111 6 [0, 5, 1, 3, 3, 2, 0, 3, 0, 4, 2, 0, 2, 3, 2, 1, 4, 1, 2, 3, 2, 2, 1, 0, 3, 1]\n",
      "6\n"
     ]
    }
   ],
   "source": [
    "N, K = map(int, input().split())\n",
    "S = [input() for _ in range(N)]\n",
    "\n",
    "ans = 0\n",
    "for bit in range(1 << N):\n",
    "    skip = False\n",
    "    flag = [0] * (ord(\"z\") - ord(\"a\") + 1)\n",
    "    for i in range(N):\n",
    "        if bit & (1 << i):\n",
    "            for j in range(len(S[i])):\n",
    "                s = S[i][j]\n",
    "                x = ord(s) - ord(\"a\")\n",
    "                flag[x] += 1\n",
    "        \n",
    "    cnt = 0\n",
    "    for i in range(len(flag)):\n",
    "        if flag[i] == K:\n",
    "            cnt += 1\n",
    "    ans = max(cnt, ans)\n",
    "    # print(bin(bit), ans, flag)\n",
    "print(ans)"
   ]
  },
  {
   "cell_type": "code",
   "execution_count": null,
   "id": "78f9c557-af3d-43d2-9621-ddb2dbef8b6e",
   "metadata": {},
   "outputs": [],
   "source": []
  }
 ],
 "metadata": {
  "kernelspec": {
   "display_name": "Python 3 (ipykernel)",
   "language": "python",
   "name": "python3"
  },
  "language_info": {
   "codemirror_mode": {
    "name": "ipython",
    "version": 3
   },
   "file_extension": ".py",
   "mimetype": "text/x-python",
   "name": "python",
   "nbconvert_exporter": "python",
   "pygments_lexer": "ipython3",
   "version": "3.9.12"
  }
 },
 "nbformat": 4,
 "nbformat_minor": 5
}
