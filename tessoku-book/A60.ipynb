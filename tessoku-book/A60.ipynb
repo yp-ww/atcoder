{
 "cells": [
  {
   "cell_type": "code",
   "execution_count": 1,
   "id": "5efa7bbb-5630-4125-b8bc-41d56a71f590",
   "metadata": {},
   "outputs": [
    {
     "data": {
      "application/vnd.jupyter.widget-view+json": {
       "model_id": "dc63bf4a7e6849ec8b655558eb14e4dd",
       "version_major": 2,
       "version_minor": 0
      },
      "text/plain": [
       "Textarea(value='')"
      ]
     },
     "metadata": {},
     "output_type": "display_data"
    }
   ],
   "source": [
    "# Ref: https://qiita.com/noca/items/00646efd9d4a7302f522\n",
    "from ipywidgets import Textarea\n",
    "import io\n",
    "if 'open' in globals():\n",
    "    del open\n",
    "if 'input' in globals():\n",
    "    del input\n",
    "original_open = open\n",
    "class custom_open():\n",
    "    def __init__(self):\n",
    "        self.text = ''\n",
    "    def __call__(self, file, *args, **kwargs):\n",
    "        if file == 0:\n",
    "            return io.StringIO(self.text)\n",
    "        return original_open(file, *args, **kwargs)\n",
    "    def updater(self, change):\n",
    "        self.text = change[\"new\"]\n",
    "class custom_input():\n",
    "    def __init__(self):\n",
    "        self.__sio = io.StringIO('')\n",
    "        self.shell = get_ipython()\n",
    "        if self.shell.events.callbacks['pre_run_cell'] != []:\n",
    "            self.shell.events.callbacks['pre_run_cell'] = []\n",
    "        self.shell.events.register('pre_run_cell', self.pre_run_cell)\n",
    "    def __call__(self):\n",
    "        return self.__sio.readline().strip()\n",
    "    def pre_run_cell(self, info):\n",
    "        text = self.shell.user_ns.get('text_area', None).value\n",
    "        self.__sio = io.StringIO(text)\n",
    "open = custom_open()\n",
    "input = custom_input()\n",
    "text_area = Textarea()\n",
    "text_area.observe(open.updater, names='value')\n",
    "display(text_area)"
   ]
  },
  {
   "cell_type": "code",
   "execution_count": 49,
   "id": "00f7a367-e0a0-459a-bc20-99f9e6daa7d6",
   "metadata": {},
   "outputs": [
    {
     "name": "stdout",
     "output_type": "stream",
     "text": [
      "-1 1 1 3 4 3\n"
     ]
    }
   ],
   "source": [
    "from collections import deque\n",
    "N = int(input())\n",
    "A = list(map(int, input().split()))\n",
    "\n",
    "q = deque()\n",
    "ans = []\n",
    "for i in range(N):\n",
    "    if not q:\n",
    "        ans.append(-1)\n",
    "        q.append((i, A[i]))\n",
    "        continue\n",
    "\n",
    "    while q:\n",
    "        idx, x = q[-1]\n",
    "        if x <= A[i]:\n",
    "            q.pop()\n",
    "        else:\n",
    "            ans.append(idx+1)\n",
    "            q.append((i, A[i]))\n",
    "            break\n",
    "            \n",
    "    if not q:\n",
    "        ans.append(-1)\n",
    "        q.append((i, A[i]))\n",
    "        continue\n",
    "        \n",
    "print(*ans)\n",
    "\n",
    "# O(NlogNだから間に合わない)\n",
    "# from collections import defaultdict\n",
    "\n",
    "# N = int(input())\n",
    "# A = list(map(int, input().split()))\n",
    "\n",
    "# B = sorted(A)\n",
    "# d = defaultdict(int)\n",
    "# for i in range(N):\n",
    "#     d[B[i]] = i\n",
    "\n",
    "# size = 1\n",
    "# while size < len(d):\n",
    "#     size *= 2\n",
    "\n",
    "# node = [-1] * size * 2\n",
    "\n",
    "# # pos: 0-indexed\n",
    "# def update(pos, x):\n",
    "#     pos += size\n",
    "#     node[pos] = x\n",
    "#     while pos >= 2:\n",
    "#         pos //= 2\n",
    "#         node[pos] = max(node[pos*2], node[pos*2+1])\n",
    "\n",
    "# def query(l, r, a, b, n):\n",
    "#     if r <= a or b <= l:\n",
    "#         return -1\n",
    "#     if l <= a and b <= r:\n",
    "#         return node[n]\n",
    "    \n",
    "#     mid = (a + b) // 2\n",
    "#     vl = query(l, r, a, mid, n*2)\n",
    "#     vr = query(l, r, mid, b, n*2 + 1)\n",
    "#     return max(vl, vr)\n",
    "\n",
    "# ans = []\n",
    "# for i in range(N):\n",
    "#     idx = d[A[i]]\n",
    "#     update(idx, i+1)\n",
    "#     ans.append(query(idx+1, size, 0, size, 1))\n",
    "    \n",
    "# print(*ans)"
   ]
  },
  {
   "cell_type": "code",
   "execution_count": 46,
   "id": "75f11e7b-9605-4195-99cc-e90e5d344aca",
   "metadata": {},
   "outputs": [
    {
     "data": {
      "text/plain": [
       "6"
      ]
     },
     "execution_count": 46,
     "metadata": {},
     "output_type": "execute_result"
    }
   ],
   "source": [
    "len(d)"
   ]
  },
  {
   "cell_type": "code",
   "execution_count": 47,
   "id": "c75115bd-a492-4e39-8a0a-6ce88f4fa70b",
   "metadata": {},
   "outputs": [
    {
     "data": {
      "text/plain": [
       "[-1, 1, 1, 3, 4, 3]"
      ]
     },
     "execution_count": 47,
     "metadata": {},
     "output_type": "execute_result"
    }
   ],
   "source": [
    "ans"
   ]
  },
  {
   "cell_type": "code",
   "execution_count": 48,
   "id": "ecb201c9-9a59-4ddf-a8e8-54223b756a8c",
   "metadata": {},
   "outputs": [
    {
     "data": {
      "text/plain": [
       "[-1, 6, 6, 3, 5, 6, 3, -1, 5, 2, 4, 6, 3, 1, -1, -1]"
      ]
     },
     "execution_count": 48,
     "metadata": {},
     "output_type": "execute_result"
    }
   ],
   "source": [
    "node"
   ]
  },
  {
   "cell_type": "code",
   "execution_count": null,
   "id": "9c7e4c9e-4e0a-4f42-81ff-5b7b5a851f1a",
   "metadata": {},
   "outputs": [],
   "source": []
  }
 ],
 "metadata": {
  "kernelspec": {
   "display_name": "Python 3 (ipykernel)",
   "language": "python",
   "name": "python3"
  },
  "language_info": {
   "codemirror_mode": {
    "name": "ipython",
    "version": 3
   },
   "file_extension": ".py",
   "mimetype": "text/x-python",
   "name": "python",
   "nbconvert_exporter": "python",
   "pygments_lexer": "ipython3",
   "version": "3.9.12"
  }
 },
 "nbformat": 4,
 "nbformat_minor": 5
}
