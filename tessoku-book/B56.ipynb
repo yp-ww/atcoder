{
 "cells": [
  {
   "cell_type": "code",
   "execution_count": 1,
   "id": "6f16947a-2f83-461c-8dad-69fce0b70cde",
   "metadata": {},
   "outputs": [
    {
     "data": {
      "application/vnd.jupyter.widget-view+json": {
       "model_id": "83b51814cfb7418f9564455ab724ba31",
       "version_major": 2,
       "version_minor": 0
      },
      "text/plain": [
       "Textarea(value='')"
      ]
     },
     "metadata": {},
     "output_type": "display_data"
    }
   ],
   "source": [
    "# Ref: https://qiita.com/noca/items/00646efd9d4a7302f522\n",
    "from ipywidgets import Textarea\n",
    "import io\n",
    "if 'open' in globals():\n",
    "    del open\n",
    "if 'input' in globals():\n",
    "    del input\n",
    "original_open = open\n",
    "class custom_open():\n",
    "    def __init__(self):\n",
    "        self.text = ''\n",
    "    def __call__(self, file, *args, **kwargs):\n",
    "        if file == 0:\n",
    "            return io.StringIO(self.text)\n",
    "        return original_open(file, *args, **kwargs)\n",
    "    def updater(self, change):\n",
    "        self.text = change[\"new\"]\n",
    "class custom_input():\n",
    "    def __init__(self):\n",
    "        self.__sio = io.StringIO('')\n",
    "        self.shell = get_ipython()\n",
    "        if self.shell.events.callbacks['pre_run_cell'] != []:\n",
    "            self.shell.events.callbacks['pre_run_cell'] = []\n",
    "        self.shell.events.register('pre_run_cell', self.pre_run_cell)\n",
    "    def __call__(self):\n",
    "        return self.__sio.readline().strip()\n",
    "    def pre_run_cell(self, info):\n",
    "        text = self.shell.user_ns.get('text_area', None).value\n",
    "        self.__sio = io.StringIO(text)\n",
    "open = custom_open()\n",
    "input = custom_input()\n",
    "text_area = Textarea()\n",
    "text_area.observe(open.updater, names='value')\n",
    "display(text_area)"
   ]
  },
  {
   "cell_type": "code",
   "execution_count": 41,
   "id": "f1829b7f-1ae1-4c42-a7b3-cd188a4432f0",
   "metadata": {},
   "outputs": [
    {
     "name": "stdout",
     "output_type": "stream",
     "text": [
      "Yes\n",
      "No\n",
      "Yes\n"
     ]
    }
   ],
   "source": [
    "N, Q = map(int, input().split())\n",
    "S = list(input())\n",
    "SR = list(reversed(S))\n",
    "\n",
    "MOD = 10 ** 9 + 7\n",
    "B = 100\n",
    "\n",
    "powerB = [1]\n",
    "for _ in range(N):\n",
    "    powerB.append(powerB[-1] * B % MOD)\n",
    "    \n",
    "# 1-indexed\n",
    "T = [0] * (N+1)\n",
    "TR = [0] * (N+1)\n",
    "for i in range(1, N+1):\n",
    "    T[i] = ord(S[i-1]) - ord(\"a\") + 1\n",
    "    TR[i] = ord(SR[i-1]) - ord(\"a\") + 1\n",
    "\n",
    "# 1-indexed\n",
    "H = [0] * (N+1)\n",
    "HR = [0] * (N+1)\n",
    "for i in range(1, N+1):\n",
    "    H[i] = H[i-1] * B + T[i]\n",
    "    H[i] %= MOD\n",
    "    HR[i] = HR[i-1] * B + TR[i]\n",
    "    HR[i] %= MOD\n",
    "\n",
    "# [l, r]\n",
    "def hash_val(l, r):\n",
    "    return (H[r] - H[l-1] * powerB[r-l+1]) % MOD\n",
    "\n",
    "def hash_val_R(l, r):\n",
    "    return (HR[r] - HR[l-1] * powerB[r-l+1]) % MOD\n",
    "\n",
    "\n",
    "for _ in range(Q):\n",
    "    l, r = map(int, input().split())\n",
    "    ll = N-r+1\n",
    "    rr = N-l+1\n",
    "    \n",
    "    if hash_val(l, r) == hash_val_R(ll, rr):\n",
    "        print(\"Yes\")\n",
    "    else:\n",
    "        print(\"No\")"
   ]
  },
  {
   "cell_type": "code",
   "execution_count": null,
   "id": "08366624-2707-4972-a80e-52e6694fd798",
   "metadata": {},
   "outputs": [],
   "source": []
  }
 ],
 "metadata": {
  "kernelspec": {
   "display_name": "Python 3 (ipykernel)",
   "language": "python",
   "name": "python3"
  },
  "language_info": {
   "codemirror_mode": {
    "name": "ipython",
    "version": 3
   },
   "file_extension": ".py",
   "mimetype": "text/x-python",
   "name": "python",
   "nbconvert_exporter": "python",
   "pygments_lexer": "ipython3",
   "version": "3.9.12"
  }
 },
 "nbformat": 4,
 "nbformat_minor": 5
}
