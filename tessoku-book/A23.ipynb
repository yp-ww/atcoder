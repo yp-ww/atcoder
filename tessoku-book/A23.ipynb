{
 "cells": [
  {
   "cell_type": "code",
   "execution_count": 1,
   "id": "d323653f-97aa-490c-a15c-fc4a3ee51069",
   "metadata": {},
   "outputs": [
    {
     "data": {
      "application/vnd.jupyter.widget-view+json": {
       "model_id": "33f161c0fd834fc5bae26080fdf3f89f",
       "version_major": 2,
       "version_minor": 0
      },
      "text/plain": [
       "Textarea(value='')"
      ]
     },
     "metadata": {},
     "output_type": "display_data"
    }
   ],
   "source": [
    "# Ref: https://qiita.com/noca/items/00646efd9d4a7302f522\n",
    "from ipywidgets import Textarea\n",
    "import io\n",
    "if 'open' in globals():\n",
    "    del open\n",
    "if 'input' in globals():\n",
    "    del input\n",
    "original_open = open\n",
    "class custom_open():\n",
    "    def __init__(self):\n",
    "        self.text = ''\n",
    "    def __call__(self, file, *args, **kwargs):\n",
    "        if file == 0:\n",
    "            return io.StringIO(self.text)\n",
    "        return original_open(file, *args, **kwargs)\n",
    "    def updater(self, change):\n",
    "        self.text = change[\"new\"]\n",
    "class custom_input():\n",
    "    def __init__(self):\n",
    "        self.__sio = io.StringIO('')\n",
    "        self.shell = get_ipython()\n",
    "        if self.shell.events.callbacks['pre_run_cell'] != []:\n",
    "            self.shell.events.callbacks['pre_run_cell'] = []\n",
    "        self.shell.events.register('pre_run_cell', self.pre_run_cell)\n",
    "    def __call__(self):\n",
    "        return self.__sio.readline().strip()\n",
    "    def pre_run_cell(self, info):\n",
    "        text = self.shell.user_ns.get('text_area', None).value\n",
    "        self.__sio = io.StringIO(text)\n",
    "open = custom_open()\n",
    "input = custom_input()\n",
    "text_area = Textarea()\n",
    "text_area.observe(open.updater, names='value')\n",
    "display(text_area)"
   ]
  },
  {
   "cell_type": "code",
   "execution_count": 27,
   "id": "b8405449-7237-4972-8139-4eb37323e6fa",
   "metadata": {},
   "outputs": [
    {
     "name": "stdout",
     "output_type": "stream",
     "text": [
      "2\n"
     ]
    }
   ],
   "source": [
    "N, M = map(int, input().split())\n",
    "A = [list(map(int, input().split())) for _ in range(M)]\n",
    "\n",
    "bitM = [0] * M\n",
    "for i in range(M):\n",
    "    temp = 0\n",
    "    for j in range(N):\n",
    "        if A[i][j] == 1:\n",
    "            temp += (1 << j)\n",
    "    bitM[i] = temp\n",
    "\n",
    "INF = 10 ** 30\n",
    "dp = [[INF] *(1 << N) for _ in range(M+1)]\n",
    "dp[0][0] = 0\n",
    "for i in range(M):\n",
    "    for j in range(1 << N):\n",
    "        if dp[i][j] == INF:\n",
    "            continue\n",
    "        dp[i+1][j] = min(dp[i+1][j], dp[i][j])\n",
    "        dp[i+1][j | bitM[i]] = min(dp[i+1][j | bitM[i]], dp[i][j]+1)\n",
    "        \n",
    "ans = dp[M][(1 << N) - 1]\n",
    "if ans == INF:\n",
    "    print(-1)\n",
    "else:\n",
    "    print(ans)"
   ]
  },
  {
   "cell_type": "code",
   "execution_count": 26,
   "id": "6b877b9d-6351-42fd-b0c6-20569c518323",
   "metadata": {},
   "outputs": [
    {
     "data": {
      "text/plain": [
       "[[0,\n",
       "  1000000000000000000000000000000,\n",
       "  1000000000000000000000000000000,\n",
       "  1000000000000000000000000000000,\n",
       "  1000000000000000000000000000000,\n",
       "  1000000000000000000000000000000,\n",
       "  1000000000000000000000000000000,\n",
       "  1000000000000000000000000000000],\n",
       " [0,\n",
       "  1000000000000000000000000000000,\n",
       "  1000000000000000000000000000000,\n",
       "  1000000000000000000000000000000,\n",
       "  1,\n",
       "  1000000000000000000000000000000,\n",
       "  1000000000000000000000000000000,\n",
       "  1000000000000000000000000000000],\n",
       " [0,\n",
       "  1000000000000000000000000000000,\n",
       "  1,\n",
       "  1000000000000000000000000000000,\n",
       "  1,\n",
       "  1000000000000000000000000000000,\n",
       "  2,\n",
       "  1000000000000000000000000000000],\n",
       " [0, 1, 1, 2, 1, 2, 2, 3],\n",
       " [0, 1, 1, 1, 1, 2, 2, 2]]"
      ]
     },
     "execution_count": 26,
     "metadata": {},
     "output_type": "execute_result"
    }
   ],
   "source": [
    "dp"
   ]
  },
  {
   "cell_type": "code",
   "execution_count": null,
   "id": "aa4baa23-5c44-4231-bd6d-d778b831b3b0",
   "metadata": {},
   "outputs": [],
   "source": []
  }
 ],
 "metadata": {
  "kernelspec": {
   "display_name": "Python 3 (ipykernel)",
   "language": "python",
   "name": "python3"
  },
  "language_info": {
   "codemirror_mode": {
    "name": "ipython",
    "version": 3
   },
   "file_extension": ".py",
   "mimetype": "text/x-python",
   "name": "python",
   "nbconvert_exporter": "python",
   "pygments_lexer": "ipython3",
   "version": "3.9.12"
  }
 },
 "nbformat": 4,
 "nbformat_minor": 5
}
