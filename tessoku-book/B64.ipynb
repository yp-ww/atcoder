{
 "cells": [
  {
   "cell_type": "code",
   "execution_count": 1,
   "id": "69234afc-0cd0-443d-969d-5838585996a9",
   "metadata": {},
   "outputs": [
    {
     "data": {
      "application/vnd.jupyter.widget-view+json": {
       "model_id": "44c1de829ecd4dffa4540fc2318fbb19",
       "version_major": 2,
       "version_minor": 0
      },
      "text/plain": [
       "Textarea(value='')"
      ]
     },
     "metadata": {},
     "output_type": "display_data"
    }
   ],
   "source": [
    "# Ref: https://qiita.com/noca/items/00646efd9d4a7302f522\n",
    "from ipywidgets import Textarea\n",
    "import io\n",
    "if 'open' in globals():\n",
    "    del open\n",
    "if 'input' in globals():\n",
    "    del input\n",
    "original_open = open\n",
    "class custom_open():\n",
    "    def __init__(self):\n",
    "        self.text = ''\n",
    "    def __call__(self, file, *args, **kwargs):\n",
    "        if file == 0:\n",
    "            return io.StringIO(self.text)\n",
    "        return original_open(file, *args, **kwargs)\n",
    "    def updater(self, change):\n",
    "        self.text = change[\"new\"]\n",
    "class custom_input():\n",
    "    def __init__(self):\n",
    "        self.__sio = io.StringIO('')\n",
    "        self.shell = get_ipython()\n",
    "        if self.shell.events.callbacks['pre_run_cell'] != []:\n",
    "            self.shell.events.callbacks['pre_run_cell'] = []\n",
    "        self.shell.events.register('pre_run_cell', self.pre_run_cell)\n",
    "    def __call__(self):\n",
    "        return self.__sio.readline().strip()\n",
    "    def pre_run_cell(self, info):\n",
    "        text = self.shell.user_ns.get('text_area', None).value\n",
    "        self.__sio = io.StringIO(text)\n",
    "open = custom_open()\n",
    "input = custom_input()\n",
    "text_area = Textarea()\n",
    "text_area.observe(open.updater, names='value')\n",
    "display(text_area)"
   ]
  },
  {
   "cell_type": "code",
   "execution_count": 10,
   "id": "7c2ad8c1-d7d7-47df-b4f0-94e90003698c",
   "metadata": {},
   "outputs": [
    {
     "name": "stdout",
     "output_type": "stream",
     "text": [
      "1 2 5 6\n"
     ]
    }
   ],
   "source": [
    "import heapq\n",
    "N, M = map(int, input().split())\n",
    "\n",
    "G = [list() for _ in range(N)]\n",
    "for _ in range(M):\n",
    "    a, b, c = map(int, input().split())\n",
    "    a -= 1\n",
    "    b -= 1\n",
    "    G[a].append((b, c))\n",
    "    G[b].append((a, c))\n",
    "\n",
    "INF = 10 ** 30\n",
    "h = []\n",
    "heapq.heappush(h, (0, 0))\n",
    "v = [INF] * N \n",
    "while h:\n",
    "    d, now = heapq.heappop(h)\n",
    "    if v[now] != INF:\n",
    "        continue\n",
    "    v[now] = d\n",
    "    for nex, c in G[now]:\n",
    "        if v[nex] != INF:\n",
    "            continue\n",
    "        heapq.heappush(h, (d+c, nex))\n",
    "\n",
    "now = N-1\n",
    "path = [now+1]\n",
    "while now != 0:\n",
    "    for nex, c in G[now]:\n",
    "        if v[now] - c == v[nex]:\n",
    "            now = nex\n",
    "            path.append(nex+1)\n",
    "            break\n",
    "path.reverse()\n",
    "print(*path)"
   ]
  },
  {
   "cell_type": "code",
   "execution_count": 9,
   "id": "b10bc1c0-3274-4eb8-bdc9-b1d73c6f897f",
   "metadata": {},
   "outputs": [
    {
     "data": {
      "text/plain": [
       "[5, 4, 1, 0]"
      ]
     },
     "execution_count": 9,
     "metadata": {},
     "output_type": "execute_result"
    }
   ],
   "source": [
    "path"
   ]
  },
  {
   "cell_type": "code",
   "execution_count": null,
   "id": "1ea7d0e2-4e11-4d7e-b7c6-58fddbd7d39a",
   "metadata": {},
   "outputs": [],
   "source": []
  }
 ],
 "metadata": {
  "kernelspec": {
   "display_name": "Python 3 (ipykernel)",
   "language": "python",
   "name": "python3"
  },
  "language_info": {
   "codemirror_mode": {
    "name": "ipython",
    "version": 3
   },
   "file_extension": ".py",
   "mimetype": "text/x-python",
   "name": "python",
   "nbconvert_exporter": "python",
   "pygments_lexer": "ipython3",
   "version": "3.9.12"
  }
 },
 "nbformat": 4,
 "nbformat_minor": 5
}
