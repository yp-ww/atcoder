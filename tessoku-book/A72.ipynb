{
 "cells": [
  {
   "cell_type": "code",
   "execution_count": 1,
   "id": "f59182b7-fc8a-4413-80b6-0303c9bf6abe",
   "metadata": {},
   "outputs": [
    {
     "data": {
      "application/vnd.jupyter.widget-view+json": {
       "model_id": "c52d12310d2d401f827a27389a456abe",
       "version_major": 2,
       "version_minor": 0
      },
      "text/plain": [
       "Textarea(value='')"
      ]
     },
     "metadata": {},
     "output_type": "display_data"
    }
   ],
   "source": [
    "# Ref: https://qiita.com/noca/items/00646efd9d4a7302f522\n",
    "from ipywidgets import Textarea\n",
    "import io\n",
    "if 'open' in globals():\n",
    "    del open\n",
    "if 'input' in globals():\n",
    "    del input\n",
    "original_open = open\n",
    "class custom_open():\n",
    "    def __init__(self):\n",
    "        self.text = ''\n",
    "    def __call__(self, file, *args, **kwargs):\n",
    "        if file == 0:\n",
    "            return io.StringIO(self.text)\n",
    "        return original_open(file, *args, **kwargs)\n",
    "    def updater(self, change):\n",
    "        self.text = change[\"new\"]\n",
    "class custom_input():\n",
    "    def __init__(self):\n",
    "        self.__sio = io.StringIO('')\n",
    "        self.shell = get_ipython()\n",
    "        if self.shell.events.callbacks['pre_run_cell'] != []:\n",
    "            self.shell.events.callbacks['pre_run_cell'] = []\n",
    "        self.shell.events.register('pre_run_cell', self.pre_run_cell)\n",
    "    def __call__(self):\n",
    "        return self.__sio.readline().strip()\n",
    "    def pre_run_cell(self, info):\n",
    "        text = self.shell.user_ns.get('text_area', None).value\n",
    "        self.__sio = io.StringIO(text)\n",
    "open = custom_open()\n",
    "input = custom_input()\n",
    "text_area = Textarea()\n",
    "text_area.observe(open.updater, names='value')\n",
    "display(text_area)"
   ]
  },
  {
   "cell_type": "code",
   "execution_count": 18,
   "id": "77c3209b-516f-4a4c-98e3-134febd1b3e6",
   "metadata": {},
   "outputs": [
    {
     "name": "stdout",
     "output_type": "stream",
     "text": [
      "37\n"
     ]
    }
   ],
   "source": [
    "H, W, K = map(int, input().split())\n",
    "C = [list(input()) for _ in range(H)]\n",
    "\n",
    "ans = 0\n",
    "for bit in range(1<<H):\n",
    "    S = [[None]*W for _ in range(H)]\n",
    "    cnt = 0\n",
    "    for i in range(H):\n",
    "        for j in range(W):\n",
    "            S[i][j] = C[i][j]\n",
    "            if C[i][j] == \"#\":\n",
    "                cnt += 1\n",
    "    \n",
    "    k = K\n",
    "    for i in range(H):\n",
    "        if (bit >> i) & 1 == 0:\n",
    "            continue\n",
    "        k -= 1\n",
    "        for j in range(W):\n",
    "            if S[i][j] == \".\":\n",
    "                S[i][j] = \"#\"\n",
    "                cnt += 1\n",
    "                \n",
    "    if k <= -1:\n",
    "        continue\n",
    "    \n",
    "    if k == 0:\n",
    "        ans = max(ans, cnt)\n",
    "        continue\n",
    "    \n",
    "    arr = []\n",
    "    for j in range(W):\n",
    "        temp = 0\n",
    "        for i in range(H):\n",
    "            if S[i][j] == \".\":\n",
    "                temp += 1\n",
    "        arr.append(temp)\n",
    "    \n",
    "    arr.sort(reverse=1)\n",
    "    for i in range(k):\n",
    "        cnt += arr[k]\n",
    "        \n",
    "    ans = max(ans, cnt)\n",
    "    \n",
    "    \n",
    "print(ans) "
   ]
  },
  {
   "cell_type": "code",
   "execution_count": null,
   "id": "fc57249f-2638-40a9-81f2-7955380e8845",
   "metadata": {},
   "outputs": [],
   "source": []
  },
  {
   "cell_type": "code",
   "execution_count": null,
   "id": "45ddaefa-45c3-48fb-9d44-e89c60725529",
   "metadata": {},
   "outputs": [],
   "source": []
  }
 ],
 "metadata": {
  "kernelspec": {
   "display_name": "Python 3 (ipykernel)",
   "language": "python",
   "name": "python3"
  },
  "language_info": {
   "codemirror_mode": {
    "name": "ipython",
    "version": 3
   },
   "file_extension": ".py",
   "mimetype": "text/x-python",
   "name": "python",
   "nbconvert_exporter": "python",
   "pygments_lexer": "ipython3",
   "version": "3.9.12"
  }
 },
 "nbformat": 4,
 "nbformat_minor": 5
}
