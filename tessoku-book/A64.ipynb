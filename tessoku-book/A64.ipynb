{
 "cells": [
  {
   "cell_type": "code",
   "execution_count": 1,
   "id": "fac3015d-80ab-4d24-aa11-200e7970f22d",
   "metadata": {},
   "outputs": [
    {
     "data": {
      "application/vnd.jupyter.widget-view+json": {
       "model_id": "9fbda0d02c374b0a93ad1dc6435a12ac",
       "version_major": 2,
       "version_minor": 0
      },
      "text/plain": [
       "Textarea(value='')"
      ]
     },
     "metadata": {},
     "output_type": "display_data"
    }
   ],
   "source": [
    "# Ref: https://qiita.com/noca/items/00646efd9d4a7302f522\n",
    "from ipywidgets import Textarea\n",
    "import io\n",
    "if 'open' in globals():\n",
    "    del open\n",
    "if 'input' in globals():\n",
    "    del input\n",
    "original_open = open\n",
    "class custom_open():\n",
    "    def __init__(self):\n",
    "        self.text = ''\n",
    "    def __call__(self, file, *args, **kwargs):\n",
    "        if file == 0:\n",
    "            return io.StringIO(self.text)\n",
    "        return original_open(file, *args, **kwargs)\n",
    "    def updater(self, change):\n",
    "        self.text = change[\"new\"]\n",
    "class custom_input():\n",
    "    def __init__(self):\n",
    "        self.__sio = io.StringIO('')\n",
    "        self.shell = get_ipython()\n",
    "        if self.shell.events.callbacks['pre_run_cell'] != []:\n",
    "            self.shell.events.callbacks['pre_run_cell'] = []\n",
    "        self.shell.events.register('pre_run_cell', self.pre_run_cell)\n",
    "    def __call__(self):\n",
    "        return self.__sio.readline().strip()\n",
    "    def pre_run_cell(self, info):\n",
    "        text = self.shell.user_ns.get('text_area', None).value\n",
    "        self.__sio = io.StringIO(text)\n",
    "open = custom_open()\n",
    "input = custom_input()\n",
    "text_area = Textarea()\n",
    "text_area.observe(open.updater, names='value')\n",
    "display(text_area)"
   ]
  },
  {
   "cell_type": "code",
   "execution_count": 7,
   "id": "7beaca92-3348-4621-82cc-6967f3def34f",
   "metadata": {},
   "outputs": [
    {
     "name": "stdout",
     "output_type": "stream",
     "text": [
      "0\n",
      "15\n",
      "77\n",
      "20\n",
      "19\n",
      "27\n"
     ]
    }
   ],
   "source": [
    "import heapq\n",
    "N, M = map(int, input().split())\n",
    "\n",
    "G = [list() for _ in range(N)]\n",
    "\n",
    "INF = 10 ** 20\n",
    "dist = [INF] * N\n",
    "\n",
    "for _ in range(M):\n",
    "    a, b, c = map(int, input().split())\n",
    "    a -= 1\n",
    "    b -= 1\n",
    "    G[a].append((b, c))\n",
    "    G[b].append((a, c))\n",
    "    \n",
    "h = []\n",
    "heapq.heappush(h, (0, 0))\n",
    "v = [False] * N\n",
    "dist[0] = 0\n",
    "while h:\n",
    "    d_now, now = heapq.heappop(h)\n",
    "    if v[now]:\n",
    "        continue\n",
    "    v[now] = True\n",
    "    for nex, d_nex in G[now]:\n",
    "        if v[nex]:\n",
    "            continue\n",
    "        if dist[nex] > d_now + d_nex:\n",
    "            dist[nex] = d_now + d_nex\n",
    "            heapq.heappush(h, (d_now + d_nex, nex))\n",
    "            \n",
    "for d in dist:\n",
    "    if d == INF:\n",
    "        print(-1)\n",
    "    else:\n",
    "        print(d)"
   ]
  },
  {
   "cell_type": "code",
   "execution_count": 5,
   "id": "adf5c9ac-43e4-443c-b124-09efb5b1401b",
   "metadata": {},
   "outputs": [
    {
     "data": {
      "text/plain": [
       "[0, 15, 77, 20, 19, 27]"
      ]
     },
     "execution_count": 5,
     "metadata": {},
     "output_type": "execute_result"
    }
   ],
   "source": [
    "dist"
   ]
  },
  {
   "cell_type": "code",
   "execution_count": null,
   "id": "333a12cf-ba0d-4ff0-9bb7-85ee4db5ba12",
   "metadata": {},
   "outputs": [],
   "source": []
  }
 ],
 "metadata": {
  "kernelspec": {
   "display_name": "Python 3 (ipykernel)",
   "language": "python",
   "name": "python3"
  },
  "language_info": {
   "codemirror_mode": {
    "name": "ipython",
    "version": 3
   },
   "file_extension": ".py",
   "mimetype": "text/x-python",
   "name": "python",
   "nbconvert_exporter": "python",
   "pygments_lexer": "ipython3",
   "version": "3.9.12"
  }
 },
 "nbformat": 4,
 "nbformat_minor": 5
}
