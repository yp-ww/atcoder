{
 "cells": [
  {
   "cell_type": "code",
   "execution_count": 1,
   "id": "3102d9be-e23b-4cb6-b7f0-3ea43ed9e0bf",
   "metadata": {},
   "outputs": [
    {
     "data": {
      "application/vnd.jupyter.widget-view+json": {
       "model_id": "feb6acc0b4f94fab83871e78dd3eae8c",
       "version_major": 2,
       "version_minor": 0
      },
      "text/plain": [
       "Textarea(value='')"
      ]
     },
     "metadata": {},
     "output_type": "display_data"
    }
   ],
   "source": [
    "# Ref: https://qiita.com/noca/items/00646efd9d4a7302f522\n",
    "from ipywidgets import Textarea\n",
    "import io\n",
    "if 'open' in globals():\n",
    "    del open\n",
    "if 'input' in globals():\n",
    "    del input\n",
    "original_open = open\n",
    "class custom_open():\n",
    "    def __init__(self):\n",
    "        self.text = ''\n",
    "    def __call__(self, file, *args, **kwargs):\n",
    "        if file == 0:\n",
    "            return io.StringIO(self.text)\n",
    "        return original_open(file, *args, **kwargs)\n",
    "    def updater(self, change):\n",
    "        self.text = change[\"new\"]\n",
    "class custom_input():\n",
    "    def __init__(self):\n",
    "        self.__sio = io.StringIO('')\n",
    "        self.shell = get_ipython()\n",
    "        if self.shell.events.callbacks['pre_run_cell'] != []:\n",
    "            self.shell.events.callbacks['pre_run_cell'] = []\n",
    "        self.shell.events.register('pre_run_cell', self.pre_run_cell)\n",
    "    def __call__(self):\n",
    "        return self.__sio.readline().strip()\n",
    "    def pre_run_cell(self, info):\n",
    "        text = self.shell.user_ns.get('text_area', None).value\n",
    "        self.__sio = io.StringIO(text)\n",
    "open = custom_open()\n",
    "input = custom_input()\n",
    "text_area = Textarea()\n",
    "text_area.observe(open.updater, names='value')\n",
    "display(text_area)"
   ]
  },
  {
   "cell_type": "code",
   "execution_count": 43,
   "id": "70d79d45-ab5b-495e-9b65-6f818635e295",
   "metadata": {},
   "outputs": [
    {
     "name": "stdout",
     "output_type": "stream",
     "text": [
      "binsearch\n",
      "math\n",
      "heuristics\n",
      "graph\n"
     ]
    }
   ],
   "source": [
    "from collections import deque\n",
    "Q = int(input())\n",
    "\n",
    "q0 = deque()\n",
    "q1 = deque()\n",
    "for _ in range(Q):\n",
    "    q = input().split()\n",
    "    if q[0] == \"A\":\n",
    "        x = q[1]\n",
    "        if len(q0) == 0:\n",
    "            q0.append(x)\n",
    "            \n",
    "        elif len(q0) == len(q1):\n",
    "            temp = q1.popleft()\n",
    "            q0.append(temp)\n",
    "            q1.append(x)\n",
    "            \n",
    "        elif len(q0) > len(q1):\n",
    "            q1.append(x)\n",
    "        else:\n",
    "            sys.exit(1)\n",
    "            \n",
    "    if q[0] == \"B\":\n",
    "        x = q[1]\n",
    "        if len(q0) == 0:\n",
    "            q0.append(x)\n",
    "            \n",
    "        elif len(q0) == len(q1):\n",
    "            q0.append(x)\n",
    "            \n",
    "        elif len(q0) > len(q1):\n",
    "            q1.appendleft(x)\n",
    "            \n",
    "        else:\n",
    "            sys.exit(1)\n",
    "            \n",
    "    if q[0] == \"C\":\n",
    "        q0.popleft()\n",
    "        if q1 and len(q0) < len(q1):\n",
    "            temp = q1.popleft()\n",
    "            q0.append(temp)\n",
    "        \n",
    "    if q[0] == \"D\":\n",
    "        print(q0[0])\n"
   ]
  },
  {
   "cell_type": "code",
   "execution_count": 34,
   "id": "a7f91322-3d58-44c2-a11a-fb1d4629f1b7",
   "metadata": {},
   "outputs": [
    {
     "data": {
      "text/plain": [
       "[(2.8125, 'graph'), (3, 'dp'), (2.875, 'ds')]"
      ]
     },
     "execution_count": 34,
     "metadata": {},
     "output_type": "execute_result"
    }
   ],
   "source": [
    "h"
   ]
  },
  {
   "cell_type": "code",
   "execution_count": null,
   "id": "ca3badbc-d215-445f-b5b5-b3df1bada353",
   "metadata": {},
   "outputs": [],
   "source": []
  }
 ],
 "metadata": {
  "kernelspec": {
   "display_name": "Python 3 (ipykernel)",
   "language": "python",
   "name": "python3"
  },
  "language_info": {
   "codemirror_mode": {
    "name": "ipython",
    "version": 3
   },
   "file_extension": ".py",
   "mimetype": "text/x-python",
   "name": "python",
   "nbconvert_exporter": "python",
   "pygments_lexer": "ipython3",
   "version": "3.9.12"
  }
 },
 "nbformat": 4,
 "nbformat_minor": 5
}
