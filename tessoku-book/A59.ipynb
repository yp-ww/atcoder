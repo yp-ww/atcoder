{
 "cells": [
  {
   "cell_type": "code",
   "execution_count": 2,
   "id": "3734dc50-83bb-43e2-9049-4ccdc18ac64d",
   "metadata": {},
   "outputs": [
    {
     "data": {
      "application/vnd.jupyter.widget-view+json": {
       "model_id": "b59f6898d10d469c972c0a1600e17c7c",
       "version_major": 2,
       "version_minor": 0
      },
      "text/plain": [
       "Textarea(value='')"
      ]
     },
     "metadata": {},
     "output_type": "display_data"
    }
   ],
   "source": [
    "# Ref: https://qiita.com/noca/items/00646efd9d4a7302f522\n",
    "from ipywidgets import Textarea\n",
    "import io\n",
    "if 'open' in globals():\n",
    "    del open\n",
    "if 'input' in globals():\n",
    "    del input\n",
    "original_open = open\n",
    "class custom_open():\n",
    "    def __init__(self):\n",
    "        self.text = ''\n",
    "    def __call__(self, file, *args, **kwargs):\n",
    "        if file == 0:\n",
    "            return io.StringIO(self.text)\n",
    "        return original_open(file, *args, **kwargs)\n",
    "    def updater(self, change):\n",
    "        self.text = change[\"new\"]\n",
    "class custom_input():\n",
    "    def __init__(self):\n",
    "        self.__sio = io.StringIO('')\n",
    "        self.shell = get_ipython()\n",
    "        if self.shell.events.callbacks['pre_run_cell'] != []:\n",
    "            self.shell.events.callbacks['pre_run_cell'] = []\n",
    "        self.shell.events.register('pre_run_cell', self.pre_run_cell)\n",
    "    def __call__(self):\n",
    "        return self.__sio.readline().strip()\n",
    "    def pre_run_cell(self, info):\n",
    "        text = self.shell.user_ns.get('text_area', None).value\n",
    "        self.__sio = io.StringIO(text)\n",
    "open = custom_open()\n",
    "input = custom_input()\n",
    "text_area = Textarea()\n",
    "text_area.observe(open.updater, names='value')\n",
    "display(text_area)"
   ]
  },
  {
   "cell_type": "code",
   "execution_count": 3,
   "id": "eb8c40f5-c70e-4812-85da-3593f7af8ee7",
   "metadata": {},
   "outputs": [
    {
     "name": "stdout",
     "output_type": "stream",
     "text": [
      "24\n",
      "40\n"
     ]
    }
   ],
   "source": [
    "N, Q = map(int, input().split())\n",
    "\n",
    "size = 1\n",
    "while size < N:\n",
    "    size *= 2\n",
    "node = [0] * size * 2\n",
    "\n",
    "# pos: 0-indexed\n",
    "def update(pos, x):\n",
    "    pos += size\n",
    "    node[pos] = x\n",
    "    while pos >= 2:\n",
    "        pos //= 2\n",
    "        node[pos] = node[pos*2] + node[pos*2+1]\n",
    "        \n",
    "def query(l, r, a, b, n):\n",
    "    if r <= a or b <= l:\n",
    "        return 0\n",
    "    \n",
    "    if l <= a and b <= r:\n",
    "        return node[n]\n",
    "    \n",
    "    mid = (a + b) // 2\n",
    "    vl = query(l, r, a, mid, n*2)\n",
    "    vr = query(l, r, mid, b, n*2 + 1)\n",
    "    return vl + vr\n",
    "\n",
    "for _ in range(Q):\n",
    "    q = list(map(int, input().split()))\n",
    "    if q[0] == 1:\n",
    "        pos = q[1]\n",
    "        pos -= 1\n",
    "        x = q[2]\n",
    "        update(pos, x)\n",
    "        \n",
    "    if q[0] == 2:\n",
    "        l = q[1]\n",
    "        r = q[2]\n",
    "        l -= 1\n",
    "        r -= 1\n",
    "        ans = query(l, r, 0, size, 1)\n",
    "        print(ans)"
   ]
  },
  {
   "cell_type": "code",
   "execution_count": null,
   "id": "6852f9c1-469b-40d0-93ee-5270d9cf0d29",
   "metadata": {},
   "outputs": [],
   "source": []
  }
 ],
 "metadata": {
  "kernelspec": {
   "display_name": "Python 3 (ipykernel)",
   "language": "python",
   "name": "python3"
  },
  "language_info": {
   "codemirror_mode": {
    "name": "ipython",
    "version": 3
   },
   "file_extension": ".py",
   "mimetype": "text/x-python",
   "name": "python",
   "nbconvert_exporter": "python",
   "pygments_lexer": "ipython3",
   "version": "3.9.12"
  }
 },
 "nbformat": 4,
 "nbformat_minor": 5
}
