{
 "cells": [
  {
   "cell_type": "code",
   "execution_count": 1,
   "id": "cb54f90b-003a-41af-8cdd-a5fd21ddeeda",
   "metadata": {},
   "outputs": [
    {
     "data": {
      "application/vnd.jupyter.widget-view+json": {
       "model_id": "844ca54632a6475381868e75db32dc6c",
       "version_major": 2,
       "version_minor": 0
      },
      "text/plain": [
       "Textarea(value='')"
      ]
     },
     "metadata": {},
     "output_type": "display_data"
    }
   ],
   "source": [
    "# Ref: https://qiita.com/noca/items/00646efd9d4a7302f522\n",
    "from ipywidgets import Textarea\n",
    "import io\n",
    "if 'open' in globals():\n",
    "    del open\n",
    "if 'input' in globals():\n",
    "    del input\n",
    "original_open = open\n",
    "class custom_open():\n",
    "    def __init__(self):\n",
    "        self.text = ''\n",
    "    def __call__(self, file, *args, **kwargs):\n",
    "        if file == 0:\n",
    "            return io.StringIO(self.text)\n",
    "        return original_open(file, *args, **kwargs)\n",
    "    def updater(self, change):\n",
    "        self.text = change[\"new\"]\n",
    "class custom_input():\n",
    "    def __init__(self):\n",
    "        self.__sio = io.StringIO('')\n",
    "        self.shell = get_ipython()\n",
    "        if self.shell.events.callbacks['pre_run_cell'] != []:\n",
    "            self.shell.events.callbacks['pre_run_cell'] = []\n",
    "        self.shell.events.register('pre_run_cell', self.pre_run_cell)\n",
    "    def __call__(self):\n",
    "        return self.__sio.readline().strip()\n",
    "    def pre_run_cell(self, info):\n",
    "        text = self.shell.user_ns.get('text_area', None).value\n",
    "        self.__sio = io.StringIO(text)\n",
    "open = custom_open()\n",
    "input = custom_input()\n",
    "text_area = Textarea()\n",
    "text_area.observe(open.updater, names='value')\n",
    "display(text_area)"
   ]
  },
  {
   "cell_type": "code",
   "execution_count": 34,
   "id": "1beb13c3-0a96-4527-878f-32e2061448fc",
   "metadata": {},
   "outputs": [
    {
     "name": "stdout",
     "output_type": "stream",
     "text": [
      "4\n"
     ]
    }
   ],
   "source": [
    "N = int(input())\n",
    "MAX = 10 ** 4\n",
    "dp = [[-1] * MAX for _ in range(N+1)]\n",
    "\n",
    "DT = []\n",
    "for _ in range(N):\n",
    "    t, d = map(int, input().split())\n",
    "    DT.append((d, t))\n",
    "DT.sort()\n",
    "\n",
    "dp[0][0] = 0\n",
    "for i in range(N):\n",
    "    d, t = DT[i]\n",
    "    for j in range(MAX):\n",
    "        if dp[i][j] == -1:\n",
    "            continue\n",
    "        dp[i+1][j] = max(dp[i][j], dp[i+1][j])\n",
    "        if j + t <= d:\n",
    "            dp[i+1][j+t] = max(dp[i+1][j+t], dp[i][j] + 1)\n",
    "print(max(dp[N]))"
   ]
  },
  {
   "cell_type": "code",
   "execution_count": 33,
   "id": "4d401fc5-210a-4c8a-92e0-7e526bb1d76c",
   "metadata": {},
   "outputs": [
    {
     "data": {
      "text/plain": [
       "[(40, 30), (50, 10), (50, 20), (50, 20), (50, 20), (80, 30)]"
      ]
     },
     "execution_count": 33,
     "metadata": {},
     "output_type": "execute_result"
    }
   ],
   "source": [
    "DT"
   ]
  },
  {
   "cell_type": "code",
   "execution_count": null,
   "id": "257f5959-069b-4821-88c0-faa56b43088f",
   "metadata": {},
   "outputs": [],
   "source": []
  }
 ],
 "metadata": {
  "kernelspec": {
   "display_name": "Python 3 (ipykernel)",
   "language": "python",
   "name": "python3"
  },
  "language_info": {
   "codemirror_mode": {
    "name": "ipython",
    "version": 3
   },
   "file_extension": ".py",
   "mimetype": "text/x-python",
   "name": "python",
   "nbconvert_exporter": "python",
   "pygments_lexer": "ipython3",
   "version": "3.9.12"
  }
 },
 "nbformat": 4,
 "nbformat_minor": 5
}
