{
 "cells": [
  {
   "cell_type": "code",
   "execution_count": 1,
   "id": "421cd0e1-9b2f-416c-9c9b-d27ff9b5d5fb",
   "metadata": {},
   "outputs": [
    {
     "data": {
      "application/vnd.jupyter.widget-view+json": {
       "model_id": "f6971466dafb4b078b13cd5aa29ac7c5",
       "version_major": 2,
       "version_minor": 0
      },
      "text/plain": [
       "Textarea(value='')"
      ]
     },
     "metadata": {},
     "output_type": "display_data"
    }
   ],
   "source": [
    "# Ref: https://qiita.com/noca/items/00646efd9d4a7302f522\n",
    "from ipywidgets import Textarea\n",
    "import io\n",
    "if 'open' in globals():\n",
    "    del open\n",
    "if 'input' in globals():\n",
    "    del input\n",
    "original_open = open\n",
    "class custom_open():\n",
    "    def __init__(self):\n",
    "        self.text = ''\n",
    "    def __call__(self, file, *args, **kwargs):\n",
    "        if file == 0:\n",
    "            return io.StringIO(self.text)\n",
    "        return original_open(file, *args, **kwargs)\n",
    "    def updater(self, change):\n",
    "        self.text = change[\"new\"]\n",
    "class custom_input():\n",
    "    def __init__(self):\n",
    "        self.__sio = io.StringIO('')\n",
    "        self.shell = get_ipython()\n",
    "        if self.shell.events.callbacks['pre_run_cell'] != []:\n",
    "            self.shell.events.callbacks['pre_run_cell'] = []\n",
    "        self.shell.events.register('pre_run_cell', self.pre_run_cell)\n",
    "    def __call__(self):\n",
    "        return self.__sio.readline().strip()\n",
    "    def pre_run_cell(self, info):\n",
    "        text = self.shell.user_ns.get('text_area', None).value\n",
    "        self.__sio = io.StringIO(text)\n",
    "open = custom_open()\n",
    "input = custom_input()\n",
    "text_area = Textarea()\n",
    "text_area.observe(open.updater, names='value')\n",
    "display(text_area)"
   ]
  },
  {
   "cell_type": "code",
   "execution_count": 44,
   "id": "c5b5f2ec-25ba-46cf-adf2-29d47ad13000",
   "metadata": {},
   "outputs": [
    {
     "name": "stdout",
     "output_type": "stream",
     "text": [
      "18 8 7 6 3 3 2 1 1 1 0 0 0 0 0\n"
     ]
    }
   ],
   "source": [
    "N, K = map(int, input().split())\n",
    "A = list(map(int, input().split()))\n",
    "\n",
    "def f(x):\n",
    "    temp = 0\n",
    "    for i in range(N):\n",
    "        temp += A[i] * (10**6) // x\n",
    "    return temp\n",
    "\n",
    "l = 0\n",
    "r = 10 ** 15 + 10\n",
    "while r - l > 1:\n",
    "    mid = (l + r) // 2\n",
    "    if f(mid) >= K:\n",
    "        l = mid\n",
    "    else:\n",
    "        r = mid\n",
    "\n",
    "B = [0] * N\n",
    "for i in range(N):\n",
    "    B[i] = A[i] * (10**6) // l\n",
    "print(*B)"
   ]
  },
  {
   "cell_type": "code",
   "execution_count": 45,
   "id": "3785487b-75e7-4e02-a259-3f4c9de2a1a9",
   "metadata": {},
   "outputs": [
    {
     "data": {
      "text/plain": [
       "967420714285"
      ]
     },
     "execution_count": 45,
     "metadata": {},
     "output_type": "execute_result"
    }
   ],
   "source": [
    "l"
   ]
  },
  {
   "cell_type": "code",
   "execution_count": 46,
   "id": "7c1877de-cbd9-494d-8a43-c512a48c63c8",
   "metadata": {},
   "outputs": [
    {
     "name": "stdout",
     "output_type": "stream",
     "text": [
      "50\n"
     ]
    }
   ],
   "source": [
    "print(sum(B))"
   ]
  },
  {
   "cell_type": "code",
   "execution_count": null,
   "id": "9bfaf10d-4e74-4e55-89b0-f3fc58e3b8bb",
   "metadata": {},
   "outputs": [],
   "source": []
  }
 ],
 "metadata": {
  "kernelspec": {
   "display_name": "Python 3 (ipykernel)",
   "language": "python",
   "name": "python3"
  },
  "language_info": {
   "codemirror_mode": {
    "name": "ipython",
    "version": 3
   },
   "file_extension": ".py",
   "mimetype": "text/x-python",
   "name": "python",
   "nbconvert_exporter": "python",
   "pygments_lexer": "ipython3",
   "version": "3.9.12"
  }
 },
 "nbformat": 4,
 "nbformat_minor": 5
}
