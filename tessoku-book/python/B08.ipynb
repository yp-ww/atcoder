{
 "cells": [
  {
   "cell_type": "code",
   "execution_count": 1,
   "id": "055c59da-0a93-4478-85b4-5617c846f4a4",
   "metadata": {},
   "outputs": [
    {
     "data": {
      "application/vnd.jupyter.widget-view+json": {
       "model_id": "210a3c26e65745beb31fade36a4aedb4",
       "version_major": 2,
       "version_minor": 0
      },
      "text/plain": [
       "Textarea(value='')"
      ]
     },
     "metadata": {},
     "output_type": "display_data"
    }
   ],
   "source": [
    "# Ref: https://qiita.com/noca/items/00646efd9d4a7302f522\n",
    "from ipywidgets import Textarea\n",
    "import io\n",
    "if 'open' in globals():\n",
    "    del open\n",
    "if 'input' in globals():\n",
    "    del input\n",
    "original_open = open\n",
    "class custom_open():\n",
    "    def __init__(self):\n",
    "        self.text = ''\n",
    "    def __call__(self, file, *args, **kwargs):\n",
    "        if file == 0:\n",
    "            return io.StringIO(self.text)\n",
    "        return original_open(file, *args, **kwargs)\n",
    "    def updater(self, change):\n",
    "        self.text = change[\"new\"]\n",
    "class custom_input():\n",
    "    def __init__(self):\n",
    "        self.__sio = io.StringIO('')\n",
    "        self.shell = get_ipython()\n",
    "        if self.shell.events.callbacks['pre_run_cell'] != []:\n",
    "            self.shell.events.callbacks['pre_run_cell'] = []\n",
    "        self.shell.events.register('pre_run_cell', self.pre_run_cell)\n",
    "    def __call__(self):\n",
    "        return self.__sio.readline().strip()\n",
    "    def pre_run_cell(self, info):\n",
    "        text = self.shell.user_ns.get('text_area', None).value\n",
    "        self.__sio = io.StringIO(text)\n",
    "open = custom_open()\n",
    "input = custom_input()\n",
    "text_area = Textarea()\n",
    "text_area.observe(open.updater, names='value')\n",
    "display(text_area)"
   ]
  },
  {
   "cell_type": "code",
   "execution_count": 7,
   "id": "e322f07c-85f4-4663-abac-f48ed7958928",
   "metadata": {},
   "outputs": [
    {
     "name": "stdout",
     "output_type": "stream",
     "text": [
      "5\n",
      "2\n",
      "4\n"
     ]
    }
   ],
   "source": [
    "N = int(input())\n",
    "\n",
    "MAX = 1500\n",
    "arr = [[0] * (MAX + 1) for _ in range(MAX + 1)]\n",
    "\n",
    "for _ in range(N):\n",
    "    x, y = map(int, input().split())\n",
    "    arr[x][y] += 1\n",
    "    \n",
    "for i in range(1, MAX+1):\n",
    "    for j in range(1, MAX+1):\n",
    "        arr[i][j] = arr[i][j-1] + arr[i][j]\n",
    "        \n",
    "for i in range(1, MAX+1):\n",
    "    for j in range(1, MAX+1):\n",
    "        arr[i][j] = arr[i-1][j] + arr[i][j]\n",
    "        \n",
    "Q = int(input())\n",
    "for _ in range(Q):\n",
    "    a, b, c, d = map(int, input().split())\n",
    "    print(arr[c][d] + arr[a-1][b-1] - arr[c][b-1] - arr[a-1][d])"
   ]
  },
  {
   "cell_type": "code",
   "execution_count": 5,
   "id": "c255aba0-e0f1-4548-bfa0-03bb8993ecd1",
   "metadata": {},
   "outputs": [
    {
     "data": {
      "text/plain": [
       "[[0, 0, 0, 0, 0, 0, 0, 0, 0, 0, 0, 0, 0, 0, 0, 0],\n",
       " [0, 0, 0, 1, 1, 1, 1, 1, 1, 1, 1, 1, 1, 1, 1, 1],\n",
       " [0, 0, 0, 1, 1, 2, 3, 3, 3, 3, 3, 3, 3, 3, 3, 3],\n",
       " [0, 0, 0, 2, 3, 4, 5, 5, 5, 5, 5, 5, 5, 5, 5, 5],\n",
       " [0, 0, 0, 2, 3, 4, 5, 5, 5, 5, 5, 5, 5, 5, 5, 5],\n",
       " [0, 0, 0, 2, 3, 4, 5, 5, 5, 5, 5, 5, 5, 5, 5, 5],\n",
       " [0, 0, 0, 2, 3, 4, 5, 5, 5, 5, 5, 5, 5, 5, 5, 5],\n",
       " [0, 0, 0, 2, 3, 4, 5, 5, 5, 5, 5, 5, 5, 5, 5, 5],\n",
       " [0, 0, 0, 2, 3, 4, 5, 5, 5, 5, 5, 5, 5, 5, 5, 5],\n",
       " [0, 0, 0, 2, 3, 4, 5, 5, 5, 5, 5, 5, 5, 5, 5, 5],\n",
       " [0, 0, 0, 2, 3, 4, 5, 5, 5, 5, 5, 5, 5, 5, 5, 5],\n",
       " [0, 0, 0, 2, 3, 4, 5, 5, 5, 5, 5, 5, 5, 5, 5, 5],\n",
       " [0, 0, 0, 2, 3, 4, 5, 5, 5, 5, 5, 5, 5, 5, 5, 5],\n",
       " [0, 0, 0, 2, 3, 4, 5, 5, 5, 5, 5, 5, 5, 5, 5, 5],\n",
       " [0, 0, 0, 2, 3, 4, 5, 5, 5, 5, 5, 5, 5, 5, 5, 5],\n",
       " [0, 0, 0, 2, 3, 4, 5, 5, 5, 5, 5, 5, 5, 5, 5, 5]]"
      ]
     },
     "execution_count": 5,
     "metadata": {},
     "output_type": "execute_result"
    }
   ],
   "source": [
    "arr"
   ]
  },
  {
   "cell_type": "code",
   "execution_count": null,
   "id": "d9fc9502-c4f7-429c-b4d7-6ec01dc36805",
   "metadata": {},
   "outputs": [],
   "source": []
  }
 ],
 "metadata": {
  "kernelspec": {
   "display_name": "Python 3 (ipykernel)",
   "language": "python",
   "name": "python3"
  },
  "language_info": {
   "codemirror_mode": {
    "name": "ipython",
    "version": 3
   },
   "file_extension": ".py",
   "mimetype": "text/x-python",
   "name": "python",
   "nbconvert_exporter": "python",
   "pygments_lexer": "ipython3",
   "version": "3.9.12"
  }
 },
 "nbformat": 4,
 "nbformat_minor": 5
}
