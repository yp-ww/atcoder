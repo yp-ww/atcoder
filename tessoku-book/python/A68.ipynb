{
 "cells": [
  {
   "cell_type": "code",
   "execution_count": 1,
   "id": "1b0be62b-35ed-499f-b283-85546b14054b",
   "metadata": {},
   "outputs": [
    {
     "data": {
      "application/vnd.jupyter.widget-view+json": {
       "model_id": "719b62ac39bb4e659b119adfec9299c5",
       "version_major": 2,
       "version_minor": 0
      },
      "text/plain": [
       "Textarea(value='')"
      ]
     },
     "metadata": {},
     "output_type": "display_data"
    }
   ],
   "source": [
    "# Ref: https://qiita.com/noca/items/00646efd9d4a7302f522\n",
    "from ipywidgets import Textarea\n",
    "import io\n",
    "if 'open' in globals():\n",
    "    del open\n",
    "if 'input' in globals():\n",
    "    del input\n",
    "original_open = open\n",
    "class custom_open():\n",
    "    def __init__(self):\n",
    "        self.text = ''\n",
    "    def __call__(self, file, *args, **kwargs):\n",
    "        if file == 0:\n",
    "            return io.StringIO(self.text)\n",
    "        return original_open(file, *args, **kwargs)\n",
    "    def updater(self, change):\n",
    "        self.text = change[\"new\"]\n",
    "class custom_input():\n",
    "    def __init__(self):\n",
    "        self.__sio = io.StringIO('')\n",
    "        self.shell = get_ipython()\n",
    "        if self.shell.events.callbacks['pre_run_cell'] != []:\n",
    "            self.shell.events.callbacks['pre_run_cell'] = []\n",
    "        self.shell.events.register('pre_run_cell', self.pre_run_cell)\n",
    "    def __call__(self):\n",
    "        return self.__sio.readline().strip()\n",
    "    def pre_run_cell(self, info):\n",
    "        text = self.shell.user_ns.get('text_area', None).value\n",
    "        self.__sio = io.StringIO(text)\n",
    "open = custom_open()\n",
    "input = custom_input()\n",
    "text_area = Textarea()\n",
    "text_area.observe(open.updater, names='value')\n",
    "display(text_area)"
   ]
  },
  {
   "cell_type": "code",
   "execution_count": 30,
   "id": "b99bb31f-bfe4-4bcf-b28d-5edd70602029",
   "metadata": {},
   "outputs": [
    {
     "name": "stdout",
     "output_type": "stream",
     "text": [
      "8\n"
     ]
    }
   ],
   "source": [
    "from collections import defaultdict\n",
    "N, M = map(int, input().split())\n",
    "\n",
    "G = [list() for _ in range(N)]\n",
    "GT = [defaultdict(int) for _ in range(N)]\n",
    "GB = [defaultdict(int) for _ in range(N)]\n",
    "\n",
    "for _ in range(M):\n",
    "    a, b, c = map(int, input().split())\n",
    "    a -= 1\n",
    "    b -= 1\n",
    "    G[a].append(b)\n",
    "    G[b].append(a)\n",
    "    GT[a][b] = c\n",
    "    GB[b][a] = 0\n",
    "\n",
    "ans = 0\n",
    "while 1:\n",
    "    _min = 10 ** 20\n",
    "    v = [False] * N\n",
    "    flag = False\n",
    "    cost = []\n",
    "    \n",
    "    def dfs(x):\n",
    "        global flag\n",
    "        global _min\n",
    "        global ans\n",
    "        \n",
    "        v[x] = True\n",
    "        if x == N-1:\n",
    "            flag = True\n",
    "            _min = min(cost)\n",
    "            ans += _min\n",
    "            return \n",
    "        \n",
    "        for nex in G[x]:\n",
    "            if v[nex]:\n",
    "                continue\n",
    "                \n",
    "            if GT[x][nex]:\n",
    "                cost.append(GT[x][nex])\n",
    "                dfs(nex)\n",
    "                if flag:\n",
    "                    GT[x][nex] -= _min\n",
    "                    GB[nex][x] += _min\n",
    "                    return\n",
    "                cost.pop()\n",
    "                    \n",
    "            if GB[x][nex]:\n",
    "                cost.append(GB[x][nex])\n",
    "                dfs(nex)\n",
    "                if flag:\n",
    "                    GB[x][nex] -= _min\n",
    "                    GT[nex][x] += _min\n",
    "                    return\n",
    "                cost.pop()\n",
    "        return \n",
    "    \n",
    "    dfs(0)\n",
    "    if not flag:\n",
    "        break\n",
    "    \n",
    "print(ans)"
   ]
  },
  {
   "cell_type": "code",
   "execution_count": 27,
   "id": "e32fbf56-43f7-4470-ba59-4d211e585b9d",
   "metadata": {},
   "outputs": [
    {
     "data": {
      "text/plain": [
       "[defaultdict(int, {1: 0, 3: 1}),\n",
       " defaultdict(int, {2: 1, 4: 5}),\n",
       " defaultdict(int, {5: 0}),\n",
       " defaultdict(int, {4: 0}),\n",
       " defaultdict(int, {5: 0, 3: 0, 1: 0}),\n",
       " defaultdict(int, {})]"
      ]
     },
     "execution_count": 27,
     "metadata": {},
     "output_type": "execute_result"
    }
   ],
   "source": [
    "GT"
   ]
  },
  {
   "cell_type": "code",
   "execution_count": 28,
   "id": "db2c9cf0-e4fd-4d55-aa36-01defb33211c",
   "metadata": {},
   "outputs": [
    {
     "data": {
      "text/plain": [
       "[defaultdict(int, {1: 0, 3: 0}),\n",
       " defaultdict(int, {0: 5, 2: 0}),\n",
       " defaultdict(int, {1: 3, 5: 0}),\n",
       " defaultdict(int, {0: 3, 4: 0}),\n",
       " defaultdict(int, {1: 2, 3: 3}),\n",
       " defaultdict(int, {2: 3, 4: 5})]"
      ]
     },
     "execution_count": 28,
     "metadata": {},
     "output_type": "execute_result"
    }
   ],
   "source": [
    "GB"
   ]
  },
  {
   "cell_type": "code",
   "execution_count": null,
   "id": "cf96f7a8-6077-4ad3-b474-2b19411f8f52",
   "metadata": {},
   "outputs": [],
   "source": []
  }
 ],
 "metadata": {
  "kernelspec": {
   "display_name": "Python 3 (ipykernel)",
   "language": "python",
   "name": "python3"
  },
  "language_info": {
   "codemirror_mode": {
    "name": "ipython",
    "version": 3
   },
   "file_extension": ".py",
   "mimetype": "text/x-python",
   "name": "python",
   "nbconvert_exporter": "python",
   "pygments_lexer": "ipython3",
   "version": "3.9.12"
  }
 },
 "nbformat": 4,
 "nbformat_minor": 5
}
