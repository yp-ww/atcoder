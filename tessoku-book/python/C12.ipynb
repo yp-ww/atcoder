{
 "cells": [
  {
   "cell_type": "code",
   "execution_count": 1,
   "id": "6497bb67-220b-4915-a0a7-a0b024419671",
   "metadata": {},
   "outputs": [
    {
     "data": {
      "application/vnd.jupyter.widget-view+json": {
       "model_id": "af447861cecc48338a51b2e70224ecf0",
       "version_major": 2,
       "version_minor": 0
      },
      "text/plain": [
       "Textarea(value='')"
      ]
     },
     "metadata": {},
     "output_type": "display_data"
    }
   ],
   "source": [
    "# Ref: https://qiita.com/noca/items/00646efd9d4a7302f522\n",
    "from ipywidgets import Textarea\n",
    "import io\n",
    "if 'open' in globals():\n",
    "    del open\n",
    "if 'input' in globals():\n",
    "    del input\n",
    "original_open = open\n",
    "class custom_open():\n",
    "    def __init__(self):\n",
    "        self.text = ''\n",
    "    def __call__(self, file, *args, **kwargs):\n",
    "        if file == 0:\n",
    "            return io.StringIO(self.text)\n",
    "        return original_open(file, *args, **kwargs)\n",
    "    def updater(self, change):\n",
    "        self.text = change[\"new\"]\n",
    "class custom_input():\n",
    "    def __init__(self):\n",
    "        self.__sio = io.StringIO('')\n",
    "        self.shell = get_ipython()\n",
    "        if self.shell.events.callbacks['pre_run_cell'] != []:\n",
    "            self.shell.events.callbacks['pre_run_cell'] = []\n",
    "        self.shell.events.register('pre_run_cell', self.pre_run_cell)\n",
    "    def __call__(self):\n",
    "        return self.__sio.readline().strip()\n",
    "    def pre_run_cell(self, info):\n",
    "        text = self.shell.user_ns.get('text_area', None).value\n",
    "        self.__sio = io.StringIO(text)\n",
    "open = custom_open()\n",
    "input = custom_input()\n",
    "text_area = Textarea()\n",
    "text_area.observe(open.updater, names='value')\n",
    "display(text_area)"
   ]
  },
  {
   "cell_type": "code",
   "execution_count": 244,
   "id": "50d66f6c-b901-499f-8867-142b4e6e1ab3",
   "metadata": {},
   "outputs": [
    {
     "name": "stdout",
     "output_type": "stream",
     "text": [
      "3\n"
     ]
    }
   ],
   "source": [
    "N, M, K = map(int, input().split())\n",
    "AB = [list(map(int, input().split())) for _ in range(M)]\n",
    "\n",
    "score = [[0] * (N+1) for _ in range(N+1)]\n",
    "\n",
    "for l in range(N+1):\n",
    "    for r in range(l+1, N+1):\n",
    "        cnt = 0\n",
    "        for i in range(M):\n",
    "            a, b = AB[i]\n",
    "            if l <= a <= r and l <= b <= r:\n",
    "                cnt += 1\n",
    "        score[l][r] = cnt\n",
    "\n",
    "dp = [[0] * (N+1) for _ in range(K+1)]\n",
    "for i in range(1, K+1):\n",
    "    for j in range(1, N+1):\n",
    "        for k in range(i-1, j):\n",
    "            dp[i][j] = max(dp[i][j], dp[i-1][k] + score[k+1][j])\n",
    "print(dp[K][N])"
   ]
  },
  {
   "cell_type": "code",
   "execution_count": 245,
   "id": "58d2623d-ffa2-4d39-aa77-3d97947aac02",
   "metadata": {},
   "outputs": [
    {
     "data": {
      "text/plain": [
       "[[0, 0, 0, 0, 0, 0, 0],\n",
       " [0, 0, 0, 0, 1, 3, 4],\n",
       " [0, 0, 0, 0, 1, 3, 3],\n",
       " [0, 0, 0, 0, 1, 2, 3]]"
      ]
     },
     "execution_count": 245,
     "metadata": {},
     "output_type": "execute_result"
    }
   ],
   "source": [
    "dp"
   ]
  },
  {
   "cell_type": "code",
   "execution_count": 246,
   "id": "a9c960b3-4bda-4655-9f41-19ae04cc2638",
   "metadata": {},
   "outputs": [
    {
     "data": {
      "text/plain": [
       "[[0, 0, 0, 0, 1, 3, 4],\n",
       " [0, 0, 0, 0, 1, 3, 4],\n",
       " [0, 0, 0, 0, 1, 3, 3],\n",
       " [0, 0, 0, 0, 1, 2, 2],\n",
       " [0, 0, 0, 0, 0, 0, 0],\n",
       " [0, 0, 0, 0, 0, 0, 0],\n",
       " [0, 0, 0, 0, 0, 0, 0]]"
      ]
     },
     "execution_count": 246,
     "metadata": {},
     "output_type": "execute_result"
    }
   ],
   "source": [
    "score"
   ]
  },
  {
   "cell_type": "code",
   "execution_count": 243,
   "id": "678d0364-dcaa-4769-87b4-02f83bb5f606",
   "metadata": {},
   "outputs": [
    {
     "data": {
      "text/plain": [
       "3"
      ]
     },
     "execution_count": 243,
     "metadata": {},
     "output_type": "execute_result"
    }
   ],
   "source": [
    "score[2][6]"
   ]
  },
  {
   "cell_type": "code",
   "execution_count": null,
   "id": "ef0fc18e-4ff9-4931-bca3-c05d40694818",
   "metadata": {},
   "outputs": [],
   "source": []
  },
  {
   "cell_type": "code",
   "execution_count": null,
   "id": "a88e7d76-9b09-499c-b056-c22a98219381",
   "metadata": {},
   "outputs": [],
   "source": []
  }
 ],
 "metadata": {
  "kernelspec": {
   "display_name": "Python 3 (ipykernel)",
   "language": "python",
   "name": "python3"
  },
  "language_info": {
   "codemirror_mode": {
    "name": "ipython",
    "version": 3
   },
   "file_extension": ".py",
   "mimetype": "text/x-python",
   "name": "python",
   "nbconvert_exporter": "python",
   "pygments_lexer": "ipython3",
   "version": "3.9.12"
  }
 },
 "nbformat": 4,
 "nbformat_minor": 5
}
