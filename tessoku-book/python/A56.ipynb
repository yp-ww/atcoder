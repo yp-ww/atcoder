{
 "cells": [
  {
   "cell_type": "code",
   "execution_count": 1,
   "id": "062f9dcb-f3eb-4d5a-a547-7d5df9a4d772",
   "metadata": {},
   "outputs": [
    {
     "data": {
      "application/vnd.jupyter.widget-view+json": {
       "model_id": "d7b75843d0574ef2a09f18293027c9bb",
       "version_major": 2,
       "version_minor": 0
      },
      "text/plain": [
       "Textarea(value='')"
      ]
     },
     "metadata": {},
     "output_type": "display_data"
    }
   ],
   "source": [
    "# Ref: https://qiita.com/noca/items/00646efd9d4a7302f522\n",
    "from ipywidgets import Textarea\n",
    "import io\n",
    "if 'open' in globals():\n",
    "    del open\n",
    "if 'input' in globals():\n",
    "    del input\n",
    "original_open = open\n",
    "class custom_open():\n",
    "    def __init__(self):\n",
    "        self.text = ''\n",
    "    def __call__(self, file, *args, **kwargs):\n",
    "        if file == 0:\n",
    "            return io.StringIO(self.text)\n",
    "        return original_open(file, *args, **kwargs)\n",
    "    def updater(self, change):\n",
    "        self.text = change[\"new\"]\n",
    "class custom_input():\n",
    "    def __init__(self):\n",
    "        self.__sio = io.StringIO('')\n",
    "        self.shell = get_ipython()\n",
    "        if self.shell.events.callbacks['pre_run_cell'] != []:\n",
    "            self.shell.events.callbacks['pre_run_cell'] = []\n",
    "        self.shell.events.register('pre_run_cell', self.pre_run_cell)\n",
    "    def __call__(self):\n",
    "        return self.__sio.readline().strip()\n",
    "    def pre_run_cell(self, info):\n",
    "        text = self.shell.user_ns.get('text_area', None).value\n",
    "        self.__sio = io.StringIO(text)\n",
    "open = custom_open()\n",
    "input = custom_input()\n",
    "text_area = Textarea()\n",
    "text_area.observe(open.updater, names='value')\n",
    "display(text_area)"
   ]
  },
  {
   "cell_type": "code",
   "execution_count": null,
   "id": "3d53e568-e532-4048-a7eb-07ba6b49a606",
   "metadata": {},
   "outputs": [],
   "source": [
    "N, Q = map(int, input().split())\n",
    "S = input()\n",
    "\n",
    "MOD = 10 ** 9 + 7\n",
    "B = 100\n",
    "\n",
    "powerB = [1]\n",
    "for _ in range(N):\n",
    "    powerB.append(powerB[-1] * B % MOD)\n",
    "    \n",
    "# 1-indexed\n",
    "T = [0] * (N+1)\n",
    "for i in range(1, N+1):\n",
    "    T[i] = ord(S[i-1]) - ord(\"a\") + 1\n",
    "\n",
    "# 1-indexed\n",
    "H = [0] * (N+1)\n",
    "for i in range(1, N+1):\n",
    "    H[i] = H[i-1] * B + T[i]\n",
    "    H[i] %= MOD\n",
    "\n",
    "# [l, r]\n",
    "def hash_val(l, r):\n",
    "    return (H[r] - H[l-1] * powerB[r-l+1]) % MOD\n",
    "\n",
    "for _ in range(Q):\n",
    "    a, b, c, d = map(int, input().split())\n",
    "    if hash_val(a, b) == hash_val(c, d):\n",
    "        print(\"Yes\")\n",
    "    else:\n",
    "        print(\"No\")"
   ]
  },
  {
   "cell_type": "code",
   "execution_count": 72,
   "id": "1b25720f-25af-4c64-a630-b3d620c005b6",
   "metadata": {},
   "outputs": [
    {
     "data": {
      "text/plain": [
       "[1, 100, 10000, 1000000, 100000000, 999999937, 999993007, 999300007]"
      ]
     },
     "execution_count": 72,
     "metadata": {},
     "output_type": "execute_result"
    }
   ],
   "source": [
    "powerB"
   ]
  },
  {
   "cell_type": "code",
   "execution_count": 73,
   "id": "e61e49e7-4bf0-4905-963b-3431b82467cd",
   "metadata": {},
   "outputs": [
    {
     "data": {
      "text/plain": [
       "[0, 1, 102, 10203, 1020302, 102030201, 203020032, 302003063]"
      ]
     },
     "execution_count": 73,
     "metadata": {},
     "output_type": "execute_result"
    }
   ],
   "source": [
    "H"
   ]
  },
  {
   "cell_type": "code",
   "execution_count": 74,
   "id": "d463341d-7385-4521-b85d-a129da408817",
   "metadata": {},
   "outputs": [
    {
     "data": {
      "text/plain": [
       "10203"
      ]
     },
     "execution_count": 74,
     "metadata": {},
     "output_type": "execute_result"
    }
   ],
   "source": [
    "hash_val(1, 3)"
   ]
  },
  {
   "cell_type": "code",
   "execution_count": 75,
   "id": "63160da3-1489-4c5c-8254-3c04d12f689e",
   "metadata": {},
   "outputs": [
    {
     "data": {
      "text/plain": [
       "10203"
      ]
     },
     "execution_count": 75,
     "metadata": {},
     "output_type": "execute_result"
    }
   ],
   "source": [
    "hash_val(5, 7)"
   ]
  },
  {
   "cell_type": "code",
   "execution_count": null,
   "id": "43c85024-b7ba-4717-886e-e6c53e267684",
   "metadata": {},
   "outputs": [],
   "source": []
  }
 ],
 "metadata": {
  "kernelspec": {
   "display_name": "Python 3 (ipykernel)",
   "language": "python",
   "name": "python3"
  },
  "language_info": {
   "codemirror_mode": {
    "name": "ipython",
    "version": 3
   },
   "file_extension": ".py",
   "mimetype": "text/x-python",
   "name": "python",
   "nbconvert_exporter": "python",
   "pygments_lexer": "ipython3",
   "version": "3.9.12"
  }
 },
 "nbformat": 4,
 "nbformat_minor": 5
}
