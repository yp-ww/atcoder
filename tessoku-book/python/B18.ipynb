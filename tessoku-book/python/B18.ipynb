{
 "cells": [
  {
   "cell_type": "code",
   "execution_count": 1,
   "id": "84ce12eb-9aad-4ffa-8c21-9f7273ee4dec",
   "metadata": {},
   "outputs": [
    {
     "data": {
      "application/vnd.jupyter.widget-view+json": {
       "model_id": "4b96ab8003fb440f8fdd17274e6f55c6",
       "version_major": 2,
       "version_minor": 0
      },
      "text/plain": [
       "Textarea(value='')"
      ]
     },
     "metadata": {},
     "output_type": "display_data"
    }
   ],
   "source": [
    "# Ref: https://qiita.com/noca/items/00646efd9d4a7302f522\n",
    "from ipywidgets import Textarea\n",
    "import io\n",
    "if 'open' in globals():\n",
    "    del open\n",
    "if 'input' in globals():\n",
    "    del input\n",
    "original_open = open\n",
    "class custom_open():\n",
    "    def __init__(self):\n",
    "        self.text = ''\n",
    "    def __call__(self, file, *args, **kwargs):\n",
    "        if file == 0:\n",
    "            return io.StringIO(self.text)\n",
    "        return original_open(file, *args, **kwargs)\n",
    "    def updater(self, change):\n",
    "        self.text = change[\"new\"]\n",
    "class custom_input():\n",
    "    def __init__(self):\n",
    "        self.__sio = io.StringIO('')\n",
    "        self.shell = get_ipython()\n",
    "        if self.shell.events.callbacks['pre_run_cell'] != []:\n",
    "            self.shell.events.callbacks['pre_run_cell'] = []\n",
    "        self.shell.events.register('pre_run_cell', self.pre_run_cell)\n",
    "    def __call__(self):\n",
    "        return self.__sio.readline().strip()\n",
    "    def pre_run_cell(self, info):\n",
    "        text = self.shell.user_ns.get('text_area', None).value\n",
    "        self.__sio = io.StringIO(text)\n",
    "open = custom_open()\n",
    "input = custom_input()\n",
    "text_area = Textarea()\n",
    "text_area.observe(open.updater, names='value')\n",
    "display(text_area)"
   ]
  },
  {
   "cell_type": "code",
   "execution_count": 28,
   "id": "3527a7b0-5566-41bb-855e-c5675ce2c665",
   "metadata": {},
   "outputs": [
    {
     "name": "stdout",
     "output_type": "stream",
     "text": [
      "1\n",
      "1\n"
     ]
    }
   ],
   "source": [
    "import sys\n",
    "N, S = map(int, input().split())\n",
    "A = list(map(int, input().split()))\n",
    "\n",
    "MAX = 10010\n",
    "dp = [[0] * (MAX + 1) for _ in range(N+1)]\n",
    "\n",
    "dp[0][0] = 1\n",
    "for i in range(N):\n",
    "    for j in range(MAX + 1):\n",
    "        if dp[i][j] == 0:\n",
    "            continue\n",
    "        dp[i+1][j] = dp[i][j]\n",
    "        if j + A[i] <= MAX:\n",
    "            dp[i+1][j+A[i]] = 1\n",
    "\n",
    "if not dp[N][S]:\n",
    "    print(-1)\n",
    "    sys.exit(0)\n",
    "    \n",
    "now = N\n",
    "path = []\n",
    "while now != 0:\n",
    "    if S - A[now-1] >= 0 and dp[now-1][S-A[now-1]]:\n",
    "        path.append(now)\n",
    "        S -= A[now-1]\n",
    "        now -= 1\n",
    "    else:\n",
    "        now -= 1\n",
    "\n",
    "print(len(path))\n",
    "path.sort()\n",
    "print(*path)"
   ]
  },
  {
   "cell_type": "code",
   "execution_count": 29,
   "id": "93f90b92-9009-430e-a8ae-fb6dddeccc68",
   "metadata": {},
   "outputs": [
    {
     "data": {
      "text/plain": [
       "[1]"
      ]
     },
     "execution_count": 29,
     "metadata": {},
     "output_type": "execute_result"
    }
   ],
   "source": [
    "path"
   ]
  },
  {
   "cell_type": "code",
   "execution_count": null,
   "id": "78acbfdf-4d32-44f5-a5c6-ff72de2015a8",
   "metadata": {},
   "outputs": [],
   "source": []
  },
  {
   "cell_type": "code",
   "execution_count": null,
   "id": "4453adfc-4fd2-44a7-9051-a16a2e7e0d3f",
   "metadata": {},
   "outputs": [],
   "source": []
  }
 ],
 "metadata": {
  "kernelspec": {
   "display_name": "Python 3 (ipykernel)",
   "language": "python",
   "name": "python3"
  },
  "language_info": {
   "codemirror_mode": {
    "name": "ipython",
    "version": 3
   },
   "file_extension": ".py",
   "mimetype": "text/x-python",
   "name": "python",
   "nbconvert_exporter": "python",
   "pygments_lexer": "ipython3",
   "version": "3.9.12"
  }
 },
 "nbformat": 4,
 "nbformat_minor": 5
}
