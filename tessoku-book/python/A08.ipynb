{
 "cells": [
  {
   "cell_type": "code",
   "execution_count": 1,
   "id": "f1f57f79-2f57-4883-958c-5220d5623c6b",
   "metadata": {},
   "outputs": [
    {
     "data": {
      "application/vnd.jupyter.widget-view+json": {
       "model_id": "456834f08b31480dac19aa4957a050eb",
       "version_major": 2,
       "version_minor": 0
      },
      "text/plain": [
       "Textarea(value='')"
      ]
     },
     "metadata": {},
     "output_type": "display_data"
    }
   ],
   "source": [
    "# Ref: https://qiita.com/noca/items/00646efd9d4a7302f522\n",
    "from ipywidgets import Textarea\n",
    "import io\n",
    "if 'open' in globals():\n",
    "    del open\n",
    "if 'input' in globals():\n",
    "    del input\n",
    "original_open = open\n",
    "class custom_open():\n",
    "    def __init__(self):\n",
    "        self.text = ''\n",
    "    def __call__(self, file, *args, **kwargs):\n",
    "        if file == 0:\n",
    "            return io.StringIO(self.text)\n",
    "        return original_open(file, *args, **kwargs)\n",
    "    def updater(self, change):\n",
    "        self.text = change[\"new\"]\n",
    "class custom_input():\n",
    "    def __init__(self):\n",
    "        self.__sio = io.StringIO('')\n",
    "        self.shell = get_ipython()\n",
    "        if self.shell.events.callbacks['pre_run_cell'] != []:\n",
    "            self.shell.events.callbacks['pre_run_cell'] = []\n",
    "        self.shell.events.register('pre_run_cell', self.pre_run_cell)\n",
    "    def __call__(self):\n",
    "        return self.__sio.readline().strip()\n",
    "    def pre_run_cell(self, info):\n",
    "        text = self.shell.user_ns.get('text_area', None).value\n",
    "        self.__sio = io.StringIO(text)\n",
    "open = custom_open()\n",
    "input = custom_input()\n",
    "text_area = Textarea()\n",
    "text_area.observe(open.updater, names='value')\n",
    "display(text_area)"
   ]
  },
  {
   "cell_type": "code",
   "execution_count": 41,
   "id": "b77a681f-44df-434e-a970-efe3e5300f42",
   "metadata": {},
   "outputs": [
    {
     "name": "stdout",
     "output_type": "stream",
     "text": [
      "25\n",
      "56\n"
     ]
    }
   ],
   "source": [
    "H, W = map(int, input().split())\n",
    "X = [list(map(int, input().split())) for _ in range(H)]\n",
    "\n",
    "Y = []\n",
    "for i in range(H):\n",
    "    y = [0]\n",
    "    for j in range(W):\n",
    "        y.append(y[-1] + X[i][j])\n",
    "    Y.append(y)\n",
    "\n",
    "Z = []\n",
    "for i in range(W+1):\n",
    "    z = [0]\n",
    "    for j in range(H):\n",
    "        z.append(z[-1] + Y[j][i])\n",
    "    Z.append(z)\n",
    "\n",
    "Z = list(zip(*Z))\n",
    "\n",
    "Q = int(input())\n",
    "for _ in range(Q):\n",
    "    a, b, c, d = map(int, input().split())\n",
    "    ans = Z[c][d] - Z[c][b-1] - Z[a-1][d] + Z[a-1][b-1]\n",
    "    print(ans)"
   ]
  },
  {
   "cell_type": "code",
   "execution_count": 47,
   "id": "31b26c5a-be14-4537-84b3-89ea71cea8ce",
   "metadata": {},
   "outputs": [
    {
     "name": "stdout",
     "output_type": "stream",
     "text": [
      "25\n",
      "56\n"
     ]
    }
   ],
   "source": [
    "H, W = map(int, input().split())\n",
    "X = [list(map(int, input().split())) for _ in range(H)]\n",
    "\n",
    "S = [[0] * (W+1) for _ in range(H+1)]\n",
    "for i in range(H):\n",
    "    for j in range(W):\n",
    "        S[i+1][j+1] = S[i][j+1] + S[i+1][j] - S[i][j] + X[i][j]\n",
    "    \n",
    "Q = int(input())\n",
    "for _ in range(Q):\n",
    "    a, b, c, d = map(int, input().split())\n",
    "    ans = S[c][d] - S[c][b-1] - S[a-1][d] + S[a-1][b-1]\n",
    "    print(ans)"
   ]
  },
  {
   "cell_type": "code",
   "execution_count": 44,
   "id": "52daa420-4ac6-4bc4-9e2a-f57c71309e5a",
   "metadata": {},
   "outputs": [
    {
     "data": {
      "text/plain": [
       "[[0, 0, 0, 0, 0, 0],\n",
       " [0, 2, 2, 2, 7, 8],\n",
       " [0, 3, 3, 6, 11, 12],\n",
       " [0, 3, 11, 19, 24, 27],\n",
       " [0, 7, 16, 24, 29, 38],\n",
       " [0, 7, 25, 35, 47, 56]]"
      ]
     },
     "execution_count": 44,
     "metadata": {},
     "output_type": "execute_result"
    }
   ],
   "source": [
    "S"
   ]
  },
  {
   "cell_type": "code",
   "execution_count": null,
   "id": "7d2f158c-1502-418d-a414-a013d89ecdbc",
   "metadata": {},
   "outputs": [],
   "source": []
  }
 ],
 "metadata": {
  "kernelspec": {
   "display_name": "Python 3 (ipykernel)",
   "language": "python",
   "name": "python3"
  },
  "language_info": {
   "codemirror_mode": {
    "name": "ipython",
    "version": 3
   },
   "file_extension": ".py",
   "mimetype": "text/x-python",
   "name": "python",
   "nbconvert_exporter": "python",
   "pygments_lexer": "ipython3",
   "version": "3.9.12"
  }
 },
 "nbformat": 4,
 "nbformat_minor": 5
}
