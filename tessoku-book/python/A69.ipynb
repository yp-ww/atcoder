{
 "cells": [
  {
   "cell_type": "code",
   "execution_count": 1,
   "id": "ed42adb5-d536-4f3e-b69b-4dccb29ce934",
   "metadata": {},
   "outputs": [
    {
     "data": {
      "application/vnd.jupyter.widget-view+json": {
       "model_id": "6ed44b2cc538447abddde0afb22409c3",
       "version_major": 2,
       "version_minor": 0
      },
      "text/plain": [
       "Textarea(value='')"
      ]
     },
     "metadata": {},
     "output_type": "display_data"
    }
   ],
   "source": [
    "# Ref: https://qiita.com/noca/items/00646efd9d4a7302f522\n",
    "from ipywidgets import Textarea\n",
    "import io\n",
    "if 'open' in globals():\n",
    "    del open\n",
    "if 'input' in globals():\n",
    "    del input\n",
    "original_open = open\n",
    "class custom_open():\n",
    "    def __init__(self):\n",
    "        self.text = ''\n",
    "    def __call__(self, file, *args, **kwargs):\n",
    "        if file == 0:\n",
    "            return io.StringIO(self.text)\n",
    "        return original_open(file, *args, **kwargs)\n",
    "    def updater(self, change):\n",
    "        self.text = change[\"new\"]\n",
    "class custom_input():\n",
    "    def __init__(self):\n",
    "        self.__sio = io.StringIO('')\n",
    "        self.shell = get_ipython()\n",
    "        if self.shell.events.callbacks['pre_run_cell'] != []:\n",
    "            self.shell.events.callbacks['pre_run_cell'] = []\n",
    "        self.shell.events.register('pre_run_cell', self.pre_run_cell)\n",
    "    def __call__(self):\n",
    "        return self.__sio.readline().strip()\n",
    "    def pre_run_cell(self, info):\n",
    "        text = self.shell.user_ns.get('text_area', None).value\n",
    "        self.__sio = io.StringIO(text)\n",
    "open = custom_open()\n",
    "input = custom_input()\n",
    "text_area = Textarea()\n",
    "text_area.observe(open.updater, names='value')\n",
    "display(text_area)"
   ]
  },
  {
   "cell_type": "code",
   "execution_count": 32,
   "id": "6445e978-34a2-4bb4-b0b5-31c11c4a5653",
   "metadata": {},
   "outputs": [
    {
     "name": "stdout",
     "output_type": "stream",
     "text": [
      "149\n"
     ]
    }
   ],
   "source": [
    "import sys\n",
    "sys.setrecursionlimit(10 ** 5)\n",
    "from collections import defaultdict\n",
    "\n",
    "N = int(input())\n",
    "C = [input() for _ in range(N)]\n",
    "\n",
    "G = [list() for _ in range(2*N + 2)]\n",
    "GT = [defaultdict(int) for _ in range(2 * N + 2)]\n",
    "GB = [defaultdict(int) for _ in range(2 * N + 2)]\n",
    "\n",
    "for i in range(N):\n",
    "    G[0].append(i+1)\n",
    "    GT[0][i+1] = 1\n",
    "    G[N+i+1].append(2*N+1)\n",
    "    GT[N+i+1][2*N+1] = 1\n",
    "\n",
    "for i in range(N):\n",
    "    for j in range(N):\n",
    "        if C[i][j] == \".\":\n",
    "            continue\n",
    "        G[i+1].append(N+j+1)\n",
    "        G[N+j+1].append(i+1)\n",
    "        GT[i+1][N+j+1] = 1\n",
    "        GB[N+j+1][i+1] = 0\n",
    "    \n",
    "ans = 0\n",
    "while 1:\n",
    "    flow = 1\n",
    "    v = [False] * (2 * N + 2)\n",
    "    \n",
    "    def dfs(x):\n",
    "        global flow, ans\n",
    "        \n",
    "        v[x] = True\n",
    "        if v[2 * N + 1]:\n",
    "            ans += 1\n",
    "            return\n",
    "        \n",
    "        for nex in G[x]:\n",
    "            if v[nex]:\n",
    "                continue\n",
    "            \n",
    "            if GT[x][nex]:\n",
    "                dfs(nex)\n",
    "                if v[2 * N + 1]:\n",
    "                    GT[x][nex] -= flow\n",
    "                    GB[nex][x] += flow\n",
    "                    return\n",
    "                \n",
    "            if GB[x][nex]:\n",
    "                dfs(nex)\n",
    "                if v[2 * N + 1]:\n",
    "                    GB[x][nex] -= flow\n",
    "                    GT[nex][x] += flow\n",
    "                    return\n",
    "        return\n",
    "    \n",
    "    dfs(0)\n",
    "    if not v[2 * N + 1]:\n",
    "        break\n",
    "        \n",
    "print(ans)"
   ]
  },
  {
   "cell_type": "code",
   "execution_count": null,
   "id": "243899b3-9c81-4b07-b2ba-20c5d8f3abac",
   "metadata": {},
   "outputs": [],
   "source": []
  },
  {
   "cell_type": "code",
   "execution_count": null,
   "id": "8fa0cf88-9cb4-480e-9d62-50b1ac432b65",
   "metadata": {},
   "outputs": [],
   "source": []
  }
 ],
 "metadata": {
  "kernelspec": {
   "display_name": "Python 3 (ipykernel)",
   "language": "python",
   "name": "python3"
  },
  "language_info": {
   "codemirror_mode": {
    "name": "ipython",
    "version": 3
   },
   "file_extension": ".py",
   "mimetype": "text/x-python",
   "name": "python",
   "nbconvert_exporter": "python",
   "pygments_lexer": "ipython3",
   "version": "3.9.12"
  }
 },
 "nbformat": 4,
 "nbformat_minor": 5
}
