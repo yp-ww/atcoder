{
 "cells": [
  {
   "cell_type": "code",
   "execution_count": 1,
   "id": "fb67b0cd-6888-472c-9fe3-11613fae479e",
   "metadata": {},
   "outputs": [
    {
     "data": {
      "application/vnd.jupyter.widget-view+json": {
       "model_id": "d4811a1e5a864b838c09485e1c63dcb7",
       "version_major": 2,
       "version_minor": 0
      },
      "text/plain": [
       "Textarea(value='')"
      ]
     },
     "metadata": {},
     "output_type": "display_data"
    }
   ],
   "source": [
    "# Ref: https://qiita.com/noca/items/00646efd9d4a7302f522\n",
    "from ipywidgets import Textarea\n",
    "import io\n",
    "if 'open' in globals():\n",
    "    del open\n",
    "if 'input' in globals():\n",
    "    del input\n",
    "original_open = open\n",
    "class custom_open():\n",
    "    def __init__(self):\n",
    "        self.text = ''\n",
    "    def __call__(self, file, *args, **kwargs):\n",
    "        if file == 0:\n",
    "            return io.StringIO(self.text)\n",
    "        return original_open(file, *args, **kwargs)\n",
    "    def updater(self, change):\n",
    "        self.text = change[\"new\"]\n",
    "class custom_input():\n",
    "    def __init__(self):\n",
    "        self.__sio = io.StringIO('')\n",
    "        self.shell = get_ipython()\n",
    "        if self.shell.events.callbacks['pre_run_cell'] != []:\n",
    "            self.shell.events.callbacks['pre_run_cell'] = []\n",
    "        self.shell.events.register('pre_run_cell', self.pre_run_cell)\n",
    "    def __call__(self):\n",
    "        return self.__sio.readline().strip()\n",
    "    def pre_run_cell(self, info):\n",
    "        text = self.shell.user_ns.get('text_area', None).value\n",
    "        self.__sio = io.StringIO(text)\n",
    "open = custom_open()\n",
    "input = custom_input()\n",
    "text_area = Textarea()\n",
    "text_area.observe(open.updater, names='value')\n",
    "display(text_area)"
   ]
  },
  {
   "cell_type": "code",
   "execution_count": 21,
   "id": "1caf519e-89ba-4875-82a7-38ad5ad4ba43",
   "metadata": {},
   "outputs": [
    {
     "name": "stdout",
     "output_type": "stream",
     "text": [
      "90 2\n"
     ]
    }
   ],
   "source": [
    "import heapq\n",
    "N, M = map(int, input().split())\n",
    "G = [list() for _ in range(N)]\n",
    "\n",
    "for _ in range(M):\n",
    "    a, b, c, d = map(int, input().split())\n",
    "    a -= 1\n",
    "    b -= 1\n",
    "    G[a].append((b, c, d))\n",
    "    G[b].append((a, c, d))\n",
    "\n",
    "INF = 10 ** 20\n",
    "D = [INF] * N\n",
    "S = [0] * N\n",
    "v = [False] * N\n",
    "h = []\n",
    "heapq.heappush(h, (0, 0))\n",
    "\n",
    "while h:\n",
    "    dis, now = heapq.heappop(h)\n",
    "    if v[now]:\n",
    "        continue\n",
    "\n",
    "    v[now] = True\n",
    "    for nex, c, d in G[now]:\n",
    "        if v[nex]:\n",
    "            continue\n",
    "        \n",
    "        if D[nex] > dis + c:\n",
    "            D[nex] = dis + c\n",
    "            S[nex] = S[now] + d\n",
    "            heapq.heappush(h, (D[nex], nex))\n",
    "        elif D[nex] == dis + c:\n",
    "            S[nex] = max(S[nex], S[now] + d)\n",
    "            heapq.heappush(h, (D[nex], nex))\n",
    "\n",
    "print(D[N-1], S[N-1])"
   ]
  },
  {
   "cell_type": "code",
   "execution_count": 19,
   "id": "7b2e6d43-3156-459d-8632-3588eb32af01",
   "metadata": {},
   "outputs": [
    {
     "data": {
      "text/plain": [
       "[[(1, 70, 1), (2, 90, 0)], [(0, 70, 1), (2, 20, 1)], [(1, 20, 1), (0, 90, 0)]]"
      ]
     },
     "execution_count": 19,
     "metadata": {},
     "output_type": "execute_result"
    }
   ],
   "source": [
    "G"
   ]
  },
  {
   "cell_type": "code",
   "execution_count": 13,
   "id": "52f060f1-ffbf-4291-b47e-52414fbbf85b",
   "metadata": {},
   "outputs": [
    {
     "data": {
      "text/plain": [
       "[0, 70, 90]"
      ]
     },
     "execution_count": 13,
     "metadata": {},
     "output_type": "execute_result"
    }
   ],
   "source": [
    "D"
   ]
  },
  {
   "cell_type": "code",
   "execution_count": 14,
   "id": "bd456826-66ce-49e7-b3f0-61704a347844",
   "metadata": {},
   "outputs": [
    {
     "data": {
      "text/plain": [
       "[0, 1, 2]"
      ]
     },
     "execution_count": 14,
     "metadata": {},
     "output_type": "execute_result"
    }
   ],
   "source": [
    "S"
   ]
  },
  {
   "cell_type": "code",
   "execution_count": null,
   "id": "1be5a246-df1d-4ddb-ac2a-1cfe8b943573",
   "metadata": {},
   "outputs": [],
   "source": []
  }
 ],
 "metadata": {
  "kernelspec": {
   "display_name": "Python 3 (ipykernel)",
   "language": "python",
   "name": "python3"
  },
  "language_info": {
   "codemirror_mode": {
    "name": "ipython",
    "version": 3
   },
   "file_extension": ".py",
   "mimetype": "text/x-python",
   "name": "python",
   "nbconvert_exporter": "python",
   "pygments_lexer": "ipython3",
   "version": "3.9.12"
  }
 },
 "nbformat": 4,
 "nbformat_minor": 5
}
