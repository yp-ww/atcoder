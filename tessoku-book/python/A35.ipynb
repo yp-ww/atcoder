{
 "cells": [
  {
   "cell_type": "code",
   "execution_count": 1,
   "id": "67a339e5-2948-44c6-9b7c-8f06e2a4da71",
   "metadata": {},
   "outputs": [
    {
     "data": {
      "application/vnd.jupyter.widget-view+json": {
       "model_id": "5a1187783a444a4791e4184a5e9cb04f",
       "version_major": 2,
       "version_minor": 0
      },
      "text/plain": [
       "Textarea(value='')"
      ]
     },
     "metadata": {},
     "output_type": "display_data"
    }
   ],
   "source": [
    "# Ref: https://qiita.com/noca/items/00646efd9d4a7302f522\n",
    "from ipywidgets import Textarea\n",
    "import io\n",
    "if 'open' in globals():\n",
    "    del open\n",
    "if 'input' in globals():\n",
    "    del input\n",
    "original_open = open\n",
    "class custom_open():\n",
    "    def __init__(self):\n",
    "        self.text = ''\n",
    "    def __call__(self, file, *args, **kwargs):\n",
    "        if file == 0:\n",
    "            return io.StringIO(self.text)\n",
    "        return original_open(file, *args, **kwargs)\n",
    "    def updater(self, change):\n",
    "        self.text = change[\"new\"]\n",
    "class custom_input():\n",
    "    def __init__(self):\n",
    "        self.__sio = io.StringIO('')\n",
    "        self.shell = get_ipython()\n",
    "        if self.shell.events.callbacks['pre_run_cell'] != []:\n",
    "            self.shell.events.callbacks['pre_run_cell'] = []\n",
    "        self.shell.events.register('pre_run_cell', self.pre_run_cell)\n",
    "    def __call__(self):\n",
    "        return self.__sio.readline().strip()\n",
    "    def pre_run_cell(self, info):\n",
    "        text = self.shell.user_ns.get('text_area', None).value\n",
    "        self.__sio = io.StringIO(text)\n",
    "open = custom_open()\n",
    "input = custom_input()\n",
    "text_area = Textarea()\n",
    "text_area.observe(open.updater, names='value')\n",
    "display(text_area)"
   ]
  },
  {
   "cell_type": "code",
   "execution_count": 37,
   "id": "f9203906-b759-4370-8ba8-2c581d42b749",
   "metadata": {},
   "outputs": [
    {
     "name": "stdout",
     "output_type": "stream",
     "text": [
      "30\n"
     ]
    }
   ],
   "source": [
    "N = int(input())\n",
    "A = list(map(int, input().split()))\n",
    "\n",
    "node = [0] * (N * (1 + N) // 2)\n",
    "\n",
    "pos = (N-1) * (1 + N-1) // 2\n",
    "for i in range(N):\n",
    "    node[pos+i] = A[i]\n",
    "    \n",
    "for i in range(N-1, -1, -1):\n",
    "    pos = (i-1) * (1 + i-1) // 2\n",
    "    for j in range(i):\n",
    "        offset = i\n",
    "        if i % 2:\n",
    "            node[pos+j] = max(node[pos+offset+j], node[pos+offset+j+1])\n",
    "        else:\n",
    "            node[pos+j] = min(node[pos+offset+j], node[pos+offset+j+1])\n",
    "now = 0\n",
    "cnt = 0\n",
    "while cnt < N-1:\n",
    "    offset = cnt + 1\n",
    "    if not cnt % 2:\n",
    "        if node[now+offset] <= node[now+offset+1]:\n",
    "            now = now+offset+1\n",
    "        else:\n",
    "            now = now+offset\n",
    "    else:\n",
    "        if node[now+offset] <= node[now+offset+1]:\n",
    "            now = now+offset\n",
    "        else:\n",
    "            now = now+offset+1\n",
    "    cnt += 1\n",
    "\n",
    "print(node[now])"
   ]
  },
  {
   "cell_type": "code",
   "execution_count": 38,
   "id": "8685275d-89af-41fb-a3ca-99a996def891",
   "metadata": {},
   "outputs": [
    {
     "data": {
      "text/plain": [
       "[30, 20, 30, 20, 30, 40, 20, 10, 30, 40]"
      ]
     },
     "execution_count": 38,
     "metadata": {},
     "output_type": "execute_result"
    }
   ],
   "source": [
    "node"
   ]
  },
  {
   "cell_type": "code",
   "execution_count": null,
   "id": "e8b82363-d175-4a78-8c62-1257896a55b0",
   "metadata": {},
   "outputs": [],
   "source": []
  },
  {
   "cell_type": "code",
   "execution_count": null,
   "id": "d0f06a37-3fab-492d-8303-5bd06cf6c25f",
   "metadata": {},
   "outputs": [],
   "source": []
  }
 ],
 "metadata": {
  "kernelspec": {
   "display_name": "Python 3 (ipykernel)",
   "language": "python",
   "name": "python3"
  },
  "language_info": {
   "codemirror_mode": {
    "name": "ipython",
    "version": 3
   },
   "file_extension": ".py",
   "mimetype": "text/x-python",
   "name": "python",
   "nbconvert_exporter": "python",
   "pygments_lexer": "ipython3",
   "version": "3.9.12"
  }
 },
 "nbformat": 4,
 "nbformat_minor": 5
}
