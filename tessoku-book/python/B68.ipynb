{
 "cells": [
  {
   "cell_type": "code",
   "execution_count": 1,
   "id": "75196517-de3f-431a-ac4f-eba41e18eda2",
   "metadata": {},
   "outputs": [
    {
     "data": {
      "application/vnd.jupyter.widget-view+json": {
       "model_id": "913c0d61b0ad41398a8e4392aa8085dd",
       "version_major": 2,
       "version_minor": 0
      },
      "text/plain": [
       "Textarea(value='')"
      ]
     },
     "metadata": {},
     "output_type": "display_data"
    }
   ],
   "source": [
    "# Ref: https://qiita.com/noca/items/00646efd9d4a7302f522\n",
    "from ipywidgets import Textarea\n",
    "import io\n",
    "if 'open' in globals():\n",
    "    del open\n",
    "if 'input' in globals():\n",
    "    del input\n",
    "original_open = open\n",
    "class custom_open():\n",
    "    def __init__(self):\n",
    "        self.text = ''\n",
    "    def __call__(self, file, *args, **kwargs):\n",
    "        if file == 0:\n",
    "            return io.StringIO(self.text)\n",
    "        return original_open(file, *args, **kwargs)\n",
    "    def updater(self, change):\n",
    "        self.text = change[\"new\"]\n",
    "class custom_input():\n",
    "    def __init__(self):\n",
    "        self.__sio = io.StringIO('')\n",
    "        self.shell = get_ipython()\n",
    "        if self.shell.events.callbacks['pre_run_cell'] != []:\n",
    "            self.shell.events.callbacks['pre_run_cell'] = []\n",
    "        self.shell.events.register('pre_run_cell', self.pre_run_cell)\n",
    "    def __call__(self):\n",
    "        return self.__sio.readline().strip()\n",
    "    def pre_run_cell(self, info):\n",
    "        text = self.shell.user_ns.get('text_area', None).value\n",
    "        self.__sio = io.StringIO(text)\n",
    "open = custom_open()\n",
    "input = custom_input()\n",
    "text_area = Textarea()\n",
    "text_area.observe(open.updater, names='value')\n",
    "display(text_area)"
   ]
  },
  {
   "cell_type": "code",
   "execution_count": 77,
   "id": "010e5511-298d-411e-b171-57455aed6465",
   "metadata": {},
   "outputs": [
    {
     "name": "stdout",
     "output_type": "stream",
     "text": [
      "7\n"
     ]
    }
   ],
   "source": [
    "N, M = map(int, input().split())\n",
    "P = list(map(int, input().split()))\n",
    "\n",
    "class FordFulkerson:\n",
    "    def __init__(self, N):\n",
    "        self.N = N\n",
    "        self.G = [[] for i in range(N)]\n",
    " \n",
    "    def add_edge(self, fr, to, cap):\n",
    "        forward = [to, cap, None]\n",
    "        forward[2] = backward = [fr, 0, forward]\n",
    "        self.G[fr].append(forward)\n",
    "        self.G[to].append(backward)\n",
    " \n",
    "    def add_multi_edge(self, v1, v2, cap1, cap2):\n",
    "        edge1 = [v2, cap1, None]\n",
    "        edge1[2] = edge2 = [v1, cap2, edge1]\n",
    "        self.G[v1].append(edge1)\n",
    "        self.G[v2].append(edge2)\n",
    " \n",
    "    def dfs(self, v, t, f):\n",
    "        if v == t:\n",
    "            return f\n",
    "        used = self.used\n",
    "        used[v] = 1\n",
    "        for e in self.G[v]:\n",
    "            w, cap, rev = e\n",
    "            if cap and not used[w]:\n",
    "                d = self.dfs(w, t, min(f, cap))\n",
    "                if d:\n",
    "                    e[1] -= d\n",
    "                    rev[1] += d\n",
    "                    return d\n",
    "        return 0\n",
    " \n",
    "    def flow(self, s, t):\n",
    "        flow = 0\n",
    "        f = INF = 10 ** 30\n",
    "        N = self.N \n",
    "        while f:\n",
    "            self.used = [0] * N\n",
    "            f = self.dfs(s, t, INF)\n",
    "            flow += f\n",
    "        return flow\n",
    "\n",
    "f = FordFulkerson(N+2)\n",
    "ans = 0\n",
    "for i in range(N):\n",
    "    if P[i] >= 0:\n",
    "        ans += P[i]\n",
    "        f.add_edge(i+1, N+1, P[i])\n",
    "    else:\n",
    "        f.add_edge(0, i+1, -1 * P[i])\n",
    "\n",
    "for _ in range(M):\n",
    "    a, b = map(int, input().split())\n",
    "    f.add_edge(b, a, 10 ** 30)\n",
    "\n",
    "print(ans - f.flow(0, N+1))"
   ]
  },
  {
   "cell_type": "code",
   "execution_count": null,
   "id": "2e40a3da-39be-432e-bf46-0e65b6b8b42c",
   "metadata": {},
   "outputs": [],
   "source": []
  }
 ],
 "metadata": {
  "kernelspec": {
   "display_name": "Python 3 (ipykernel)",
   "language": "python",
   "name": "python3"
  },
  "language_info": {
   "codemirror_mode": {
    "name": "ipython",
    "version": 3
   },
   "file_extension": ".py",
   "mimetype": "text/x-python",
   "name": "python",
   "nbconvert_exporter": "python",
   "pygments_lexer": "ipython3",
   "version": "3.9.12"
  }
 },
 "nbformat": 4,
 "nbformat_minor": 5
}
