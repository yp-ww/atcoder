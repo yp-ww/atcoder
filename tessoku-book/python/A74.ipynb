{
 "cells": [
  {
   "cell_type": "code",
   "execution_count": 2,
   "id": "bd803c1b-572c-4c16-bd31-6099707f7add",
   "metadata": {},
   "outputs": [
    {
     "data": {
      "application/vnd.jupyter.widget-view+json": {
       "model_id": "9fe57022239b4bf891b5b54ff77eb555",
       "version_major": 2,
       "version_minor": 0
      },
      "text/plain": [
       "Textarea(value='')"
      ]
     },
     "metadata": {},
     "output_type": "display_data"
    }
   ],
   "source": [
    "# Ref: https://qiita.com/noca/items/00646efd9d4a7302f522\n",
    "from ipywidgets import Textarea\n",
    "import io\n",
    "if 'open' in globals():\n",
    "    del open\n",
    "if 'input' in globals():\n",
    "    del input\n",
    "original_open = open\n",
    "class custom_open():\n",
    "    def __init__(self):\n",
    "        self.text = ''\n",
    "    def __call__(self, file, *args, **kwargs):\n",
    "        if file == 0:\n",
    "            return io.StringIO(self.text)\n",
    "        return original_open(file, *args, **kwargs)\n",
    "    def updater(self, change):\n",
    "        self.text = change[\"new\"]\n",
    "class custom_input():\n",
    "    def __init__(self):\n",
    "        self.__sio = io.StringIO('')\n",
    "        self.shell = get_ipython()\n",
    "        if self.shell.events.callbacks['pre_run_cell'] != []:\n",
    "            self.shell.events.callbacks['pre_run_cell'] = []\n",
    "        self.shell.events.register('pre_run_cell', self.pre_run_cell)\n",
    "    def __call__(self):\n",
    "        return self.__sio.readline().strip()\n",
    "    def pre_run_cell(self, info):\n",
    "        text = self.shell.user_ns.get('text_area', None).value\n",
    "        self.__sio = io.StringIO(text)\n",
    "open = custom_open()\n",
    "input = custom_input()\n",
    "text_area = Textarea()\n",
    "text_area.observe(open.updater, names='value')\n",
    "display(text_area)"
   ]
  },
  {
   "cell_type": "code",
   "execution_count": 6,
   "id": "9ee73c25-71a1-4a35-b8a7-47b574df5138",
   "metadata": {},
   "outputs": [
    {
     "name": "stdout",
     "output_type": "stream",
     "text": [
      "5\n"
     ]
    }
   ],
   "source": [
    "N = int(input())\n",
    "P = [list(map(int, input().split())) for _ in range(N)]\n",
    "\n",
    "size = 1\n",
    "while size < N:\n",
    "    size *= 2\n",
    "    \n",
    "node = [0] * size * 2\n",
    "\n",
    "def update(pos, x):\n",
    "    pos += size\n",
    "    node[pos] = x\n",
    "    while pos >= 2:\n",
    "        pos //= 2\n",
    "        node[pos] = node[pos*2] + node[pos*2+1]\n",
    "    return \n",
    "\n",
    "def query(l, r, a, b, n):\n",
    "    if r <= a or b <= l:\n",
    "        return 0\n",
    "\n",
    "    if l <= a and b <= r:\n",
    "        return node[n]\n",
    "    \n",
    "    mid = (a + b) // 2\n",
    "    vl = query(l, r, a, mid, n*2)\n",
    "    vr = query(l, r, mid, b, n*2+1)\n",
    "    return vl + vr\n",
    "\n",
    "arr0 = []\n",
    "for i in range(N):\n",
    "    for j in range(N):\n",
    "        if P[i][j] != 0:\n",
    "            arr0.append(P[i][j])\n",
    "\n",
    "arr1 = []\n",
    "for j in range(N):\n",
    "    for i in range(N):\n",
    "        if P[i][j] != 0:\n",
    "            arr1.append(P[i][j])\n",
    "            \n",
    "ans = 0\n",
    "for a in arr0:\n",
    "    a -= 1\n",
    "    ans += query(a+1, size, 0, size, 1)\n",
    "    update(a, 1)\n",
    "    \n",
    "node = [0] * size * 2\n",
    "for a in arr1:\n",
    "    a -= 1\n",
    "    ans += query(a+1, size, 0, size, 1)\n",
    "    update(a, 1)\n",
    "print(ans)"
   ]
  },
  {
   "cell_type": "code",
   "execution_count": 4,
   "id": "ecbb207f-f47c-4ca9-82bf-593f9cb31e43",
   "metadata": {},
   "outputs": [
    {
     "data": {
      "text/plain": [
       "[2, 3, 4, 1]"
      ]
     },
     "execution_count": 4,
     "metadata": {},
     "output_type": "execute_result"
    }
   ],
   "source": [
    "arr0"
   ]
  },
  {
   "cell_type": "code",
   "execution_count": 5,
   "id": "bb87a3e6-b4c4-46af-b9e9-0d654cf6a424",
   "metadata": {},
   "outputs": [
    {
     "data": {
      "text/plain": [
       "[3, 1, 2, 4]"
      ]
     },
     "execution_count": 5,
     "metadata": {},
     "output_type": "execute_result"
    }
   ],
   "source": [
    "arr1"
   ]
  },
  {
   "cell_type": "code",
   "execution_count": null,
   "id": "afdf2cdd-ea04-481b-a9c4-dc05f8f9346f",
   "metadata": {},
   "outputs": [],
   "source": []
  }
 ],
 "metadata": {
  "kernelspec": {
   "display_name": "Python 3 (ipykernel)",
   "language": "python",
   "name": "python3"
  },
  "language_info": {
   "codemirror_mode": {
    "name": "ipython",
    "version": 3
   },
   "file_extension": ".py",
   "mimetype": "text/x-python",
   "name": "python",
   "nbconvert_exporter": "python",
   "pygments_lexer": "ipython3",
   "version": "3.9.12"
  }
 },
 "nbformat": 4,
 "nbformat_minor": 5
}
