{
 "cells": [
  {
   "cell_type": "code",
   "execution_count": 1,
   "id": "e5d82c04-0a8b-43e6-963c-a39448fc6a86",
   "metadata": {},
   "outputs": [
    {
     "data": {
      "application/vnd.jupyter.widget-view+json": {
       "model_id": "f9a0dc8e868b44d99ebf493e1780d01b",
       "version_major": 2,
       "version_minor": 0
      },
      "text/plain": [
       "Textarea(value='')"
      ]
     },
     "metadata": {},
     "output_type": "display_data"
    }
   ],
   "source": [
    "# Ref: https://qiita.com/noca/items/00646efd9d4a7302f522\n",
    "from ipywidgets import Textarea\n",
    "import io\n",
    "if 'open' in globals():\n",
    "    del open\n",
    "if 'input' in globals():\n",
    "    del input\n",
    "original_open = open\n",
    "class custom_open():\n",
    "    def __init__(self):\n",
    "        self.text = ''\n",
    "    def __call__(self, file, *args, **kwargs):\n",
    "        if file == 0:\n",
    "            return io.StringIO(self.text)\n",
    "        return original_open(file, *args, **kwargs)\n",
    "    def updater(self, change):\n",
    "        self.text = change[\"new\"]\n",
    "class custom_input():\n",
    "    def __init__(self):\n",
    "        self.__sio = io.StringIO('')\n",
    "        self.shell = get_ipython()\n",
    "        if self.shell.events.callbacks['pre_run_cell'] != []:\n",
    "            self.shell.events.callbacks['pre_run_cell'] = []\n",
    "        self.shell.events.register('pre_run_cell', self.pre_run_cell)\n",
    "    def __call__(self):\n",
    "        return self.__sio.readline().strip()\n",
    "    def pre_run_cell(self, info):\n",
    "        text = self.shell.user_ns.get('text_area', None).value\n",
    "        self.__sio = io.StringIO(text)\n",
    "open = custom_open()\n",
    "input = custom_input()\n",
    "text_area = Textarea()\n",
    "text_area.observe(open.updater, names='value')\n",
    "display(text_area)"
   ]
  },
  {
   "cell_type": "code",
   "execution_count": 19,
   "id": "615acf88-a4bc-4779-80cc-c4d72dbed541",
   "metadata": {},
   "outputs": [
    {
     "name": "stdout",
     "output_type": "stream",
     "text": [
      "55\n"
     ]
    }
   ],
   "source": [
    "N, M = map(int, input().split())\n",
    "\n",
    "arr = []\n",
    "for _ in range(M):\n",
    "    a, b, c = map(int, input().split())\n",
    "    a -= 1\n",
    "    b -= 1\n",
    "    arr.append((c, a, b))\n",
    "\n",
    "arr.sort()\n",
    "\n",
    "par = [i for i in range(N)]\n",
    "size = [1] * N\n",
    "def root(x):\n",
    "    temp = x\n",
    "    while x != par[x]:\n",
    "        x = par[x]\n",
    "    par[temp] = x\n",
    "    return x\n",
    "\n",
    "def unite(x, y):\n",
    "    x = root(x)\n",
    "    y = root(y)\n",
    "    if x == y:\n",
    "        return \n",
    "    \n",
    "    if size[x] < size[y]:\n",
    "        x, y = y, x\n",
    "    \n",
    "    par[y] = x\n",
    "    size[x] += size[y]\n",
    "    return \n",
    "\n",
    "ans = 0\n",
    "for c, a, b in arr:\n",
    "    if root(a) == root(b):\n",
    "        continue\n",
    "    else:\n",
    "        unite(a, b)\n",
    "        ans += c\n",
    "print(ans)"
   ]
  },
  {
   "cell_type": "code",
   "execution_count": 20,
   "id": "41e8eef7-f42d-476c-bc2a-10591bf0b049",
   "metadata": {},
   "outputs": [
    {
     "data": {
      "text/plain": [
       "[2, 2, 2, 2, 2, 2, 5]"
      ]
     },
     "execution_count": 20,
     "metadata": {},
     "output_type": "execute_result"
    }
   ],
   "source": [
    "par"
   ]
  },
  {
   "cell_type": "code",
   "execution_count": null,
   "id": "967993e4-0969-464b-9081-bef0ebbe97b6",
   "metadata": {},
   "outputs": [],
   "source": []
  }
 ],
 "metadata": {
  "kernelspec": {
   "display_name": "Python 3 (ipykernel)",
   "language": "python",
   "name": "python3"
  },
  "language_info": {
   "codemirror_mode": {
    "name": "ipython",
    "version": 3
   },
   "file_extension": ".py",
   "mimetype": "text/x-python",
   "name": "python",
   "nbconvert_exporter": "python",
   "pygments_lexer": "ipython3",
   "version": "3.9.12"
  }
 },
 "nbformat": 4,
 "nbformat_minor": 5
}
