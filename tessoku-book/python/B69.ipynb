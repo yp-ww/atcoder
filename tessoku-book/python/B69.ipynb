{
 "cells": [
  {
   "cell_type": "code",
   "execution_count": 1,
   "id": "2ed976a6-810d-4c0b-a6f3-c86d168c36c1",
   "metadata": {},
   "outputs": [
    {
     "data": {
      "application/vnd.jupyter.widget-view+json": {
       "model_id": "0dad7b30106e45bbaabecffcb7f944ce",
       "version_major": 2,
       "version_minor": 0
      },
      "text/plain": [
       "Textarea(value='')"
      ]
     },
     "metadata": {},
     "output_type": "display_data"
    }
   ],
   "source": [
    "# Ref: https://qiita.com/noca/items/00646efd9d4a7302f522\n",
    "from ipywidgets import Textarea\n",
    "import io\n",
    "if 'open' in globals():\n",
    "    del open\n",
    "if 'input' in globals():\n",
    "    del input\n",
    "original_open = open\n",
    "class custom_open():\n",
    "    def __init__(self):\n",
    "        self.text = ''\n",
    "    def __call__(self, file, *args, **kwargs):\n",
    "        if file == 0:\n",
    "            return io.StringIO(self.text)\n",
    "        return original_open(file, *args, **kwargs)\n",
    "    def updater(self, change):\n",
    "        self.text = change[\"new\"]\n",
    "class custom_input():\n",
    "    def __init__(self):\n",
    "        self.__sio = io.StringIO('')\n",
    "        self.shell = get_ipython()\n",
    "        if self.shell.events.callbacks['pre_run_cell'] != []:\n",
    "            self.shell.events.callbacks['pre_run_cell'] = []\n",
    "        self.shell.events.register('pre_run_cell', self.pre_run_cell)\n",
    "    def __call__(self):\n",
    "        return self.__sio.readline().strip()\n",
    "    def pre_run_cell(self, info):\n",
    "        text = self.shell.user_ns.get('text_area', None).value\n",
    "        self.__sio = io.StringIO(text)\n",
    "open = custom_open()\n",
    "input = custom_input()\n",
    "text_area = Textarea()\n",
    "text_area.observe(open.updater, names='value')\n",
    "display(text_area)"
   ]
  },
  {
   "cell_type": "code",
   "execution_count": 7,
   "id": "c007bb63-ebc5-422d-961a-62d6523b6494",
   "metadata": {},
   "outputs": [
    {
     "data": {
      "text/plain": [
       "48"
      ]
     },
     "execution_count": 7,
     "metadata": {},
     "output_type": "execute_result"
    }
   ],
   "source": [
    "class FordFulkerson:\n",
    "    def __init__(self, N):\n",
    "        self.N = N\n",
    "        self.G = [[] for i in range(N)]\n",
    " \n",
    "    def add_edge(self, fr, to, cap):\n",
    "        forward = [to, cap, None]\n",
    "        forward[2] = backward = [fr, 0, forward]\n",
    "        self.G[fr].append(forward)\n",
    "        self.G[to].append(backward)\n",
    " \n",
    "    def add_multi_edge(self, v1, v2, cap1, cap2):\n",
    "        edge1 = [v2, cap1, None]\n",
    "        edge1[2] = edge2 = [v1, cap2, edge1]\n",
    "        self.G[v1].append(edge1)\n",
    "        self.G[v2].append(edge2)\n",
    " \n",
    "    def dfs(self, v, t, f):\n",
    "        if v == t:\n",
    "            return f\n",
    "        used = self.used\n",
    "        used[v] = 1\n",
    "        for e in self.G[v]:\n",
    "            w, cap, rev = e\n",
    "            if cap and not used[w]:\n",
    "                d = self.dfs(w, t, min(f, cap))\n",
    "                if d:\n",
    "                    e[1] -= d\n",
    "                    rev[1] += d\n",
    "                    return d\n",
    "        return 0\n",
    " \n",
    "    def flow(self, s, t):\n",
    "        flow = 0\n",
    "        f = INF = 10 ** 30\n",
    "        N = self.N \n",
    "        while f:\n",
    "            self.used = [0] * N\n",
    "            f = self.dfs(s, t, INF)\n",
    "            flow += f\n",
    "        return flow\n",
    "    \n",
    "N, M = map(int, input().split())\n",
    "\n",
    "f = FordFulkerson(N+2+24)\n",
    "\n",
    "for i in range(N):\n",
    "    c = input()\n",
    "    i += 24\n",
    "    f.add_edge(N+24, i, 10)\n",
    "    for j in range(24):\n",
    "        if c[j] == \"1\":\n",
    "            f.add_edge(i, j, 1)\n",
    "    \n",
    "for j in range(24):\n",
    "    f.add_edge(j, N+24+1, M)\n",
    "\n",
    "d = f.flow(N+24, N+24+1)\n",
    "if d >= M * 24:\n",
    "    print(\"Yes\")\n",
    "else:\n",
    "    print(\"No\")"
   ]
  },
  {
   "cell_type": "code",
   "execution_count": null,
   "id": "bbd4bfdb-441a-4bf9-9eb9-5b58f9b5c12a",
   "metadata": {},
   "outputs": [],
   "source": []
  },
  {
   "cell_type": "code",
   "execution_count": null,
   "id": "5129ad4c-25ef-4ddb-adff-e4d1440ce7e4",
   "metadata": {},
   "outputs": [],
   "source": []
  }
 ],
 "metadata": {
  "kernelspec": {
   "display_name": "Python 3 (ipykernel)",
   "language": "python",
   "name": "python3"
  },
  "language_info": {
   "codemirror_mode": {
    "name": "ipython",
    "version": 3
   },
   "file_extension": ".py",
   "mimetype": "text/x-python",
   "name": "python",
   "nbconvert_exporter": "python",
   "pygments_lexer": "ipython3",
   "version": "3.9.12"
  }
 },
 "nbformat": 4,
 "nbformat_minor": 5
}
