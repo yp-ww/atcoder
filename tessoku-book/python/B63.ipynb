{
 "cells": [
  {
   "cell_type": "code",
   "execution_count": 1,
   "id": "abf8bb7f-f5db-4daf-a208-b58eef9298a5",
   "metadata": {},
   "outputs": [
    {
     "data": {
      "application/vnd.jupyter.widget-view+json": {
       "model_id": "db61f9f177ac4917a27c982d3bea67d8",
       "version_major": 2,
       "version_minor": 0
      },
      "text/plain": [
       "Textarea(value='')"
      ]
     },
     "metadata": {},
     "output_type": "display_data"
    }
   ],
   "source": [
    "# Ref: https://qiita.com/noca/items/00646efd9d4a7302f522\n",
    "from ipywidgets import Textarea\n",
    "import io\n",
    "if 'open' in globals():\n",
    "    del open\n",
    "if 'input' in globals():\n",
    "    del input\n",
    "original_open = open\n",
    "class custom_open():\n",
    "    def __init__(self):\n",
    "        self.text = ''\n",
    "    def __call__(self, file, *args, **kwargs):\n",
    "        if file == 0:\n",
    "            return io.StringIO(self.text)\n",
    "        return original_open(file, *args, **kwargs)\n",
    "    def updater(self, change):\n",
    "        self.text = change[\"new\"]\n",
    "class custom_input():\n",
    "    def __init__(self):\n",
    "        self.__sio = io.StringIO('')\n",
    "        self.shell = get_ipython()\n",
    "        if self.shell.events.callbacks['pre_run_cell'] != []:\n",
    "            self.shell.events.callbacks['pre_run_cell'] = []\n",
    "        self.shell.events.register('pre_run_cell', self.pre_run_cell)\n",
    "    def __call__(self):\n",
    "        return self.__sio.readline().strip()\n",
    "    def pre_run_cell(self, info):\n",
    "        text = self.shell.user_ns.get('text_area', None).value\n",
    "        self.__sio = io.StringIO(text)\n",
    "open = custom_open()\n",
    "input = custom_input()\n",
    "text_area = Textarea()\n",
    "text_area.observe(open.updater, names='value')\n",
    "display(text_area)"
   ]
  },
  {
   "cell_type": "code",
   "execution_count": 6,
   "id": "a0a98ad9-b148-4071-a2e2-d10ad5f14b9a",
   "metadata": {},
   "outputs": [
    {
     "name": "stdout",
     "output_type": "stream",
     "text": [
      "11\n"
     ]
    }
   ],
   "source": [
    "from collections import deque\n",
    "R, C = map(int, input().split())\n",
    "sy, sx = map(int, input().split())\n",
    "gy, gx = map(int, input().split())\n",
    "CC = [input() for _ in range(R)]\n",
    "\n",
    "sy -= 1\n",
    "sx -= 1\n",
    "gy -= 1\n",
    "gx -= 1\n",
    "\n",
    "dydx = [(-1, 0), (0, -1), (1, 0), (0, 1)]\n",
    "q = deque()\n",
    "q.append((sy, sx))\n",
    "v = [[0] * C for _ in range(R)]\n",
    "v[sy][sx] = 1\n",
    "while q:\n",
    "    y, x = q.popleft()\n",
    "    for dy, dx in dydx:\n",
    "        yy = y + dy\n",
    "        xx = x + dx\n",
    "        if 0 <= yy < R and 0 <= x < C:\n",
    "            if v[yy][xx]:\n",
    "                continue\n",
    "            if CC[yy][xx] == \"#\":\n",
    "                continue\n",
    "            v[yy][xx] = v[y][x] + 1\n",
    "            q.append((yy, xx))\n",
    "\n",
    "print(v[gy][gx] - 1)"
   ]
  },
  {
   "cell_type": "code",
   "execution_count": 7,
   "id": "64424fcb-e393-4d6f-a2dc-efe9995dcb7a",
   "metadata": {},
   "outputs": [
    {
     "data": {
      "text/plain": [
       "['########',\n",
       " '#......#',\n",
       " '#.######',\n",
       " '#..#...#',\n",
       " '#..##..#',\n",
       " '##.....#',\n",
       " '########']"
      ]
     },
     "execution_count": 7,
     "metadata": {},
     "output_type": "execute_result"
    }
   ],
   "source": [
    "CC"
   ]
  },
  {
   "cell_type": "code",
   "execution_count": null,
   "id": "acfca66d-046c-4253-ab4e-7fd89ff4c736",
   "metadata": {},
   "outputs": [],
   "source": []
  }
 ],
 "metadata": {
  "kernelspec": {
   "display_name": "Python 3 (ipykernel)",
   "language": "python",
   "name": "python3"
  },
  "language_info": {
   "codemirror_mode": {
    "name": "ipython",
    "version": 3
   },
   "file_extension": ".py",
   "mimetype": "text/x-python",
   "name": "python",
   "nbconvert_exporter": "python",
   "pygments_lexer": "ipython3",
   "version": "3.9.12"
  }
 },
 "nbformat": 4,
 "nbformat_minor": 5
}
