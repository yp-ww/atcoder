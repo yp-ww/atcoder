{
 "cells": [
  {
   "cell_type": "code",
   "execution_count": 1,
   "id": "76a091c3-2fff-475c-b61b-d1280e282135",
   "metadata": {},
   "outputs": [
    {
     "data": {
      "application/vnd.jupyter.widget-view+json": {
       "model_id": "cea97efb277d4dab989c922d4900780d",
       "version_major": 2,
       "version_minor": 0
      },
      "text/plain": [
       "Textarea(value='')"
      ]
     },
     "metadata": {},
     "output_type": "display_data"
    }
   ],
   "source": [
    "# Ref: https://qiita.com/noca/items/00646efd9d4a7302f522\n",
    "from ipywidgets import Textarea\n",
    "import io\n",
    "if 'open' in globals():\n",
    "    del open\n",
    "if 'input' in globals():\n",
    "    del input\n",
    "original_open = open\n",
    "class custom_open():\n",
    "    def __init__(self):\n",
    "        self.text = ''\n",
    "    def __call__(self, file, *args, **kwargs):\n",
    "        if file == 0:\n",
    "            return io.StringIO(self.text)\n",
    "        return original_open(file, *args, **kwargs)\n",
    "    def updater(self, change):\n",
    "        self.text = change[\"new\"]\n",
    "class custom_input():\n",
    "    def __init__(self):\n",
    "        self.__sio = io.StringIO('')\n",
    "        self.shell = get_ipython()\n",
    "        if self.shell.events.callbacks['pre_run_cell'] != []:\n",
    "            self.shell.events.callbacks['pre_run_cell'] = []\n",
    "        self.shell.events.register('pre_run_cell', self.pre_run_cell)\n",
    "    def __call__(self):\n",
    "        return self.__sio.readline().strip()\n",
    "    def pre_run_cell(self, info):\n",
    "        text = self.shell.user_ns.get('text_area', None).value\n",
    "        self.__sio = io.StringIO(text)\n",
    "open = custom_open()\n",
    "input = custom_input()\n",
    "text_area = Textarea()\n",
    "text_area.observe(open.updater, names='value')\n",
    "display(text_area)"
   ]
  },
  {
   "cell_type": "code",
   "execution_count": 73,
   "id": "d70d2666-fd12-4037-9556-b02758c0d80e",
   "metadata": {},
   "outputs": [
    {
     "name": "stdout",
     "output_type": "stream",
     "text": [
      "100800000000\n"
     ]
    }
   ],
   "source": [
    "import sys\n",
    "N, L, K = map(int, input().split())\n",
    "AC = []\n",
    "for _ in range(N):\n",
    "    a, c = map(int, input().split())\n",
    "    AC.append((a, c))\n",
    "\n",
    "size = 1\n",
    "while size < L:\n",
    "    size *= 2\n",
    "node = [10 ** 30] * size * 2\n",
    "\n",
    "def update(pos, x):\n",
    "    pos += size\n",
    "    node[pos] = x\n",
    "    while pos >= 2:\n",
    "        pos //= 2\n",
    "        node[pos] = min(node[pos*2], node[pos*2+1])\n",
    "    return \n",
    "\n",
    "def query(l, r, a, b, n):\n",
    "    if r <= a or b <= l:\n",
    "        return 10 ** 30\n",
    "    if l <= a and b <= r:\n",
    "        return node[n]\n",
    "    mid = (a + b) // 2\n",
    "    vl = query(l, r, a, mid, n*2)\n",
    "    vr = query(l, r, mid, b, n*2+1)\n",
    "    return min(vl, vr)\n",
    "\n",
    "for i in range(N):\n",
    "    a, c = AC[i]\n",
    "    if node[size+a] <= c:\n",
    "        continue\n",
    "    update(a, c)\n",
    "update(0, 0)\n",
    "\n",
    "ans = 0\n",
    "for i in range(L, 0, -1):\n",
    "    ans += query(max(0, i-K), i, 0, size, 1)\n",
    "\n",
    "if ans >= 10 ** 30:\n",
    "    print(-1)\n",
    "else:\n",
    "    print(ans)"
   ]
  },
  {
   "cell_type": "code",
   "execution_count": null,
   "id": "1cf35661-157f-4cd2-aedf-119ef0492fd5",
   "metadata": {},
   "outputs": [],
   "source": []
  },
  {
   "cell_type": "code",
   "execution_count": null,
   "id": "306b20c1-8660-4f48-a7f7-3708ea25eda5",
   "metadata": {},
   "outputs": [],
   "source": []
  }
 ],
 "metadata": {
  "kernelspec": {
   "display_name": "Python 3 (ipykernel)",
   "language": "python",
   "name": "python3"
  },
  "language_info": {
   "codemirror_mode": {
    "name": "ipython",
    "version": 3
   },
   "file_extension": ".py",
   "mimetype": "text/x-python",
   "name": "python",
   "nbconvert_exporter": "python",
   "pygments_lexer": "ipython3",
   "version": "3.9.12"
  }
 },
 "nbformat": 4,
 "nbformat_minor": 5
}
