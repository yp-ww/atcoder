{
 "cells": [
  {
   "cell_type": "code",
   "execution_count": 1,
   "id": "c990a69e-7c28-4860-9a1d-43f0f7ec4cf1",
   "metadata": {},
   "outputs": [
    {
     "data": {
      "application/vnd.jupyter.widget-view+json": {
       "model_id": "ada7589339f745beb22f08809901c1d5",
       "version_major": 2,
       "version_minor": 0
      },
      "text/plain": [
       "Textarea(value='')"
      ]
     },
     "metadata": {},
     "output_type": "display_data"
    }
   ],
   "source": [
    "# Ref: https://qiita.com/noca/items/00646efd9d4a7302f522\n",
    "from ipywidgets import Textarea\n",
    "import io\n",
    "if 'open' in globals():\n",
    "    del open\n",
    "if 'input' in globals():\n",
    "    del input\n",
    "original_open = open\n",
    "class custom_open():\n",
    "    def __init__(self):\n",
    "        self.text = ''\n",
    "    def __call__(self, file, *args, **kwargs):\n",
    "        if file == 0:\n",
    "            return io.StringIO(self.text)\n",
    "        return original_open(file, *args, **kwargs)\n",
    "    def updater(self, change):\n",
    "        self.text = change[\"new\"]\n",
    "class custom_input():\n",
    "    def __init__(self):\n",
    "        self.__sio = io.StringIO('')\n",
    "        self.shell = get_ipython()\n",
    "        if self.shell.events.callbacks['pre_run_cell'] != []:\n",
    "            self.shell.events.callbacks['pre_run_cell'] = []\n",
    "        self.shell.events.register('pre_run_cell', self.pre_run_cell)\n",
    "    def __call__(self):\n",
    "        return self.__sio.readline().strip()\n",
    "    def pre_run_cell(self, info):\n",
    "        text = self.shell.user_ns.get('text_area', None).value\n",
    "        self.__sio = io.StringIO(text)\n",
    "open = custom_open()\n",
    "input = custom_input()\n",
    "text_area = Textarea()\n",
    "text_area.observe(open.updater, names='value')\n",
    "display(text_area)"
   ]
  },
  {
   "cell_type": "code",
   "execution_count": 53,
   "id": "9b7fe6fd-3598-4f6e-92fa-6f822e7dff0e",
   "metadata": {},
   "outputs": [
    {
     "name": "stdout",
     "output_type": "stream",
     "text": [
      "5\n"
     ]
    }
   ],
   "source": [
    "import sys\n",
    "sys.setrecursionlimit(10 ** 5)\n",
    "from collections import defaultdict\n",
    "N = int(input())\n",
    "\n",
    "XY = []\n",
    "for i in range(N):\n",
    "    x, y = map(int, input().split())\n",
    "    y *= -1\n",
    "    XY.append((x, y))\n",
    "XY.sort()\n",
    "    \n",
    "size = 1\n",
    "MAX = 500010\n",
    "while size < MAX:\n",
    "    size *= 2\n",
    "\n",
    "node = [0] * size * 2\n",
    "\n",
    "# pos: 0-indexed\n",
    "def update(pos, x):\n",
    "    pos += size\n",
    "    node[pos] = x\n",
    "    while pos >= 2:\n",
    "        pos //= 2\n",
    "        node[pos] = max(node[pos*2], node[pos*2+1])\n",
    "\n",
    "def query(l, r, a, b, n):\n",
    "    if r <= a or b <= l:\n",
    "        return 0\n",
    "    \n",
    "    if l <= a and b <= r:\n",
    "        return node[n]\n",
    "\n",
    "    mid = (a + b) // 2\n",
    "    vl = query(l, r, a, mid, n*2)\n",
    "    vr = query(l, r, mid, b, n*2+1)\n",
    "    return max(vl, vr)\n",
    "\n",
    "ans = 0\n",
    "for i in range(N):\n",
    "    x, y = XY[i]\n",
    "    y *= -1\n",
    "    temp = query(0, y, 0, size, 1)\n",
    "    update(y, temp + 1)\n",
    "    ans = max(ans, temp+1)\n",
    "print(ans)"
   ]
  },
  {
   "cell_type": "code",
   "execution_count": 54,
   "id": "20c36ae0-6661-42e6-87a6-e8e5ce82059b",
   "metadata": {},
   "outputs": [
    {
     "data": {
      "text/plain": [
       "[(17317, -253432),\n",
       " (108449, -233265),\n",
       " (156707, -354014),\n",
       " (190250, -71511),\n",
       " (215696, -204467),\n",
       " (247710, -313373),\n",
       " (265401, -374334),\n",
       " (398860, -40411),\n",
       " (456092, -457955),\n",
       " (474603, -643)]"
      ]
     },
     "execution_count": 54,
     "metadata": {},
     "output_type": "execute_result"
    }
   ],
   "source": [
    "XY"
   ]
  },
  {
   "cell_type": "code",
   "execution_count": null,
   "id": "b577efe9-a8c4-431a-b383-1ce17ec21f11",
   "metadata": {},
   "outputs": [],
   "source": []
  }
 ],
 "metadata": {
  "kernelspec": {
   "display_name": "Python 3 (ipykernel)",
   "language": "python",
   "name": "python3"
  },
  "language_info": {
   "codemirror_mode": {
    "name": "ipython",
    "version": 3
   },
   "file_extension": ".py",
   "mimetype": "text/x-python",
   "name": "python",
   "nbconvert_exporter": "python",
   "pygments_lexer": "ipython3",
   "version": "3.9.12"
  }
 },
 "nbformat": 4,
 "nbformat_minor": 5
}
