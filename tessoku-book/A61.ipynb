{
 "cells": [
  {
   "cell_type": "code",
   "execution_count": 1,
   "id": "c1d2109b-a9b9-4b9a-ac3f-9c49c92cd82b",
   "metadata": {},
   "outputs": [
    {
     "data": {
      "application/vnd.jupyter.widget-view+json": {
       "model_id": "5ecc005c8e13416f901afb9d25485f4d",
       "version_major": 2,
       "version_minor": 0
      },
      "text/plain": [
       "Textarea(value='')"
      ]
     },
     "metadata": {},
     "output_type": "display_data"
    }
   ],
   "source": [
    "# Ref: https://qiita.com/noca/items/00646efd9d4a7302f522\n",
    "from ipywidgets import Textarea\n",
    "import io\n",
    "if 'open' in globals():\n",
    "    del open\n",
    "if 'input' in globals():\n",
    "    del input\n",
    "original_open = open\n",
    "class custom_open():\n",
    "    def __init__(self):\n",
    "        self.text = ''\n",
    "    def __call__(self, file, *args, **kwargs):\n",
    "        if file == 0:\n",
    "            return io.StringIO(self.text)\n",
    "        return original_open(file, *args, **kwargs)\n",
    "    def updater(self, change):\n",
    "        self.text = change[\"new\"]\n",
    "class custom_input():\n",
    "    def __init__(self):\n",
    "        self.__sio = io.StringIO('')\n",
    "        self.shell = get_ipython()\n",
    "        if self.shell.events.callbacks['pre_run_cell'] != []:\n",
    "            self.shell.events.callbacks['pre_run_cell'] = []\n",
    "        self.shell.events.register('pre_run_cell', self.pre_run_cell)\n",
    "    def __call__(self):\n",
    "        return self.__sio.readline().strip()\n",
    "    def pre_run_cell(self, info):\n",
    "        text = self.shell.user_ns.get('text_area', None).value\n",
    "        self.__sio = io.StringIO(text)\n",
    "open = custom_open()\n",
    "input = custom_input()\n",
    "text_area = Textarea()\n",
    "text_area.observe(open.updater, names='value')\n",
    "display(text_area)"
   ]
  },
  {
   "cell_type": "code",
   "execution_count": 6,
   "id": "5bc6448c-dbd6-4110-b168-bd5366f899d6",
   "metadata": {},
   "outputs": [
    {
     "name": "stdout",
     "output_type": "stream",
     "text": [
      "1: {3, 4, 6, 9, 13}\n",
      "2: {4, 6, 8, 9, 14}\n",
      "3: {1, 5, 9}\n",
      "4: {1, 2, 6, 9, 13, 14}\n",
      "5: {3, 9, 15}\n",
      "6: {1, 2, 4, 9, 13}\n",
      "7: {9}\n",
      "8: {2, 9, 10}\n",
      "9: {1, 2, 3, 4, 5, 6, 7, 8, 10, 11, 12, 13, 14, 15}\n",
      "10: {8, 9}\n",
      "11: {9, 15}\n",
      "12: {9}\n",
      "13: {1, 4, 6, 9}\n",
      "14: {2, 4, 9}\n",
      "15: {5, 9, 11}\n"
     ]
    }
   ],
   "source": [
    "N, M = map(int, input().split())\n",
    "G = [list() for _ in range(N+1)]\n",
    "\n",
    "for _ in range(M):\n",
    "    a, b = map(int, input().split())\n",
    "    G[a].append(b)\n",
    "    G[b].append(a)\n",
    "    \n",
    "for i in range(1, N+1):\n",
    "    arr = \"{\"\n",
    "    G[i].sort()\n",
    "    for j in range(len(G[i])):\n",
    "        arr += str(G[i][j])\n",
    "        if j == len(G[i]) - 1:\n",
    "            break\n",
    "        arr += \", \"\n",
    "    arr += \"}\"\n",
    "    \n",
    "    print(\"{0}: {1}\".format(i, arr))"
   ]
  },
  {
   "cell_type": "code",
   "execution_count": null,
   "id": "55997987-06ee-4ebd-894c-a9867bfa2fd8",
   "metadata": {},
   "outputs": [],
   "source": []
  }
 ],
 "metadata": {
  "kernelspec": {
   "display_name": "Python 3 (ipykernel)",
   "language": "python",
   "name": "python3"
  },
  "language_info": {
   "codemirror_mode": {
    "name": "ipython",
    "version": 3
   },
   "file_extension": ".py",
   "mimetype": "text/x-python",
   "name": "python",
   "nbconvert_exporter": "python",
   "pygments_lexer": "ipython3",
   "version": "3.9.12"
  }
 },
 "nbformat": 4,
 "nbformat_minor": 5
}
