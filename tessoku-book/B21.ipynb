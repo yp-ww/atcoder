{
 "cells": [
  {
   "cell_type": "code",
   "execution_count": 1,
   "id": "3456b7f6-d864-4a0e-ba8b-c9e94ee56424",
   "metadata": {},
   "outputs": [
    {
     "data": {
      "application/vnd.jupyter.widget-view+json": {
       "model_id": "2e1febb3b17e4e8a903bd206146d0a60",
       "version_major": 2,
       "version_minor": 0
      },
      "text/plain": [
       "Textarea(value='')"
      ]
     },
     "metadata": {},
     "output_type": "display_data"
    }
   ],
   "source": [
    "# Ref: https://qiita.com/noca/items/00646efd9d4a7302f522\n",
    "from ipywidgets import Textarea\n",
    "import io\n",
    "if 'open' in globals():\n",
    "    del open\n",
    "if 'input' in globals():\n",
    "    del input\n",
    "original_open = open\n",
    "class custom_open():\n",
    "    def __init__(self):\n",
    "        self.text = ''\n",
    "    def __call__(self, file, *args, **kwargs):\n",
    "        if file == 0:\n",
    "            return io.StringIO(self.text)\n",
    "        return original_open(file, *args, **kwargs)\n",
    "    def updater(self, change):\n",
    "        self.text = change[\"new\"]\n",
    "class custom_input():\n",
    "    def __init__(self):\n",
    "        self.__sio = io.StringIO('')\n",
    "        self.shell = get_ipython()\n",
    "        if self.shell.events.callbacks['pre_run_cell'] != []:\n",
    "            self.shell.events.callbacks['pre_run_cell'] = []\n",
    "        self.shell.events.register('pre_run_cell', self.pre_run_cell)\n",
    "    def __call__(self):\n",
    "        return self.__sio.readline().strip()\n",
    "    def pre_run_cell(self, info):\n",
    "        text = self.shell.user_ns.get('text_area', None).value\n",
    "        self.__sio = io.StringIO(text)\n",
    "open = custom_open()\n",
    "input = custom_input()\n",
    "text_area = Textarea()\n",
    "text_area.observe(open.updater, names='value')\n",
    "display(text_area)"
   ]
  },
  {
   "cell_type": "code",
   "execution_count": 29,
   "id": "9d01edb2-6403-4f54-9215-80b24dae4473",
   "metadata": {},
   "outputs": [
    {
     "name": "stdout",
     "output_type": "stream",
     "text": [
      "7\n"
     ]
    }
   ],
   "source": [
    "N = int(input())\n",
    "S = input()\n",
    "\n",
    "dp = [[0] * N for _ in range(N)]\n",
    "\n",
    "for i in range(N):\n",
    "    dp[i][i] = 1\n",
    "\n",
    "for i in range(N-1):\n",
    "    if S[i] == S[i+1]:\n",
    "        dp[i][i+1] = 2\n",
    "    else:\n",
    "        dp[i][i+1] = 1\n",
    "\n",
    "for i in range(2, N):\n",
    "    for j in range(N-i):\n",
    "        r = j + i\n",
    "        # print(j, r)\n",
    "        if S[j] == S[r]:\n",
    "            dp[j][r] = max(dp[j][r-1], dp[j+1][r], dp[j+1][r-1] + 2)\n",
    "        else:\n",
    "            dp[j][r] = max(dp[j][r-1], dp[j+1][r])\n",
    "    \n",
    "\n",
    "print(dp[0][N-1])"
   ]
  },
  {
   "cell_type": "code",
   "execution_count": 30,
   "id": "2eaf2521-dd78-40fb-9f0b-65385e0d3025",
   "metadata": {},
   "outputs": [
    {
     "data": {
      "text/plain": [
       "[[1, 1, 1, 1, 3, 5, 7],\n",
       " [0, 1, 1, 1, 3, 5, 5],\n",
       " [0, 0, 1, 1, 3, 3, 3],\n",
       " [0, 0, 0, 1, 1, 1, 1],\n",
       " [0, 0, 0, 0, 1, 1, 1],\n",
       " [0, 0, 0, 0, 0, 1, 1],\n",
       " [0, 0, 0, 0, 0, 0, 1]]"
      ]
     },
     "execution_count": 30,
     "metadata": {},
     "output_type": "execute_result"
    }
   ],
   "source": [
    "dp"
   ]
  },
  {
   "cell_type": "code",
   "execution_count": 51,
   "id": "d17eb63b-8444-4785-ad55-c07251cb7d6d",
   "metadata": {},
   "outputs": [
    {
     "name": "stdout",
     "output_type": "stream",
     "text": [
      "4\n"
     ]
    }
   ],
   "source": [
    "import sys\n",
    "sys.setrecursionlimit(10 ** 6)\n",
    "from functools import lru_cache\n",
    "N = int(input())\n",
    "S = input()\n",
    "\n",
    "@lru_cache(maxsize = 10 ** 5)\n",
    "def f(l, r):\n",
    "    if l == r:\n",
    "        return 1\n",
    "    \n",
    "    vl = f(l, r-1)\n",
    "    vr = f(l+1, r)\n",
    "    \n",
    "    if S[l] == S[r]:\n",
    "        vm = (f(l+1, r-1) if l+1 <= r-1 else 0) + 2\n",
    "        return max(vl, vr, vm)\n",
    "    else:\n",
    "        return max(vl, vr)\n",
    "\n",
    "print(f(0, N-1))"
   ]
  },
  {
   "cell_type": "code",
   "execution_count": 49,
   "id": "cf9dc3ac-59a2-490f-93c9-9d19c9ac9af2",
   "metadata": {},
   "outputs": [
    {
     "data": {
      "text/plain": [
       "1"
      ]
     },
     "execution_count": 49,
     "metadata": {},
     "output_type": "execute_result"
    }
   ],
   "source": [
    "f(2, 4)"
   ]
  },
  {
   "cell_type": "code",
   "execution_count": null,
   "id": "b5c46c61-7b1a-4859-87f7-20edd2cad668",
   "metadata": {},
   "outputs": [],
   "source": []
  },
  {
   "cell_type": "code",
   "execution_count": null,
   "id": "deb871d5-afb4-4873-9077-736ca2d26cb5",
   "metadata": {},
   "outputs": [],
   "source": []
  }
 ],
 "metadata": {
  "kernelspec": {
   "display_name": "Python 3 (ipykernel)",
   "language": "python",
   "name": "python3"
  },
  "language_info": {
   "codemirror_mode": {
    "name": "ipython",
    "version": 3
   },
   "file_extension": ".py",
   "mimetype": "text/x-python",
   "name": "python",
   "nbconvert_exporter": "python",
   "pygments_lexer": "ipython3",
   "version": "3.9.12"
  }
 },
 "nbformat": 4,
 "nbformat_minor": 5
}
