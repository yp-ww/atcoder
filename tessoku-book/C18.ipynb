{
 "cells": [
  {
   "cell_type": "code",
   "execution_count": 1,
   "id": "99d4989e-6f43-4fc9-a681-056d4aa86e05",
   "metadata": {},
   "outputs": [
    {
     "data": {
      "application/vnd.jupyter.widget-view+json": {
       "model_id": "cb179956ed644e888027e1f58c144fd8",
       "version_major": 2,
       "version_minor": 0
      },
      "text/plain": [
       "Textarea(value='')"
      ]
     },
     "metadata": {},
     "output_type": "display_data"
    }
   ],
   "source": [
    "# Ref: https://qiita.com/noca/items/00646efd9d4a7302f522\n",
    "from ipywidgets import Textarea\n",
    "import io\n",
    "if 'open' in globals():\n",
    "    del open\n",
    "if 'input' in globals():\n",
    "    del input\n",
    "original_open = open\n",
    "class custom_open():\n",
    "    def __init__(self):\n",
    "        self.text = ''\n",
    "    def __call__(self, file, *args, **kwargs):\n",
    "        if file == 0:\n",
    "            return io.StringIO(self.text)\n",
    "        return original_open(file, *args, **kwargs)\n",
    "    def updater(self, change):\n",
    "        self.text = change[\"new\"]\n",
    "class custom_input():\n",
    "    def __init__(self):\n",
    "        self.__sio = io.StringIO('')\n",
    "        self.shell = get_ipython()\n",
    "        if self.shell.events.callbacks['pre_run_cell'] != []:\n",
    "            self.shell.events.callbacks['pre_run_cell'] = []\n",
    "        self.shell.events.register('pre_run_cell', self.pre_run_cell)\n",
    "    def __call__(self):\n",
    "        return self.__sio.readline().strip()\n",
    "    def pre_run_cell(self, info):\n",
    "        text = self.shell.user_ns.get('text_area', None).value\n",
    "        self.__sio = io.StringIO(text)\n",
    "open = custom_open()\n",
    "input = custom_input()\n",
    "text_area = Textarea()\n",
    "text_area.observe(open.updater, names='value')\n",
    "display(text_area)"
   ]
  },
  {
   "cell_type": "code",
   "execution_count": 57,
   "id": "740f8710-ca94-487c-a12d-84ba98482b25",
   "metadata": {
    "tags": []
   },
   "outputs": [
    {
     "name": "stdout",
     "output_type": "stream",
     "text": [
      "0\n"
     ]
    }
   ],
   "source": [
    "import sys\n",
    "sys.setrecursionlimit(10**6)\n",
    "N = int(input())\n",
    "A = list(map(int, input().split()))\n",
    "from functools import lru_cache\n",
    "\n",
    "def c(l, r):\n",
    "    return abs(A[l] - A[r])\n",
    "\n",
    "@lru_cache(maxsize = 10**7)\n",
    "def f(l, r):\n",
    "    if r - l == 0:\n",
    "        return 0\n",
    "    \n",
    "    if r - l == 1:\n",
    "        return abs(A[l] - A[r])\n",
    "    \n",
    "    temp = 10 ** 30    \n",
    "    for m in range(l, r):\n",
    "        if m%2 == r%2:\n",
    "            continue\n",
    "        # print(l, m, r)\n",
    "        temp = min(temp, f(l, max(l, m-1)) + c(m, r) + f(min(r-1, m+1), r-1))\n",
    "    \n",
    "    return temp\n",
    "\n",
    "print(f(0, N*2-1))"
   ]
  },
  {
   "cell_type": "code",
   "execution_count": null,
   "id": "b6f88612-b42a-42f5-ab34-35780417dfc7",
   "metadata": {},
   "outputs": [],
   "source": []
  },
  {
   "cell_type": "code",
   "execution_count": null,
   "id": "3f0a0bad-6bd0-4913-8dec-5225e80ec479",
   "metadata": {},
   "outputs": [],
   "source": []
  }
 ],
 "metadata": {
  "kernelspec": {
   "display_name": "Python 3 (ipykernel)",
   "language": "python",
   "name": "python3"
  },
  "language_info": {
   "codemirror_mode": {
    "name": "ipython",
    "version": 3
   },
   "file_extension": ".py",
   "mimetype": "text/x-python",
   "name": "python",
   "nbconvert_exporter": "python",
   "pygments_lexer": "ipython3",
   "version": "3.9.12"
  }
 },
 "nbformat": 4,
 "nbformat_minor": 5
}
