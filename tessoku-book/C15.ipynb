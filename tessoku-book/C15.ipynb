{
 "cells": [
  {
   "cell_type": "code",
   "execution_count": 1,
   "id": "c04166f1-71ad-4b56-b8d2-e8c29fff6331",
   "metadata": {},
   "outputs": [
    {
     "data": {
      "application/vnd.jupyter.widget-view+json": {
       "model_id": "72569fc060e24fa7a7eb11fd8f604b10",
       "version_major": 2,
       "version_minor": 0
      },
      "text/plain": [
       "Textarea(value='')"
      ]
     },
     "metadata": {},
     "output_type": "display_data"
    }
   ],
   "source": [
    "# Ref: https://qiita.com/noca/items/00646efd9d4a7302f522\n",
    "from ipywidgets import Textarea\n",
    "import io\n",
    "if 'open' in globals():\n",
    "    del open\n",
    "if 'input' in globals():\n",
    "    del input\n",
    "original_open = open\n",
    "class custom_open():\n",
    "    def __init__(self):\n",
    "        self.text = ''\n",
    "    def __call__(self, file, *args, **kwargs):\n",
    "        if file == 0:\n",
    "            return io.StringIO(self.text)\n",
    "        return original_open(file, *args, **kwargs)\n",
    "    def updater(self, change):\n",
    "        self.text = change[\"new\"]\n",
    "class custom_input():\n",
    "    def __init__(self):\n",
    "        self.__sio = io.StringIO('')\n",
    "        self.shell = get_ipython()\n",
    "        if self.shell.events.callbacks['pre_run_cell'] != []:\n",
    "            self.shell.events.callbacks['pre_run_cell'] = []\n",
    "        self.shell.events.register('pre_run_cell', self.pre_run_cell)\n",
    "    def __call__(self):\n",
    "        return self.__sio.readline().strip()\n",
    "    def pre_run_cell(self, info):\n",
    "        text = self.shell.user_ns.get('text_area', None).value\n",
    "        self.__sio = io.StringIO(text)\n",
    "open = custom_open()\n",
    "input = custom_input()\n",
    "text_area = Textarea()\n",
    "text_area.observe(open.updater, names='value')\n",
    "display(text_area)"
   ]
  },
  {
   "cell_type": "code",
   "execution_count": 37,
   "id": "de3fc868-ca9c-4b02-924a-2db2104f206b",
   "metadata": {},
   "outputs": [
    {
     "name": "stdout",
     "output_type": "stream",
     "text": [
      "2\n",
      "3\n",
      "3\n",
      "2\n",
      "3\n"
     ]
    }
   ],
   "source": [
    "N = int(input())\n",
    "K = int(input())\n",
    "query = []\n",
    "LR = []\n",
    "RL = []\n",
    "for _ in range(N):\n",
    "    l, r = map(int, input().split())\n",
    "    query.append((l, r))\n",
    "    LR.append((l, r))\n",
    "    RL.append((r, l))\n",
    "LR.sort()\n",
    "RL.sort()\n",
    "\n",
    "MAX = 86400 + 100\n",
    "f = [0] * MAX\n",
    "last = - K \n",
    "for r, l in RL:\n",
    "    if last + K <= l:\n",
    "        f[r] = 1\n",
    "        last = r\n",
    "for i in range(1, MAX):\n",
    "    f[i] += f[i-1]\n",
    "    \n",
    "b = [0] * MAX\n",
    "last = MAX + K\n",
    "for i in range(N):\n",
    "    l, r = LR[N-i-1]\n",
    "    if last - K >= r:\n",
    "        b[l] = 1\n",
    "        last = l\n",
    "for i in range(MAX-2, -1, -1):\n",
    "    b[i] += b[i+1]\n",
    "    \n",
    "for l, r in query:\n",
    "    print(f[max(0, l - K)] + 1 + b[min(MAX-1, r+K)])"
   ]
  },
  {
   "cell_type": "code",
   "execution_count": 38,
   "id": "01d5f462-a562-4091-a071-7044de79cc0c",
   "metadata": {},
   "outputs": [
    {
     "data": {
      "text/plain": [
       "[(2, 1), (4, 0), (7, 3), (8, 7), (9, 5)]"
      ]
     },
     "execution_count": 38,
     "metadata": {},
     "output_type": "execute_result"
    }
   ],
   "source": [
    "RL"
   ]
  },
  {
   "cell_type": "code",
   "execution_count": null,
   "id": "5473647e-2076-4e7d-b610-66dcba8df70f",
   "metadata": {},
   "outputs": [],
   "source": []
  }
 ],
 "metadata": {
  "kernelspec": {
   "display_name": "Python 3 (ipykernel)",
   "language": "python",
   "name": "python3"
  },
  "language_info": {
   "codemirror_mode": {
    "name": "ipython",
    "version": 3
   },
   "file_extension": ".py",
   "mimetype": "text/x-python",
   "name": "python",
   "nbconvert_exporter": "python",
   "pygments_lexer": "ipython3",
   "version": "3.9.12"
  }
 },
 "nbformat": 4,
 "nbformat_minor": 5
}
