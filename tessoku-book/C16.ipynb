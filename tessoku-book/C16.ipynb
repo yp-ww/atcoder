{
 "cells": [
  {
   "cell_type": "code",
   "execution_count": 1,
   "id": "9a224a6b-0ae0-42bd-bf12-0c9dde33d7d8",
   "metadata": {},
   "outputs": [
    {
     "data": {
      "application/vnd.jupyter.widget-view+json": {
       "model_id": "20294d2e36fb4438970942a6a89c3e82",
       "version_major": 2,
       "version_minor": 0
      },
      "text/plain": [
       "Textarea(value='')"
      ]
     },
     "metadata": {},
     "output_type": "display_data"
    }
   ],
   "source": [
    "# Ref: https://qiita.com/noca/items/00646efd9d4a7302f522\n",
    "from ipywidgets import Textarea\n",
    "import io\n",
    "if 'open' in globals():\n",
    "    del open\n",
    "if 'input' in globals():\n",
    "    del input\n",
    "original_open = open\n",
    "class custom_open():\n",
    "    def __init__(self):\n",
    "        self.text = ''\n",
    "    def __call__(self, file, *args, **kwargs):\n",
    "        if file == 0:\n",
    "            return io.StringIO(self.text)\n",
    "        return original_open(file, *args, **kwargs)\n",
    "    def updater(self, change):\n",
    "        self.text = change[\"new\"]\n",
    "class custom_input():\n",
    "    def __init__(self):\n",
    "        self.__sio = io.StringIO('')\n",
    "        self.shell = get_ipython()\n",
    "        if self.shell.events.callbacks['pre_run_cell'] != []:\n",
    "            self.shell.events.callbacks['pre_run_cell'] = []\n",
    "        self.shell.events.register('pre_run_cell', self.pre_run_cell)\n",
    "    def __call__(self):\n",
    "        return self.__sio.readline().strip()\n",
    "    def pre_run_cell(self, info):\n",
    "        text = self.shell.user_ns.get('text_area', None).value\n",
    "        self.__sio = io.StringIO(text)\n",
    "open = custom_open()\n",
    "input = custom_input()\n",
    "text_area = Textarea()\n",
    "text_area.observe(open.updater, names='value')\n",
    "display(text_area)"
   ]
  },
  {
   "cell_type": "code",
   "execution_count": 9,
   "id": "223c808f-ca75-496c-add1-66c9bb46522c",
   "metadata": {},
   "outputs": [
    {
     "name": "stdout",
     "output_type": "stream",
     "text": [
      "3\n"
     ]
    }
   ],
   "source": [
    "import sys\n",
    "sys.setrecursionlimit(10 ** 6)\n",
    "from functools import lru_cache\n",
    "import bisect\n",
    "\n",
    "N, M, K = map(int, input().split())\n",
    "\n",
    "G = [list() for _ in range(N)]\n",
    "GS = [list() for _ in range(N)]\n",
    "for _ in range(M):\n",
    "    A, S, B, T = map(int, input().split())\n",
    "    A -= 1\n",
    "    B -= 1\n",
    "    T += K\n",
    "    G[A].append((S, T, B))\n",
    "    GS[A].append(S)\n",
    "\n",
    "for i in range(N):\n",
    "    G[i].sort()\n",
    "    GS[i].sort()\n",
    "\n",
    "@lru_cache(maxsize = 10 ** 5)\n",
    "def dfs(pos, time, idx):\n",
    "    temp = 0\n",
    "    if idx + 1 < len(G[pos]):\n",
    "        temp = max(temp, dfs(pos, G[pos][idx+1][0], idx+1))\n",
    "    \n",
    "    s, t, nex = G[pos][idx]\n",
    "    idx_nex = bisect.bisect_left(GS[nex], t)\n",
    "    if idx_nex == len(G[nex]):\n",
    "        temp = max(temp, 1)\n",
    "        return temp\n",
    "    \n",
    "    temp = max(temp, dfs(nex, G[nex][idx_nex], idx_nex) + 1)\n",
    "    return temp\n",
    "\n",
    "ans = 0\n",
    "for i in range(N):\n",
    "    if G[i]:\n",
    "        s, t, nex = G[i][0]\n",
    "        ans = max(ans, dfs(i, s, 0))\n",
    "print(ans)"
   ]
  },
  {
   "cell_type": "code",
   "execution_count": null,
   "id": "ebd5e30b-4e2d-4b33-bfe7-86360a2059d1",
   "metadata": {},
   "outputs": [],
   "source": []
  }
 ],
 "metadata": {
  "kernelspec": {
   "display_name": "Python 3 (ipykernel)",
   "language": "python",
   "name": "python3"
  },
  "language_info": {
   "codemirror_mode": {
    "name": "ipython",
    "version": 3
   },
   "file_extension": ".py",
   "mimetype": "text/x-python",
   "name": "python",
   "nbconvert_exporter": "python",
   "pygments_lexer": "ipython3",
   "version": "3.9.12"
  }
 },
 "nbformat": 4,
 "nbformat_minor": 5
}
