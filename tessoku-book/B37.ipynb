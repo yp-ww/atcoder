{
 "cells": [
  {
   "cell_type": "code",
   "execution_count": 1,
   "id": "7e992767-81fb-4014-b2cc-6e96a2e0e90d",
   "metadata": {},
   "outputs": [
    {
     "data": {
      "application/vnd.jupyter.widget-view+json": {
       "model_id": "3b800ac3773643659d4ee5bd87d1fc35",
       "version_major": 2,
       "version_minor": 0
      },
      "text/plain": [
       "Textarea(value='')"
      ]
     },
     "metadata": {},
     "output_type": "display_data"
    }
   ],
   "source": [
    "# Ref: https://qiita.com/noca/items/00646efd9d4a7302f522\n",
    "from ipywidgets import Textarea\n",
    "import io\n",
    "if 'open' in globals():\n",
    "    del open\n",
    "if 'input' in globals():\n",
    "    del input\n",
    "original_open = open\n",
    "class custom_open():\n",
    "    def __init__(self):\n",
    "        self.text = ''\n",
    "    def __call__(self, file, *args, **kwargs):\n",
    "        if file == 0:\n",
    "            return io.StringIO(self.text)\n",
    "        return original_open(file, *args, **kwargs)\n",
    "    def updater(self, change):\n",
    "        self.text = change[\"new\"]\n",
    "class custom_input():\n",
    "    def __init__(self):\n",
    "        self.__sio = io.StringIO('')\n",
    "        self.shell = get_ipython()\n",
    "        if self.shell.events.callbacks['pre_run_cell'] != []:\n",
    "            self.shell.events.callbacks['pre_run_cell'] = []\n",
    "        self.shell.events.register('pre_run_cell', self.pre_run_cell)\n",
    "    def __call__(self):\n",
    "        return self.__sio.readline().strip()\n",
    "    def pre_run_cell(self, info):\n",
    "        text = self.shell.user_ns.get('text_area', None).value\n",
    "        self.__sio = io.StringIO(text)\n",
    "open = custom_open()\n",
    "input = custom_input()\n",
    "text_area = Textarea()\n",
    "text_area.observe(open.updater, names='value')\n",
    "display(text_area)"
   ]
  },
  {
   "cell_type": "code",
   "execution_count": 141,
   "id": "65fc74c5-1398-4021-b95f-85112ee3d0cc",
   "metadata": {},
   "outputs": [
    {
     "name": "stdout",
     "output_type": "stream",
     "text": [
      "960\n"
     ]
    }
   ],
   "source": [
    "N = int(input())\n",
    "\n",
    "def f(now, i):\n",
    "    temp = 0\n",
    "    \n",
    "    x = now // (10 ** (i-1))\n",
    "    x %= 10\n",
    "\n",
    "    for j in range(x):\n",
    "        temp += j * (10 ** (i-1))\n",
    "        \n",
    "    temp += 45 * (now // 10) * (i-1)\n",
    "    temp += x\n",
    "    \n",
    "    return temp\n",
    "        \n",
    "ans = 0\n",
    "cnt = [0] * 10\n",
    "nex = N\n",
    "for i in range(1, 17):\n",
    "    x = nex // (10 ** (i-1))\n",
    "    x %= 10\n",
    "    \n",
    "    now = x * (10 ** (i-1))\n",
    "    \n",
    "    nex = N // (10 ** i)\n",
    "    nex *= 10 ** i\n",
    "    \n",
    "    for j in range(17):\n",
    "        y = nex // (10 ** j)\n",
    "        y %= 10\n",
    "        ans += y * now\n",
    "        \n",
    "    ans += f(now, i)\n",
    "\n",
    "print(ans)"
   ]
  },
  {
   "cell_type": "code",
   "execution_count": 142,
   "id": "54ace6f3-2359-4110-af40-a194d729c6c1",
   "metadata": {},
   "outputs": [
    {
     "data": {
      "text/plain": [
       "1902"
      ]
     },
     "execution_count": 142,
     "metadata": {},
     "output_type": "execute_result"
    }
   ],
   "source": [
    "f(200, 3)"
   ]
  },
  {
   "cell_type": "code",
   "execution_count": null,
   "id": "cb3a1170-7c66-4674-9cf5-b1c876d20c38",
   "metadata": {},
   "outputs": [],
   "source": []
  },
  {
   "cell_type": "code",
   "execution_count": 143,
   "id": "4d06c19f-b7fb-4a3d-942e-7bd7eaf22707",
   "metadata": {},
   "outputs": [
    {
     "data": {
      "text/plain": [
       "960"
      ]
     },
     "execution_count": 143,
     "metadata": {},
     "output_type": "execute_result"
    }
   ],
   "source": [
    "def g(x):\n",
    "    if x == 0:\n",
    "        return 0\n",
    "    \n",
    "    temp = 0\n",
    "    gg = str(x)\n",
    "    for i in range(len(gg)):\n",
    "        temp += int(gg[i])\n",
    "    return temp + g(x - 1)\n",
    "\n",
    "g(111)"
   ]
  },
  {
   "cell_type": "code",
   "execution_count": null,
   "id": "e33870be-0283-41fc-b536-898de27e2865",
   "metadata": {},
   "outputs": [],
   "source": []
  },
  {
   "cell_type": "code",
   "execution_count": null,
   "id": "37724627-e15d-4aa4-a2aa-39610e586ac0",
   "metadata": {},
   "outputs": [],
   "source": []
  },
  {
   "cell_type": "code",
   "execution_count": null,
   "id": "3e8ab7eb-c21c-49f1-800e-79a671632ad8",
   "metadata": {},
   "outputs": [],
   "source": []
  }
 ],
 "metadata": {
  "kernelspec": {
   "display_name": "Python 3 (ipykernel)",
   "language": "python",
   "name": "python3"
  },
  "language_info": {
   "codemirror_mode": {
    "name": "ipython",
    "version": 3
   },
   "file_extension": ".py",
   "mimetype": "text/x-python",
   "name": "python",
   "nbconvert_exporter": "python",
   "pygments_lexer": "ipython3",
   "version": "3.9.12"
  }
 },
 "nbformat": 4,
 "nbformat_minor": 5
}
