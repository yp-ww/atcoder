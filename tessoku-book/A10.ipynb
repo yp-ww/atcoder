{
 "cells": [
  {
   "cell_type": "code",
   "execution_count": 1,
   "id": "fcd69ab9-7803-4827-87cc-39d6c831b36b",
   "metadata": {},
   "outputs": [
    {
     "data": {
      "application/vnd.jupyter.widget-view+json": {
       "model_id": "2cfc02a46c5c48a292832a537d9f4188",
       "version_major": 2,
       "version_minor": 0
      },
      "text/plain": [
       "Textarea(value='')"
      ]
     },
     "metadata": {},
     "output_type": "display_data"
    }
   ],
   "source": [
    "# Ref: https://qiita.com/noca/items/00646efd9d4a7302f522\n",
    "from ipywidgets import Textarea\n",
    "import io\n",
    "if 'open' in globals():\n",
    "    del open\n",
    "if 'input' in globals():\n",
    "    del input\n",
    "original_open = open\n",
    "class custom_open():\n",
    "    def __init__(self):\n",
    "        self.text = ''\n",
    "    def __call__(self, file, *args, **kwargs):\n",
    "        if file == 0:\n",
    "            return io.StringIO(self.text)\n",
    "        return original_open(file, *args, **kwargs)\n",
    "    def updater(self, change):\n",
    "        self.text = change[\"new\"]\n",
    "class custom_input():\n",
    "    def __init__(self):\n",
    "        self.__sio = io.StringIO('')\n",
    "        self.shell = get_ipython()\n",
    "        if self.shell.events.callbacks['pre_run_cell'] != []:\n",
    "            self.shell.events.callbacks['pre_run_cell'] = []\n",
    "        self.shell.events.register('pre_run_cell', self.pre_run_cell)\n",
    "    def __call__(self):\n",
    "        return self.__sio.readline().strip()\n",
    "    def pre_run_cell(self, info):\n",
    "        text = self.shell.user_ns.get('text_area', None).value\n",
    "        self.__sio = io.StringIO(text)\n",
    "open = custom_open()\n",
    "input = custom_input()\n",
    "text_area = Textarea()\n",
    "text_area.observe(open.updater, names='value')\n",
    "display(text_area)"
   ]
  },
  {
   "cell_type": "code",
   "execution_count": 42,
   "id": "0b4e14db-2e8f-44f5-b92d-7d4120e35d75",
   "metadata": {},
   "outputs": [
    {
     "name": "stdout",
     "output_type": "stream",
     "text": [
      "3\n",
      "5\n"
     ]
    }
   ],
   "source": [
    "N = int(input())\n",
    "A = list(map(int, input().split()))\n",
    "D = int(input())\n",
    "\n",
    "size = 1\n",
    "while size < N:\n",
    "    size *= 2\n",
    "\n",
    "node = [0] * size * 2\n",
    "\n",
    "# pos: 0-indexed\n",
    "def update(pos, x):\n",
    "    pos += size\n",
    "    node[pos] = x\n",
    "    while pos >= 2:\n",
    "        pos //= 2\n",
    "        node[pos] = max(node[pos*2], node[pos*2 + 1])\n",
    "    \n",
    "def query(l, r, a, b, n):\n",
    "    if r <= a or b <= l:\n",
    "        return 0\n",
    "    if l <= a and b <= r:\n",
    "        return node[n]\n",
    "    \n",
    "    mid = (a + b) // 2\n",
    "    vl = query(l, r, a, mid, n * 2)\n",
    "    vr = query(l, r, mid, b, n * 2 + 1)\n",
    "    return max(vl, vr)\n",
    "\n",
    "for i in range(N):\n",
    "    update(i, A[i])\n",
    "\n",
    "for _ in range(D):\n",
    "    l, r = map(int, input().split())\n",
    "    l -= 1\n",
    "    r -= 1\n",
    "    ll = query(0, l, 0, size, 1)\n",
    "    rr = query(r+1, N, 0, size, 1)\n",
    "    print(max(ll, rr))"
   ]
  },
  {
   "cell_type": "code",
   "execution_count": 43,
   "id": "4bfba999-e706-4bca-9017-897b51673709",
   "metadata": {},
   "outputs": [
    {
     "data": {
      "text/plain": [
       "7"
      ]
     },
     "execution_count": 43,
     "metadata": {},
     "output_type": "execute_result"
    }
   ],
   "source": [
    "N"
   ]
  },
  {
   "cell_type": "code",
   "execution_count": 44,
   "id": "f8190ba6-36ea-42f6-8e12-5123149c1ba0",
   "metadata": {},
   "outputs": [
    {
     "data": {
      "text/plain": [
       "[0, 5, 5, 3, 2, 5, 3, 1, 1, 2, 5, 5, 2, 3, 1, 0]"
      ]
     },
     "execution_count": 44,
     "metadata": {},
     "output_type": "execute_result"
    }
   ],
   "source": [
    "node"
   ]
  },
  {
   "cell_type": "code",
   "execution_count": null,
   "id": "c2a75102-74b0-4ee5-a429-0c51b2688e81",
   "metadata": {},
   "outputs": [],
   "source": []
  },
  {
   "cell_type": "code",
   "execution_count": null,
   "id": "4962f483-b9d9-4e9d-8223-6afa0d22bb0e",
   "metadata": {},
   "outputs": [],
   "source": []
  }
 ],
 "metadata": {
  "kernelspec": {
   "display_name": "Python 3 (ipykernel)",
   "language": "python",
   "name": "python3"
  },
  "language_info": {
   "codemirror_mode": {
    "name": "ipython",
    "version": 3
   },
   "file_extension": ".py",
   "mimetype": "text/x-python",
   "name": "python",
   "nbconvert_exporter": "python",
   "pygments_lexer": "ipython3",
   "version": "3.9.12"
  }
 },
 "nbformat": 4,
 "nbformat_minor": 5
}
