{
 "cells": [
  {
   "cell_type": "code",
   "execution_count": 1,
   "id": "b2b66d4b-f600-4573-993e-459ca46ca0d5",
   "metadata": {},
   "outputs": [
    {
     "data": {
      "application/vnd.jupyter.widget-view+json": {
       "model_id": "eaaa13a4c4ba43b8805a3bbc5f058503",
       "version_major": 2,
       "version_minor": 0
      },
      "text/plain": [
       "Textarea(value='')"
      ]
     },
     "metadata": {},
     "output_type": "display_data"
    }
   ],
   "source": [
    "# Ref: https://qiita.com/noca/items/00646efd9d4a7302f522\n",
    "from ipywidgets import Textarea\n",
    "import io\n",
    "if 'open' in globals():\n",
    "    del open\n",
    "if 'input' in globals():\n",
    "    del input\n",
    "original_open = open\n",
    "class custom_open():\n",
    "    def __init__(self):\n",
    "        self.text = ''\n",
    "    def __call__(self, file, *args, **kwargs):\n",
    "        if file == 0:\n",
    "            return io.StringIO(self.text)\n",
    "        return original_open(file, *args, **kwargs)\n",
    "    def updater(self, change):\n",
    "        self.text = change[\"new\"]\n",
    "class custom_input():\n",
    "    def __init__(self):\n",
    "        self.__sio = io.StringIO('')\n",
    "        self.shell = get_ipython()\n",
    "        if self.shell.events.callbacks['pre_run_cell'] != []:\n",
    "            self.shell.events.callbacks['pre_run_cell'] = []\n",
    "        self.shell.events.register('pre_run_cell', self.pre_run_cell)\n",
    "    def __call__(self):\n",
    "        return self.__sio.readline().strip()\n",
    "    def pre_run_cell(self, info):\n",
    "        text = self.shell.user_ns.get('text_area', None).value\n",
    "        self.__sio = io.StringIO(text)\n",
    "open = custom_open()\n",
    "input = custom_input()\n",
    "text_area = Textarea()\n",
    "text_area.observe(open.updater, names='value')\n",
    "display(text_area)"
   ]
  },
  {
   "cell_type": "code",
   "execution_count": 54,
   "id": "cfefe3ed-36b6-4aa8-97ad-60b776c5ea56",
   "metadata": {},
   "outputs": [
    {
     "name": "stdout",
     "output_type": "stream",
     "text": [
      "3\n"
     ]
    }
   ],
   "source": [
    "S = input()\n",
    "T = input()\n",
    "N = len(S)\n",
    "M = len(T)\n",
    "\n",
    "dp = [[0] * N for _ in range(M)]\n",
    "for i in range(M):\n",
    "    t = T[i]\n",
    "    for j in range(N):\n",
    "        if t == S[j]:\n",
    "            dp[i][j] = 1\n",
    "            \n",
    "for i in range(M):\n",
    "    for j in range(N):\n",
    "        if i + 1 < M and j + 1 < N:\n",
    "            dp[i+1][j+1] = max(dp[i+1][j+1], dp[i][j] + dp[i+1][j+1])\n",
    "            \n",
    "        if i + 1 < M:\n",
    "            dp[i+1][j] = max(dp[i+1][j], dp[i][j])\n",
    "        \n",
    "        if j + 1 < N:\n",
    "            dp[i][j+1] = max(dp[i][j+1], dp[i][j])\n",
    "            \n",
    "print(dp[M-1][N-1])"
   ]
  },
  {
   "cell_type": "code",
   "execution_count": 51,
   "id": "a5061694-972c-4005-a20f-3a572d1e8644",
   "metadata": {},
   "outputs": [
    {
     "data": {
      "text/plain": [
       "[[1, 1, 1, 1, 1, 1],\n",
       " [1, 1, 1, 1, 1, 1],\n",
       " [1, 1, 2, 2, 2, 2],\n",
       " [1, 1, 2, 2, 2, 2],\n",
       " [1, 1, 2, 3, 3, 3],\n",
       " [1, 2, 2, 3, 3, 3]]"
      ]
     },
     "execution_count": 51,
     "metadata": {},
     "output_type": "execute_result"
    }
   ],
   "source": [
    "dp"
   ]
  },
  {
   "cell_type": "code",
   "execution_count": 52,
   "id": "f370749d-fdb7-4ef4-a477-346689181731",
   "metadata": {},
   "outputs": [
    {
     "data": {
      "text/plain": [
       "[[1, 0, 0, 0, 0, 0],\n",
       " [0, 0, 0, 0, 0, 0],\n",
       " [0, 0, 1, 0, 0, 0],\n",
       " [0, 0, 0, 0, 0, 0],\n",
       " [0, 0, 0, 1, 0, 0],\n",
       " [0, 1, 0, 0, 0, 0]]"
      ]
     },
     "execution_count": 52,
     "metadata": {},
     "output_type": "execute_result"
    }
   ],
   "source": [
    "G"
   ]
  },
  {
   "cell_type": "code",
   "execution_count": null,
   "id": "8c735758-ea21-4db4-8ab3-688bfe150de7",
   "metadata": {},
   "outputs": [],
   "source": []
  }
 ],
 "metadata": {
  "kernelspec": {
   "display_name": "Python 3 (ipykernel)",
   "language": "python",
   "name": "python3"
  },
  "language_info": {
   "codemirror_mode": {
    "name": "ipython",
    "version": 3
   },
   "file_extension": ".py",
   "mimetype": "text/x-python",
   "name": "python",
   "nbconvert_exporter": "python",
   "pygments_lexer": "ipython3",
   "version": "3.9.12"
  }
 },
 "nbformat": 4,
 "nbformat_minor": 5
}
