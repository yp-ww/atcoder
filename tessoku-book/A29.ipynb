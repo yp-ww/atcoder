{
 "cells": [
  {
   "cell_type": "code",
   "execution_count": 1,
   "id": "8c99b9a4-8171-4606-a27f-59f8ad590b80",
   "metadata": {},
   "outputs": [
    {
     "data": {
      "application/vnd.jupyter.widget-view+json": {
       "model_id": "510c770347774abab124f051d25f2718",
       "version_major": 2,
       "version_minor": 0
      },
      "text/plain": [
       "Textarea(value='')"
      ]
     },
     "metadata": {},
     "output_type": "display_data"
    }
   ],
   "source": [
    "# Ref: https://qiita.com/noca/items/00646efd9d4a7302f522\n",
    "from ipywidgets import Textarea\n",
    "import io\n",
    "if 'open' in globals():\n",
    "    del open\n",
    "if 'input' in globals():\n",
    "    del input\n",
    "original_open = open\n",
    "class custom_open():\n",
    "    def __init__(self):\n",
    "        self.text = ''\n",
    "    def __call__(self, file, *args, **kwargs):\n",
    "        if file == 0:\n",
    "            return io.StringIO(self.text)\n",
    "        return original_open(file, *args, **kwargs)\n",
    "    def updater(self, change):\n",
    "        self.text = change[\"new\"]\n",
    "class custom_input():\n",
    "    def __init__(self):\n",
    "        self.__sio = io.StringIO('')\n",
    "        self.shell = get_ipython()\n",
    "        if self.shell.events.callbacks['pre_run_cell'] != []:\n",
    "            self.shell.events.callbacks['pre_run_cell'] = []\n",
    "        self.shell.events.register('pre_run_cell', self.pre_run_cell)\n",
    "    def __call__(self):\n",
    "        return self.__sio.readline().strip()\n",
    "    def pre_run_cell(self, info):\n",
    "        text = self.shell.user_ns.get('text_area', None).value\n",
    "        self.__sio = io.StringIO(text)\n",
    "open = custom_open()\n",
    "input = custom_input()\n",
    "text_area = Textarea()\n",
    "text_area.observe(open.updater, names='value')\n",
    "display(text_area)"
   ]
  },
  {
   "cell_type": "code",
   "execution_count": 9,
   "id": "def83bed-33cb-4e6c-8bb6-70a46cf2e5d4",
   "metadata": {},
   "outputs": [
    {
     "name": "stdout",
     "output_type": "stream",
     "text": [
      "871631629\n"
     ]
    }
   ],
   "source": [
    "A, B = map(int, input().split())\n",
    "MOD = 1000000007\n",
    "\n",
    "arr = [0] * 30\n",
    "arr[0] = A\n",
    "for i in range(1, 30):\n",
    "    arr[i] = arr[i-1] * arr[i-1]\n",
    "    arr[i] %= MOD\n",
    "\n",
    "ans = 1\n",
    "for i in range(30):\n",
    "    if B & (1 << i):\n",
    "        ans *= arr[i]\n",
    "        ans %= MOD\n",
    "print(ans)"
   ]
  },
  {
   "cell_type": "code",
   "execution_count": 7,
   "id": "0b74cf48-6c41-4cc1-bf8d-076011f825e1",
   "metadata": {},
   "outputs": [
    {
     "data": {
      "text/plain": [
       "[5,\n",
       " 25,\n",
       " 625,\n",
       " 390625,\n",
       " 587889561,\n",
       " 513473790,\n",
       " 171376783,\n",
       " 545839082,\n",
       " 353020617,\n",
       " 154695804,\n",
       " 607690879,\n",
       " 834775234,\n",
       " 421806954,\n",
       " 197310381,\n",
       " 177845459,\n",
       " 65517632,\n",
       " 72839504,\n",
       " 305826865,\n",
       " 701017735,\n",
       " 344549198,\n",
       " 11444161,\n",
       " 820077145,\n",
       " 43665392,\n",
       " 445167002,\n",
       " 282452398,\n",
       " 577494912,\n",
       " 51385147,\n",
       " 313728578,\n",
       " 964922751,\n",
       " 879876645]"
      ]
     },
     "execution_count": 7,
     "metadata": {},
     "output_type": "execute_result"
    }
   ],
   "source": [
    "arr"
   ]
  },
  {
   "cell_type": "code",
   "execution_count": null,
   "id": "838786eb-bd36-48a7-92d0-116129baa308",
   "metadata": {},
   "outputs": [],
   "source": []
  }
 ],
 "metadata": {
  "kernelspec": {
   "display_name": "Python 3 (ipykernel)",
   "language": "python",
   "name": "python3"
  },
  "language_info": {
   "codemirror_mode": {
    "name": "ipython",
    "version": 3
   },
   "file_extension": ".py",
   "mimetype": "text/x-python",
   "name": "python",
   "nbconvert_exporter": "python",
   "pygments_lexer": "ipython3",
   "version": "3.9.12"
  }
 },
 "nbformat": 4,
 "nbformat_minor": 5
}
