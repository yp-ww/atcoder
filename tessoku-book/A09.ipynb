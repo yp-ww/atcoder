{
 "cells": [
  {
   "cell_type": "code",
   "execution_count": 1,
   "id": "f1f57f79-2f57-4883-958c-5220d5623c6b",
   "metadata": {},
   "outputs": [
    {
     "data": {
      "application/vnd.jupyter.widget-view+json": {
       "model_id": "aec96c6f558847aab9b80719dea71252",
       "version_major": 2,
       "version_minor": 0
      },
      "text/plain": [
       "Textarea(value='')"
      ]
     },
     "metadata": {},
     "output_type": "display_data"
    }
   ],
   "source": [
    "# Ref: https://qiita.com/noca/items/00646efd9d4a7302f522\n",
    "from ipywidgets import Textarea\n",
    "import io\n",
    "if 'open' in globals():\n",
    "    del open\n",
    "if 'input' in globals():\n",
    "    del input\n",
    "original_open = open\n",
    "class custom_open():\n",
    "    def __init__(self):\n",
    "        self.text = ''\n",
    "    def __call__(self, file, *args, **kwargs):\n",
    "        if file == 0:\n",
    "            return io.StringIO(self.text)\n",
    "        return original_open(file, *args, **kwargs)\n",
    "    def updater(self, change):\n",
    "        self.text = change[\"new\"]\n",
    "class custom_input():\n",
    "    def __init__(self):\n",
    "        self.__sio = io.StringIO('')\n",
    "        self.shell = get_ipython()\n",
    "        if self.shell.events.callbacks['pre_run_cell'] != []:\n",
    "            self.shell.events.callbacks['pre_run_cell'] = []\n",
    "        self.shell.events.register('pre_run_cell', self.pre_run_cell)\n",
    "    def __call__(self):\n",
    "        return self.__sio.readline().strip()\n",
    "    def pre_run_cell(self, info):\n",
    "        text = self.shell.user_ns.get('text_area', None).value\n",
    "        self.__sio = io.StringIO(text)\n",
    "open = custom_open()\n",
    "input = custom_input()\n",
    "text_area = Textarea()\n",
    "text_area.observe(open.updater, names='value')\n",
    "display(text_area)"
   ]
  },
  {
   "cell_type": "code",
   "execution_count": 24,
   "id": "b77a681f-44df-434e-a970-efe3e5300f42",
   "metadata": {},
   "outputs": [
    {
     "name": "stdout",
     "output_type": "stream",
     "text": [
      "1 1 1 0 0\n",
      "1 2 2 1 1\n",
      "1 2 2 1 1\n",
      "0 1 1 1 1\n",
      "0 1 1 1 1\n"
     ]
    }
   ],
   "source": [
    "H, W, N = map(int, input().split())\n",
    "\n",
    "G = [[0] * (W+1) for _ in range(H+1)]\n",
    "for _ in range(N):\n",
    "    a, b, c, d = map(int, input().split())\n",
    "    a -= 1\n",
    "    b -= 1\n",
    "    c -= 1\n",
    "    d -= 1\n",
    "    G[a][b] += 1\n",
    "    G[a][d+1] -= 1\n",
    "    G[c+1][b] -= 1\n",
    "    G[c+1][d+1] += 1\n",
    "\n",
    "S = [[0] * (W+1) for _ in range(H+1)]\n",
    "for i in range(H):\n",
    "    for j in range(W):\n",
    "        S[i+1][j+1] = S[i][j+1] + S[i+1][j] - S[i][j] + G[i][j]\n",
    "        \n",
    "for i in range(1, H+1):\n",
    "    print(*S[i][1:])"
   ]
  },
  {
   "cell_type": "code",
   "execution_count": 25,
   "id": "7d2f158c-1502-418d-a414-a013d89ecdbc",
   "metadata": {},
   "outputs": [
    {
     "data": {
      "text/plain": [
       "[[1, 0, 0, -1, 0, 0],\n",
       " [0, 1, 0, 0, 0, -1],\n",
       " [0, 0, 0, 0, 0, 0],\n",
       " [-1, 0, 0, 1, 0, 0],\n",
       " [0, 0, 0, 0, 0, 0],\n",
       " [0, -1, 0, 0, 0, 1]]"
      ]
     },
     "execution_count": 25,
     "metadata": {},
     "output_type": "execute_result"
    }
   ],
   "source": [
    "G"
   ]
  },
  {
   "cell_type": "code",
   "execution_count": 26,
   "id": "b8cf31f3-11b3-407d-b994-42ee6e1504b2",
   "metadata": {},
   "outputs": [
    {
     "data": {
      "text/plain": [
       "[[0, 0, 0, 0, 0, 0],\n",
       " [0, 1, 1, 1, 0, 0],\n",
       " [0, 1, 2, 2, 1, 1],\n",
       " [0, 1, 2, 2, 1, 1],\n",
       " [0, 0, 1, 1, 1, 1],\n",
       " [0, 0, 1, 1, 1, 1]]"
      ]
     },
     "execution_count": 26,
     "metadata": {},
     "output_type": "execute_result"
    }
   ],
   "source": [
    "S"
   ]
  },
  {
   "cell_type": "code",
   "execution_count": null,
   "id": "6fa55c43-c48a-41e7-b6f8-8fb83a050962",
   "metadata": {},
   "outputs": [],
   "source": []
  }
 ],
 "metadata": {
  "kernelspec": {
   "display_name": "Python 3 (ipykernel)",
   "language": "python",
   "name": "python3"
  },
  "language_info": {
   "codemirror_mode": {
    "name": "ipython",
    "version": 3
   },
   "file_extension": ".py",
   "mimetype": "text/x-python",
   "name": "python",
   "nbconvert_exporter": "python",
   "pygments_lexer": "ipython3",
   "version": "3.9.12"
  }
 },
 "nbformat": 4,
 "nbformat_minor": 5
}
