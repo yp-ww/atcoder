{
 "cells": [
  {
   "cell_type": "code",
   "execution_count": 2,
   "id": "d7910708-8d98-48f2-8f22-156032d56a7c",
   "metadata": {},
   "outputs": [
    {
     "data": {
      "application/vnd.jupyter.widget-view+json": {
       "model_id": "bcfc9aeb0abd4cdba53479f62e3b911b",
       "version_major": 2,
       "version_minor": 0
      },
      "text/plain": [
       "Textarea(value='')"
      ]
     },
     "metadata": {},
     "output_type": "display_data"
    }
   ],
   "source": [
    "# Ref: https://qiita.com/noca/items/00646efd9d4a7302f522\n",
    "from ipywidgets import Textarea\n",
    "import io\n",
    "if 'open' in globals():\n",
    "    del open\n",
    "if 'input' in globals():\n",
    "    del input\n",
    "original_open = open\n",
    "class custom_open():\n",
    "    def __init__(self):\n",
    "        self.text = ''\n",
    "    def __call__(self, file, *args, **kwargs):\n",
    "        if file == 0:\n",
    "            return io.StringIO(self.text)\n",
    "        return original_open(file, *args, **kwargs)\n",
    "    def updater(self, change):\n",
    "        self.text = change[\"new\"]\n",
    "class custom_input():\n",
    "    def __init__(self):\n",
    "        self.__sio = io.StringIO('')\n",
    "        self.shell = get_ipython()\n",
    "        if self.shell.events.callbacks['pre_run_cell'] != []:\n",
    "            self.shell.events.callbacks['pre_run_cell'] = []\n",
    "        self.shell.events.register('pre_run_cell', self.pre_run_cell)\n",
    "    def __call__(self):\n",
    "        return self.__sio.readline().strip()\n",
    "    def pre_run_cell(self, info):\n",
    "        text = self.shell.user_ns.get('text_area', None).value\n",
    "        self.__sio = io.StringIO(text)\n",
    "open = custom_open()\n",
    "input = custom_input()\n",
    "text_area = Textarea()\n",
    "text_area.observe(open.updater, names='value')\n",
    "display(text_area)"
   ]
  },
  {
   "cell_type": "code",
   "execution_count": 4,
   "id": "fd43100a-7e41-4b4b-b3d7-6211a3bedce1",
   "metadata": {},
   "outputs": [
    {
     "name": "stdout",
     "output_type": "stream",
     "text": [
      "321\n"
     ]
    }
   ],
   "source": [
    "import heapq\n",
    "N, M = map(int, input().split())\n",
    "h = []\n",
    "for _ in range(M):\n",
    "    a, b, c = map(int, input().split())\n",
    "    a -= 1\n",
    "    b -= 1\n",
    "    heapq.heappush(h, (-1 * c, a, b))\n",
    "\n",
    "par = [i for i in range(N)]\n",
    "size = [1] * N\n",
    "def root(x):\n",
    "    temp = x\n",
    "    while x != par[x]:\n",
    "        x = par[x]\n",
    "    par[temp] = x\n",
    "    return x\n",
    "    \n",
    "def unite(x, y):\n",
    "    x = root(x)\n",
    "    y = root(y)\n",
    "    if x == y:\n",
    "        return \n",
    "    if size[x] < size[y]:\n",
    "        x, y = y, x\n",
    "    \n",
    "    par[y] = x\n",
    "    size[x] += size[y]\n",
    "    return \n",
    "    \n",
    "ans = 0\n",
    "while h:\n",
    "    c, a, b = heapq.heappop(h)\n",
    "    if root(a) == root(b):\n",
    "        continue\n",
    "    \n",
    "    unite(a, b)\n",
    "    ans += -1 * c\n",
    "print(ans)"
   ]
  },
  {
   "cell_type": "code",
   "execution_count": null,
   "id": "ba8510e2-e4bd-406d-8ef3-8d69f009b60f",
   "metadata": {},
   "outputs": [],
   "source": [
    " "
   ]
  }
 ],
 "metadata": {
  "kernelspec": {
   "display_name": "Python 3 (ipykernel)",
   "language": "python",
   "name": "python3"
  },
  "language_info": {
   "codemirror_mode": {
    "name": "ipython",
    "version": 3
   },
   "file_extension": ".py",
   "mimetype": "text/x-python",
   "name": "python",
   "nbconvert_exporter": "python",
   "pygments_lexer": "ipython3",
   "version": "3.9.12"
  }
 },
 "nbformat": 4,
 "nbformat_minor": 5
}
