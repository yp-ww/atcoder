{
 "cells": [
  {
   "cell_type": "code",
   "execution_count": 1,
   "id": "5d730771-6846-4489-a340-c445205c45c6",
   "metadata": {},
   "outputs": [
    {
     "data": {
      "application/vnd.jupyter.widget-view+json": {
       "model_id": "876fbc9c8b8c43f6b0665f1649408e05",
       "version_major": 2,
       "version_minor": 0
      },
      "text/plain": [
       "Textarea(value='')"
      ]
     },
     "metadata": {},
     "output_type": "display_data"
    }
   ],
   "source": [
    "# Ref: https://qiita.com/noca/items/00646efd9d4a7302f522\n",
    "from ipywidgets import Textarea\n",
    "import io\n",
    "if 'open' in globals():\n",
    "    del open\n",
    "if 'input' in globals():\n",
    "    del input\n",
    "original_open = open\n",
    "class custom_open():\n",
    "    def __init__(self):\n",
    "        self.text = ''\n",
    "    def __call__(self, file, *args, **kwargs):\n",
    "        if file == 0:\n",
    "            return io.StringIO(self.text)\n",
    "        return original_open(file, *args, **kwargs)\n",
    "    def updater(self, change):\n",
    "        self.text = change[\"new\"]\n",
    "class custom_input():\n",
    "    def __init__(self):\n",
    "        self.__sio = io.StringIO('')\n",
    "        self.shell = get_ipython()\n",
    "        if self.shell.events.callbacks['pre_run_cell'] != []:\n",
    "            self.shell.events.callbacks['pre_run_cell'] = []\n",
    "        self.shell.events.register('pre_run_cell', self.pre_run_cell)\n",
    "    def __call__(self):\n",
    "        return self.__sio.readline().strip()\n",
    "    def pre_run_cell(self, info):\n",
    "        text = self.shell.user_ns.get('text_area', None).value\n",
    "        self.__sio = io.StringIO(text)\n",
    "open = custom_open()\n",
    "input = custom_input()\n",
    "text_area = Textarea()\n",
    "text_area.observe(open.updater, names='value')\n",
    "display(text_area)"
   ]
  },
  {
   "cell_type": "code",
   "execution_count": 11,
   "id": "dc95a6ce-6d28-4674-83b2-2d7b9f653c91",
   "metadata": {},
   "outputs": [
    {
     "name": "stdout",
     "output_type": "stream",
     "text": [
      "1\n",
      "8\n",
      "5\n"
     ]
    }
   ],
   "source": [
    "N = int(input())\n",
    "A = list(map(int, input().split()))\n",
    "Q = int(input())\n",
    "query = [list(map(int, input().split())) for _ in range(Q)]\n",
    "\n",
    "flag = 0\n",
    "for q in query:\n",
    "    if q[0] == 1:\n",
    "        flag = 1\n",
    "        init = q[1]\n",
    "        s = set()\n",
    "    elif q[0] == 2:\n",
    "        if flag == 0:\n",
    "            A[q[1]-1] += q[2]\n",
    "            continue\n",
    "        if q[1] not in s:\n",
    "            A[q[1]-1] = init + q[2]\n",
    "            s.add(q[1])\n",
    "        else:\n",
    "            A[q[1]-1] += q[2]\n",
    "    else:\n",
    "        if flag == 0:\n",
    "            print(A[q[1]-1])\n",
    "            continue\n",
    "        if q[1] not in s:\n",
    "            print(init)\n",
    "        else:\n",
    "            print(A[q[1]-1])"
   ]
  },
  {
   "cell_type": "code",
   "execution_count": null,
   "id": "ed21f6d3-f825-4573-8379-41efacded67d",
   "metadata": {},
   "outputs": [],
   "source": []
  }
 ],
 "metadata": {
  "kernelspec": {
   "display_name": "Python 3 (ipykernel)",
   "language": "python",
   "name": "python3"
  },
  "language_info": {
   "codemirror_mode": {
    "name": "ipython",
    "version": 3
   },
   "file_extension": ".py",
   "mimetype": "text/x-python",
   "name": "python",
   "nbconvert_exporter": "python",
   "pygments_lexer": "ipython3",
   "version": "3.9.12"
  }
 },
 "nbformat": 4,
 "nbformat_minor": 5
}
