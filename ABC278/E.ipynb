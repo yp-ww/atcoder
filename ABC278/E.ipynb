{
 "cells": [
  {
   "cell_type": "code",
   "execution_count": 1,
   "id": "e52f6505-1e3a-4be9-ac5d-676db42a4cc1",
   "metadata": {},
   "outputs": [
    {
     "data": {
      "application/vnd.jupyter.widget-view+json": {
       "model_id": "42f7773a03fe47258165e62268b003bf",
       "version_major": 2,
       "version_minor": 0
      },
      "text/plain": [
       "Textarea(value='')"
      ]
     },
     "metadata": {},
     "output_type": "display_data"
    }
   ],
   "source": [
    "# Ref: https://qiita.com/noca/items/00646efd9d4a7302f522\n",
    "from ipywidgets import Textarea\n",
    "import io\n",
    "if 'open' in globals():\n",
    "    del open\n",
    "if 'input' in globals():\n",
    "    del input\n",
    "original_open = open\n",
    "class custom_open():\n",
    "    def __init__(self):\n",
    "        self.text = ''\n",
    "    def __call__(self, file, *args, **kwargs):\n",
    "        if file == 0:\n",
    "            return io.StringIO(self.text)\n",
    "        return original_open(file, *args, **kwargs)\n",
    "    def updater(self, change):\n",
    "        self.text = change[\"new\"]\n",
    "class custom_input():\n",
    "    def __init__(self):\n",
    "        self.__sio = io.StringIO('')\n",
    "        self.shell = get_ipython()\n",
    "        if self.shell.events.callbacks['pre_run_cell'] != []:\n",
    "            self.shell.events.callbacks['pre_run_cell'] = []\n",
    "        self.shell.events.register('pre_run_cell', self.pre_run_cell)\n",
    "    def __call__(self):\n",
    "        return self.__sio.readline().strip()\n",
    "    def pre_run_cell(self, info):\n",
    "        text = self.shell.user_ns.get('text_area', None).value\n",
    "        self.__sio = io.StringIO(text)\n",
    "open = custom_open()\n",
    "input = custom_input()\n",
    "text_area = Textarea()\n",
    "text_area.observe(open.updater, names='value')\n",
    "display(text_area)"
   ]
  },
  {
   "cell_type": "code",
   "execution_count": 106,
   "id": "d0b076d3-5a10-4162-8cdf-2eb2715da78d",
   "metadata": {},
   "outputs": [
    {
     "name": "stdout",
     "output_type": "stream",
     "text": [
      "4 4 3\n",
      "5 3 4\n"
     ]
    }
   ],
   "source": [
    "H, W, N, h, w = map(int, input().split())\n",
    "A = [list(map(int, input().split())) for _ in range(H)]\n",
    "\n",
    "N_MAX = 301\n",
    "\n",
    "## !!! 3次元配列で初期化するとTLEする\n",
    "# cnt = [[[0]*(W+1) for __ in range(H+1)] for _ in range(N_MAX)]\n",
    "cnt= [0] * (W+1) * (H+1) * N_MAX\n",
    "tot = [0] * N_MAX\n",
    "\n",
    "for i in range(H):\n",
    "    for j in range(W):\n",
    "        a = A[i][j]\n",
    "        # cnt[a][i+1][j+1] = 1\n",
    "        cnt[((j+1)*H+i+1)*N_MAX+a] = 1\n",
    "        tot[a] += 1\n",
    "        \n",
    "# _sum = [[[0]*(W+1) for __ in range(H+1)] for _ in range(N_MAX)]\n",
    "_sum = [0] * (W+1) * (H+1) * N_MAX\n",
    "\n",
    "for a in range(1, N_MAX):\n",
    "    if not tot[a]:\n",
    "        continue\n",
    "        \n",
    "    for i in range(1, H+1):\n",
    "        for j in range(1, W+1):\n",
    "            # _sum[a][i][j] =  _sum[a][i][j-1] + cnt[a][i][j]\n",
    "            _sum[(j*H+i)*N_MAX+a] = _sum[((j-1)*H+i)*N_MAX+a] + cnt[(j*H+i)*N_MAX+a]\n",
    "\n",
    "    for j in range(1, W+1):\n",
    "        for i in range(1, H+1):\n",
    "            # _sum[a][i][j] +=  _sum[a][i-1][j]\n",
    "            _sum[(j*H+i)*N_MAX+a] += _sum[(j*H+i-1)*N_MAX+a]\n",
    "\n",
    "for k in range(H-h+1):\n",
    "    ans_arr = []\n",
    "    k += 1\n",
    "    for l in range(W-w+1):\n",
    "        l += 1\n",
    "        # print(k,l)\n",
    "        kk = k + h - 1\n",
    "        ll = l + w - 1\n",
    "        ans = 0\n",
    "        for a in range(1, N_MAX):\n",
    "            if not tot[a]:\n",
    "                continue\n",
    "            # num = _sum[a][kk][ll] - _sum[a][kk][l-1] - _sum[a][k-1][ll] + _sum[a][k-1][l-1]\n",
    "            num = _sum[(ll*H+kk)*N_MAX+a] - _sum[((l-1)*H+kk)*N_MAX+a] - _sum[(ll*H+k-1)*N_MAX+a] + _sum[((l-1)*H+k-1)*N_MAX+a]\n",
    "            # print(k, l, a, num, tot[a])\n",
    "            if tot[a] - num != 0:\n",
    "                ans += 1\n",
    "        ans_arr.append(ans)\n",
    "    print(*ans_arr)"
   ]
  },
  {
   "cell_type": "code",
   "execution_count": null,
   "id": "17fde0ec-fb49-4381-ae0d-e42f89aca30a",
   "metadata": {},
   "outputs": [],
   "source": []
  },
  {
   "cell_type": "code",
   "execution_count": null,
   "id": "d2392bd7-6439-49f5-b02d-8860d5ca33c9",
   "metadata": {},
   "outputs": [],
   "source": []
  }
 ],
 "metadata": {
  "kernelspec": {
   "display_name": "Python 3 (ipykernel)",
   "language": "python",
   "name": "python3"
  },
  "language_info": {
   "codemirror_mode": {
    "name": "ipython",
    "version": 3
   },
   "file_extension": ".py",
   "mimetype": "text/x-python",
   "name": "python",
   "nbconvert_exporter": "python",
   "pygments_lexer": "ipython3",
   "version": "3.9.12"
  }
 },
 "nbformat": 4,
 "nbformat_minor": 5
}
