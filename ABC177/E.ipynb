{
 "cells": [
  {
   "cell_type": "code",
   "execution_count": 1,
   "id": "9e4e27fb-34be-4d52-a662-a93d61f72fe0",
   "metadata": {},
   "outputs": [
    {
     "data": {
      "application/vnd.jupyter.widget-view+json": {
       "model_id": "9cd07aef716e4ff899e90f2f939f60b8",
       "version_major": 2,
       "version_minor": 0
      },
      "text/plain": [
       "Textarea(value='')"
      ]
     },
     "metadata": {},
     "output_type": "display_data"
    }
   ],
   "source": [
    "# Ref: https://qiita.com/noca/items/00646efd9d4a7302f522\n",
    "from ipywidgets import Textarea\n",
    "import io\n",
    "if 'open' in globals():\n",
    "    del open\n",
    "if 'input' in globals():\n",
    "    del input\n",
    "original_open = open\n",
    "class custom_open():\n",
    "    def __init__(self):\n",
    "        self.text = ''\n",
    "    def __call__(self, file, *args, **kwargs):\n",
    "        if file == 0:\n",
    "            return io.StringIO(self.text)\n",
    "        return original_open(file, *args, **kwargs)\n",
    "    def updater(self, change):\n",
    "        self.text = change[\"new\"]\n",
    "class custom_input():\n",
    "    def __init__(self):\n",
    "        self.__sio = io.StringIO('')\n",
    "        self.shell = get_ipython()\n",
    "        if self.shell.events.callbacks['pre_run_cell'] != []:\n",
    "            self.shell.events.callbacks['pre_run_cell'] = []\n",
    "        self.shell.events.register('pre_run_cell', self.pre_run_cell)\n",
    "    def __call__(self):\n",
    "        return self.__sio.readline().strip()\n",
    "    def pre_run_cell(self, info):\n",
    "        text = self.shell.user_ns.get('text_area', None).value\n",
    "        self.__sio = io.StringIO(text)\n",
    "open = custom_open()\n",
    "input = custom_input()\n",
    "text_area = Textarea()\n",
    "text_area.observe(open.updater, names='value')\n",
    "display(text_area)"
   ]
  },
  {
   "cell_type": "code",
   "execution_count": 45,
   "id": "84ca0263-495d-41f8-87be-7f6237437af9",
   "metadata": {},
   "outputs": [
    {
     "name": "stdout",
     "output_type": "stream",
     "text": [
      "setwise coprime\n"
     ]
    }
   ],
   "source": [
    "import sys\n",
    "N = int(input())\n",
    "A = list(map(int, input().split()))\n",
    "MAX = 10 ** 6\n",
    "\n",
    "\n",
    "flag = [0] * (MAX+1)\n",
    "for a in A:\n",
    "    flag[a] += 1\n",
    "    \n",
    "flag0 = True\n",
    "flag1 = False\n",
    "\n",
    "v = [True] * (MAX+1)\n",
    "for i in range(2, MAX+1):\n",
    "    if not v[i]:\n",
    "        continue\n",
    "    p = i\n",
    "    cnt = flag[p]\n",
    "    c = p + p\n",
    "    \n",
    "    while c < MAX+1:\n",
    "        v[c] = False\n",
    "        cnt += flag[c]\n",
    "        c += p\n",
    "    \n",
    "    if cnt > 1:\n",
    "        flag0 = False\n",
    "\n",
    "    if cnt == N:\n",
    "        flag1 = True\n",
    "        break\n",
    "\n",
    "if flag1:\n",
    "    print(\"not coprime\")\n",
    "    sys.exit(0)\n",
    "    \n",
    "if flag0:\n",
    "    print(\"pairwise coprime\")\n",
    "    sys.exit(0)\n",
    "\n",
    "print(\"setwise coprime\")\n"
   ]
  },
  {
   "cell_type": "code",
   "execution_count": null,
   "id": "a70d4bef-56c2-4db6-ac76-0c41a5eb0d17",
   "metadata": {},
   "outputs": [],
   "source": []
  }
 ],
 "metadata": {
  "kernelspec": {
   "display_name": "Python 3 (ipykernel)",
   "language": "python",
   "name": "python3"
  },
  "language_info": {
   "codemirror_mode": {
    "name": "ipython",
    "version": 3
   },
   "file_extension": ".py",
   "mimetype": "text/x-python",
   "name": "python",
   "nbconvert_exporter": "python",
   "pygments_lexer": "ipython3",
   "version": "3.9.12"
  }
 },
 "nbformat": 4,
 "nbformat_minor": 5
}
