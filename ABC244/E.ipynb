{
 "cells": [
  {
   "cell_type": "code",
   "execution_count": 1,
   "id": "d559a902-f32d-443c-a373-7c5749fea476",
   "metadata": {},
   "outputs": [
    {
     "data": {
      "application/vnd.jupyter.widget-view+json": {
       "model_id": "97b19c51cbcc4fb587816ce5a44645a2",
       "version_major": 2,
       "version_minor": 0
      },
      "text/plain": [
       "Textarea(value='')"
      ]
     },
     "metadata": {},
     "output_type": "display_data"
    }
   ],
   "source": [
    "# Ref: https://qiita.com/noca/items/00646efd9d4a7302f522\n",
    "from ipywidgets import Textarea\n",
    "import io\n",
    "if 'open' in globals():\n",
    "    del open\n",
    "if 'input' in globals():\n",
    "    del input\n",
    "original_open = open\n",
    "class custom_open():\n",
    "    def __init__(self):\n",
    "        self.text = ''\n",
    "    def __call__(self, file, *args, **kwargs):\n",
    "        if file == 0:\n",
    "            return io.StringIO(self.text)\n",
    "        return original_open(file, *args, **kwargs)\n",
    "    def updater(self, change):\n",
    "        self.text = change[\"new\"]\n",
    "class custom_input():\n",
    "    def __init__(self):\n",
    "        self.__sio = io.StringIO('')\n",
    "        self.shell = get_ipython()\n",
    "        if self.shell.events.callbacks['pre_run_cell'] != []:\n",
    "            self.shell.events.callbacks['pre_run_cell'] = []\n",
    "        self.shell.events.register('pre_run_cell', self.pre_run_cell)\n",
    "    def __call__(self):\n",
    "        return self.__sio.readline().strip()\n",
    "    def pre_run_cell(self, info):\n",
    "        text = self.shell.user_ns.get('text_area', None).value\n",
    "        self.__sio = io.StringIO(text)\n",
    "open = custom_open()\n",
    "input = custom_input()\n",
    "text_area = Textarea()\n",
    "text_area.observe(open.updater, names='value')\n",
    "display(text_area)"
   ]
  },
  {
   "cell_type": "code",
   "execution_count": 10,
   "id": "7d254114-56a9-4400-b1d3-6c4de38b51f6",
   "metadata": {},
   "outputs": [
    {
     "name": "stdout",
     "output_type": "stream",
     "text": [
      "4\n"
     ]
    }
   ],
   "source": [
    "N, M, K, S, T, X = map(int, input().split())\n",
    "MOD = 998244353 \n",
    "\n",
    "G = [list() for _ in range(N+1)]\n",
    "for _ in range(M):\n",
    "    u, v = map(int, input().split())\n",
    "    G[u].append(v)\n",
    "    G[v].append(u)\n",
    "\n",
    "dp0 = [[0] * (N+1) for _ in range(K+1)]\n",
    "dp1 = [[0] * (N+1) for _ in range(K+1)]\n",
    "\n",
    "dp0[0][S] = 1\n",
    "for i in range(K):\n",
    "    for j in range(1, N+1):\n",
    "        for nex in G[j]:\n",
    "            if nex == X:\n",
    "                dp0[i+1][nex] += dp1[i][j]\n",
    "                dp0[i+1][nex] %= MOD\n",
    "                dp1[i+1][nex] += dp0[i][j]\n",
    "                dp1[i+1][nex] %= MOD\n",
    "            else:\n",
    "                dp0[i+1][nex] += dp0[i][j]\n",
    "                dp0[i+1][nex] %= MOD\n",
    "                dp1[i+1][nex] += dp1[i][j]\n",
    "                dp1[i+1][nex] %= MOD\n",
    "print(dp0[K][T])"
   ]
  },
  {
   "cell_type": "code",
   "execution_count": 12,
   "id": "6ff0c87a-ce52-44fc-9fd5-93467c0da793",
   "metadata": {},
   "outputs": [
    {
     "data": {
      "text/plain": [
       "[[0, 1, 0, 0, 0],\n",
       " [0, 0, 0, 0, 1],\n",
       " [0, 1, 0, 1, 0],\n",
       " [0, 0, 2, 0, 2],\n",
       " [0, 4, 0, 4, 0]]"
      ]
     },
     "execution_count": 12,
     "metadata": {},
     "output_type": "execute_result"
    }
   ],
   "source": [
    "dp0"
   ]
  },
  {
   "cell_type": "code",
   "execution_count": null,
   "id": "bcc6c8d2-666e-4fc7-aec3-18fcefc26929",
   "metadata": {},
   "outputs": [],
   "source": []
  }
 ],
 "metadata": {
  "kernelspec": {
   "display_name": "Python 3 (ipykernel)",
   "language": "python",
   "name": "python3"
  },
  "language_info": {
   "codemirror_mode": {
    "name": "ipython",
    "version": 3
   },
   "file_extension": ".py",
   "mimetype": "text/x-python",
   "name": "python",
   "nbconvert_exporter": "python",
   "pygments_lexer": "ipython3",
   "version": "3.9.12"
  }
 },
 "nbformat": 4,
 "nbformat_minor": 5
}
