{
 "cells": [
  {
   "cell_type": "code",
   "execution_count": 1,
   "id": "6157102f-e814-44d3-90ec-7beeea8b4ffd",
   "metadata": {},
   "outputs": [
    {
     "data": {
      "application/vnd.jupyter.widget-view+json": {
       "model_id": "7dadc40214aa432e969773f4834a2140",
       "version_major": 2,
       "version_minor": 0
      },
      "text/plain": [
       "Textarea(value='')"
      ]
     },
     "metadata": {},
     "output_type": "display_data"
    }
   ],
   "source": [
    "# Ref: https://qiita.com/noca/items/00646efd9d4a7302f522\n",
    "from ipywidgets import Textarea\n",
    "import io\n",
    "if 'open' in globals():\n",
    "    del open\n",
    "if 'input' in globals():\n",
    "    del input\n",
    "original_open = open\n",
    "class custom_open():\n",
    "    def __init__(self):\n",
    "        self.text = ''\n",
    "    def __call__(self, file, *args, **kwargs):\n",
    "        if file == 0:\n",
    "            return io.StringIO(self.text)\n",
    "        return original_open(file, *args, **kwargs)\n",
    "    def updater(self, change):\n",
    "        self.text = change[\"new\"]\n",
    "class custom_input():\n",
    "    def __init__(self):\n",
    "        self.__sio = io.StringIO('')\n",
    "        self.shell = get_ipython()\n",
    "        if self.shell.events.callbacks['pre_run_cell'] != []:\n",
    "            self.shell.events.callbacks['pre_run_cell'] = []\n",
    "        self.shell.events.register('pre_run_cell', self.pre_run_cell)\n",
    "    def __call__(self):\n",
    "        return self.__sio.readline().strip()\n",
    "    def pre_run_cell(self, info):\n",
    "        text = self.shell.user_ns.get('text_area', None).value\n",
    "        self.__sio = io.StringIO(text)\n",
    "open = custom_open()\n",
    "input = custom_input()\n",
    "text_area = Textarea()\n",
    "text_area.observe(open.updater, names='value')\n",
    "display(text_area)"
   ]
  },
  {
   "cell_type": "code",
   "execution_count": 8,
   "id": "3e0335a6-e326-4661-a898-45f8bafd4f99",
   "metadata": {},
   "outputs": [
    {
     "name": "stdout",
     "output_type": "stream",
     "text": [
      "Yes\n"
     ]
    }
   ],
   "source": [
    "import sys\n",
    "N, M = map(int, input().split())\n",
    "\n",
    "par = [i for i in range(N)]\n",
    "size = [1] * N\n",
    "\n",
    "def root(x):\n",
    "    temp = x\n",
    "    while x != par[x]:\n",
    "        x = par[x]\n",
    "    par[temp] = x\n",
    "    return x\n",
    "\n",
    "def unite(x, y):\n",
    "    x = root(x)\n",
    "    y = root(y)\n",
    "    if x == y:\n",
    "        return \n",
    "    \n",
    "    if size[x] < size[y]:\n",
    "        x, y = y, x\n",
    "    par[y] = x\n",
    "    size[x] += size[y]\n",
    "    return \n",
    "\n",
    "flag = [0] * N\n",
    "for _ in range(M):\n",
    "    u, v = map(int, input().split())\n",
    "    u -= 1\n",
    "    v -= 1\n",
    "    if u > v:\n",
    "        u, v = v, u\n",
    "    flag[u] += 1\n",
    "    flag[v] += 1\n",
    "    u = root(u)\n",
    "    v = root(v)\n",
    "    if u == v:\n",
    "        print(\"No\")\n",
    "        sys.exit(0)\n",
    "    \n",
    "    unite(u, v)\n",
    "\n",
    "cnt = 0\n",
    "for i in range(N):\n",
    "    if flag[i] == 0:\n",
    "        print(\"No\")\n",
    "        sys.exit(0)\n",
    "    if flag[i] == 1:\n",
    "        cnt += 1\n",
    "        if cnt >= 3:\n",
    "            print(\"No\")\n",
    "            sys.exit(0)            \n",
    "    if flag[i] >= 3:\n",
    "        print(\"No\")\n",
    "        sys.exit(0)\n",
    "print(\"Yes\")"
   ]
  },
  {
   "cell_type": "code",
   "execution_count": null,
   "id": "21bebe69-5788-42be-8793-1bc1cd3e8f21",
   "metadata": {},
   "outputs": [],
   "source": []
  },
  {
   "cell_type": "code",
   "execution_count": null,
   "id": "ceac1174-ac80-409e-9017-1a80c5c21943",
   "metadata": {},
   "outputs": [],
   "source": []
  }
 ],
 "metadata": {
  "kernelspec": {
   "display_name": "Python 3 (ipykernel)",
   "language": "python",
   "name": "python3"
  },
  "language_info": {
   "codemirror_mode": {
    "name": "ipython",
    "version": 3
   },
   "file_extension": ".py",
   "mimetype": "text/x-python",
   "name": "python",
   "nbconvert_exporter": "python",
   "pygments_lexer": "ipython3",
   "version": "3.9.12"
  }
 },
 "nbformat": 4,
 "nbformat_minor": 5
}
