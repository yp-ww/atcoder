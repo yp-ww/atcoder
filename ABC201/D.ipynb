{
 "cells": [
  {
   "cell_type": "code",
   "execution_count": 1,
   "id": "dcbd3036-5479-40a9-a81e-fac449012fff",
   "metadata": {},
   "outputs": [
    {
     "data": {
      "application/vnd.jupyter.widget-view+json": {
       "model_id": "8c71d5db849b42af9e22b822c8b7ea80",
       "version_major": 2,
       "version_minor": 0
      },
      "text/plain": [
       "Textarea(value='')"
      ]
     },
     "metadata": {},
     "output_type": "display_data"
    }
   ],
   "source": [
    "# Ref: https://qiita.com/noca/items/00646efd9d4a7302f522\n",
    "from ipywidgets import Textarea\n",
    "import io\n",
    "if 'open' in globals():\n",
    "    del open\n",
    "if 'input' in globals():\n",
    "    del input\n",
    "original_open = open\n",
    "class custom_open():\n",
    "    def __init__(self):\n",
    "        self.text = ''\n",
    "    def __call__(self, file, *args, **kwargs):\n",
    "        if file == 0:\n",
    "            return io.StringIO(self.text)\n",
    "        return original_open(file, *args, **kwargs)\n",
    "    def updater(self, change):\n",
    "        self.text = change[\"new\"]\n",
    "class custom_input():\n",
    "    def __init__(self):\n",
    "        self.__sio = io.StringIO('')\n",
    "        self.shell = get_ipython()\n",
    "        if self.shell.events.callbacks['pre_run_cell'] != []:\n",
    "            self.shell.events.callbacks['pre_run_cell'] = []\n",
    "        self.shell.events.register('pre_run_cell', self.pre_run_cell)\n",
    "    def __call__(self):\n",
    "        return self.__sio.readline().strip()\n",
    "    def pre_run_cell(self, info):\n",
    "        text = self.shell.user_ns.get('text_area', None).value\n",
    "        self.__sio = io.StringIO(text)\n",
    "open = custom_open()\n",
    "input = custom_input()\n",
    "text_area = Textarea()\n",
    "text_area.observe(open.updater, names='value')\n",
    "display(text_area)"
   ]
  },
  {
   "cell_type": "code",
   "execution_count": 10,
   "id": "75bab033-3165-4f9f-a771-5a464d065267",
   "metadata": {},
   "outputs": [
    {
     "name": "stdout",
     "output_type": "stream",
     "text": [
      "Takahashi\n"
     ]
    }
   ],
   "source": [
    "H, W = map(int, input().split())\n",
    "A = [list(input()) for _ in range(H)]\n",
    "for i in range(H):\n",
    "    for j in range(W):\n",
    "        if A[i][j] == \"+\":\n",
    "            A[i][j] = 1\n",
    "        else:\n",
    "            A[i][j] = 0\n",
    "\n",
    "dp = [[0] * W for _ in range(H)]\n",
    "for i in range(H-1, -1, -1):\n",
    "    for j in range(W-1, -1, -1):\n",
    "        if i == H-1 and j == W-1:\n",
    "            continue\n",
    "        \n",
    "        if (i + j) % 2:\n",
    "            if i == H-1:\n",
    "                dp[i][j] = dp[i][j+1] - A[i][j+1]\n",
    "            elif j == W-1:\n",
    "                dp[i][j] = dp[i+1][j] - A[i+1][j]\n",
    "            else:\n",
    "                dp[i][j] = min(dp[i][j+1] - A[i][j+1], dp[i+1][j] - A[i+1][j])\n",
    "                \n",
    "        else:\n",
    "            if i == H-1:\n",
    "                dp[i][j] = dp[i][j+1] + A[i][j+1]\n",
    "            elif j == W-1:\n",
    "                dp[i][j] = dp[i+1][j] + A[i+1][j]\n",
    "            else:\n",
    "                dp[i][j] = max(dp[i][j+1] + A[i][j+1], dp[i+1][j] + A[i+1][j])\n",
    "\n",
    "if dp[0][0] > 0:\n",
    "    print(\"Takahashi\")\n",
    "elif dp[0][0] < 0:\n",
    "    print(\"Aoki\")\n",
    "else:\n",
    "    print(\"Draw\")"
   ]
  },
  {
   "cell_type": "code",
   "execution_count": 6,
   "id": "9fadf293-186b-4b4f-81e6-5fdfcbd30df2",
   "metadata": {},
   "outputs": [
    {
     "data": {
      "text/plain": [
       "[[0, 0, 0], [1, 0, 1], [1, 0, 0]]"
      ]
     },
     "execution_count": 6,
     "metadata": {},
     "output_type": "execute_result"
    }
   ],
   "source": [
    "A"
   ]
  },
  {
   "cell_type": "code",
   "execution_count": 7,
   "id": "5378d597-3c89-4c36-baae-c8b4b20c77a2",
   "metadata": {},
   "outputs": [
    {
     "data": {
      "text/plain": [
       "[[[0], [0], [0]], [[0], [0], [0]], [[0], [0], [0]]]"
      ]
     },
     "execution_count": 7,
     "metadata": {},
     "output_type": "execute_result"
    }
   ],
   "source": [
    "dp"
   ]
  },
  {
   "cell_type": "code",
   "execution_count": null,
   "id": "34f5be44-bb3b-44a0-a04a-f011d2c348cc",
   "metadata": {},
   "outputs": [],
   "source": []
  }
 ],
 "metadata": {
  "kernelspec": {
   "display_name": "Python 3 (ipykernel)",
   "language": "python",
   "name": "python3"
  },
  "language_info": {
   "codemirror_mode": {
    "name": "ipython",
    "version": 3
   },
   "file_extension": ".py",
   "mimetype": "text/x-python",
   "name": "python",
   "nbconvert_exporter": "python",
   "pygments_lexer": "ipython3",
   "version": "3.9.12"
  }
 },
 "nbformat": 4,
 "nbformat_minor": 5
}
