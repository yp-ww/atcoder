{
 "cells": [
  {
   "cell_type": "code",
   "execution_count": 1,
   "id": "f0fef431-b748-4d58-b073-0246cfe96629",
   "metadata": {},
   "outputs": [
    {
     "data": {
      "application/vnd.jupyter.widget-view+json": {
       "model_id": "2350f2f4947d46fd9ebd725af0f1ca62",
       "version_major": 2,
       "version_minor": 0
      },
      "text/plain": [
       "Textarea(value='')"
      ]
     },
     "metadata": {},
     "output_type": "display_data"
    }
   ],
   "source": [
    "# Ref: https://qiita.com/noca/items/00646efd9d4a7302f522\n",
    "from ipywidgets import Textarea\n",
    "import io\n",
    "if 'open' in globals():\n",
    "    del open\n",
    "if 'input' in globals():\n",
    "    del input\n",
    "original_open = open\n",
    "class custom_open():\n",
    "    def __init__(self):\n",
    "        self.text = ''\n",
    "    def __call__(self, file, *args, **kwargs):\n",
    "        if file == 0:\n",
    "            return io.StringIO(self.text)\n",
    "        return original_open(file, *args, **kwargs)\n",
    "    def updater(self, change):\n",
    "        self.text = change[\"new\"]\n",
    "class custom_input():\n",
    "    def __init__(self):\n",
    "        self.__sio = io.StringIO('')\n",
    "        self.shell = get_ipython()\n",
    "        if self.shell.events.callbacks['pre_run_cell'] != []:\n",
    "            self.shell.events.callbacks['pre_run_cell'] = []\n",
    "        self.shell.events.register('pre_run_cell', self.pre_run_cell)\n",
    "    def __call__(self):\n",
    "        return self.__sio.readline().strip()\n",
    "    def pre_run_cell(self, info):\n",
    "        text = self.shell.user_ns.get('text_area', None).value\n",
    "        self.__sio = io.StringIO(text)\n",
    "open = custom_open()\n",
    "input = custom_input()\n",
    "text_area = Textarea()\n",
    "text_area.observe(open.updater, names='value')\n",
    "display(text_area)"
   ]
  },
  {
   "cell_type": "code",
   "execution_count": 38,
   "id": "3f47ac0c-95cf-468b-bb03-ea3236db190c",
   "metadata": {},
   "outputs": [
    {
     "name": "stdout",
     "output_type": "stream",
     "text": [
      "108\n"
     ]
    }
   ],
   "source": [
    "import math\n",
    "S = input()\n",
    "\n",
    "must = []\n",
    "ok = []\n",
    "ng = []\n",
    "\n",
    "for i in range(10):\n",
    "    if S[i] == \"o\":\n",
    "        must.append(i)\n",
    "    if S[i] == \"x\":\n",
    "        ng.append(i)\n",
    "    if S[i] == \"?\":\n",
    "        ok.append(i)\n",
    "\n",
    "cnt = 0\n",
    "for i in range(10000):\n",
    "    temp = [-1] * 4\n",
    "    for j in range(4):\n",
    "        temp[j] = (i // (10**j)) % 10\n",
    "    \n",
    "    flag = True\n",
    "    for m in must:\n",
    "        if not m in temp:\n",
    "            flag = False\n",
    "            break\n",
    "    \n",
    "    for n in ng:\n",
    "        if n in temp:\n",
    "            flag = False\n",
    "            break\n",
    "    \n",
    "    if flag:\n",
    "        cnt += 1\n",
    "print(cnt)"
   ]
  },
  {
   "cell_type": "code",
   "execution_count": null,
   "id": "117cf399-2468-49cd-a3b7-0434f6fb9859",
   "metadata": {},
   "outputs": [],
   "source": []
  }
 ],
 "metadata": {
  "kernelspec": {
   "display_name": "Python 3 (ipykernel)",
   "language": "python",
   "name": "python3"
  },
  "language_info": {
   "codemirror_mode": {
    "name": "ipython",
    "version": 3
   },
   "file_extension": ".py",
   "mimetype": "text/x-python",
   "name": "python",
   "nbconvert_exporter": "python",
   "pygments_lexer": "ipython3",
   "version": "3.9.12"
  }
 },
 "nbformat": 4,
 "nbformat_minor": 5
}
