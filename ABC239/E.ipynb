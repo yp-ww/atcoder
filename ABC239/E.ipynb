{
 "cells": [
  {
   "cell_type": "code",
   "execution_count": 1,
   "id": "c564353a-90d6-4baa-9354-e0e67238c7be",
   "metadata": {},
   "outputs": [
    {
     "data": {
      "application/vnd.jupyter.widget-view+json": {
       "model_id": "7194c20bba2644139e50bc2f5ba4ce2d",
       "version_major": 2,
       "version_minor": 0
      },
      "text/plain": [
       "Textarea(value='')"
      ]
     },
     "metadata": {},
     "output_type": "display_data"
    }
   ],
   "source": [
    "# Ref: https://qiita.com/noca/items/00646efd9d4a7302f522\n",
    "from ipywidgets import Textarea\n",
    "import io\n",
    "if 'open' in globals():\n",
    "    del open\n",
    "if 'input' in globals():\n",
    "    del input\n",
    "original_open = open\n",
    "class custom_open():\n",
    "    def __init__(self):\n",
    "        self.text = ''\n",
    "    def __call__(self, file, *args, **kwargs):\n",
    "        if file == 0:\n",
    "            return io.StringIO(self.text)\n",
    "        return original_open(file, *args, **kwargs)\n",
    "    def updater(self, change):\n",
    "        self.text = change[\"new\"]\n",
    "class custom_input():\n",
    "    def __init__(self):\n",
    "        self.__sio = io.StringIO('')\n",
    "        self.shell = get_ipython()\n",
    "        if self.shell.events.callbacks['pre_run_cell'] != []:\n",
    "            self.shell.events.callbacks['pre_run_cell'] = []\n",
    "        self.shell.events.register('pre_run_cell', self.pre_run_cell)\n",
    "    def __call__(self):\n",
    "        return self.__sio.readline().strip()\n",
    "    def pre_run_cell(self, info):\n",
    "        text = self.shell.user_ns.get('text_area', None).value\n",
    "        self.__sio = io.StringIO(text)\n",
    "open = custom_open()\n",
    "input = custom_input()\n",
    "text_area = Textarea()\n",
    "text_area.observe(open.updater, names='value')\n",
    "display(text_area)"
   ]
  },
  {
   "cell_type": "code",
   "execution_count": 68,
   "id": "19b5901f-ca8f-4017-8838-c3b0fde20a56",
   "metadata": {},
   "outputs": [
    {
     "name": "stdout",
     "output_type": "stream",
     "text": [
      "4\n",
      "5\n"
     ]
    }
   ],
   "source": [
    "import heapq\n",
    "import sys\n",
    "sys.setrecursionlimit(10**6)\n",
    "N, Q = map(int, input().split())\n",
    "X = [0] + list(map(int, input().split()))\n",
    "\n",
    "G = [list() for _ in range(N+1)]\n",
    "for _ in range(N-1):\n",
    "    a, b = map(int, input().split())\n",
    "    G[a].append(b)\n",
    "    G[b].append(a)\n",
    "\n",
    "arr = [list() for _ in range(N+1)]\n",
    "\n",
    "visited = [False] * (N+1)\n",
    "visited[1] = True\n",
    "\n",
    "def dfs(n):\n",
    "    global arr\n",
    "    now = n\n",
    "    path = list()\n",
    "    heapq.heapify(path)\n",
    "    heapq.heappush(path, X[now])\n",
    "    \n",
    "    for nex in G[now]:\n",
    "        if visited[nex]:\n",
    "            continue\n",
    "        visited[nex] = True\n",
    "        q = dfs(nex)\n",
    "        while q:\n",
    "            tmp = heapq.heappop(q)\n",
    "            heapq.heappush(path, tmp)\n",
    "            if len(path) == 21:\n",
    "                heapq.heappop(path)\n",
    "    \n",
    "    arr[now] = list(path)\n",
    "    return path\n",
    "\n",
    "dfs(1)\n",
    "for _ in range(Q):\n",
    "    v, k = map(int, input().split())\n",
    "    a = arr[v]\n",
    "    \n",
    "    a = sorted(a, reverse = True)\n",
    "    print(a[k-1])"
   ]
  },
  {
   "cell_type": "code",
   "execution_count": 69,
   "id": "b6062581-b743-41a5-ba55-d353db34efa8",
   "metadata": {},
   "outputs": [
    {
     "data": {
      "text/plain": [
       "[[], [1, 3, 2, 4, 5], [2, 5, 3], [3], [4], [5]]"
      ]
     },
     "execution_count": 69,
     "metadata": {},
     "output_type": "execute_result"
    }
   ],
   "source": [
    "arr"
   ]
  },
  {
   "cell_type": "code",
   "execution_count": null,
   "id": "3f647eaa-b829-4a6b-90d1-cb6d3cdbb15b",
   "metadata": {},
   "outputs": [],
   "source": []
  },
  {
   "cell_type": "code",
   "execution_count": null,
   "id": "85689a7d-081f-4675-a9f8-f778884e86df",
   "metadata": {},
   "outputs": [],
   "source": []
  }
 ],
 "metadata": {
  "kernelspec": {
   "display_name": "Python 3 (ipykernel)",
   "language": "python",
   "name": "python3"
  },
  "language_info": {
   "codemirror_mode": {
    "name": "ipython",
    "version": 3
   },
   "file_extension": ".py",
   "mimetype": "text/x-python",
   "name": "python",
   "nbconvert_exporter": "python",
   "pygments_lexer": "ipython3",
   "version": "3.9.12"
  }
 },
 "nbformat": 4,
 "nbformat_minor": 5
}
