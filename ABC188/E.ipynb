{
 "cells": [
  {
   "cell_type": "code",
   "execution_count": 1,
   "id": "c7f42aab-15f8-4c6d-830f-664a70f10314",
   "metadata": {},
   "outputs": [
    {
     "data": {
      "application/vnd.jupyter.widget-view+json": {
       "model_id": "6f9aef8c4e91461791b5ebbe8f196467",
       "version_major": 2,
       "version_minor": 0
      },
      "text/plain": [
       "Textarea(value='')"
      ]
     },
     "metadata": {},
     "output_type": "display_data"
    }
   ],
   "source": [
    "# Ref: https://qiita.com/noca/items/00646efd9d4a7302f522\n",
    "from ipywidgets import Textarea\n",
    "import io\n",
    "if 'open' in globals():\n",
    "    del open\n",
    "if 'input' in globals():\n",
    "    del input\n",
    "original_open = open\n",
    "class custom_open():\n",
    "    def __init__(self):\n",
    "        self.text = ''\n",
    "    def __call__(self, file, *args, **kwargs):\n",
    "        if file == 0:\n",
    "            return io.StringIO(self.text)\n",
    "        return original_open(file, *args, **kwargs)\n",
    "    def updater(self, change):\n",
    "        self.text = change[\"new\"]\n",
    "class custom_input():\n",
    "    def __init__(self):\n",
    "        self.__sio = io.StringIO('')\n",
    "        self.shell = get_ipython()\n",
    "        if self.shell.events.callbacks['pre_run_cell'] != []:\n",
    "            self.shell.events.callbacks['pre_run_cell'] = []\n",
    "        self.shell.events.register('pre_run_cell', self.pre_run_cell)\n",
    "    def __call__(self):\n",
    "        return self.__sio.readline().strip()\n",
    "    def pre_run_cell(self, info):\n",
    "        text = self.shell.user_ns.get('text_area', None).value\n",
    "        self.__sio = io.StringIO(text)\n",
    "open = custom_open()\n",
    "input = custom_input()\n",
    "text_area = Textarea()\n",
    "text_area.observe(open.updater, names='value')\n",
    "display(text_area)"
   ]
  },
  {
   "cell_type": "code",
   "execution_count": 40,
   "id": "fa645191-8b5e-45fa-8976-e98844c87116",
   "metadata": {},
   "outputs": [
    {
     "name": "stdout",
     "output_type": "stream",
     "text": [
      "10\n"
     ]
    }
   ],
   "source": [
    "import sys\n",
    "sys.setrecursionlimit(10**6)\n",
    "\n",
    "N, M = map(int, input().split())\n",
    "A = [0] + list(map(int, input().split()))\n",
    "\n",
    "G = [list() for _ in range(N+1)]\n",
    "for _ in range(M):\n",
    "    a, b = map(int, input().split())\n",
    "    G[a].append(b)\n",
    "    \n",
    "v = [False] * (N+1)\n",
    "c = [-1] * (N+1)\n",
    "\n",
    "def dfs(now):\n",
    "    v[now] = True\n",
    "    for nex in G[now]:\n",
    "        if v[nex]:\n",
    "            temp = max(c[nex], A[nex])\n",
    "        else:\n",
    "            temp = dfs(nex)\n",
    "        c[now] = max(c[now], temp)\n",
    "    \n",
    "    return max(c[now], A[now])\n",
    "\n",
    "for i in range(1, N+1):\n",
    "    if v[i]:\n",
    "        continue\n",
    "    dfs(i)\n",
    "\n",
    "ans = - 10 ** 20\n",
    "for i in range(1, N+1):\n",
    "    if c[i] == -1:\n",
    "        continue\n",
    "    temp = c[i] - A[i]\n",
    "    ans = max(ans, temp)\n",
    "print(ans)"
   ]
  },
  {
   "cell_type": "code",
   "execution_count": 41,
   "id": "b8302a28-e6eb-467a-9540-7875ac1a4010",
   "metadata": {},
   "outputs": [
    {
     "data": {
      "text/plain": [
       "[-1, 18, 18, -1, 18, -1]"
      ]
     },
     "execution_count": 41,
     "metadata": {},
     "output_type": "execute_result"
    }
   ],
   "source": [
    "c"
   ]
  },
  {
   "cell_type": "code",
   "execution_count": 42,
   "id": "29b45399-306f-465e-9495-9af9dbe8ea1e",
   "metadata": {},
   "outputs": [
    {
     "data": {
      "text/plain": [
       "[0, 13, 8, 3, 15, 18]"
      ]
     },
     "execution_count": 42,
     "metadata": {},
     "output_type": "execute_result"
    }
   ],
   "source": [
    "A"
   ]
  },
  {
   "cell_type": "code",
   "execution_count": null,
   "id": "14c1196d-39c2-4290-a1ef-2ec474cb59a7",
   "metadata": {},
   "outputs": [],
   "source": []
  }
 ],
 "metadata": {
  "kernelspec": {
   "display_name": "Python 3 (ipykernel)",
   "language": "python",
   "name": "python3"
  },
  "language_info": {
   "codemirror_mode": {
    "name": "ipython",
    "version": 3
   },
   "file_extension": ".py",
   "mimetype": "text/x-python",
   "name": "python",
   "nbconvert_exporter": "python",
   "pygments_lexer": "ipython3",
   "version": "3.9.12"
  }
 },
 "nbformat": 4,
 "nbformat_minor": 5
}
