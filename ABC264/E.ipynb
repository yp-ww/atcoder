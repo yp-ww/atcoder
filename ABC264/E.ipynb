{
 "cells": [
  {
   "cell_type": "code",
   "execution_count": 1,
   "id": "cfcc0f53-59eb-4bbf-ad38-304dd512ee83",
   "metadata": {},
   "outputs": [
    {
     "data": {
      "application/vnd.jupyter.widget-view+json": {
       "model_id": "69f67c84bbe4435581a6af553be77b9e",
       "version_major": 2,
       "version_minor": 0
      },
      "text/plain": [
       "Textarea(value='')"
      ]
     },
     "metadata": {},
     "output_type": "display_data"
    }
   ],
   "source": [
    "# Ref: https://qiita.com/noca/items/00646efd9d4a7302f522\n",
    "from ipywidgets import Textarea\n",
    "import io\n",
    "if 'open' in globals():\n",
    "    del open\n",
    "if 'input' in globals():\n",
    "    del input\n",
    "original_open = open\n",
    "class custom_open():\n",
    "    def __init__(self):\n",
    "        self.text = ''\n",
    "    def __call__(self, file, *args, **kwargs):\n",
    "        if file == 0:\n",
    "            return io.StringIO(self.text)\n",
    "        return original_open(file, *args, **kwargs)\n",
    "    def updater(self, change):\n",
    "        self.text = change[\"new\"]\n",
    "class custom_input():\n",
    "    def __init__(self):\n",
    "        self.__sio = io.StringIO('')\n",
    "        self.shell = get_ipython()\n",
    "        if self.shell.events.callbacks['pre_run_cell'] != []:\n",
    "            self.shell.events.callbacks['pre_run_cell'] = []\n",
    "        self.shell.events.register('pre_run_cell', self.pre_run_cell)\n",
    "    def __call__(self):\n",
    "        return self.__sio.readline().strip()\n",
    "    def pre_run_cell(self, info):\n",
    "        text = self.shell.user_ns.get('text_area', None).value\n",
    "        self.__sio = io.StringIO(text)\n",
    "open = custom_open()\n",
    "input = custom_input()\n",
    "text_area = Textarea()\n",
    "text_area.observe(open.updater, names='value')\n",
    "display(text_area)"
   ]
  },
  {
   "cell_type": "code",
   "execution_count": 122,
   "id": "c43223a7-7759-47fe-a16f-5326083eb056",
   "metadata": {},
   "outputs": [
    {
     "name": "stdout",
     "output_type": "stream",
     "text": [
      "4\n",
      "4\n",
      "2\n",
      "2\n",
      "2\n",
      "1\n"
     ]
    }
   ],
   "source": [
    "from collections import deque\n",
    "N, M, E = map(int, input().split())\n",
    "\n",
    "R = [[0] * 2 for _ in range(E)]\n",
    "\n",
    "for i in range(E):\n",
    "    u, v = map(int, input().split())\n",
    "    R[i][0] = u\n",
    "    R[i][1] = v\n",
    "    \n",
    "Q = int(input())\n",
    "d = []\n",
    "for _ in range(Q):\n",
    "    d.append(int(input())-1)\n",
    "    \n",
    "d.reverse()\n",
    "\n",
    "G = [list() for _ in range(N+M+1)]\n",
    "s = set(d)\n",
    "for i in range(E):\n",
    "    if i in s:\n",
    "        continue\n",
    "    u = R[i][0]\n",
    "    v = R[i][1]\n",
    "    G[u].append(v)\n",
    "    G[v].append(u)\n",
    "\n",
    "cnt = 0\n",
    "flag = [False] * (N+M+1)\n",
    "for i in range(N+1, N+M+1):\n",
    "    if flag[i]:\n",
    "        continue\n",
    "    q = deque()\n",
    "    q.append(i)\n",
    "    flag[i] = True\n",
    "    while q:\n",
    "        now = q.popleft()\n",
    "        for nex in G[now]:\n",
    "            if flag[nex]:\n",
    "                continue\n",
    "            if nex <= N:\n",
    "                cnt += 1\n",
    "            flag[nex] = True\n",
    "            q.append(nex)\n",
    "    \n",
    "ans = []\n",
    "ans.append(cnt)\n",
    "\n",
    "for dd in d:\n",
    "    u = R[dd][0]\n",
    "    v = R[dd][1]\n",
    "    G[u].append(v)\n",
    "    G[v].append(u)\n",
    "    if not flag[u] and not flag[v]:\n",
    "        ans.append(cnt)\n",
    "        continue\n",
    "        \n",
    "    if flag[u] and flag[v]:\n",
    "        ans.append(cnt)\n",
    "        continue\n",
    "        \n",
    "    if not flag[u]:\n",
    "        u, v = v, u\n",
    "    \n",
    "    q = deque()\n",
    "    q.append(v)\n",
    "    flag[v] = True\n",
    "    cnt += 1\n",
    "    while q:\n",
    "        now = q.popleft()\n",
    "        for nex in G[now]:\n",
    "            if flag[nex]:\n",
    "                continue\n",
    "            if nex <= N:\n",
    "                cnt += 1\n",
    "            flag[nex] = True\n",
    "            q.append(nex)\n",
    "    \n",
    "    ans.append(cnt)\n",
    "    \n",
    "for i in range(Q-1, -1, -1):\n",
    "    print(ans[i])"
   ]
  },
  {
   "cell_type": "code",
   "execution_count": 123,
   "id": "80155304-9d10-4717-8a87-902413660765",
   "metadata": {},
   "outputs": [
    {
     "data": {
      "text/plain": [
       "[0, 0, 2, 2, 0, 5, 0, 0, 0, 0, 0]"
      ]
     },
     "execution_count": 123,
     "metadata": {},
     "output_type": "execute_result"
    }
   ],
   "source": [
    "par"
   ]
  },
  {
   "cell_type": "code",
   "execution_count": 124,
   "id": "9b79a487-1261-4fb3-b33c-95b4479b3f76",
   "metadata": {},
   "outputs": [
    {
     "data": {
      "text/plain": [
       "[1, 1, 2, 0, 0, 1]"
      ]
     },
     "execution_count": 124,
     "metadata": {},
     "output_type": "execute_result"
    }
   ],
   "source": [
    "C"
   ]
  },
  {
   "cell_type": "code",
   "execution_count": 125,
   "id": "da5fcf4b-f7bc-45a4-8734-448d96741567",
   "metadata": {},
   "outputs": [
    {
     "data": {
      "text/plain": [
       "5"
      ]
     },
     "execution_count": 125,
     "metadata": {},
     "output_type": "execute_result"
    }
   ],
   "source": [
    "v"
   ]
  },
  {
   "cell_type": "code",
   "execution_count": 126,
   "id": "7bf152b7-20d7-48ca-8e60-18b3c0100d0f",
   "metadata": {},
   "outputs": [
    {
     "data": {
      "text/plain": [
       "[1, 2, 2, 2, 4, 4, 5]"
      ]
     },
     "execution_count": 126,
     "metadata": {},
     "output_type": "execute_result"
    }
   ],
   "source": [
    "ans"
   ]
  },
  {
   "cell_type": "code",
   "execution_count": null,
   "id": "40c37daf-d3b5-4f92-b38b-76014502426d",
   "metadata": {},
   "outputs": [],
   "source": []
  }
 ],
 "metadata": {
  "kernelspec": {
   "display_name": "Python 3 (ipykernel)",
   "language": "python",
   "name": "python3"
  },
  "language_info": {
   "codemirror_mode": {
    "name": "ipython",
    "version": 3
   },
   "file_extension": ".py",
   "mimetype": "text/x-python",
   "name": "python",
   "nbconvert_exporter": "python",
   "pygments_lexer": "ipython3",
   "version": "3.9.12"
  }
 },
 "nbformat": 4,
 "nbformat_minor": 5
}
