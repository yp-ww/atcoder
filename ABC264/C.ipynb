{
 "cells": [
  {
   "cell_type": "code",
   "execution_count": 1,
   "id": "c437aee4-2f75-404d-9a3e-e749ba94159e",
   "metadata": {},
   "outputs": [
    {
     "data": {
      "application/vnd.jupyter.widget-view+json": {
       "model_id": "5086e02da63349d8a88846bfce73221c",
       "version_major": 2,
       "version_minor": 0
      },
      "text/plain": [
       "Textarea(value='')"
      ]
     },
     "metadata": {},
     "output_type": "display_data"
    }
   ],
   "source": [
    "# Ref: https://qiita.com/noca/items/00646efd9d4a7302f522\n",
    "from ipywidgets import Textarea\n",
    "import io\n",
    "if 'open' in globals():\n",
    "    del open\n",
    "if 'input' in globals():\n",
    "    del input\n",
    "original_open = open\n",
    "class custom_open():\n",
    "    def __init__(self):\n",
    "        self.text = ''\n",
    "    def __call__(self, file, *args, **kwargs):\n",
    "        if file == 0:\n",
    "            return io.StringIO(self.text)\n",
    "        return original_open(file, *args, **kwargs)\n",
    "    def updater(self, change):\n",
    "        self.text = change[\"new\"]\n",
    "class custom_input():\n",
    "    def __init__(self):\n",
    "        self.__sio = io.StringIO('')\n",
    "        self.shell = get_ipython()\n",
    "        if self.shell.events.callbacks['pre_run_cell'] != []:\n",
    "            self.shell.events.callbacks['pre_run_cell'] = []\n",
    "        self.shell.events.register('pre_run_cell', self.pre_run_cell)\n",
    "    def __call__(self):\n",
    "        return self.__sio.readline().strip()\n",
    "    def pre_run_cell(self, info):\n",
    "        text = self.shell.user_ns.get('text_area', None).value\n",
    "        self.__sio = io.StringIO(text)\n",
    "open = custom_open()\n",
    "input = custom_input()\n",
    "text_area = Textarea()\n",
    "text_area.observe(open.updater, names='value')\n",
    "display(text_area)"
   ]
  },
  {
   "cell_type": "code",
   "execution_count": 93,
   "id": "3a89669a-c1e0-4d95-9bdb-65cfb1271713",
   "metadata": {
    "tags": []
   },
   "outputs": [
    {
     "name": "stdout",
     "output_type": "stream",
     "text": [
      "Yes\n"
     ]
    },
    {
     "ename": "SystemExit",
     "evalue": "0",
     "output_type": "error",
     "traceback": [
      "An exception has occurred, use %tb to see the full traceback.\n",
      "\u001b[1;31mSystemExit\u001b[0m\u001b[1;31m:\u001b[0m 0\n"
     ]
    }
   ],
   "source": [
    "import sys\n",
    "\n",
    "H1, W1 = map(int, input().split())\n",
    "A = [list(map(int, input().split())) for _ in range(H1)]\n",
    "H2, W2 = map(int, input().split())\n",
    "B = [list(map(int, input().split())) for _ in range(H2)]\n",
    "\n",
    "for bit in range(1 << H1):\n",
    "    for bit2 in range(1 << W1):\n",
    "        \n",
    "        h = []\n",
    "        w = []\n",
    "        for i in range(H1):\n",
    "            if bit & (1 << i):\n",
    "                h.append(i)   \n",
    "\n",
    "        for j in range(W1):\n",
    "            if bit2 & (1 << j):\n",
    "                w.append(j)\n",
    "        \n",
    "        if len(h) != H2 or len(w) != W2:\n",
    "            continue\n",
    "        \n",
    "        flag = True\n",
    "        for i in range(H2):\n",
    "            for j in range(W2):\n",
    "                if B[i][j] != A[h[i]][w[j]]:\n",
    "                    flag = False\n",
    "                    break\n",
    "        \n",
    "        if flag:\n",
    "            print(\"Yes\")\n",
    "            sys.exit(0)\n",
    "        \n",
    "print(\"No\")"
   ]
  },
  {
   "cell_type": "code",
   "execution_count": null,
   "id": "a1098ff2-2b91-44e9-b0ad-368e70429d14",
   "metadata": {},
   "outputs": [],
   "source": []
  }
 ],
 "metadata": {
  "kernelspec": {
   "display_name": "Python 3 (ipykernel)",
   "language": "python",
   "name": "python3"
  },
  "language_info": {
   "codemirror_mode": {
    "name": "ipython",
    "version": 3
   },
   "file_extension": ".py",
   "mimetype": "text/x-python",
   "name": "python",
   "nbconvert_exporter": "python",
   "pygments_lexer": "ipython3",
   "version": "3.9.12"
  }
 },
 "nbformat": 4,
 "nbformat_minor": 5
}
