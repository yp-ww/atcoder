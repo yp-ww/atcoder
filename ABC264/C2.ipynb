{
 "cells": [
  {
   "cell_type": "code",
   "execution_count": 1,
   "id": "5c64238f-bb74-4665-aa76-8719b4e86f8f",
   "metadata": {},
   "outputs": [
    {
     "data": {
      "application/vnd.jupyter.widget-view+json": {
       "model_id": "1eadc0b8d6cb44f1967b59606d3d3cb8",
       "version_major": 2,
       "version_minor": 0
      },
      "text/plain": [
       "Textarea(value='')"
      ]
     },
     "metadata": {},
     "output_type": "display_data"
    }
   ],
   "source": [
    "# Ref: https://qiita.com/noca/items/00646efd9d4a7302f522\n",
    "from ipywidgets import Textarea\n",
    "import io\n",
    "if 'open' in globals():\n",
    "    del open\n",
    "if 'input' in globals():\n",
    "    del input\n",
    "original_open = open\n",
    "class custom_open():\n",
    "    def __init__(self):\n",
    "        self.text = ''\n",
    "    def __call__(self, file, *args, **kwargs):\n",
    "        if file == 0:\n",
    "            return io.StringIO(self.text)\n",
    "        return original_open(file, *args, **kwargs)\n",
    "    def updater(self, change):\n",
    "        self.text = change[\"new\"]\n",
    "class custom_input():\n",
    "    def __init__(self):\n",
    "        self.__sio = io.StringIO('')\n",
    "        self.shell = get_ipython()\n",
    "        if self.shell.events.callbacks['pre_run_cell'] != []:\n",
    "            self.shell.events.callbacks['pre_run_cell'] = []\n",
    "        self.shell.events.register('pre_run_cell', self.pre_run_cell)\n",
    "    def __call__(self):\n",
    "        return self.__sio.readline().strip()\n",
    "    def pre_run_cell(self, info):\n",
    "        text = self.shell.user_ns.get('text_area', None).value\n",
    "        self.__sio = io.StringIO(text)\n",
    "open = custom_open()\n",
    "input = custom_input()\n",
    "text_area = Textarea()\n",
    "text_area.observe(open.updater, names='value')\n",
    "display(text_area)"
   ]
  },
  {
   "cell_type": "code",
   "execution_count": 33,
   "id": "b16d8d2c-d4c6-42ed-83d3-3c18ac9e46cf",
   "metadata": {},
   "outputs": [
    {
     "name": "stdout",
     "output_type": "stream",
     "text": [
      "Yes\n"
     ]
    },
    {
     "ename": "SystemExit",
     "evalue": "0",
     "output_type": "error",
     "traceback": [
      "An exception has occurred, use %tb to see the full traceback.\n",
      "\u001b[1;31mSystemExit\u001b[0m\u001b[1;31m:\u001b[0m 0\n"
     ]
    }
   ],
   "source": [
    "import sys\n",
    "H1, W1 = map(int, input().split())\n",
    "A = [list(map(int, input().split())) for _ in range(H1)]\n",
    "H2, W2 = map(int, input().split())\n",
    "B = [list(map(int, input().split())) for _ in range(H2)]\n",
    "\n",
    "for x in range(1 << H1):\n",
    "    for y in range(1 << W1):\n",
    "        if x == 0 or y == 0:\n",
    "            continue\n",
    "            \n",
    "        flag = True\n",
    "        \n",
    "        cntx = -1\n",
    "        for i in range(H1):\n",
    "            if x & (1 << i) == 0:\n",
    "                continue\n",
    "            cntx += 1\n",
    "            cnty = -1\n",
    "            for j in range(W1):\n",
    "                if y & (1 << j) == 0:\n",
    "                    continue\n",
    "                cnty += 1\n",
    "                if cntx >= H2 or cnty >= W2:\n",
    "                    flag = False\n",
    "                    break\n",
    "                if A[i][j] != B[cntx][cnty]:\n",
    "                    flag = False\n",
    "                    break\n",
    "            \n",
    "            if not flag:\n",
    "                break\n",
    "            \n",
    "        if cntx != H2-1:\n",
    "            flag = False\n",
    "            \n",
    "        if cnty != W2-1:\n",
    "            flag = False\n",
    "                \n",
    "        if flag:\n",
    "            # print(bin(x), bin(y), cntx, cnty)\n",
    "            print(\"Yes\")\n",
    "            sys.exit(0)\n",
    "\n",
    "print(\"No\")"
   ]
  },
  {
   "cell_type": "code",
   "execution_count": 25,
   "id": "1392e349-cd95-4316-be32-061a08d2bcbf",
   "metadata": {},
   "outputs": [
    {
     "data": {
      "text/plain": [
       "1048576"
      ]
     },
     "execution_count": 25,
     "metadata": {},
     "output_type": "execute_result"
    }
   ],
   "source": [
    "1 << 20"
   ]
  },
  {
   "cell_type": "code",
   "execution_count": 29,
   "id": "ebf5d238-bb19-4ee7-bfea-45a39b82557a",
   "metadata": {},
   "outputs": [
    {
     "data": {
      "text/plain": [
       "'0b10000'"
      ]
     },
     "execution_count": 29,
     "metadata": {},
     "output_type": "execute_result"
    }
   ],
   "source": [
    "bin(1 << H1)"
   ]
  },
  {
   "cell_type": "code",
   "execution_count": null,
   "id": "a7d98fdf-ac12-4eb9-9d02-f7fcb8c78f41",
   "metadata": {},
   "outputs": [],
   "source": []
  }
 ],
 "metadata": {
  "kernelspec": {
   "display_name": "Python 3 (ipykernel)",
   "language": "python",
   "name": "python3"
  },
  "language_info": {
   "codemirror_mode": {
    "name": "ipython",
    "version": 3
   },
   "file_extension": ".py",
   "mimetype": "text/x-python",
   "name": "python",
   "nbconvert_exporter": "python",
   "pygments_lexer": "ipython3",
   "version": "3.9.12"
  }
 },
 "nbformat": 4,
 "nbformat_minor": 5
}
