{
 "cells": [
  {
   "cell_type": "code",
   "execution_count": 1,
   "id": "c41f1f97-c085-4304-8913-59555443ea1b",
   "metadata": {},
   "outputs": [
    {
     "data": {
      "application/vnd.jupyter.widget-view+json": {
       "model_id": "e1fd6c3d659c4fe2b5f425a5d66ee74e",
       "version_major": 2,
       "version_minor": 0
      },
      "text/plain": [
       "Textarea(value='')"
      ]
     },
     "metadata": {},
     "output_type": "display_data"
    }
   ],
   "source": [
    "# Ref: https://qiita.com/noca/items/00646efd9d4a7302f522\n",
    "from ipywidgets import Textarea\n",
    "import io\n",
    "if 'open' in globals():\n",
    "    del open\n",
    "if 'input' in globals():\n",
    "    del input\n",
    "original_open = open\n",
    "class custom_open():\n",
    "    def __init__(self):\n",
    "        self.text = ''\n",
    "    def __call__(self, file, *args, **kwargs):\n",
    "        if file == 0:\n",
    "            return io.StringIO(self.text)\n",
    "        return original_open(file, *args, **kwargs)\n",
    "    def updater(self, change):\n",
    "        self.text = change[\"new\"]\n",
    "class custom_input():\n",
    "    def __init__(self):\n",
    "        self.__sio = io.StringIO('')\n",
    "        self.shell = get_ipython()\n",
    "        if self.shell.events.callbacks['pre_run_cell'] != []:\n",
    "            self.shell.events.callbacks['pre_run_cell'] = []\n",
    "        self.shell.events.register('pre_run_cell', self.pre_run_cell)\n",
    "    def __call__(self):\n",
    "        return self.__sio.readline().strip()\n",
    "    def pre_run_cell(self, info):\n",
    "        text = self.shell.user_ns.get('text_area', None).value\n",
    "        self.__sio = io.StringIO(text)\n",
    "open = custom_open()\n",
    "input = custom_input()\n",
    "text_area = Textarea()\n",
    "text_area.observe(open.updater, names='value')\n",
    "display(text_area)"
   ]
  },
  {
   "cell_type": "code",
   "execution_count": 31,
   "id": "6b697f9e-5260-4caa-865a-1a86d446eda2",
   "metadata": {},
   "outputs": [
    {
     "name": "stdout",
     "output_type": "stream",
     "text": [
      "4\n",
      "4\n",
      "2\n",
      "2\n",
      "2\n",
      "1\n"
     ]
    }
   ],
   "source": [
    "N, M, E = map(int, input().split())\n",
    "\n",
    "R = [[0] * 2 for _ in range(E)]\n",
    "\n",
    "for i in range(E):\n",
    "    u, v = map(int, input().split())\n",
    "    R[i][0] = u\n",
    "    R[i][1] = v\n",
    "    \n",
    "Q = int(input())\n",
    "d = []\n",
    "for _ in range(Q):\n",
    "    d.append(int(input())-1)\n",
    "    \n",
    "d.reverse()\n",
    "\n",
    "par = [i if i <= N else 0 for i in range(N+M+1)]\n",
    "size = [1 for _ in range(N+M+1)]\n",
    "size[0] = M\n",
    "\n",
    "def root(x):\n",
    "    temp = x\n",
    "    while x != par[x]:\n",
    "        x = par[x]\n",
    "    par[temp] = x\n",
    "    return x\n",
    "\n",
    "def unite(x, y):\n",
    "    x = root(x)\n",
    "    y = root(y)\n",
    "    if x == y:\n",
    "        return\n",
    "\n",
    "    if x > y:\n",
    "        x, y = y, x\n",
    "    \n",
    "    par[y] = x\n",
    "    size[x] += size[y]\n",
    "    return \n",
    "\n",
    "s = set(d)\n",
    "for i in range(E):\n",
    "    if i in s:\n",
    "        continue\n",
    "    u = R[i][0]\n",
    "    v = R[i][1]\n",
    "    unite(u, v)\n",
    "\n",
    "ans = []\n",
    "ans.append(size[0] - M)\n",
    "\n",
    "for dd in d:\n",
    "    u = R[dd][0]\n",
    "    v = R[dd][1]\n",
    "    unite(u, v)\n",
    "    ans.append(size[0] - M)\n",
    "    \n",
    "for i in range(Q-1, -1, -1):\n",
    "    print(ans[i])"
   ]
  },
  {
   "cell_type": "code",
   "execution_count": 28,
   "id": "033121ee-b710-4e26-8280-37c15effacff",
   "metadata": {},
   "outputs": [
    {
     "data": {
      "text/plain": [
       "[0, 0, 0, 2, 0, 0, 0, 0, 0, 0, 0]"
      ]
     },
     "execution_count": 28,
     "metadata": {},
     "output_type": "execute_result"
    }
   ],
   "source": [
    "par"
   ]
  },
  {
   "cell_type": "code",
   "execution_count": 29,
   "id": "789f473b-f00a-4795-8978-8c3856dd9e95",
   "metadata": {},
   "outputs": [
    {
     "data": {
      "text/plain": [
       "[10, 1, 2, 1, 1, 1, 1, 1, 1, 1, 1]"
      ]
     },
     "execution_count": 29,
     "metadata": {},
     "output_type": "execute_result"
    }
   ],
   "source": [
    "size"
   ]
  },
  {
   "cell_type": "code",
   "execution_count": 30,
   "id": "678df67f-5250-4f4c-b149-c5789a91d166",
   "metadata": {},
   "outputs": [
    {
     "data": {
      "text/plain": [
       "[1, 2, 2, 2, 4, 4, 5]"
      ]
     },
     "execution_count": 30,
     "metadata": {},
     "output_type": "execute_result"
    }
   ],
   "source": [
    "ans"
   ]
  },
  {
   "cell_type": "code",
   "execution_count": null,
   "id": "e31fc33f-903d-45af-8e18-735983c87bd2",
   "metadata": {},
   "outputs": [],
   "source": []
  }
 ],
 "metadata": {
  "kernelspec": {
   "display_name": "Python 3 (ipykernel)",
   "language": "python",
   "name": "python3"
  },
  "language_info": {
   "codemirror_mode": {
    "name": "ipython",
    "version": 3
   },
   "file_extension": ".py",
   "mimetype": "text/x-python",
   "name": "python",
   "nbconvert_exporter": "python",
   "pygments_lexer": "ipython3",
   "version": "3.9.12"
  }
 },
 "nbformat": 4,
 "nbformat_minor": 5
}
