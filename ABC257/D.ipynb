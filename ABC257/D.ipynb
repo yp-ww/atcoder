{
 "cells": [
  {
   "cell_type": "code",
   "execution_count": 1,
   "id": "1caeda00-aab8-4f63-84eb-b87c393c1850",
   "metadata": {},
   "outputs": [
    {
     "data": {
      "application/vnd.jupyter.widget-view+json": {
       "model_id": "6d23b487bb9a45228e435b53598cc999",
       "version_major": 2,
       "version_minor": 0
      },
      "text/plain": [
       "Textarea(value='')"
      ]
     },
     "metadata": {},
     "output_type": "display_data"
    }
   ],
   "source": [
    "# Ref: https://qiita.com/noca/items/00646efd9d4a7302f522\n",
    "from ipywidgets import Textarea\n",
    "import io\n",
    "if 'open' in globals():\n",
    "    del open\n",
    "if 'input' in globals():\n",
    "    del input\n",
    "original_open = open\n",
    "class custom_open():\n",
    "    def __init__(self):\n",
    "        self.text = ''\n",
    "    def __call__(self, file, *args, **kwargs):\n",
    "        if file == 0:\n",
    "            return io.StringIO(self.text)\n",
    "        return original_open(file, *args, **kwargs)\n",
    "    def updater(self, change):\n",
    "        self.text = change[\"new\"]\n",
    "class custom_input():\n",
    "    def __init__(self):\n",
    "        self.__sio = io.StringIO('')\n",
    "        self.shell = get_ipython()\n",
    "        if self.shell.events.callbacks['pre_run_cell'] != []:\n",
    "            self.shell.events.callbacks['pre_run_cell'] = []\n",
    "        self.shell.events.register('pre_run_cell', self.pre_run_cell)\n",
    "    def __call__(self):\n",
    "        return self.__sio.readline().strip()\n",
    "    def pre_run_cell(self, info):\n",
    "        text = self.shell.user_ns.get('text_area', None).value\n",
    "        self.__sio = io.StringIO(text)\n",
    "open = custom_open()\n",
    "input = custom_input()\n",
    "text_area = Textarea()\n",
    "text_area.observe(open.updater, names='value')\n",
    "display(text_area)"
   ]
  },
  {
   "cell_type": "code",
   "execution_count": 36,
   "id": "b8952cf3-2f6c-4793-8a8b-b37c3567e709",
   "metadata": {},
   "outputs": [
    {
     "name": "stdout",
     "output_type": "stream",
     "text": [
      "18\n"
     ]
    }
   ],
   "source": [
    "from collections import deque\n",
    "N = int(input())\n",
    "\n",
    "P = [0] * N\n",
    "X = [0] * N\n",
    "Y = [0] * N\n",
    "for i in range(N):\n",
    "    x, y, p = map(int, input().split())\n",
    "    X[i] = x\n",
    "    Y[i] = y\n",
    "    P[i] = p\n",
    "\n",
    "D = [[0] * N for _ in range(N)]\n",
    "for i in range(N):\n",
    "    for j in range(i+1, N):\n",
    "        d = abs(X[i]-X[j]) + abs(Y[i]-Y[j])\n",
    "        D[i][j] = d\n",
    "        D[j][i] = d\n",
    "\n",
    "def bfs(x, s):\n",
    "    q = deque()\n",
    "    q.append(x)\n",
    "    v = [False] * N\n",
    "    v[x] = True\n",
    "    while q:\n",
    "        now = q.popleft()\n",
    "        for nex in range(N):\n",
    "            if v[nex]:\n",
    "                continue\n",
    "            if P[now] * s >= D[now][nex]:\n",
    "                q.append(nex)\n",
    "                v[nex] = True\n",
    "    \n",
    "    for i in range(N):\n",
    "        if not v[i]:\n",
    "            return False\n",
    "        \n",
    "    return True\n",
    "    \n",
    "ans = 10 ** 20\n",
    "for i in range(N):\n",
    "    l = -1\n",
    "    r = 2 * (10 ** 10)\n",
    "    while r - l > 1:\n",
    "        mid = (l+r)//2\n",
    "        if bfs(i, mid):\n",
    "            r = mid\n",
    "        else:\n",
    "            l = mid\n",
    "    \n",
    "    ans = min(ans, r)\n",
    "\n",
    "print(ans)"
   ]
  },
  {
   "cell_type": "code",
   "execution_count": 37,
   "id": "873e0737-d072-4a4f-b97d-14093df010a0",
   "metadata": {},
   "outputs": [
    {
     "data": {
      "text/plain": [
       "[[0, 34, 76, 19, 30, 101, 66],\n",
       " [34, 0, 42, 43, 50, 67, 32],\n",
       " [76, 42, 0, 85, 62, 45, 20],\n",
       " [19, 43, 85, 0, 49, 110, 75],\n",
       " [30, 50, 62, 49, 0, 91, 66],\n",
       " [101, 67, 45, 110, 91, 0, 35],\n",
       " [66, 32, 20, 75, 66, 35, 0]]"
      ]
     },
     "execution_count": 37,
     "metadata": {},
     "output_type": "execute_result"
    }
   ],
   "source": [
    "D"
   ]
  },
  {
   "cell_type": "code",
   "execution_count": null,
   "id": "0f14dde4-f1c7-434a-bc7d-c1d942959c7e",
   "metadata": {},
   "outputs": [],
   "source": []
  }
 ],
 "metadata": {
  "kernelspec": {
   "display_name": "Python 3 (ipykernel)",
   "language": "python",
   "name": "python3"
  },
  "language_info": {
   "codemirror_mode": {
    "name": "ipython",
    "version": 3
   },
   "file_extension": ".py",
   "mimetype": "text/x-python",
   "name": "python",
   "nbconvert_exporter": "python",
   "pygments_lexer": "ipython3",
   "version": "3.9.12"
  }
 },
 "nbformat": 4,
 "nbformat_minor": 5
}
