{
 "cells": [
  {
   "cell_type": "code",
   "execution_count": 1,
   "id": "b4a3a107-c629-4110-bb90-3415ca51908a",
   "metadata": {},
   "outputs": [
    {
     "data": {
      "application/vnd.jupyter.widget-view+json": {
       "model_id": "510812396309466c89c7f72723971884",
       "version_major": 2,
       "version_minor": 0
      },
      "text/plain": [
       "Textarea(value='')"
      ]
     },
     "metadata": {},
     "output_type": "display_data"
    }
   ],
   "source": [
    "# Ref: https://qiita.com/noca/items/00646efd9d4a7302f522\n",
    "from ipywidgets import Textarea\n",
    "import io\n",
    "if 'open' in globals():\n",
    "    del open\n",
    "if 'input' in globals():\n",
    "    del input\n",
    "original_open = open\n",
    "class custom_open():\n",
    "    def __init__(self):\n",
    "        self.text = ''\n",
    "    def __call__(self, file, *args, **kwargs):\n",
    "        if file == 0:\n",
    "            return io.StringIO(self.text)\n",
    "        return original_open(file, *args, **kwargs)\n",
    "    def updater(self, change):\n",
    "        self.text = change[\"new\"]\n",
    "class custom_input():\n",
    "    def __init__(self):\n",
    "        self.__sio = io.StringIO('')\n",
    "        self.shell = get_ipython()\n",
    "        if self.shell.events.callbacks['pre_run_cell'] != []:\n",
    "            self.shell.events.callbacks['pre_run_cell'] = []\n",
    "        self.shell.events.register('pre_run_cell', self.pre_run_cell)\n",
    "    def __call__(self):\n",
    "        return self.__sio.readline().strip()\n",
    "    def pre_run_cell(self, info):\n",
    "        text = self.shell.user_ns.get('text_area', None).value\n",
    "        self.__sio = io.StringIO(text)\n",
    "open = custom_open()\n",
    "input = custom_input()\n",
    "text_area = Textarea()\n",
    "text_area.observe(open.updater, names='value')\n",
    "display(text_area)"
   ]
  },
  {
   "cell_type": "code",
   "execution_count": 56,
   "id": "b54ba551-e0ae-46f4-a1c5-e3f2eec65ad5",
   "metadata": {},
   "outputs": [
    {
     "name": "stdout",
     "output_type": "stream",
     "text": [
      "27\n"
     ]
    },
    {
     "ename": "SystemExit",
     "evalue": "0",
     "output_type": "error",
     "traceback": [
      "An exception has occurred, use %tb to see the full traceback.\n",
      "\u001b[1;31mSystemExit\u001b[0m\u001b[1;31m:\u001b[0m 0\n"
     ]
    }
   ],
   "source": [
    "import sys\n",
    "N, M, K = map(int, input().split())\n",
    "MOD = 998244353\n",
    "\n",
    "dp = [[(0, 0)] * (M+1) for _ in range(N+1)]\n",
    "\n",
    "dp[1] = [(1, i) for i in range(M+1)]\n",
    "dp[1][0] = (0, 0)\n",
    "\n",
    "if K == 0:\n",
    "    print((M ** N) % MOD)\n",
    "    sys.exit(0)\n",
    "\n",
    "for i in range(2, N+1):\n",
    "    for j in range(1, M+1):\n",
    "        x = 0\n",
    "        y = dp[i][j-1][1]\n",
    "        \n",
    "        if j + K <= M:\n",
    "            x += dp[i-1][M][1] - dp[i-1][j+K-1][1]\n",
    "            x %= MOD\n",
    "            \n",
    "        if j - K > 0:\n",
    "            x += dp[i-1][j-K][1] - dp[i-1][0][1]\n",
    "            x %= MOD\n",
    "        \n",
    "        y += x\n",
    "        y %= MOD\n",
    "        \n",
    "        dp[i][j] = (x, y)\n",
    "\n",
    "print(dp[N][M][1])"
   ]
  },
  {
   "cell_type": "code",
   "execution_count": null,
   "id": "efe74c1a-71b5-4fa4-895b-52e14177595a",
   "metadata": {},
   "outputs": [],
   "source": []
  },
  {
   "cell_type": "code",
   "execution_count": null,
   "id": "a0589110-5ed7-481a-a1f0-9afd56f361b5",
   "metadata": {},
   "outputs": [],
   "source": []
  }
 ],
 "metadata": {
  "kernelspec": {
   "display_name": "Python 3 (ipykernel)",
   "language": "python",
   "name": "python3"
  },
  "language_info": {
   "codemirror_mode": {
    "name": "ipython",
    "version": 3
   },
   "file_extension": ".py",
   "mimetype": "text/x-python",
   "name": "python",
   "nbconvert_exporter": "python",
   "pygments_lexer": "ipython3",
   "version": "3.9.12"
  }
 },
 "nbformat": 4,
 "nbformat_minor": 5
}
