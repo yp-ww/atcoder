{
 "cells": [
  {
   "cell_type": "code",
   "execution_count": 1,
   "id": "4bb988ae-f1a5-4c97-88a1-42c3469f7fcd",
   "metadata": {},
   "outputs": [
    {
     "data": {
      "application/vnd.jupyter.widget-view+json": {
       "model_id": "95ee778aa1c24e09af48830e54f89f8b",
       "version_major": 2,
       "version_minor": 0
      },
      "text/plain": [
       "Textarea(value='')"
      ]
     },
     "metadata": {},
     "output_type": "display_data"
    }
   ],
   "source": [
    "# Ref: https://qiita.com/noca/items/00646efd9d4a7302f522\n",
    "from ipywidgets import Textarea\n",
    "import io\n",
    "if 'open' in globals():\n",
    "    del open\n",
    "if 'input' in globals():\n",
    "    del input\n",
    "original_open = open\n",
    "class custom_open():\n",
    "    def __init__(self):\n",
    "        self.text = ''\n",
    "    def __call__(self, file, *args, **kwargs):\n",
    "        if file == 0:\n",
    "            return io.StringIO(self.text)\n",
    "        return original_open(file, *args, **kwargs)\n",
    "    def updater(self, change):\n",
    "        self.text = change[\"new\"]\n",
    "class custom_input():\n",
    "    def __init__(self):\n",
    "        self.__sio = io.StringIO('')\n",
    "        self.shell = get_ipython()\n",
    "        if self.shell.events.callbacks['pre_run_cell'] != []:\n",
    "            self.shell.events.callbacks['pre_run_cell'] = []\n",
    "        self.shell.events.register('pre_run_cell', self.pre_run_cell)\n",
    "    def __call__(self):\n",
    "        return self.__sio.readline().strip()\n",
    "    def pre_run_cell(self, info):\n",
    "        text = self.shell.user_ns.get('text_area', None).value\n",
    "        self.__sio = io.StringIO(text)\n",
    "open = custom_open()\n",
    "input = custom_input()\n",
    "text_area = Textarea()\n",
    "text_area.observe(open.updater, names='value')\n",
    "display(text_area)"
   ]
  },
  {
   "cell_type": "code",
   "execution_count": 4,
   "id": "2527d23e-08de-4dcf-a174-7a125f0e7656",
   "metadata": {},
   "outputs": [
    {
     "name": "stdout",
     "output_type": "stream",
     "text": [
      "1\n",
      "5\n",
      "4\n"
     ]
    }
   ],
   "source": [
    "import heapq\n",
    "from collections import defaultdict\n",
    "Q = int(input())\n",
    "\n",
    "S_min = []\n",
    "S_max = []\n",
    "heapq.heapify(S_min)\n",
    "heapq.heapify(S_max)\n",
    "\n",
    "cnt = defaultdict(int)\n",
    "\n",
    "for _ in range(Q):\n",
    "    q = list(map(int, input().split()))\n",
    "    \n",
    "    if q[0] == 1:\n",
    "        x = q[1]\n",
    "        heapq.heappush(S_min, x)\n",
    "        heapq.heappush(S_max, -1 * x)\n",
    "        \n",
    "        cnt[x] += 1\n",
    "        \n",
    "    if q[0] == 2:\n",
    "        x = q[1]\n",
    "        c = q[2]\n",
    "        cnt[x] -= c\n",
    "        if cnt[x] < 0:\n",
    "            cnt[x] = 0\n",
    "        \n",
    "    if q[0] == 3:\n",
    "        while 1:\n",
    "            _min = S_min[0]\n",
    "            if cnt[_min] == 0:\n",
    "                heapq.heappop(S_min)\n",
    "            if cnt[_min] > 0:\n",
    "                break\n",
    "        while 1:\n",
    "            _max = S_max[0] * (-1)\n",
    "            if cnt[_max] == 0:\n",
    "                heapq.heappop(S_max)\n",
    "            if cnt[_max] > 0:\n",
    "                break\n",
    "        \n",
    "        print(_max - _min)\n"
   ]
  },
  {
   "cell_type": "code",
   "execution_count": null,
   "id": "5c85e619-520b-4c42-afae-d33380fed449",
   "metadata": {},
   "outputs": [],
   "source": []
  }
 ],
 "metadata": {
  "kernelspec": {
   "display_name": "Python 3 (ipykernel)",
   "language": "python",
   "name": "python3"
  },
  "language_info": {
   "codemirror_mode": {
    "name": "ipython",
    "version": 3
   },
   "file_extension": ".py",
   "mimetype": "text/x-python",
   "name": "python",
   "nbconvert_exporter": "python",
   "pygments_lexer": "ipython3",
   "version": "3.9.12"
  }
 },
 "nbformat": 4,
 "nbformat_minor": 5
}
