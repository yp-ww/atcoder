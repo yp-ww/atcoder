{
 "cells": [
  {
   "cell_type": "code",
   "execution_count": 1,
   "id": "057cf349-00fd-4b89-949a-4f7b4069091f",
   "metadata": {},
   "outputs": [
    {
     "data": {
      "application/vnd.jupyter.widget-view+json": {
       "model_id": "c4cfb4c2a01a47bcb4acfce03e223b6f",
       "version_major": 2,
       "version_minor": 0
      },
      "text/plain": [
       "Textarea(value='')"
      ]
     },
     "metadata": {},
     "output_type": "display_data"
    }
   ],
   "source": [
    "# Ref: https://qiita.com/noca/items/00646efd9d4a7302f522\n",
    "from ipywidgets import Textarea\n",
    "import io\n",
    "if 'open' in globals():\n",
    "    del open\n",
    "if 'input' in globals():\n",
    "    del input\n",
    "original_open = open\n",
    "class custom_open():\n",
    "    def __init__(self):\n",
    "        self.text = ''\n",
    "    def __call__(self, file, *args, **kwargs):\n",
    "        if file == 0:\n",
    "            return io.StringIO(self.text)\n",
    "        return original_open(file, *args, **kwargs)\n",
    "    def updater(self, change):\n",
    "        self.text = change[\"new\"]\n",
    "class custom_input():\n",
    "    def __init__(self):\n",
    "        self.__sio = io.StringIO('')\n",
    "        self.shell = get_ipython()\n",
    "        if self.shell.events.callbacks['pre_run_cell'] != []:\n",
    "            self.shell.events.callbacks['pre_run_cell'] = []\n",
    "        self.shell.events.register('pre_run_cell', self.pre_run_cell)\n",
    "    def __call__(self):\n",
    "        return self.__sio.readline().strip()\n",
    "    def pre_run_cell(self, info):\n",
    "        text = self.shell.user_ns.get('text_area', None).value\n",
    "        self.__sio = io.StringIO(text)\n",
    "open = custom_open()\n",
    "input = custom_input()\n",
    "text_area = Textarea()\n",
    "text_area.observe(open.updater, names='value')\n",
    "display(text_area)"
   ]
  },
  {
   "cell_type": "code",
   "execution_count": 44,
   "id": "89bfbbac-8800-473a-9b8c-f8e3560af8be",
   "metadata": {},
   "outputs": [
    {
     "name": "stdout",
     "output_type": "stream",
     "text": [
      "159\n"
     ]
    }
   ],
   "source": [
    "import sys\n",
    "X = input()\n",
    "\n",
    "if len(X) <= 2:\n",
    "    print(int(X))\n",
    "    sys.exit(0)\n",
    "\n",
    "l = len(X)\n",
    "s = int(X[0])\n",
    "X = int(X)\n",
    "\n",
    "ans = 10 ** 20\n",
    "\n",
    "# x: 最大の桁の値、k: 桁数、d: 等差\n",
    "def f(x, k, d):\n",
    "    tmp = x * 10 ** (k-1)\n",
    "    k -= 1\n",
    "    while k > 0:\n",
    "        if x + d <= -1 or 10 <= x + d:\n",
    "            return 10 ** 20\n",
    "        x += d\n",
    "        tmp += x * 10 ** (k-1)\n",
    "        k -= 1\n",
    "    return tmp\n",
    "\n",
    "for x in range(s, 10):\n",
    "    for d in range(0, 10):\n",
    "        tmp = f(x, l, d)\n",
    "        if tmp == 10 ** 20:\n",
    "            break\n",
    "        # print(tmp)\n",
    "        if tmp >= X:\n",
    "            ans = min(ans, tmp)\n",
    "    \n",
    "    for d in range(-1, -10, -1):\n",
    "        tmp = f(x, l, d)\n",
    "        if tmp == 10 ** 20:\n",
    "            break\n",
    "        # print(tmp)\n",
    "        if tmp >= X:\n",
    "            ans = min(ans, tmp)\n",
    "        \n",
    "for x in range(1, 10):\n",
    "    for d in range(0, 10):\n",
    "        tmp = f(x, l+1, d)\n",
    "        if tmp == 10 ** 20:\n",
    "            break\n",
    "        # print(tmp)\n",
    "        if tmp >= X:\n",
    "            ans = min(ans, tmp)\n",
    "    \n",
    "    for d in range(-1, -10, -1):\n",
    "        tmp = f(x, l+1, d)\n",
    "        if tmp == 10 ** 20:\n",
    "            break\n",
    "        # print(tmp)\n",
    "        if tmp >= X:\n",
    "            ans = min(ans, tmp)\n",
    "            \n",
    "print(ans)"
   ]
  },
  {
   "cell_type": "code",
   "execution_count": 45,
   "id": "6e6f96da-493b-47d2-98d6-ef3aeeca106b",
   "metadata": {},
   "outputs": [
    {
     "data": {
      "text/plain": [
       "123"
      ]
     },
     "execution_count": 45,
     "metadata": {},
     "output_type": "execute_result"
    }
   ],
   "source": [
    "f(s, l, 1)"
   ]
  },
  {
   "cell_type": "code",
   "execution_count": 46,
   "id": "09687d4f-689a-46cc-9227-dea03387ea7a",
   "metadata": {},
   "outputs": [
    {
     "data": {
      "text/plain": [
       "100000000000000000000"
      ]
     },
     "execution_count": 46,
     "metadata": {},
     "output_type": "execute_result"
    }
   ],
   "source": [
    "f(s, l, 5)"
   ]
  },
  {
   "cell_type": "code",
   "execution_count": null,
   "id": "c6c4ea8c-505a-441f-9082-1d02eb67c05a",
   "metadata": {},
   "outputs": [],
   "source": []
  },
  {
   "cell_type": "code",
   "execution_count": null,
   "id": "006e6538-7c21-43ca-8d82-ee5fa77e0060",
   "metadata": {},
   "outputs": [],
   "source": []
  }
 ],
 "metadata": {
  "kernelspec": {
   "display_name": "Python 3 (ipykernel)",
   "language": "python",
   "name": "python3"
  },
  "language_info": {
   "codemirror_mode": {
    "name": "ipython",
    "version": 3
   },
   "file_extension": ".py",
   "mimetype": "text/x-python",
   "name": "python",
   "nbconvert_exporter": "python",
   "pygments_lexer": "ipython3",
   "version": "3.9.12"
  }
 },
 "nbformat": 4,
 "nbformat_minor": 5
}
