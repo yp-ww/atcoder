{
 "cells": [
  {
   "cell_type": "code",
   "execution_count": 1,
   "id": "bbe30930-df58-4536-a615-c3764977c51f",
   "metadata": {},
   "outputs": [
    {
     "data": {
      "application/vnd.jupyter.widget-view+json": {
       "model_id": "45ce7bab68dc48f6941ce4fc6a50f04e",
       "version_major": 2,
       "version_minor": 0
      },
      "text/plain": [
       "Textarea(value='')"
      ]
     },
     "metadata": {},
     "output_type": "display_data"
    }
   ],
   "source": [
    "# Ref: https://qiita.com/noca/items/00646efd9d4a7302f522\n",
    "from ipywidgets import Textarea\n",
    "import io\n",
    "if 'open' in globals():\n",
    "    del open\n",
    "if 'input' in globals():\n",
    "    del input\n",
    "original_open = open\n",
    "class custom_open():\n",
    "    def __init__(self):\n",
    "        self.text = ''\n",
    "    def __call__(self, file, *args, **kwargs):\n",
    "        if file == 0:\n",
    "            return io.StringIO(self.text)\n",
    "        return original_open(file, *args, **kwargs)\n",
    "    def updater(self, change):\n",
    "        self.text = change[\"new\"]\n",
    "class custom_input():\n",
    "    def __init__(self):\n",
    "        self.__sio = io.StringIO('')\n",
    "        self.shell = get_ipython()\n",
    "        if self.shell.events.callbacks['pre_run_cell'] != []:\n",
    "            self.shell.events.callbacks['pre_run_cell'] = []\n",
    "        self.shell.events.register('pre_run_cell', self.pre_run_cell)\n",
    "    def __call__(self):\n",
    "        return self.__sio.readline().strip()\n",
    "    def pre_run_cell(self, info):\n",
    "        text = self.shell.user_ns.get('text_area', None).value\n",
    "        self.__sio = io.StringIO(text)\n",
    "open = custom_open()\n",
    "input = custom_input()\n",
    "text_area = Textarea()\n",
    "text_area.observe(open.updater, names='value')\n",
    "display(text_area)"
   ]
  },
  {
   "cell_type": "code",
   "execution_count": 19,
   "id": "a6394dfe-ad91-463c-8697-95fa87853d90",
   "metadata": {},
   "outputs": [
    {
     "name": "stdout",
     "output_type": "stream",
     "text": [
      "226863\n"
     ]
    }
   ],
   "source": [
    "N = int(input())\n",
    "\n",
    "p_max = int(N**(1/3)) + 3\n",
    "\n",
    "isprime = [True] * (p_max + 1)\n",
    "isprime[0], isprime[1] = False, False\n",
    "\n",
    "for p in range(2, p_max):\n",
    "    if not isprime[p]:\n",
    "        continue\n",
    "    \n",
    "    q = p + p\n",
    "    while q <= p_max:\n",
    "        isprime[q] = False\n",
    "        q += p\n",
    "\n",
    "P = []\n",
    "for i in range(p_max+1):\n",
    "    if isprime[i] == True:\n",
    "        P.append(i)\n",
    "\n",
    "cnt = 0\n",
    "for i in range(len(P)):\n",
    "    p = P[i]\n",
    "    for j in range(i+1, len(P)):\n",
    "        q = P[j]\n",
    "        if p * (q**3) <= N:\n",
    "            cnt += 1\n",
    "        else:\n",
    "            break\n",
    "print(cnt)"
   ]
  },
  {
   "cell_type": "code",
   "execution_count": 8,
   "id": "604cf81f-5bd1-48fc-93f1-303ccc5b83f4",
   "metadata": {},
   "outputs": [
    {
     "data": {
      "text/plain": [
       "[2, 3, 5, 7]"
      ]
     },
     "execution_count": 8,
     "metadata": {},
     "output_type": "execute_result"
    }
   ],
   "source": [
    "P"
   ]
  },
  {
   "cell_type": "code",
   "execution_count": 13,
   "id": "f1501a19-b56b-4525-b4c0-10c1a895971a",
   "metadata": {},
   "outputs": [
    {
     "data": {
      "text/plain": [
       "49796"
      ]
     },
     "execution_count": 13,
     "metadata": {},
     "output_type": "execute_result"
    }
   ],
   "source": [
    "p_max"
   ]
  },
  {
   "cell_type": "code",
   "execution_count": null,
   "id": "fb52b1d8-f45c-4275-a3c3-b8e6a3707fa1",
   "metadata": {},
   "outputs": [],
   "source": []
  }
 ],
 "metadata": {
  "kernelspec": {
   "display_name": "Python 3 (ipykernel)",
   "language": "python",
   "name": "python3"
  },
  "language_info": {
   "codemirror_mode": {
    "name": "ipython",
    "version": 3
   },
   "file_extension": ".py",
   "mimetype": "text/x-python",
   "name": "python",
   "nbconvert_exporter": "python",
   "pygments_lexer": "ipython3",
   "version": "3.9.12"
  }
 },
 "nbformat": 4,
 "nbformat_minor": 5
}
