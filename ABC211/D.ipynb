{
 "cells": [
  {
   "cell_type": "code",
   "execution_count": 47,
   "id": "9c0d7fa3-5f2a-4c0c-a12a-4182eafde209",
   "metadata": {},
   "outputs": [
    {
     "data": {
      "application/vnd.jupyter.widget-view+json": {
       "model_id": "802e99750b2b478091cacd087aca0212",
       "version_major": 2,
       "version_minor": 0
      },
      "text/plain": [
       "Textarea(value='')"
      ]
     },
     "metadata": {},
     "output_type": "display_data"
    }
   ],
   "source": [
    "# Ref: https://qiita.com/noca/items/00646efd9d4a7302f522\n",
    "from ipywidgets import Textarea\n",
    "import io\n",
    "if 'open' in globals():\n",
    "    del open\n",
    "if 'input' in globals():\n",
    "    del input\n",
    "original_open = open\n",
    "class custom_open():\n",
    "    def __init__(self):\n",
    "        self.text = ''\n",
    "    def __call__(self, file, *args, **kwargs):\n",
    "        if file == 0:\n",
    "            return io.StringIO(self.text)\n",
    "        return original_open(file, *args, **kwargs)\n",
    "    def updater(self, change):\n",
    "        self.text = change[\"new\"]\n",
    "class custom_input():\n",
    "    def __init__(self):\n",
    "        self.__sio = io.StringIO('')\n",
    "        self.shell = get_ipython()\n",
    "        if self.shell.events.callbacks['pre_run_cell'] != []:\n",
    "            self.shell.events.callbacks['pre_run_cell'] = []\n",
    "        self.shell.events.register('pre_run_cell', self.pre_run_cell)\n",
    "    def __call__(self):\n",
    "        return self.__sio.readline().strip()\n",
    "    def pre_run_cell(self, info):\n",
    "        text = self.shell.user_ns.get('text_area', None).value\n",
    "        self.__sio = io.StringIO(text)\n",
    "open = custom_open()\n",
    "input = custom_input()\n",
    "text_area = Textarea()\n",
    "text_area.observe(open.updater, names='value')\n",
    "display(text_area)"
   ]
  },
  {
   "cell_type": "code",
   "execution_count": 106,
   "id": "e52385ac-d817-460f-9b58-5b94da23e0fc",
   "metadata": {
    "tags": []
   },
   "outputs": [
    {
     "name": "stdout",
     "output_type": "stream",
     "text": [
      "4\n"
     ]
    }
   ],
   "source": [
    "from collections import deque\n",
    "N, M = map(int, input().split())\n",
    "\n",
    "G = [list() for _ in range(N+1)]\n",
    "for _ in range(M):\n",
    "    a, b = map(int, input().split())\n",
    "    G[a].append(b)\n",
    "    G[b].append(a)\n",
    "    \n",
    "MOD = 10**9 + 7\n",
    "\n",
    "dis = [10**9] * (N+1)\n",
    "dis[1] = 0\n",
    "cnt = [0] * (N+1)\n",
    "cnt[1] = 1\n",
    "q = deque()\n",
    "q.append((1, 0))\n",
    "\n",
    "while q:\n",
    "    now, pre = q.popleft()\n",
    "    \n",
    "    for nex in G[now]:\n",
    "        if dis[nex] < dis[now] + 1:\n",
    "            continue\n",
    "        elif dis[nex] == dis[now] + 1:\n",
    "            cnt[nex] += cnt[now]\n",
    "            cnt[nex] %= MOD\n",
    "        else:\n",
    "            dis[nex] = dis[now] + 1\n",
    "            cnt[nex] += cnt[now]\n",
    "            cnt[nex] %= MOD\n",
    "            q.append((nex, now))\n",
    "            \n",
    "print(cnt[N])"
   ]
  },
  {
   "cell_type": "code",
   "execution_count": 107,
   "id": "9640a768-2722-4ef7-b6f4-e268fc142aae",
   "metadata": {},
   "outputs": [
    {
     "data": {
      "text/plain": [
       "[0, 1, 2, 1, 1, 2, 2, 4]"
      ]
     },
     "execution_count": 107,
     "metadata": {},
     "output_type": "execute_result"
    }
   ],
   "source": [
    "cnt"
   ]
  },
  {
   "cell_type": "code",
   "execution_count": 105,
   "id": "51a0a335-8acd-4c87-8a7a-0aebacbb22e8",
   "metadata": {},
   "outputs": [
    {
     "data": {
      "text/plain": [
       "[1000000000, 0, 2, 1, 1, 3, 3, 4]"
      ]
     },
     "execution_count": 105,
     "metadata": {},
     "output_type": "execute_result"
    }
   ],
   "source": [
    "dis"
   ]
  },
  {
   "cell_type": "code",
   "execution_count": null,
   "id": "18b1e0a9-a25e-43cd-abcf-619ef91163bb",
   "metadata": {},
   "outputs": [],
   "source": []
  },
  {
   "cell_type": "code",
   "execution_count": null,
   "id": "a8f21127-fed8-4245-8ef6-ead2b700a42d",
   "metadata": {},
   "outputs": [],
   "source": []
  }
 ],
 "metadata": {
  "kernelspec": {
   "display_name": "Python 3 (ipykernel)",
   "language": "python",
   "name": "python3"
  },
  "language_info": {
   "codemirror_mode": {
    "name": "ipython",
    "version": 3
   },
   "file_extension": ".py",
   "mimetype": "text/x-python",
   "name": "python",
   "nbconvert_exporter": "python",
   "pygments_lexer": "ipython3",
   "version": "3.9.12"
  }
 },
 "nbformat": 4,
 "nbformat_minor": 5
}
