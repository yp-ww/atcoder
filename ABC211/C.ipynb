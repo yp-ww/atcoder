{
 "cells": [
  {
   "cell_type": "code",
   "execution_count": 1,
   "id": "dbcae464-19fe-4707-ac6f-a90a37d51266",
   "metadata": {},
   "outputs": [
    {
     "data": {
      "application/vnd.jupyter.widget-view+json": {
       "model_id": "82a895a814bd46a2b3546880b47f4617",
       "version_major": 2,
       "version_minor": 0
      },
      "text/plain": [
       "Textarea(value='')"
      ]
     },
     "metadata": {},
     "output_type": "display_data"
    }
   ],
   "source": [
    "# Ref: https://qiita.com/noca/items/00646efd9d4a7302f522\n",
    "from ipywidgets import Textarea\n",
    "import io\n",
    "if 'open' in globals():\n",
    "    del open\n",
    "if 'input' in globals():\n",
    "    del input\n",
    "original_open = open\n",
    "class custom_open():\n",
    "    def __init__(self):\n",
    "        self.text = ''\n",
    "    def __call__(self, file, *args, **kwargs):\n",
    "        if file == 0:\n",
    "            return io.StringIO(self.text)\n",
    "        return original_open(file, *args, **kwargs)\n",
    "    def updater(self, change):\n",
    "        self.text = change[\"new\"]\n",
    "class custom_input():\n",
    "    def __init__(self):\n",
    "        self.__sio = io.StringIO('')\n",
    "        self.shell = get_ipython()\n",
    "        if self.shell.events.callbacks['pre_run_cell'] != []:\n",
    "            self.shell.events.callbacks['pre_run_cell'] = []\n",
    "        self.shell.events.register('pre_run_cell', self.pre_run_cell)\n",
    "    def __call__(self):\n",
    "        return self.__sio.readline().strip()\n",
    "    def pre_run_cell(self, info):\n",
    "        text = self.shell.user_ns.get('text_area', None).value\n",
    "        self.__sio = io.StringIO(text)\n",
    "open = custom_open()\n",
    "input = custom_input()\n",
    "text_area = Textarea()\n",
    "text_area.observe(open.updater, names='value')\n",
    "display(text_area)"
   ]
  },
  {
   "cell_type": "code",
   "execution_count": 48,
   "id": "e1798a9b-ddd2-47e4-9e62-ac9bc9a40acc",
   "metadata": {},
   "outputs": [
    {
     "name": "stdout",
     "output_type": "stream",
     "text": [
      "16\n"
     ]
    }
   ],
   "source": [
    "S = list(input())\n",
    "MOD = 10**9 + 7\n",
    "\n",
    "N = len(S)\n",
    "\n",
    "li = [\".\", \"c\" , \"h\" , \"o\" , \"k\" , \"u\" , \"d\" , \"a\" , \"i\"]\n",
    "\n",
    "dp = [[0] * N for _ in range(9)]\n",
    "dp[0] = [1 for _ in range(N)]\n",
    "for i in range(1, 9):\n",
    "    for j in range(N):\n",
    "        dp[i][j] += dp[i][j-1]\n",
    "        dp[i][j] %= MOD\n",
    "        if S[j] == li[i]:\n",
    "            dp[i][j] += dp[i-1][j]\n",
    "            dp[i][j] %= MOD\n",
    "    \n",
    "print(dp[8][N-1])"
   ]
  },
  {
   "cell_type": "code",
   "execution_count": 47,
   "id": "bfb4a3d4-afca-45d7-abad-3807d586845f",
   "metadata": {},
   "outputs": [
    {
     "data": {
      "text/plain": [
       "[[1, 1, 1, 1, 1, 1, 1, 1, 1, 1, 1, 1],\n",
       " [1, 2, 2, 2, 2, 2, 2, 2, 2, 2, 2, 2],\n",
       " [0, 0, 2, 4, 4, 4, 4, 4, 4, 4, 4, 4],\n",
       " [0, 0, 0, 0, 4, 4, 4, 4, 4, 4, 4, 4],\n",
       " [0, 0, 0, 0, 0, 4, 4, 4, 4, 4, 4, 4],\n",
       " [0, 0, 0, 0, 0, 0, 4, 4, 4, 4, 4, 4],\n",
       " [0, 0, 0, 0, 0, 0, 0, 4, 8, 8, 8, 8],\n",
       " [0, 0, 0, 0, 0, 0, 0, 0, 0, 8, 16, 16],\n",
       " [0, 0, 0, 0, 0, 0, 0, 0, 0, 0, 0, 16]]"
      ]
     },
     "execution_count": 47,
     "metadata": {},
     "output_type": "execute_result"
    }
   ],
   "source": [
    "dp"
   ]
  },
  {
   "cell_type": "code",
   "execution_count": null,
   "id": "40ec91a6-7e16-426a-83ee-d4ff433037ab",
   "metadata": {},
   "outputs": [],
   "source": []
  },
  {
   "cell_type": "code",
   "execution_count": null,
   "id": "9058dfba-cb1a-4e88-b383-3206f7c5f089",
   "metadata": {},
   "outputs": [],
   "source": []
  }
 ],
 "metadata": {
  "kernelspec": {
   "display_name": "Python 3 (ipykernel)",
   "language": "python",
   "name": "python3"
  },
  "language_info": {
   "codemirror_mode": {
    "name": "ipython",
    "version": 3
   },
   "file_extension": ".py",
   "mimetype": "text/x-python",
   "name": "python",
   "nbconvert_exporter": "python",
   "pygments_lexer": "ipython3",
   "version": "3.9.12"
  }
 },
 "nbformat": 4,
 "nbformat_minor": 5
}
