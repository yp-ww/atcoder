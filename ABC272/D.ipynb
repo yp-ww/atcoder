{
 "cells": [
  {
   "cell_type": "code",
   "execution_count": 1,
   "id": "9ea10145-8e02-46ab-ad56-6535695eb770",
   "metadata": {},
   "outputs": [
    {
     "data": {
      "application/vnd.jupyter.widget-view+json": {
       "model_id": "c7cdc26bd491420eb7133c6bc2343469",
       "version_major": 2,
       "version_minor": 0
      },
      "text/plain": [
       "Textarea(value='')"
      ]
     },
     "metadata": {},
     "output_type": "display_data"
    }
   ],
   "source": [
    "# Ref: https://qiita.com/noca/items/00646efd9d4a7302f522\n",
    "from ipywidgets import Textarea\n",
    "import io\n",
    "if 'open' in globals():\n",
    "    del open\n",
    "if 'input' in globals():\n",
    "    del input\n",
    "original_open = open\n",
    "class custom_open():\n",
    "    def __init__(self):\n",
    "        self.text = ''\n",
    "    def __call__(self, file, *args, **kwargs):\n",
    "        if file == 0:\n",
    "            return io.StringIO(self.text)\n",
    "        return original_open(file, *args, **kwargs)\n",
    "    def updater(self, change):\n",
    "        self.text = change[\"new\"]\n",
    "class custom_input():\n",
    "    def __init__(self):\n",
    "        self.__sio = io.StringIO('')\n",
    "        self.shell = get_ipython()\n",
    "        if self.shell.events.callbacks['pre_run_cell'] != []:\n",
    "            self.shell.events.callbacks['pre_run_cell'] = []\n",
    "        self.shell.events.register('pre_run_cell', self.pre_run_cell)\n",
    "    def __call__(self):\n",
    "        return self.__sio.readline().strip()\n",
    "    def pre_run_cell(self, info):\n",
    "        text = self.shell.user_ns.get('text_area', None).value\n",
    "        self.__sio = io.StringIO(text)\n",
    "open = custom_open()\n",
    "input = custom_input()\n",
    "text_area = Textarea()\n",
    "text_area.observe(open.updater, names='value')\n",
    "display(text_area)"
   ]
  },
  {
   "cell_type": "code",
   "execution_count": 38,
   "id": "163adb83-d147-4998-845c-f5783d016f72",
   "metadata": {},
   "outputs": [
    {
     "name": "stdout",
     "output_type": "stream",
     "text": [
      "0 3 2 3 2 3 4 5 4 5\n",
      "3 4 1 2 3 4 3 4 5 6\n",
      "2 1 4 3 2 3 4 5 4 5\n",
      "3 2 3 2 3 4 3 4 5 6\n",
      "2 3 2 3 4 3 4 5 4 5\n",
      "3 4 3 4 3 4 5 4 5 6\n",
      "4 3 4 3 4 5 4 5 6 5\n",
      "5 4 5 4 5 4 5 6 5 6\n",
      "4 5 4 5 4 5 6 5 6 7\n",
      "5 6 5 6 5 6 5 6 7 6\n"
     ]
    }
   ],
   "source": [
    "import sys\n",
    "from collections import deque\n",
    "N, M = map(int, input().split())\n",
    "\n",
    "ans = [[-1] * (N) for _ in range(N)]\n",
    "ans[0][0] = 0\n",
    "\n",
    "d = []\n",
    "for i in range(1, N+1):\n",
    "    for j in range(1, N+1):\n",
    "        if (1 - i)**2 + (1 - j)**2 == M:\n",
    "            d.append((i-1, j-1))\n",
    "            d.append((j-1, i-1))\n",
    "            \n",
    "if len(d) == 0:\n",
    "    for a in ans:\n",
    "        print(*a)\n",
    "    sys.exit(0)\n",
    "    \n",
    "now = (1, 1)\n",
    "q = deque()\n",
    "q.append(now)\n",
    "\n",
    "dd = [(1, 1), (-1, -1), (1, -1), (-1, 1)]\n",
    "\n",
    "while q:\n",
    "    nowi, nowj = q.popleft()\n",
    "    \n",
    "    for di, dj in d:\n",
    "        for ddi, ddj in dd:\n",
    "            dnexi = di * ddi\n",
    "            dnexj = dj * ddj\n",
    "            nexi = nowi + dnexi\n",
    "            nexj = nowj + dnexj\n",
    "            \n",
    "            if 1 <= nexi <= N and 1 <= nexj <= N:\n",
    "                if ans[nexi-1][nexj-1] != -1:\n",
    "                    continue\n",
    "                ans[nexi-1][nexj-1] = ans[nowi-1][nowj-1] + 1\n",
    "                q.append((nexi, nexj))\n",
    "    \n",
    "for a in ans:\n",
    "    print(*a)"
   ]
  },
  {
   "cell_type": "code",
   "execution_count": 39,
   "id": "54f17c7b-49fe-44f4-9b99-2eeaf1400ae2",
   "metadata": {},
   "outputs": [
    {
     "data": {
      "text/plain": [
       "[(1, 2), (2, 1), (2, 1), (1, 2)]"
      ]
     },
     "execution_count": 39,
     "metadata": {},
     "output_type": "execute_result"
    }
   ],
   "source": [
    "d"
   ]
  },
  {
   "cell_type": "code",
   "execution_count": null,
   "id": "218440e3-e39d-4b3e-9831-9daa359c41fb",
   "metadata": {},
   "outputs": [],
   "source": []
  },
  {
   "cell_type": "code",
   "execution_count": null,
   "id": "aa9840ef-5a2c-4456-ac96-42229ca4522c",
   "metadata": {},
   "outputs": [],
   "source": []
  }
 ],
 "metadata": {
  "kernelspec": {
   "display_name": "Python 3 (ipykernel)",
   "language": "python",
   "name": "python3"
  },
  "language_info": {
   "codemirror_mode": {
    "name": "ipython",
    "version": 3
   },
   "file_extension": ".py",
   "mimetype": "text/x-python",
   "name": "python",
   "nbconvert_exporter": "python",
   "pygments_lexer": "ipython3",
   "version": "3.9.12"
  }
 },
 "nbformat": 4,
 "nbformat_minor": 5
}
