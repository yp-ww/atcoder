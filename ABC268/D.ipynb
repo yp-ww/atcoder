{
 "cells": [
  {
   "cell_type": "code",
   "execution_count": 1,
   "id": "6aa3ff8f-6f73-4417-a4c7-3d767fb99c4c",
   "metadata": {},
   "outputs": [
    {
     "data": {
      "application/vnd.jupyter.widget-view+json": {
       "model_id": "a521959db5fa4bcd87d8b6f51a4a5868",
       "version_major": 2,
       "version_minor": 0
      },
      "text/plain": [
       "Textarea(value='')"
      ]
     },
     "metadata": {},
     "output_type": "display_data"
    }
   ],
   "source": [
    "# Ref: https://qiita.com/noca/items/00646efd9d4a7302f522\n",
    "from ipywidgets import Textarea\n",
    "import io\n",
    "if 'open' in globals():\n",
    "    del open\n",
    "if 'input' in globals():\n",
    "    del input\n",
    "original_open = open\n",
    "class custom_open():\n",
    "    def __init__(self):\n",
    "        self.text = ''\n",
    "    def __call__(self, file, *args, **kwargs):\n",
    "        if file == 0:\n",
    "            return io.StringIO(self.text)\n",
    "        return original_open(file, *args, **kwargs)\n",
    "    def updater(self, change):\n",
    "        self.text = change[\"new\"]\n",
    "class custom_input():\n",
    "    def __init__(self):\n",
    "        self.__sio = io.StringIO('')\n",
    "        self.shell = get_ipython()\n",
    "        if self.shell.events.callbacks['pre_run_cell'] != []:\n",
    "            self.shell.events.callbacks['pre_run_cell'] = []\n",
    "        self.shell.events.register('pre_run_cell', self.pre_run_cell)\n",
    "    def __call__(self):\n",
    "        return self.__sio.readline().strip()\n",
    "    def pre_run_cell(self, info):\n",
    "        text = self.shell.user_ns.get('text_area', None).value\n",
    "        self.__sio = io.StringIO(text)\n",
    "open = custom_open()\n",
    "input = custom_input()\n",
    "text_area = Textarea()\n",
    "text_area.observe(open.updater, names='value')\n",
    "display(text_area)"
   ]
  },
  {
   "cell_type": "code",
   "execution_count": 232,
   "id": "f713fce6-c9a5-4a79-851c-34d6465bf7b6",
   "metadata": {},
   "outputs": [
    {
     "name": "stdout",
     "output_type": "stream",
     "text": [
      "i_tu__y__a_mb__u\n"
     ]
    },
    {
     "ename": "SystemExit",
     "evalue": "0",
     "output_type": "error",
     "traceback": [
      "An exception has occurred, use %tb to see the full traceback.\n",
      "\u001b[1;31mSystemExit\u001b[0m\u001b[1;31m:\u001b[0m 0\n"
     ]
    }
   ],
   "source": [
    "from random import shuffle, randint\n",
    "from time import time\n",
    "import sys\n",
    "\n",
    "N, M = map(int, input().split())\n",
    "l = 0\n",
    "S = []\n",
    "for _ in range(N):\n",
    "    s = input()\n",
    "    l += len(s)\n",
    "    S.append(s)\n",
    "\n",
    "T = set()\n",
    "for _ in range(M):\n",
    "    t = input()\n",
    "    T.add(t)\n",
    "\n",
    "if N == 1:\n",
    "    if S[0] not in T and 3 <= len(S[0]) <= 16:\n",
    "        print(S[0])\n",
    "    else:\n",
    "        print(-1)\n",
    "    sys.exit(0)\n",
    "    \n",
    "MAX = 16 - l - (N-1)\n",
    "\n",
    "BEGIN_TIME=time()\n",
    "while time() - BEGIN_TIME < 1.700:\n",
    "    shuffle(S)\n",
    "    A = [\"_\"] * (N-1)\n",
    "    cnt = randint(0, MAX)\n",
    "    for _ in range(cnt):\n",
    "        idx = randint(0, N-2)\n",
    "        A[idx] += \"_\"\n",
    "        \n",
    "    X = [S[0]]\n",
    "    for i in range(N-1):\n",
    "        X.append(A[i])\n",
    "        X.append(S[i+1])\n",
    "    X=\"\".join(X)\n",
    "    if X not in T:\n",
    "        print(X)\n",
    "        sys.exit(0)\n",
    "\n",
    "print(-1)"
   ]
  },
  {
   "cell_type": "code",
   "execution_count": 233,
   "id": "493fe850-cff1-4448-ba58-646ffd6ce1a3",
   "metadata": {},
   "outputs": [
    {
     "data": {
      "text/plain": [
       "['i', 'u', 'mb', 'tu', 'a', 'y']"
      ]
     },
     "execution_count": 233,
     "metadata": {},
     "output_type": "execute_result"
    }
   ],
   "source": [
    "shuffle(S)\n",
    "S"
   ]
  },
  {
   "cell_type": "code",
   "execution_count": null,
   "id": "a50fd489-ff75-4075-bb21-42deb4991251",
   "metadata": {},
   "outputs": [],
   "source": []
  }
 ],
 "metadata": {
  "kernelspec": {
   "display_name": "Python 3 (ipykernel)",
   "language": "python",
   "name": "python3"
  },
  "language_info": {
   "codemirror_mode": {
    "name": "ipython",
    "version": 3
   },
   "file_extension": ".py",
   "mimetype": "text/x-python",
   "name": "python",
   "nbconvert_exporter": "python",
   "pygments_lexer": "ipython3",
   "version": "3.9.12"
  }
 },
 "nbformat": 4,
 "nbformat_minor": 5
}
