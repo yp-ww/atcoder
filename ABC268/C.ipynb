{
 "cells": [
  {
   "cell_type": "code",
   "execution_count": 1,
   "id": "02c6ac7f-8c12-447c-b65e-13e000c02707",
   "metadata": {},
   "outputs": [
    {
     "data": {
      "application/vnd.jupyter.widget-view+json": {
       "model_id": "25ccea2ec15a4dcab7420b76547117fb",
       "version_major": 2,
       "version_minor": 0
      },
      "text/plain": [
       "Textarea(value='')"
      ]
     },
     "metadata": {},
     "output_type": "display_data"
    }
   ],
   "source": [
    "# Ref: https://qiita.com/noca/items/00646efd9d4a7302f522\n",
    "from ipywidgets import Textarea\n",
    "import io\n",
    "if 'open' in globals():\n",
    "    del open\n",
    "if 'input' in globals():\n",
    "    del input\n",
    "original_open = open\n",
    "class custom_open():\n",
    "    def __init__(self):\n",
    "        self.text = ''\n",
    "    def __call__(self, file, *args, **kwargs):\n",
    "        if file == 0:\n",
    "            return io.StringIO(self.text)\n",
    "        return original_open(file, *args, **kwargs)\n",
    "    def updater(self, change):\n",
    "        self.text = change[\"new\"]\n",
    "class custom_input():\n",
    "    def __init__(self):\n",
    "        self.__sio = io.StringIO('')\n",
    "        self.shell = get_ipython()\n",
    "        if self.shell.events.callbacks['pre_run_cell'] != []:\n",
    "            self.shell.events.callbacks['pre_run_cell'] = []\n",
    "        self.shell.events.register('pre_run_cell', self.pre_run_cell)\n",
    "    def __call__(self):\n",
    "        return self.__sio.readline().strip()\n",
    "    def pre_run_cell(self, info):\n",
    "        text = self.shell.user_ns.get('text_area', None).value\n",
    "        self.__sio = io.StringIO(text)\n",
    "open = custom_open()\n",
    "input = custom_input()\n",
    "text_area = Textarea()\n",
    "text_area.observe(open.updater, names='value')\n",
    "display(text_area)"
   ]
  },
  {
   "cell_type": "code",
   "execution_count": 26,
   "id": "524449f9-ad9e-4ac3-95c0-f8249250c819",
   "metadata": {},
   "outputs": [
    {
     "name": "stdout",
     "output_type": "stream",
     "text": [
      "5\n"
     ]
    }
   ],
   "source": [
    "N = int(input())\n",
    "P = list(map(int, input().split()))\n",
    "\n",
    "# 料理が誰の目の前にあるか、初期化\n",
    "x = [0] * N\n",
    "for i in range(N):\n",
    "    p = P[i]\n",
    "    x[p] = i\n",
    "\n",
    "# 料理 i について、何回動かせば OK になるか\n",
    "cnt = [0] * N\n",
    "for i in range(N):\n",
    "    #print(i, (i - x[i]) % N)\n",
    "    cnt[(i - x[i] -1) % N] += 1\n",
    "    cnt[(i - x[i]) % N] += 1\n",
    "    cnt[(i - x[i] +1) % N] += 1\n",
    "print(max(cnt))\n",
    "\n",
    "# O(N^2)、TLEする\n",
    "# _max = 0\n",
    "# for dx in range(N):\n",
    "#     cnt = 0\n",
    "#     for i in range(N):\n",
    "#         x[i] += dx\n",
    "#         x[i] %= N\n",
    "#         if (i-1)%N == x[i] or i == x[i] or (i+1)%N == x[i]:\n",
    "#             cnt += 1\n",
    "#     _max = max(_max, cnt)\n",
    "# print(_max)"
   ]
  },
  {
   "cell_type": "code",
   "execution_count": 20,
   "id": "821ebdfb-f65d-4f75-9208-2199c431d5bd",
   "metadata": {},
   "outputs": [
    {
     "data": {
      "text/plain": [
       "[2, 0, 1, 3]"
      ]
     },
     "execution_count": 20,
     "metadata": {},
     "output_type": "execute_result"
    }
   ],
   "source": [
    "x"
   ]
  },
  {
   "cell_type": "code",
   "execution_count": null,
   "id": "4acd38a8-af4e-4bb0-a587-57afc122033c",
   "metadata": {},
   "outputs": [],
   "source": [
    "0, 1, 1, 2\n",
    "\n",
    "-1, 0, 0, 1"
   ]
  }
 ],
 "metadata": {
  "kernelspec": {
   "display_name": "Python 3 (ipykernel)",
   "language": "python",
   "name": "python3"
  },
  "language_info": {
   "codemirror_mode": {
    "name": "ipython",
    "version": 3
   },
   "file_extension": ".py",
   "mimetype": "text/x-python",
   "name": "python",
   "nbconvert_exporter": "python",
   "pygments_lexer": "ipython3",
   "version": "3.9.12"
  }
 },
 "nbformat": 4,
 "nbformat_minor": 5
}
