{
 "cells": [
  {
   "cell_type": "code",
   "execution_count": 1,
   "id": "83974f7b-3d49-4485-aebb-0db7969d20dc",
   "metadata": {},
   "outputs": [
    {
     "data": {
      "application/vnd.jupyter.widget-view+json": {
       "model_id": "2c88202a3d114ecea6c7699aaf24654b",
       "version_major": 2,
       "version_minor": 0
      },
      "text/plain": [
       "Textarea(value='')"
      ]
     },
     "metadata": {},
     "output_type": "display_data"
    }
   ],
   "source": [
    "# Ref: https://qiita.com/noca/items/00646efd9d4a7302f522\n",
    "from ipywidgets import Textarea\n",
    "import io\n",
    "if 'open' in globals():\n",
    "    del open\n",
    "if 'input' in globals():\n",
    "    del input\n",
    "original_open = open\n",
    "class custom_open():\n",
    "    def __init__(self):\n",
    "        self.text = ''\n",
    "    def __call__(self, file, *args, **kwargs):\n",
    "        if file == 0:\n",
    "            return io.StringIO(self.text)\n",
    "        return original_open(file, *args, **kwargs)\n",
    "    def updater(self, change):\n",
    "        self.text = change[\"new\"]\n",
    "class custom_input():\n",
    "    def __init__(self):\n",
    "        self.__sio = io.StringIO('')\n",
    "        self.shell = get_ipython()\n",
    "        if self.shell.events.callbacks['pre_run_cell'] != []:\n",
    "            self.shell.events.callbacks['pre_run_cell'] = []\n",
    "        self.shell.events.register('pre_run_cell', self.pre_run_cell)\n",
    "    def __call__(self):\n",
    "        return self.__sio.readline().strip()\n",
    "    def pre_run_cell(self, info):\n",
    "        text = self.shell.user_ns.get('text_area', None).value\n",
    "        self.__sio = io.StringIO(text)\n",
    "open = custom_open()\n",
    "input = custom_input()\n",
    "text_area = Textarea()\n",
    "text_area.observe(open.updater, names='value')\n",
    "display(text_area)"
   ]
  },
  {
   "cell_type": "code",
   "execution_count": 119,
   "id": "5c3daf5c-72ef-4dcc-9f22-ea1450d5ae78",
   "metadata": {},
   "outputs": [
    {
     "name": "stdout",
     "output_type": "stream",
     "text": [
      "16\n"
     ]
    }
   ],
   "source": [
    "import sys\n",
    "from collections import deque\n",
    "\n",
    "M = int(input())\n",
    "G = [list() for _ in range(9+1)]\n",
    "for _ in range(M):\n",
    "    u, v = map(int, input().split())\n",
    "    G[u].append(v)\n",
    "    G[v].append(u)\n",
    "\n",
    "P = [0] + list(map(int, input().split()))\n",
    "pos = 9\n",
    "for i in range(1, 9):\n",
    "    if P.count(i) == 0:\n",
    "        pos = i\n",
    "        break\n",
    "P += [pos]\n",
    "\n",
    "Q = [0] * 10\n",
    "for i in range(10):\n",
    "    Q[P[i]] = i\n",
    "    \n",
    "S = \"\"\n",
    "for i in range(10):\n",
    "    S += str(Q[i])\n",
    "\n",
    "def swap(x: str, a, b):\n",
    "    x = list(x)\n",
    "    x[a], x[b] = x[b], x[a]\n",
    "    res = \"\"\n",
    "    for xx in x:\n",
    "        res += str(xx)\n",
    "    return res\n",
    "    \n",
    "ans = 10 ** 20\n",
    "q = deque()\n",
    "q.append((S, pos, 0))\n",
    "v = set()\n",
    "v.add(S)\n",
    "while q:\n",
    "    s, now, cnt = q.popleft()\n",
    "    if s == \"0123456789\":\n",
    "        ans = cnt\n",
    "        break\n",
    "\n",
    "    for nex in G[now]:\n",
    "        t = s\n",
    "        t = swap(t, now, nex)\n",
    "        if t in v:\n",
    "            continue\n",
    "        v.add(t)\n",
    "        q.append((t, nex, cnt+1))\n",
    "        \n",
    "if ans != 10 ** 20:\n",
    "    print(ans)\n",
    "else:\n",
    "    print(-1)"
   ]
  },
  {
   "cell_type": "code",
   "execution_count": 118,
   "id": "2e17c578-e1db-4215-83fe-9f4591f1dea0",
   "metadata": {},
   "outputs": [
    {
     "data": {
      "text/plain": [
       "deque([('0512349786', 6, 1),\n",
       "       ('0512934786', 4, 1),\n",
       "       ('0512384796', 8, 1),\n",
       "       ('0592314786', 2, 1)])"
      ]
     },
     "execution_count": 118,
     "metadata": {},
     "output_type": "execute_result"
    }
   ],
   "source": [
    "q"
   ]
  },
  {
   "cell_type": "code",
   "execution_count": 117,
   "id": "43fa2d1f-03e0-467d-9128-94e6a68ec570",
   "metadata": {},
   "outputs": [
    {
     "data": {
      "text/plain": [
       "[[],\n",
       " [4, 2],\n",
       " [1, 5, 3],\n",
       " [6, 2],\n",
       " [5, 1, 7],\n",
       " [6, 4, 8, 2],\n",
       " [5, 9, 3],\n",
       " [4, 8],\n",
       " [5, 9, 7],\n",
       " [6, 8]]"
      ]
     },
     "execution_count": 117,
     "metadata": {},
     "output_type": "execute_result"
    }
   ],
   "source": [
    "G"
   ]
  },
  {
   "cell_type": "code",
   "execution_count": null,
   "id": "f03fde38-10c9-4cd7-90b0-9df14a690e60",
   "metadata": {},
   "outputs": [],
   "source": []
  }
 ],
 "metadata": {
  "kernelspec": {
   "display_name": "Python 3 (ipykernel)",
   "language": "python",
   "name": "python3"
  },
  "language_info": {
   "codemirror_mode": {
    "name": "ipython",
    "version": 3
   },
   "file_extension": ".py",
   "mimetype": "text/x-python",
   "name": "python",
   "nbconvert_exporter": "python",
   "pygments_lexer": "ipython3",
   "version": "3.9.12"
  }
 },
 "nbformat": 4,
 "nbformat_minor": 5
}
