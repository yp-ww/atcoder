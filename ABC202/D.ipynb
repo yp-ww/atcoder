{
 "cells": [
  {
   "cell_type": "code",
   "execution_count": 7,
   "id": "c773badc-5d4b-4bd0-bf85-6d61a0c26c12",
   "metadata": {},
   "outputs": [
    {
     "data": {
      "application/vnd.jupyter.widget-view+json": {
       "model_id": "b8219ac01c704e668b436fc2677ccb89",
       "version_major": 2,
       "version_minor": 0
      },
      "text/plain": [
       "Textarea(value='')"
      ]
     },
     "metadata": {},
     "output_type": "display_data"
    }
   ],
   "source": [
    "# Ref: https://qiita.com/noca/items/00646efd9d4a7302f522\n",
    "from ipywidgets import Textarea\n",
    "import io\n",
    "if 'open' in globals():\n",
    "    del open\n",
    "if 'input' in globals():\n",
    "    del input\n",
    "original_open = open\n",
    "class custom_open():\n",
    "    def __init__(self):\n",
    "        self.text = ''\n",
    "    def __call__(self, file, *args, **kwargs):\n",
    "        if file == 0:\n",
    "            return io.StringIO(self.text)\n",
    "        return original_open(file, *args, **kwargs)\n",
    "    def updater(self, change):\n",
    "        self.text = change[\"new\"]\n",
    "class custom_input():\n",
    "    def __init__(self):\n",
    "        self.__sio = io.StringIO('')\n",
    "        self.shell = get_ipython()\n",
    "        if self.shell.events.callbacks['pre_run_cell'] != []:\n",
    "            self.shell.events.callbacks['pre_run_cell'] = []\n",
    "        self.shell.events.register('pre_run_cell', self.pre_run_cell)\n",
    "    def __call__(self):\n",
    "        return self.__sio.readline().strip()\n",
    "    def pre_run_cell(self, info):\n",
    "        text = self.shell.user_ns.get('text_area', None).value\n",
    "        self.__sio = io.StringIO(text)\n",
    "open = custom_open()\n",
    "input = custom_input()\n",
    "text_area = Textarea()\n",
    "text_area.observe(open.updater, names='value')\n",
    "display(text_area)"
   ]
  },
  {
   "cell_type": "code",
   "execution_count": 107,
   "id": "a6a535f4-8449-42f8-ada4-cb6f09c01a4b",
   "metadata": {},
   "outputs": [
    {
     "name": "stdout",
     "output_type": "stream",
     "text": [
      "bbbabb\n"
     ]
    }
   ],
   "source": [
    "import math\n",
    "\n",
    "A, B, K = map(int, input().split())\n",
    "\n",
    "def f(x, y):\n",
    "    return math.factorial(x+y) // (math.factorial(x) * math.factorial(y))\n",
    "    \n",
    "S = A + B\n",
    "\n",
    "ans = \"\"\n",
    "a = A\n",
    "b = B\n",
    "temp = 0\n",
    "for cnt in range(1, S+1):\n",
    "    if a == 0:\n",
    "        ans += \"b\"\n",
    "        continue\n",
    "        \n",
    "    if b == 0:\n",
    "        ans += \"a\"\n",
    "        continue\n",
    "        \n",
    "    x = f(a-1, b)\n",
    "    temp += x\n",
    "\n",
    "    if temp >= K:\n",
    "        temp -= x\n",
    "        ans += \"a\"\n",
    "        a -= 1\n",
    "    else:\n",
    "        ans += \"b\"\n",
    "        b -= 1\n",
    "        \n",
    "    # print(temp, ans)\n",
    "print(ans)"
   ]
  },
  {
   "cell_type": "code",
   "execution_count": 102,
   "id": "e206c02d-99d3-4f01-962b-54c8594ffaa8",
   "metadata": {},
   "outputs": [
    {
     "data": {
      "text/plain": [
       "'ababab'"
      ]
     },
     "execution_count": 102,
     "metadata": {},
     "output_type": "execute_result"
    }
   ],
   "source": [
    "ans"
   ]
  },
  {
   "cell_type": "code",
   "execution_count": null,
   "id": "5cec9b04-5879-4256-9560-3e6db5016473",
   "metadata": {},
   "outputs": [],
   "source": []
  },
  {
   "cell_type": "code",
   "execution_count": null,
   "id": "364300fc-ee55-45c7-a046-33c0c100f9ba",
   "metadata": {},
   "outputs": [],
   "source": []
  }
 ],
 "metadata": {
  "kernelspec": {
   "display_name": "Python 3 (ipykernel)",
   "language": "python",
   "name": "python3"
  },
  "language_info": {
   "codemirror_mode": {
    "name": "ipython",
    "version": 3
   },
   "file_extension": ".py",
   "mimetype": "text/x-python",
   "name": "python",
   "nbconvert_exporter": "python",
   "pygments_lexer": "ipython3",
   "version": "3.9.12"
  }
 },
 "nbformat": 4,
 "nbformat_minor": 5
}
