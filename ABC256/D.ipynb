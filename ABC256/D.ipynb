{
 "cells": [
  {
   "cell_type": "code",
   "execution_count": 1,
   "id": "1f7bb32b-8ffa-4100-b10a-9101796a8666",
   "metadata": {},
   "outputs": [
    {
     "data": {
      "application/vnd.jupyter.widget-view+json": {
       "model_id": "ec4afba55fc64df2ac4dd7170abbffa1",
       "version_major": 2,
       "version_minor": 0
      },
      "text/plain": [
       "Textarea(value='')"
      ]
     },
     "metadata": {},
     "output_type": "display_data"
    }
   ],
   "source": [
    "# Ref: https://qiita.com/noca/items/00646efd9d4a7302f522\n",
    "from ipywidgets import Textarea\n",
    "import io\n",
    "if 'open' in globals():\n",
    "    del open\n",
    "if 'input' in globals():\n",
    "    del input\n",
    "original_open = open\n",
    "class custom_open():\n",
    "    def __init__(self):\n",
    "        self.text = ''\n",
    "    def __call__(self, file, *args, **kwargs):\n",
    "        if file == 0:\n",
    "            return io.StringIO(self.text)\n",
    "        return original_open(file, *args, **kwargs)\n",
    "    def updater(self, change):\n",
    "        self.text = change[\"new\"]\n",
    "class custom_input():\n",
    "    def __init__(self):\n",
    "        self.__sio = io.StringIO('')\n",
    "        self.shell = get_ipython()\n",
    "        if self.shell.events.callbacks['pre_run_cell'] != []:\n",
    "            self.shell.events.callbacks['pre_run_cell'] = []\n",
    "        self.shell.events.register('pre_run_cell', self.pre_run_cell)\n",
    "    def __call__(self):\n",
    "        return self.__sio.readline().strip()\n",
    "    def pre_run_cell(self, info):\n",
    "        text = self.shell.user_ns.get('text_area', None).value\n",
    "        self.__sio = io.StringIO(text)\n",
    "open = custom_open()\n",
    "input = custom_input()\n",
    "text_area = Textarea()\n",
    "text_area.observe(open.updater, names='value')\n",
    "display(text_area)"
   ]
  },
  {
   "cell_type": "code",
   "execution_count": 10,
   "id": "456ac932-ee08-4d0d-8f26-fdb402b84b7f",
   "metadata": {},
   "outputs": [
    {
     "name": "stdout",
     "output_type": "stream",
     "text": [
      "10 30\n",
      "40 50\n"
     ]
    }
   ],
   "source": [
    "N = int(input())\n",
    "\n",
    "MAX = 2 * (10 ** 5) + 10\n",
    "flag = [-1] * (MAX)\n",
    "\n",
    "for _ in range(N):\n",
    "    l, r = map(int, input().split())\n",
    "    \n",
    "    now = l\n",
    "    while now < r:\n",
    "        if flag[now] == -1:\n",
    "            flag[now] = r\n",
    "            now += 1\n",
    "        else:\n",
    "            now = flag[now]\n",
    "\n",
    "l = -1\n",
    "ans = []\n",
    "for i in range(MAX):\n",
    "    if l != -1 and flag[i] == -1:\n",
    "        ans.append((l, i))\n",
    "        l = -1\n",
    "        continue\n",
    "    \n",
    "    if l == -1 and flag[i] != -1:\n",
    "        l = i\n",
    "        continue\n",
    "        \n",
    "for l, r in ans:\n",
    "    print(l, r)"
   ]
  },
  {
   "cell_type": "code",
   "execution_count": 9,
   "id": "00eef94a-b154-4535-95eb-17de5c699624",
   "metadata": {},
   "outputs": [
    {
     "data": {
      "text/plain": [
       "[(10, 30), (40, 50)]"
      ]
     },
     "execution_count": 9,
     "metadata": {},
     "output_type": "execute_result"
    }
   ],
   "source": [
    "ans"
   ]
  },
  {
   "cell_type": "code",
   "execution_count": null,
   "id": "836fd60b-1e78-44fe-b460-1940237877e9",
   "metadata": {},
   "outputs": [],
   "source": []
  }
 ],
 "metadata": {
  "kernelspec": {
   "display_name": "Python 3 (ipykernel)",
   "language": "python",
   "name": "python3"
  },
  "language_info": {
   "codemirror_mode": {
    "name": "ipython",
    "version": 3
   },
   "file_extension": ".py",
   "mimetype": "text/x-python",
   "name": "python",
   "nbconvert_exporter": "python",
   "pygments_lexer": "ipython3",
   "version": "3.9.12"
  }
 },
 "nbformat": 4,
 "nbformat_minor": 5
}
