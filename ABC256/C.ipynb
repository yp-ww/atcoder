{
 "cells": [
  {
   "cell_type": "code",
   "execution_count": 1,
   "id": "986e16d9-0aba-45eb-8c80-e95546efd083",
   "metadata": {},
   "outputs": [
    {
     "data": {
      "application/vnd.jupyter.widget-view+json": {
       "model_id": "967a12c1fc4f4c9292819e770486b82e",
       "version_major": 2,
       "version_minor": 0
      },
      "text/plain": [
       "Textarea(value='')"
      ]
     },
     "metadata": {},
     "output_type": "display_data"
    }
   ],
   "source": [
    "# Ref: https://qiita.com/noca/items/00646efd9d4a7302f522\n",
    "from ipywidgets import Textarea\n",
    "import io\n",
    "if 'open' in globals():\n",
    "    del open\n",
    "if 'input' in globals():\n",
    "    del input\n",
    "original_open = open\n",
    "class custom_open():\n",
    "    def __init__(self):\n",
    "        self.text = ''\n",
    "    def __call__(self, file, *args, **kwargs):\n",
    "        if file == 0:\n",
    "            return io.StringIO(self.text)\n",
    "        return original_open(file, *args, **kwargs)\n",
    "    def updater(self, change):\n",
    "        self.text = change[\"new\"]\n",
    "class custom_input():\n",
    "    def __init__(self):\n",
    "        self.__sio = io.StringIO('')\n",
    "        self.shell = get_ipython()\n",
    "        if self.shell.events.callbacks['pre_run_cell'] != []:\n",
    "            self.shell.events.callbacks['pre_run_cell'] = []\n",
    "        self.shell.events.register('pre_run_cell', self.pre_run_cell)\n",
    "    def __call__(self):\n",
    "        return self.__sio.readline().strip()\n",
    "    def pre_run_cell(self, info):\n",
    "        text = self.shell.user_ns.get('text_area', None).value\n",
    "        self.__sio = io.StringIO(text)\n",
    "open = custom_open()\n",
    "input = custom_input()\n",
    "text_area = Textarea()\n",
    "text_area.observe(open.updater, names='value')\n",
    "display(text_area)"
   ]
  },
  {
   "cell_type": "code",
   "execution_count": 36,
   "id": "0c28abb8-9834-462d-8e16-7709c36506be",
   "metadata": {},
   "outputs": [
    {
     "name": "stdout",
     "output_type": "stream",
     "text": [
      "1\n"
     ]
    }
   ],
   "source": [
    "import sys\n",
    "from itertools import product\n",
    "h1, h2, h3, w1, w2, w3 = map(int, input().split())\n",
    "\n",
    "li1 = []\n",
    "for a, b, c in list(product(range(1, 29), repeat=3)):\n",
    "    if a + b + c == h1:\n",
    "        li1.append((a, b, c))\n",
    "        \n",
    "if len(li1) == 0:\n",
    "    print(0)\n",
    "    sys.exit(0)\n",
    "    \n",
    "li2 = []\n",
    "for a, b, c in list(product(range(1, 29), repeat=3)):\n",
    "    if a + b + c == h2:\n",
    "        li2.append((a, b, c))\n",
    "        \n",
    "if len(li2) == 0:\n",
    "    print(0)\n",
    "    sys.exit(0)\n",
    "    \n",
    "li3 = []\n",
    "for a, b, c in list(product(range(1, 29), repeat=3)):\n",
    "    if a + b + c == h3:\n",
    "        li3.append((a, b, c))\n",
    "        \n",
    "if len(li3) == 0:\n",
    "    print(0)\n",
    "    sys.exit(0)\n",
    "\n",
    "cnt = 0\n",
    "for a1, b1, c1 in li1:\n",
    "    for a2, b2, c2 in li2:\n",
    "        for a3, b3, c3 in li3:\n",
    "            if a1 + a2 + a3 == w1 and b1 + b2 + b3 == w2 and c1 + c2 + c3 == w3:\n",
    "                cnt += 1\n",
    "print(cnt)"
   ]
  },
  {
   "cell_type": "code",
   "execution_count": 37,
   "id": "8dfb3ca5-9bc9-4d99-b691-ad7616487b46",
   "metadata": {},
   "outputs": [
    {
     "data": {
      "text/plain": [
       "[(1, 1, 1)]"
      ]
     },
     "execution_count": 37,
     "metadata": {},
     "output_type": "execute_result"
    }
   ],
   "source": [
    "li1"
   ]
  },
  {
   "cell_type": "code",
   "execution_count": 33,
   "id": "47c7a3a8-14e6-409c-a8aa-673ef78f0f2e",
   "metadata": {},
   "outputs": [
    {
     "data": {
      "text/plain": [
       "[(1, 1, 2), (1, 2, 1), (2, 1, 1)]"
      ]
     },
     "execution_count": 33,
     "metadata": {},
     "output_type": "execute_result"
    }
   ],
   "source": [
    "li2"
   ]
  },
  {
   "cell_type": "code",
   "execution_count": 34,
   "id": "436d78b1-5f84-497e-8a23-630bcad4e2f2",
   "metadata": {},
   "outputs": [
    {
     "data": {
      "text/plain": [
       "[(1, 1, 4),\n",
       " (1, 2, 3),\n",
       " (1, 3, 2),\n",
       " (1, 4, 1),\n",
       " (2, 1, 3),\n",
       " (2, 2, 2),\n",
       " (2, 3, 1),\n",
       " (3, 1, 2),\n",
       " (3, 2, 1),\n",
       " (4, 1, 1)]"
      ]
     },
     "execution_count": 34,
     "metadata": {},
     "output_type": "execute_result"
    }
   ],
   "source": [
    "li3"
   ]
  },
  {
   "cell_type": "code",
   "execution_count": null,
   "id": "cb689e4f-35e1-4d3a-b3c6-88c73e208855",
   "metadata": {},
   "outputs": [],
   "source": []
  }
 ],
 "metadata": {
  "kernelspec": {
   "display_name": "Python 3 (ipykernel)",
   "language": "python",
   "name": "python3"
  },
  "language_info": {
   "codemirror_mode": {
    "name": "ipython",
    "version": 3
   },
   "file_extension": ".py",
   "mimetype": "text/x-python",
   "name": "python",
   "nbconvert_exporter": "python",
   "pygments_lexer": "ipython3",
   "version": "3.9.12"
  }
 },
 "nbformat": 4,
 "nbformat_minor": 5
}
