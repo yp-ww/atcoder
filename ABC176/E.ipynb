{
 "cells": [
  {
   "cell_type": "code",
   "execution_count": 10,
   "id": "976bd3e5-f43b-439e-9289-2c55cf249a23",
   "metadata": {},
   "outputs": [
    {
     "data": {
      "application/vnd.jupyter.widget-view+json": {
       "model_id": "a2646e9b74a549d88608c261a7cf48d7",
       "version_major": 2,
       "version_minor": 0
      },
      "text/plain": [
       "Textarea(value='')"
      ]
     },
     "metadata": {},
     "output_type": "display_data"
    }
   ],
   "source": [
    "# Ref: https://qiita.com/noca/items/00646efd9d4a7302f522\n",
    "from ipywidgets import Textarea\n",
    "import io\n",
    "if 'open' in globals():\n",
    "    del open\n",
    "if 'input' in globals():\n",
    "    del input\n",
    "original_open = open\n",
    "class custom_open():\n",
    "    def __init__(self):\n",
    "        self.text = ''\n",
    "    def __call__(self, file, *args, **kwargs):\n",
    "        if file == 0:\n",
    "            return io.StringIO(self.text)\n",
    "        return original_open(file, *args, **kwargs)\n",
    "    def updater(self, change):\n",
    "        self.text = change[\"new\"]\n",
    "class custom_input():\n",
    "    def __init__(self):\n",
    "        self.__sio = io.StringIO('')\n",
    "        self.shell = get_ipython()\n",
    "        if self.shell.events.callbacks['pre_run_cell'] != []:\n",
    "            self.shell.events.callbacks['pre_run_cell'] = []\n",
    "        self.shell.events.register('pre_run_cell', self.pre_run_cell)\n",
    "    def __call__(self):\n",
    "        return self.__sio.readline().strip()\n",
    "    def pre_run_cell(self, info):\n",
    "        text = self.shell.user_ns.get('text_area', None).value\n",
    "        self.__sio = io.StringIO(text)\n",
    "open = custom_open()\n",
    "input = custom_input()\n",
    "text_area = Textarea()\n",
    "text_area.observe(open.updater, names='value')\n",
    "display(text_area)"
   ]
  },
  {
   "cell_type": "code",
   "execution_count": 29,
   "id": "6f1db8df-8ad7-4a4a-9214-0cc5567e9da2",
   "metadata": {},
   "outputs": [
    {
     "name": "stdout",
     "output_type": "stream",
     "text": [
      "6\n"
     ]
    }
   ],
   "source": [
    "H, W, M = map(int, input().split())\n",
    "\n",
    "\n",
    "s = [0] * H\n",
    "t = [0] * W\n",
    "arr = set()\n",
    "for _ in range(M):\n",
    "    h, w = map(int, input().split())\n",
    "    h -= 1\n",
    "    w -= 1\n",
    "    arr.add((h, w))  \n",
    "    s[h] += 1\n",
    "    t[w] += 1\n",
    "    \n",
    "S = []\n",
    "for i in range(H):\n",
    "    S.append((s[i], i))\n",
    "    \n",
    "T = []\n",
    "for i in range(W):\n",
    "    T.append((t[i], i))\n",
    "    \n",
    "S.sort(reverse = True)\n",
    "T.sort(reverse = True)\n",
    "\n",
    "max_h = S[0][0]\n",
    "max_w = T[0][0]\n",
    "\n",
    "ans = max_h + max_w\n",
    "flag = False\n",
    "for i in range(H):\n",
    "    temp_h, idx_h = S[i]\n",
    "    if temp_h != max_h:\n",
    "        break\n",
    "    for j in range(W):\n",
    "        temp_w, idx_w = T[j]\n",
    "        if temp_w != max_w:\n",
    "            break\n",
    "        if (idx_h, idx_w) in arr:\n",
    "            continue\n",
    "        else:\n",
    "            flag = True\n",
    "            break\n",
    "    if flag:\n",
    "        break\n",
    "\n",
    "if flag:    \n",
    "    print(ans)\n",
    "else:\n",
    "    print(ans-1)"
   ]
  },
  {
   "cell_type": "code",
   "execution_count": 23,
   "id": "f7eaa413-a3b7-48c3-87d3-bd82d5c2cb48",
   "metadata": {},
   "outputs": [
    {
     "data": {
      "text/plain": [
       "[(4, 4), (3, 1), (1, 3), (1, 2), (1, 0)]"
      ]
     },
     "execution_count": 23,
     "metadata": {},
     "output_type": "execute_result"
    }
   ],
   "source": [
    "S"
   ]
  },
  {
   "cell_type": "code",
   "execution_count": 24,
   "id": "07f75746-10f6-4be6-8928-57e27d45ada8",
   "metadata": {},
   "outputs": [
    {
     "data": {
      "text/plain": [
       "[(3, 4), (3, 2), (2, 3), (1, 1), (1, 0)]"
      ]
     },
     "execution_count": 24,
     "metadata": {},
     "output_type": "execute_result"
    }
   ],
   "source": [
    "T"
   ]
  },
  {
   "cell_type": "code",
   "execution_count": null,
   "id": "60471972-8c96-4d9b-afe1-bb7dddc9a521",
   "metadata": {},
   "outputs": [],
   "source": []
  }
 ],
 "metadata": {
  "kernelspec": {
   "display_name": "Python 3 (ipykernel)",
   "language": "python",
   "name": "python3"
  },
  "language_info": {
   "codemirror_mode": {
    "name": "ipython",
    "version": 3
   },
   "file_extension": ".py",
   "mimetype": "text/x-python",
   "name": "python",
   "nbconvert_exporter": "python",
   "pygments_lexer": "ipython3",
   "version": "3.9.12"
  }
 },
 "nbformat": 4,
 "nbformat_minor": 5
}
