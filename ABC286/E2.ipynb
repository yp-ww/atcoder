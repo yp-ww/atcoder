{
 "cells": [
  {
   "cell_type": "code",
   "execution_count": 1,
   "id": "19860251-f54e-4e6c-9e1d-2e165a08693b",
   "metadata": {},
   "outputs": [
    {
     "data": {
      "application/vnd.jupyter.widget-view+json": {
       "model_id": "c1c763b5f8b34b14bf0c029c40549342",
       "version_major": 2,
       "version_minor": 0
      },
      "text/plain": [
       "Textarea(value='')"
      ]
     },
     "metadata": {},
     "output_type": "display_data"
    }
   ],
   "source": [
    "# Ref: https://qiita.com/noca/items/00646efd9d4a7302f522\n",
    "from ipywidgets import Textarea\n",
    "import io\n",
    "if 'open' in globals():\n",
    "    del open\n",
    "if 'input' in globals():\n",
    "    del input\n",
    "original_open = open\n",
    "class custom_open():\n",
    "    def __init__(self):\n",
    "        self.text = ''\n",
    "    def __call__(self, file, *args, **kwargs):\n",
    "        if file == 0:\n",
    "            return io.StringIO(self.text)\n",
    "        return original_open(file, *args, **kwargs)\n",
    "    def updater(self, change):\n",
    "        self.text = change[\"new\"]\n",
    "class custom_input():\n",
    "    def __init__(self):\n",
    "        self.__sio = io.StringIO('')\n",
    "        self.shell = get_ipython()\n",
    "        if self.shell.events.callbacks['pre_run_cell'] != []:\n",
    "            self.shell.events.callbacks['pre_run_cell'] = []\n",
    "        self.shell.events.register('pre_run_cell', self.pre_run_cell)\n",
    "    def __call__(self):\n",
    "        return self.__sio.readline().strip()\n",
    "    def pre_run_cell(self, info):\n",
    "        text = self.shell.user_ns.get('text_area', None).value\n",
    "        self.__sio = io.StringIO(text)\n",
    "open = custom_open()\n",
    "input = custom_input()\n",
    "text_area = Textarea()\n",
    "text_area.observe(open.updater, names='value')\n",
    "display(text_area)"
   ]
  },
  {
   "cell_type": "code",
   "execution_count": 30,
   "id": "80becd0f-0582-43c0-b59a-601d66340ad3",
   "metadata": {},
   "outputs": [
    {
     "name": "stdout",
     "output_type": "stream",
     "text": [
      "1 100\n",
      "2 160\n",
      "3 180\n"
     ]
    }
   ],
   "source": [
    "N = int(input())\n",
    "A = list(map(int, input().split()))\n",
    "S = [input() for _ in range(N)]\n",
    "\n",
    "INF = 10 ** 20\n",
    "dv = [[[INF, 0] for _ in range(N)] for _ in range(N)]\n",
    "\n",
    "for i in range(N):\n",
    "    for j in range(N):\n",
    "        if i == j:\n",
    "            dv[i][j][0] = 0\n",
    "        if S[i][j] == \"Y\":\n",
    "            dv[i][j][0] = 1\n",
    "            dv[i][j][1] = A[i] + A[j]\n",
    "\n",
    "for k in range(N):\n",
    "    for i in range(N):\n",
    "        for j in range(N):\n",
    "            temp = dv[i][k][0] + dv[k][j][0]\n",
    "            if temp == dv[i][j][0]:\n",
    "                dv[i][j][1] = max(dv[i][j][1], dv[i][k][1] + dv[k][j][1] - A[k])\n",
    "                \n",
    "            elif temp < dv[i][j][0]:\n",
    "                dv[i][j][0] = temp\n",
    "                dv[i][j][1] = dv[i][k][1] + dv[k][j][1] - A[k]\n",
    "\n",
    "Q = int(input())\n",
    "for _ in range(Q):\n",
    "    s, t = map(int, input().split())\n",
    "    s -= 1\n",
    "    t -= 1\n",
    "    d = dv[s][t][0]\n",
    "    v = dv[s][t][1]\n",
    "    if d == INF:\n",
    "        print(\"Impossible\")\n",
    "    else:\n",
    "        print(d, v)"
   ]
  },
  {
   "cell_type": "code",
   "execution_count": 29,
   "id": "b0422117-91b0-4a20-9ec2-7ee2b48d7c31",
   "metadata": {},
   "outputs": [
    {
     "data": {
      "text/plain": [
       "[[[0, 0], [1, 80], [1, 100], [2, 120], [2, 160]],\n",
       " [[3, 210], [0, 0], [1, 120], [2, 140], [2, 180]],\n",
       " [[2, 160], [3, 210], [0, 0], [1, 90], [1, 130]],\n",
       " [[1, 50], [2, 100], [2, 120], [0, 0], [3, 180]],\n",
       " [[1, 90], [2, 140], [2, 160], [3, 180], [0, 0]]]"
      ]
     },
     "execution_count": 29,
     "metadata": {},
     "output_type": "execute_result"
    }
   ],
   "source": [
    "dv"
   ]
  },
  {
   "cell_type": "code",
   "execution_count": null,
   "id": "0aa55515-f598-4cda-aded-4b3984a764cc",
   "metadata": {},
   "outputs": [],
   "source": []
  }
 ],
 "metadata": {
  "kernelspec": {
   "display_name": "Python 3 (ipykernel)",
   "language": "python",
   "name": "python3"
  },
  "language_info": {
   "codemirror_mode": {
    "name": "ipython",
    "version": 3
   },
   "file_extension": ".py",
   "mimetype": "text/x-python",
   "name": "python",
   "nbconvert_exporter": "python",
   "pygments_lexer": "ipython3",
   "version": "3.9.12"
  }
 },
 "nbformat": 4,
 "nbformat_minor": 5
}
