{
 "cells": [
  {
   "cell_type": "code",
   "execution_count": 1,
   "id": "f23d5671-00d5-4022-ad43-637aaaa352e9",
   "metadata": {},
   "outputs": [
    {
     "data": {
      "application/vnd.jupyter.widget-view+json": {
       "model_id": "dff83bc354394be0b331fabc7805e7df",
       "version_major": 2,
       "version_minor": 0
      },
      "text/plain": [
       "Textarea(value='')"
      ]
     },
     "metadata": {},
     "output_type": "display_data"
    }
   ],
   "source": [
    "# Ref: https://qiita.com/noca/items/00646efd9d4a7302f522\n",
    "from ipywidgets import Textarea\n",
    "import io\n",
    "if 'open' in globals():\n",
    "    del open\n",
    "if 'input' in globals():\n",
    "    del input\n",
    "original_open = open\n",
    "class custom_open():\n",
    "    def __init__(self):\n",
    "        self.text = ''\n",
    "    def __call__(self, file, *args, **kwargs):\n",
    "        if file == 0:\n",
    "            return io.StringIO(self.text)\n",
    "        return original_open(file, *args, **kwargs)\n",
    "    def updater(self, change):\n",
    "        self.text = change[\"new\"]\n",
    "class custom_input():\n",
    "    def __init__(self):\n",
    "        self.__sio = io.StringIO('')\n",
    "        self.shell = get_ipython()\n",
    "        if self.shell.events.callbacks['pre_run_cell'] != []:\n",
    "            self.shell.events.callbacks['pre_run_cell'] = []\n",
    "        self.shell.events.register('pre_run_cell', self.pre_run_cell)\n",
    "    def __call__(self):\n",
    "        return self.__sio.readline().strip()\n",
    "    def pre_run_cell(self, info):\n",
    "        text = self.shell.user_ns.get('text_area', None).value\n",
    "        self.__sio = io.StringIO(text)\n",
    "open = custom_open()\n",
    "input = custom_input()\n",
    "text_area = Textarea()\n",
    "text_area.observe(open.updater, names='value')\n",
    "display(text_area)"
   ]
  },
  {
   "cell_type": "code",
   "execution_count": 13,
   "id": "875c0f58-d977-4bd1-97f4-14c74e53202a",
   "metadata": {},
   "outputs": [
    {
     "name": "stdout",
     "output_type": "stream",
     "text": [
      "812376310\n"
     ]
    }
   ],
   "source": [
    "from functools import lru_cache\n",
    "import sys\n",
    "sys.setrecursionlimit(10 ** 8)\n",
    "N = int(input())\n",
    "MOD =  998244353\n",
    "p = pow(5, MOD-2, MOD)\n",
    "\n",
    "@lru_cache(maxsize=10**6)\n",
    "def f(x):\n",
    "    if x == 1:\n",
    "        return 1\n",
    "    res = 0\n",
    "    if x % 6 == 0:\n",
    "        res += f(x//6) * p\n",
    "        res %= MOD\n",
    "    if x % 5 == 0:\n",
    "        res += f(x//5) * p\n",
    "        res %= MOD\n",
    "    if x % 4 == 0:\n",
    "        res += f(x//4) * p\n",
    "        res %= MOD\n",
    "    if x % 3 == 0:\n",
    "        res += f(x//3) * p\n",
    "        res %= MOD\n",
    "    if x % 2 == 0:\n",
    "        res += f(x//2) * p\n",
    "        res %= MOD\n",
    "    return res\n",
    "print(f(N))"
   ]
  },
  {
   "cell_type": "code",
   "execution_count": null,
   "id": "51ec2bb9-25fc-47d8-8370-eb3e613dc72f",
   "metadata": {},
   "outputs": [],
   "source": []
  },
  {
   "cell_type": "code",
   "execution_count": null,
   "id": "bb0fdfad-6eb9-4a51-9f06-5ef1dfb1b448",
   "metadata": {},
   "outputs": [],
   "source": []
  }
 ],
 "metadata": {
  "kernelspec": {
   "display_name": "Python 3 (ipykernel)",
   "language": "python",
   "name": "python3"
  },
  "language_info": {
   "codemirror_mode": {
    "name": "ipython",
    "version": 3
   },
   "file_extension": ".py",
   "mimetype": "text/x-python",
   "name": "python",
   "nbconvert_exporter": "python",
   "pygments_lexer": "ipython3",
   "version": "3.9.12"
  }
 },
 "nbformat": 4,
 "nbformat_minor": 5
}
