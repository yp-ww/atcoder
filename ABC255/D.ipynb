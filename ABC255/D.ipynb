{
 "cells": [
  {
   "cell_type": "code",
   "execution_count": 1,
   "id": "24f21739-01d5-436b-9771-ee25ae3e6412",
   "metadata": {},
   "outputs": [
    {
     "data": {
      "application/vnd.jupyter.widget-view+json": {
       "model_id": "b82dddd1846048058c7ddbccf6f6ff09",
       "version_major": 2,
       "version_minor": 0
      },
      "text/plain": [
       "Textarea(value='')"
      ]
     },
     "metadata": {},
     "output_type": "display_data"
    }
   ],
   "source": [
    "# Ref: https://qiita.com/noca/items/00646efd9d4a7302f522\n",
    "from ipywidgets import Textarea\n",
    "import io\n",
    "if 'open' in globals():\n",
    "    del open\n",
    "if 'input' in globals():\n",
    "    del input\n",
    "original_open = open\n",
    "class custom_open():\n",
    "    def __init__(self):\n",
    "        self.text = ''\n",
    "    def __call__(self, file, *args, **kwargs):\n",
    "        if file == 0:\n",
    "            return io.StringIO(self.text)\n",
    "        return original_open(file, *args, **kwargs)\n",
    "    def updater(self, change):\n",
    "        self.text = change[\"new\"]\n",
    "class custom_input():\n",
    "    def __init__(self):\n",
    "        self.__sio = io.StringIO('')\n",
    "        self.shell = get_ipython()\n",
    "        if self.shell.events.callbacks['pre_run_cell'] != []:\n",
    "            self.shell.events.callbacks['pre_run_cell'] = []\n",
    "        self.shell.events.register('pre_run_cell', self.pre_run_cell)\n",
    "    def __call__(self):\n",
    "        return self.__sio.readline().strip()\n",
    "    def pre_run_cell(self, info):\n",
    "        text = self.shell.user_ns.get('text_area', None).value\n",
    "        self.__sio = io.StringIO(text)\n",
    "open = custom_open()\n",
    "input = custom_input()\n",
    "text_area = Textarea()\n",
    "text_area.observe(open.updater, names='value')\n",
    "display(text_area)"
   ]
  },
  {
   "cell_type": "code",
   "execution_count": 96,
   "id": "ef5ae45e-2236-4331-843f-18ba6001b518",
   "metadata": {},
   "outputs": [
    {
     "name": "stdout",
     "output_type": "stream",
     "text": [
      "10\n",
      "71\n",
      "29\n"
     ]
    }
   ],
   "source": [
    "import bisect\n",
    "N, Q = map(int, input().split())\n",
    "A = list(map(int, input().split()))\n",
    "\n",
    "A.sort()\n",
    "_sum = [0] * (N+1)\n",
    "for i in range(1, N+1):\n",
    "    _sum[i] = _sum[i-1] + A[i-1]\n",
    "\n",
    "for _ in range(Q):\n",
    "    X = int(input())\n",
    "    l_idx = bisect.bisect_left(A, X)\n",
    "    left = _sum[l_idx] - _sum[0]\n",
    "    \n",
    "    r_idx = bisect.bisect_right(A, X)\n",
    "    right = _sum[N] - _sum[r_idx]\n",
    "    \n",
    "    l_dif = l_idx * X - left\n",
    "    r_dif = right - (N-r_idx) * X\n",
    "    # print(l_dif, r_dif)\n",
    "    \n",
    "    ans = l_dif + r_dif\n",
    "    print(ans)"
   ]
  },
  {
   "cell_type": "code",
   "execution_count": 94,
   "id": "ef911c42-02ad-4420-9651-b327cbdab00f",
   "metadata": {},
   "outputs": [
    {
     "data": {
      "text/plain": [
       "[2, 5, 5, 6, 11]"
      ]
     },
     "execution_count": 94,
     "metadata": {},
     "output_type": "execute_result"
    }
   ],
   "source": [
    "A"
   ]
  },
  {
   "cell_type": "code",
   "execution_count": 89,
   "id": "9559aa40-fdf1-4044-9d16-4c6d56892b69",
   "metadata": {},
   "outputs": [
    {
     "data": {
      "text/plain": [
       "[0, 2, 7, 12, 18, 29]"
      ]
     },
     "execution_count": 89,
     "metadata": {},
     "output_type": "execute_result"
    }
   ],
   "source": [
    "_sum"
   ]
  },
  {
   "cell_type": "code",
   "execution_count": 90,
   "id": "04b40691-ca28-4633-9c32-ddb96dae1677",
   "metadata": {},
   "outputs": [
    {
     "data": {
      "text/plain": [
       "1"
      ]
     },
     "execution_count": 90,
     "metadata": {},
     "output_type": "execute_result"
    }
   ],
   "source": [
    "bisect.bisect_left(A, 5)"
   ]
  },
  {
   "cell_type": "code",
   "execution_count": 84,
   "id": "37be3200-9386-4bb2-878d-d2e1c51d7392",
   "metadata": {},
   "outputs": [
    {
     "data": {
      "text/plain": [
       "3"
      ]
     },
     "execution_count": 84,
     "metadata": {},
     "output_type": "execute_result"
    }
   ],
   "source": [
    "bisect.bisect_right(A, 5)"
   ]
  },
  {
   "cell_type": "code",
   "execution_count": null,
   "id": "8f8122f4-ed06-4c17-99d8-5394973a48cb",
   "metadata": {},
   "outputs": [],
   "source": []
  }
 ],
 "metadata": {
  "kernelspec": {
   "display_name": "Python 3 (ipykernel)",
   "language": "python",
   "name": "python3"
  },
  "language_info": {
   "codemirror_mode": {
    "name": "ipython",
    "version": 3
   },
   "file_extension": ".py",
   "mimetype": "text/x-python",
   "name": "python",
   "nbconvert_exporter": "python",
   "pygments_lexer": "ipython3",
   "version": "3.9.12"
  }
 },
 "nbformat": 4,
 "nbformat_minor": 5
}
