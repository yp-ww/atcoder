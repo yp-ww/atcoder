{
 "cells": [
  {
   "cell_type": "code",
   "execution_count": 1,
   "id": "2c74e365-22ee-4ce5-89bb-444da5791d34",
   "metadata": {},
   "outputs": [
    {
     "data": {
      "application/vnd.jupyter.widget-view+json": {
       "model_id": "35f02ed1cbaf4ef7b38b98dd8f330a62",
       "version_major": 2,
       "version_minor": 0
      },
      "text/plain": [
       "Textarea(value='')"
      ]
     },
     "metadata": {},
     "output_type": "display_data"
    }
   ],
   "source": [
    "# Ref: https://qiita.com/noca/items/00646efd9d4a7302f522\n",
    "from ipywidgets import Textarea\n",
    "import io\n",
    "if 'open' in globals():\n",
    "    del open\n",
    "if 'input' in globals():\n",
    "    del input\n",
    "original_open = open\n",
    "class custom_open():\n",
    "    def __init__(self):\n",
    "        self.text = ''\n",
    "    def __call__(self, file, *args, **kwargs):\n",
    "        if file == 0:\n",
    "            return io.StringIO(self.text)\n",
    "        return original_open(file, *args, **kwargs)\n",
    "    def updater(self, change):\n",
    "        self.text = change[\"new\"]\n",
    "class custom_input():\n",
    "    def __init__(self):\n",
    "        self.__sio = io.StringIO('')\n",
    "        self.shell = get_ipython()\n",
    "        if self.shell.events.callbacks['pre_run_cell'] != []:\n",
    "            self.shell.events.callbacks['pre_run_cell'] = []\n",
    "        self.shell.events.register('pre_run_cell', self.pre_run_cell)\n",
    "    def __call__(self):\n",
    "        return self.__sio.readline().strip()\n",
    "    def pre_run_cell(self, info):\n",
    "        text = self.shell.user_ns.get('text_area', None).value\n",
    "        self.__sio = io.StringIO(text)\n",
    "open = custom_open()\n",
    "input = custom_input()\n",
    "text_area = Textarea()\n",
    "text_area.observe(open.updater, names='value')\n",
    "display(text_area)"
   ]
  },
  {
   "cell_type": "code",
   "execution_count": 41,
   "id": "d5956882-1489-45d1-9da1-001393a8e1f8",
   "metadata": {},
   "outputs": [
    {
     "name": "stdout",
     "output_type": "stream",
     "text": [
      "998244363\n"
     ]
    }
   ],
   "source": [
    "import sys\n",
    "X, A, D, N = map(int, input().split())\n",
    "\n",
    "if D < 0:\n",
    "    a2 = A + (N-1) * D\n",
    "    A = a2\n",
    "    D = -1 * D\n",
    "    \n",
    "def f(x):\n",
    "    return A + (x-1) * D\n",
    "\n",
    "if D == 0:\n",
    "    print(abs(A-X))\n",
    "    sys.exit(0)\n",
    "    \n",
    "if D >= 0: \n",
    "    l = 1\n",
    "    r = N\n",
    "\n",
    "    while r - l > 1:\n",
    "        mid = (l + r) // 2\n",
    "        if f(mid) < X:\n",
    "            l = mid\n",
    "        else:\n",
    "            r = mid\n",
    "\n",
    "ans = 10 ** 20\n",
    "for x in range(max(1, l-5), min(N+1, r+5)):\n",
    "    y = f(x)\n",
    "    if y * X > 0:\n",
    "        ans = min(ans, abs(y-X))\n",
    "    else:\n",
    "        ans = min(ans, abs(y)+abs(X))\n",
    "\n",
    "print(ans)"
   ]
  },
  {
   "cell_type": "code",
   "execution_count": 38,
   "id": "bf0724d1-4e45-4d8b-a14b-0e6dbf146a28",
   "metadata": {},
   "outputs": [
    {
     "data": {
      "text/plain": [
       "-10"
      ]
     },
     "execution_count": 38,
     "metadata": {},
     "output_type": "execute_result"
    }
   ],
   "source": [
    "f(30)"
   ]
  },
  {
   "cell_type": "code",
   "execution_count": null,
   "id": "b5d8b104-ae5e-4412-be34-fab51eb87fbe",
   "metadata": {},
   "outputs": [],
   "source": []
  }
 ],
 "metadata": {
  "kernelspec": {
   "display_name": "Python 3 (ipykernel)",
   "language": "python",
   "name": "python3"
  },
  "language_info": {
   "codemirror_mode": {
    "name": "ipython",
    "version": 3
   },
   "file_extension": ".py",
   "mimetype": "text/x-python",
   "name": "python",
   "nbconvert_exporter": "python",
   "pygments_lexer": "ipython3",
   "version": "3.9.12"
  }
 },
 "nbformat": 4,
 "nbformat_minor": 5
}
