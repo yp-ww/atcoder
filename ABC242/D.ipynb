{
 "cells": [
  {
   "cell_type": "code",
   "execution_count": 1,
   "id": "b96a9c95-4f45-4625-9639-17ad6812a214",
   "metadata": {},
   "outputs": [
    {
     "data": {
      "application/vnd.jupyter.widget-view+json": {
       "model_id": "81bc2e8461444338a99b63666c143f7d",
       "version_major": 2,
       "version_minor": 0
      },
      "text/plain": [
       "Textarea(value='')"
      ]
     },
     "metadata": {},
     "output_type": "display_data"
    }
   ],
   "source": [
    "# Ref: https://qiita.com/noca/items/00646efd9d4a7302f522\n",
    "from ipywidgets import Textarea\n",
    "import io\n",
    "if 'open' in globals():\n",
    "    del open\n",
    "if 'input' in globals():\n",
    "    del input\n",
    "original_open = open\n",
    "class custom_open():\n",
    "    def __init__(self):\n",
    "        self.text = ''\n",
    "    def __call__(self, file, *args, **kwargs):\n",
    "        if file == 0:\n",
    "            return io.StringIO(self.text)\n",
    "        return original_open(file, *args, **kwargs)\n",
    "    def updater(self, change):\n",
    "        self.text = change[\"new\"]\n",
    "class custom_input():\n",
    "    def __init__(self):\n",
    "        self.__sio = io.StringIO('')\n",
    "        self.shell = get_ipython()\n",
    "        if self.shell.events.callbacks['pre_run_cell'] != []:\n",
    "            self.shell.events.callbacks['pre_run_cell'] = []\n",
    "        self.shell.events.register('pre_run_cell', self.pre_run_cell)\n",
    "    def __call__(self):\n",
    "        return self.__sio.readline().strip()\n",
    "    def pre_run_cell(self, info):\n",
    "        text = self.shell.user_ns.get('text_area', None).value\n",
    "        self.__sio = io.StringIO(text)\n",
    "open = custom_open()\n",
    "input = custom_input()\n",
    "text_area = Textarea()\n",
    "text_area.observe(open.updater, names='value')\n",
    "display(text_area)"
   ]
  },
  {
   "cell_type": "code",
   "execution_count": 70,
   "id": "f47df4f2-0b2a-4fdd-915c-e060418b8664",
   "metadata": {},
   "outputs": [
    {
     "name": "stdout",
     "output_type": "stream",
     "text": [
      "A\n",
      "A\n",
      "C\n",
      "A\n",
      "A\n"
     ]
    }
   ],
   "source": [
    "import sys\n",
    "sys.setrecursionlimit(10 ** 6)\n",
    "S = input()\n",
    "Q = int(input())\n",
    "N = len(S)\n",
    "\n",
    "for _ in range(Q):\n",
    "    t, k = map(int, input().split())\n",
    "    \n",
    "    k -= 1\n",
    "\n",
    "    def f(t, k):\n",
    "        if t == 0:\n",
    "            return S[k]\n",
    "\n",
    "        if k == 0:\n",
    "            par = ord(S[0])\n",
    "            temp = par + t\n",
    "            s = ord(\"A\") + (temp - ord(\"A\")) % 3\n",
    "            return chr(s)\n",
    "\n",
    "        par = ord(f(t-1, k//2))\n",
    "        temp = par + 1 + k % 2\n",
    "        s = ord(\"A\") + (temp - ord(\"A\")) % 3\n",
    "\n",
    "        return chr(s)\n",
    "\n",
    "    print(f(t, k))\n"
   ]
  },
  {
   "cell_type": "code",
   "execution_count": 62,
   "id": "9fb44079-d334-4a46-83b7-683aefdd0dae",
   "metadata": {},
   "outputs": [
    {
     "data": {
      "text/plain": [
       "65"
      ]
     },
     "execution_count": 62,
     "metadata": {},
     "output_type": "execute_result"
    }
   ],
   "source": [
    "ord(\"A\")"
   ]
  },
  {
   "cell_type": "code",
   "execution_count": 63,
   "id": "bfc9538d-b9dd-4203-a932-ec4b4346749c",
   "metadata": {},
   "outputs": [
    {
     "data": {
      "text/plain": [
       "67"
      ]
     },
     "execution_count": 63,
     "metadata": {},
     "output_type": "execute_result"
    }
   ],
   "source": [
    "ord(\"C\")"
   ]
  },
  {
   "cell_type": "code",
   "execution_count": 64,
   "id": "271198bd-3a6f-4168-93e7-1c48f444b03d",
   "metadata": {},
   "outputs": [],
   "source": [
    "x = 6\n",
    "s = ord(\"A\") + x % 3"
   ]
  },
  {
   "cell_type": "code",
   "execution_count": 65,
   "id": "525ff015-2244-4f97-8d8a-163c191d86e2",
   "metadata": {},
   "outputs": [
    {
     "data": {
      "text/plain": [
       "'A'"
      ]
     },
     "execution_count": 65,
     "metadata": {},
     "output_type": "execute_result"
    }
   ],
   "source": [
    "chr(s)"
   ]
  },
  {
   "cell_type": "code",
   "execution_count": null,
   "id": "44efdc81-8912-40af-84d2-7326752f840b",
   "metadata": {},
   "outputs": [],
   "source": []
  }
 ],
 "metadata": {
  "kernelspec": {
   "display_name": "Python 3 (ipykernel)",
   "language": "python",
   "name": "python3"
  },
  "language_info": {
   "codemirror_mode": {
    "name": "ipython",
    "version": 3
   },
   "file_extension": ".py",
   "mimetype": "text/x-python",
   "name": "python",
   "nbconvert_exporter": "python",
   "pygments_lexer": "ipython3",
   "version": "3.9.12"
  }
 },
 "nbformat": 4,
 "nbformat_minor": 5
}
