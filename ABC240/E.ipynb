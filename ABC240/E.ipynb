{
 "cells": [
  {
   "cell_type": "code",
   "execution_count": 1,
   "id": "60465ea2-e428-439f-9f66-7d473d43acba",
   "metadata": {},
   "outputs": [
    {
     "data": {
      "application/vnd.jupyter.widget-view+json": {
       "model_id": "e9f7263b0de84e8c8bfb269ac25d1dc8",
       "version_major": 2,
       "version_minor": 0
      },
      "text/plain": [
       "Textarea(value='')"
      ]
     },
     "metadata": {},
     "output_type": "display_data"
    }
   ],
   "source": [
    "# Ref: https://qiita.com/noca/items/00646efd9d4a7302f522\n",
    "from ipywidgets import Textarea\n",
    "import io\n",
    "if 'open' in globals():\n",
    "    del open\n",
    "if 'input' in globals():\n",
    "    del input\n",
    "original_open = open\n",
    "class custom_open():\n",
    "    def __init__(self):\n",
    "        self.text = ''\n",
    "    def __call__(self, file, *args, **kwargs):\n",
    "        if file == 0:\n",
    "            return io.StringIO(self.text)\n",
    "        return original_open(file, *args, **kwargs)\n",
    "    def updater(self, change):\n",
    "        self.text = change[\"new\"]\n",
    "class custom_input():\n",
    "    def __init__(self):\n",
    "        self.__sio = io.StringIO('')\n",
    "        self.shell = get_ipython()\n",
    "        if self.shell.events.callbacks['pre_run_cell'] != []:\n",
    "            self.shell.events.callbacks['pre_run_cell'] = []\n",
    "        self.shell.events.register('pre_run_cell', self.pre_run_cell)\n",
    "    def __call__(self):\n",
    "        return self.__sio.readline().strip()\n",
    "    def pre_run_cell(self, info):\n",
    "        text = self.shell.user_ns.get('text_area', None).value\n",
    "        self.__sio = io.StringIO(text)\n",
    "open = custom_open()\n",
    "input = custom_input()\n",
    "text_area = Textarea()\n",
    "text_area.observe(open.updater, names='value')\n",
    "display(text_area)"
   ]
  },
  {
   "cell_type": "code",
   "execution_count": 16,
   "id": "8c4f1abd-a21d-49e2-8413-98adf1e96d4c",
   "metadata": {},
   "outputs": [
    {
     "name": "stdout",
     "output_type": "stream",
     "text": [
      "1 2\n",
      "1 1\n",
      "2 2\n"
     ]
    }
   ],
   "source": [
    "import sys\n",
    "sys.setrecursionlimit(10**6)\n",
    "\n",
    "N = int(input())\n",
    "G = [list() for _ in range(N+1)]\n",
    "\n",
    "for _ in range(N-1):\n",
    "    u, v = map(int, input().split())\n",
    "    G[u].append(v)\n",
    "    G[v].append(u)\n",
    "    \n",
    "visited = [False] * (N+1)\n",
    "cnt = 0\n",
    "\n",
    "ans = [None] * (N+1)\n",
    "\n",
    "def dfs(now):\n",
    "    global cnt\n",
    "    global ans\n",
    "    visited[now] = True\n",
    "    \n",
    "    flag = 0\n",
    "    _max = 0\n",
    "    _min = 10 ** 20\n",
    "    for nex in G[now]:\n",
    "        if visited[nex]:\n",
    "            continue\n",
    "        flag = 1\n",
    "        tmp_max, tmp_min = dfs(nex)\n",
    "        _max = max(_max, tmp_max)\n",
    "        _min = min(_min, tmp_min)\n",
    "    \n",
    "    if flag:\n",
    "        ans[now] = (_min, _max)\n",
    "        return _max, _min\n",
    "    else:\n",
    "        cnt += 1\n",
    "        ans[now] = (cnt, cnt)\n",
    "        return cnt, cnt\n",
    "\n",
    "dfs(1)    \n",
    "\n",
    "for i in range(1, N+1):\n",
    "    print(ans[i][0], ans[i][1])       "
   ]
  },
  {
   "cell_type": "code",
   "execution_count": null,
   "id": "a060c6e6-e6fe-4ed7-b094-734eafbd103e",
   "metadata": {},
   "outputs": [],
   "source": []
  }
 ],
 "metadata": {
  "kernelspec": {
   "display_name": "Python 3 (ipykernel)",
   "language": "python",
   "name": "python3"
  },
  "language_info": {
   "codemirror_mode": {
    "name": "ipython",
    "version": 3
   },
   "file_extension": ".py",
   "mimetype": "text/x-python",
   "name": "python",
   "nbconvert_exporter": "python",
   "pygments_lexer": "ipython3",
   "version": "3.9.12"
  }
 },
 "nbformat": 4,
 "nbformat_minor": 5
}
