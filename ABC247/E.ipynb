{
 "cells": [
  {
   "cell_type": "code",
   "execution_count": 1,
   "id": "8a6ccd33-3b30-4fc4-88b5-dc70c99be5ae",
   "metadata": {},
   "outputs": [
    {
     "data": {
      "application/vnd.jupyter.widget-view+json": {
       "model_id": "14383fa8b2914d228dc7372659a30505",
       "version_major": 2,
       "version_minor": 0
      },
      "text/plain": [
       "Textarea(value='')"
      ]
     },
     "metadata": {},
     "output_type": "display_data"
    }
   ],
   "source": [
    "# Ref: https://qiita.com/noca/items/00646efd9d4a7302f522\n",
    "from ipywidgets import Textarea\n",
    "import io\n",
    "if 'open' in globals():\n",
    "    del open\n",
    "if 'input' in globals():\n",
    "    del input\n",
    "original_open = open\n",
    "class custom_open():\n",
    "    def __init__(self):\n",
    "        self.text = ''\n",
    "    def __call__(self, file, *args, **kwargs):\n",
    "        if file == 0:\n",
    "            return io.StringIO(self.text)\n",
    "        return original_open(file, *args, **kwargs)\n",
    "    def updater(self, change):\n",
    "        self.text = change[\"new\"]\n",
    "class custom_input():\n",
    "    def __init__(self):\n",
    "        self.__sio = io.StringIO('')\n",
    "        self.shell = get_ipython()\n",
    "        if self.shell.events.callbacks['pre_run_cell'] != []:\n",
    "            self.shell.events.callbacks['pre_run_cell'] = []\n",
    "        self.shell.events.register('pre_run_cell', self.pre_run_cell)\n",
    "    def __call__(self):\n",
    "        return self.__sio.readline().strip()\n",
    "    def pre_run_cell(self, info):\n",
    "        text = self.shell.user_ns.get('text_area', None).value\n",
    "        self.__sio = io.StringIO(text)\n",
    "open = custom_open()\n",
    "input = custom_input()\n",
    "text_area = Textarea()\n",
    "text_area.observe(open.updater, names='value')\n",
    "display(text_area)"
   ]
  },
  {
   "cell_type": "code",
   "execution_count": 39,
   "id": "e83d206d-8e6a-4a51-afae-476bc0678340",
   "metadata": {},
   "outputs": [
    {
     "name": "stdout",
     "output_type": "stream",
     "text": [
      "15\n"
     ]
    }
   ],
   "source": [
    "import bisect\n",
    "N, X, Y = map(int, input().split())\n",
    "A = list(map(int, input().split()))\n",
    "\n",
    "ng = [False if Y <= A[i] <= X else True for i in range(N)]\n",
    "ng_list = []\n",
    "y_list = []\n",
    "x_list = []\n",
    "for i in range(N):\n",
    "    if ng[i]:\n",
    "        ng_list.append(i)\n",
    "        continue\n",
    "    if A[i] == Y:\n",
    "        y_list.append(i)\n",
    "    if A[i] == X:\n",
    "        x_list.append(i)\n",
    "        \n",
    "ng_list.append(N)\n",
    "\n",
    "ans = 0\n",
    "for l in range(N):\n",
    "    if ng[l]:\n",
    "        continue\n",
    "    \n",
    "    kabe = bisect.bisect_left(ng_list, l)\n",
    "    kabe = ng_list[kabe]\n",
    "    \n",
    "    yy = bisect.bisect_left(y_list, l) \n",
    "    if yy == len(y_list) or y_list[yy] >= kabe:\n",
    "        continue\n",
    "    \n",
    "    xx = bisect.bisect_left(x_list, l)\n",
    "    if xx == len(x_list) or x_list[xx]>= kabe:\n",
    "        continue\n",
    "    \n",
    "    y = y_list[yy]\n",
    "    x = x_list[xx]\n",
    "    \n",
    "    r_min = max(x, y)\n",
    "    r_max = kabe - 1\n",
    "    ans += r_max - r_min + 1\n",
    "    \n",
    "print(ans)"
   ]
  },
  {
   "cell_type": "code",
   "execution_count": 40,
   "id": "ab8856e6-4c2c-4008-a01c-dafc4f8f9ae2",
   "metadata": {},
   "outputs": [
    {
     "data": {
      "text/plain": [
       "[False, False, False, False, False]"
      ]
     },
     "execution_count": 40,
     "metadata": {},
     "output_type": "execute_result"
    }
   ],
   "source": [
    "ng"
   ]
  },
  {
   "cell_type": "code",
   "execution_count": 41,
   "id": "de480e0d-09b5-4087-980c-8d7ec42302ad",
   "metadata": {},
   "outputs": [
    {
     "data": {
      "text/plain": [
       "[5]"
      ]
     },
     "execution_count": 41,
     "metadata": {},
     "output_type": "execute_result"
    }
   ],
   "source": [
    "ng_list"
   ]
  },
  {
   "cell_type": "code",
   "execution_count": 42,
   "id": "03dd2943-5300-4014-a4ed-fa14e12b3cac",
   "metadata": {},
   "outputs": [
    {
     "data": {
      "text/plain": [
       "[0, 1, 2, 3, 4]"
      ]
     },
     "execution_count": 42,
     "metadata": {},
     "output_type": "execute_result"
    }
   ],
   "source": [
    "y_list"
   ]
  },
  {
   "cell_type": "code",
   "execution_count": 43,
   "id": "b6fb6955-6774-45e9-97cc-95d21d25da7e",
   "metadata": {},
   "outputs": [
    {
     "data": {
      "text/plain": [
       "[0, 1, 2, 3, 4]"
      ]
     },
     "execution_count": 43,
     "metadata": {},
     "output_type": "execute_result"
    }
   ],
   "source": [
    "x_list"
   ]
  },
  {
   "cell_type": "code",
   "execution_count": null,
   "id": "d03c2d09-6347-4406-80ef-b4038f89861b",
   "metadata": {},
   "outputs": [],
   "source": []
  },
  {
   "cell_type": "code",
   "execution_count": null,
   "id": "ff045adf-5dc7-42c3-a8ec-60bd3b4ba427",
   "metadata": {},
   "outputs": [],
   "source": []
  }
 ],
 "metadata": {
  "kernelspec": {
   "display_name": "Python 3 (ipykernel)",
   "language": "python",
   "name": "python3"
  },
  "language_info": {
   "codemirror_mode": {
    "name": "ipython",
    "version": 3
   },
   "file_extension": ".py",
   "mimetype": "text/x-python",
   "name": "python",
   "nbconvert_exporter": "python",
   "pygments_lexer": "ipython3",
   "version": "3.9.12"
  }
 },
 "nbformat": 4,
 "nbformat_minor": 5
}
