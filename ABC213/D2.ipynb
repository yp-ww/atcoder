{
 "cells": [
  {
   "cell_type": "code",
   "execution_count": 1,
   "id": "aa2a0997-e726-40ef-8e15-766977296381",
   "metadata": {},
   "outputs": [
    {
     "data": {
      "application/vnd.jupyter.widget-view+json": {
       "model_id": "0e9d0f8e295f41d382450c9cdce62111",
       "version_major": 2,
       "version_minor": 0
      },
      "text/plain": [
       "Textarea(value='')"
      ]
     },
     "metadata": {},
     "output_type": "display_data"
    }
   ],
   "source": [
    "# Ref: https://qiita.com/noca/items/00646efd9d4a7302f522\n",
    "from ipywidgets import Textarea\n",
    "import io\n",
    "if 'open' in globals():\n",
    "    del open\n",
    "if 'input' in globals():\n",
    "    del input\n",
    "original_open = open\n",
    "class custom_open():\n",
    "    def __init__(self):\n",
    "        self.text = ''\n",
    "    def __call__(self, file, *args, **kwargs):\n",
    "        if file == 0:\n",
    "            return io.StringIO(self.text)\n",
    "        return original_open(file, *args, **kwargs)\n",
    "    def updater(self, change):\n",
    "        self.text = change[\"new\"]\n",
    "class custom_input():\n",
    "    def __init__(self):\n",
    "        self.__sio = io.StringIO('')\n",
    "        self.shell = get_ipython()\n",
    "        if self.shell.events.callbacks['pre_run_cell'] != []:\n",
    "            self.shell.events.callbacks['pre_run_cell'] = []\n",
    "        self.shell.events.register('pre_run_cell', self.pre_run_cell)\n",
    "    def __call__(self):\n",
    "        return self.__sio.readline().strip()\n",
    "    def pre_run_cell(self, info):\n",
    "        text = self.shell.user_ns.get('text_area', None).value\n",
    "        self.__sio = io.StringIO(text)\n",
    "open = custom_open()\n",
    "input = custom_input()\n",
    "text_area = Textarea()\n",
    "text_area.observe(open.updater, names='value')\n",
    "display(text_area)"
   ]
  },
  {
   "cell_type": "code",
   "execution_count": 26,
   "id": "f217b065-7acf-4e65-825d-9d8da9ecd61f",
   "metadata": {},
   "outputs": [
    {
     "name": "stdout",
     "output_type": "stream",
     "text": [
      "1 2 4 2 1 3 1\n"
     ]
    }
   ],
   "source": [
    "import heapq\n",
    "from collections import deque\n",
    "N = int(input())\n",
    "\n",
    "G = [list() for _ in range(N+1)]\n",
    "pre = [-1] * (N+1)\n",
    "for _ in range(N-1):\n",
    "    a, b = map(int, input().split())\n",
    "    heapq.heappush(G[a], b)\n",
    "    heapq.heappush(G[b], a)\n",
    "\n",
    "q = deque()\n",
    "q.append(1)\n",
    "ans = []\n",
    "v = [False] * (N+1)\n",
    "v[1] = True\n",
    "while q:\n",
    "    now = q.popleft()\n",
    "    ans.append(now)\n",
    "    \n",
    "    flag = False\n",
    "    while G[now]:\n",
    "        nex = heapq.heappop(G[now])\n",
    "        if v[nex]:\n",
    "            continue\n",
    "        v[nex] = True\n",
    "        q.append(nex)\n",
    "        pre[nex] = now\n",
    "        flag = True\n",
    "        break\n",
    "        \n",
    "    if not flag:\n",
    "        if now == 1:\n",
    "            break\n",
    "        q.append(pre[now])\n",
    "    \n",
    "print(*ans)"
   ]
  },
  {
   "cell_type": "code",
   "execution_count": 27,
   "id": "b8730fa6-8637-4e1c-9beb-831369f386b9",
   "metadata": {},
   "outputs": [
    {
     "data": {
      "text/plain": [
       "[-1, -1, 1, 1, 2]"
      ]
     },
     "execution_count": 27,
     "metadata": {},
     "output_type": "execute_result"
    }
   ],
   "source": [
    "pre"
   ]
  },
  {
   "cell_type": "code",
   "execution_count": null,
   "id": "27e40b4f-204c-411d-ba1f-64ec99e7d246",
   "metadata": {},
   "outputs": [],
   "source": []
  }
 ],
 "metadata": {
  "kernelspec": {
   "display_name": "Python 3 (ipykernel)",
   "language": "python",
   "name": "python3"
  },
  "language_info": {
   "codemirror_mode": {
    "name": "ipython",
    "version": 3
   },
   "file_extension": ".py",
   "mimetype": "text/x-python",
   "name": "python",
   "nbconvert_exporter": "python",
   "pygments_lexer": "ipython3",
   "version": "3.9.12"
  }
 },
 "nbformat": 4,
 "nbformat_minor": 5
}
