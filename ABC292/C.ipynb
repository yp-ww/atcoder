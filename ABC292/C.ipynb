{
 "cells": [
  {
   "cell_type": "code",
   "execution_count": 1,
   "id": "0b8c8956-fce2-41ff-b121-376bdae10e08",
   "metadata": {},
   "outputs": [
    {
     "data": {
      "application/vnd.jupyter.widget-view+json": {
       "model_id": "c50d324327bb413c81c7be5c163b442f",
       "version_major": 2,
       "version_minor": 0
      },
      "text/plain": [
       "Textarea(value='')"
      ]
     },
     "metadata": {},
     "output_type": "display_data"
    }
   ],
   "source": [
    "# Ref: https://qiita.com/noca/items/00646efd9d4a7302f522\n",
    "from ipywidgets import Textarea\n",
    "import io\n",
    "if 'open' in globals():\n",
    "    del open\n",
    "if 'input' in globals():\n",
    "    del input\n",
    "original_open = open\n",
    "class custom_open():\n",
    "    def __init__(self):\n",
    "        self.text = ''\n",
    "    def __call__(self, file, *args, **kwargs):\n",
    "        if file == 0:\n",
    "            return io.StringIO(self.text)\n",
    "        return original_open(file, *args, **kwargs)\n",
    "    def updater(self, change):\n",
    "        self.text = change[\"new\"]\n",
    "class custom_input():\n",
    "    def __init__(self):\n",
    "        self.__sio = io.StringIO('')\n",
    "        self.shell = get_ipython()\n",
    "        if self.shell.events.callbacks['pre_run_cell'] != []:\n",
    "            self.shell.events.callbacks['pre_run_cell'] = []\n",
    "        self.shell.events.register('pre_run_cell', self.pre_run_cell)\n",
    "    def __call__(self):\n",
    "        return self.__sio.readline().strip()\n",
    "    def pre_run_cell(self, info):\n",
    "        text = self.shell.user_ns.get('text_area', None).value\n",
    "        self.__sio = io.StringIO(text)\n",
    "open = custom_open()\n",
    "input = custom_input()\n",
    "text_area = Textarea()\n",
    "text_area.observe(open.updater, names='value')\n",
    "display(text_area)"
   ]
  },
  {
   "cell_type": "code",
   "execution_count": 38,
   "id": "74d1a4af-ed1e-4609-9ef0-13708b4d9df8",
   "metadata": {},
   "outputs": [
    {
     "name": "stdout",
     "output_type": "stream",
     "text": [
      "10886\n"
     ]
    }
   ],
   "source": [
    "import math\n",
    "N = int(input())\n",
    "\n",
    "cnt = [0] * (N+1)\n",
    "def f(x):\n",
    "    if cnt[x] != 0:\n",
    "        return cnt[x]\n",
    "    c = 0\n",
    "    for i in range(1, int(math.sqrt(x))+1):\n",
    "        if x % i == 0:\n",
    "            c += 1\n",
    "    \n",
    "    c *= 2\n",
    "    \n",
    "    if x == int(math.sqrt(x)) * int(math.sqrt(x)):\n",
    "        c -= 1\n",
    "            \n",
    "    cnt[x] = c\n",
    "    return cnt[x]\n",
    "\n",
    "c = 0\n",
    "for i in range(1, N+1):\n",
    "    a = i\n",
    "    for j in range(a, N+1):\n",
    "        b = j\n",
    "        if a * b >= N:\n",
    "            break\n",
    "        cd = N - a * b\n",
    "        if a == b:\n",
    "            c += f(cd)\n",
    "        else:\n",
    "            c += 2 * f(cd)\n",
    "print(c)     "
   ]
  },
  {
   "cell_type": "code",
   "execution_count": null,
   "id": "2cda67eb-1b15-4692-a6df-60ad10f5b18f",
   "metadata": {},
   "outputs": [],
   "source": []
  },
  {
   "cell_type": "code",
   "execution_count": null,
   "id": "04d0046a-2c30-440f-8563-62d5a94b39be",
   "metadata": {},
   "outputs": [],
   "source": []
  },
  {
   "cell_type": "code",
   "execution_count": null,
   "id": "3b72e231-f34d-4a52-a5d4-e19966f596b3",
   "metadata": {},
   "outputs": [],
   "source": []
  },
  {
   "cell_type": "code",
   "execution_count": null,
   "id": "c4fd2554-a2b4-44e0-a83e-ff4a692b5462",
   "metadata": {},
   "outputs": [],
   "source": []
  }
 ],
 "metadata": {
  "kernelspec": {
   "display_name": "Python 3 (ipykernel)",
   "language": "python",
   "name": "python3"
  },
  "language_info": {
   "codemirror_mode": {
    "name": "ipython",
    "version": 3
   },
   "file_extension": ".py",
   "mimetype": "text/x-python",
   "name": "python",
   "nbconvert_exporter": "python",
   "pygments_lexer": "ipython3",
   "version": "3.9.12"
  }
 },
 "nbformat": 4,
 "nbformat_minor": 5
}
