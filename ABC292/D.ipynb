{
 "cells": [
  {
   "cell_type": "code",
   "execution_count": 1,
   "id": "85adc20a-2805-4af8-85b8-261dd5fc6139",
   "metadata": {},
   "outputs": [
    {
     "data": {
      "application/vnd.jupyter.widget-view+json": {
       "model_id": "4c25ffcc541f4a079ac0eb92f7f8bc01",
       "version_major": 2,
       "version_minor": 0
      },
      "text/plain": [
       "Textarea(value='')"
      ]
     },
     "metadata": {},
     "output_type": "display_data"
    }
   ],
   "source": [
    "# Ref: https://qiita.com/noca/items/00646efd9d4a7302f522\n",
    "from ipywidgets import Textarea\n",
    "import io\n",
    "if 'open' in globals():\n",
    "    del open\n",
    "if 'input' in globals():\n",
    "    del input\n",
    "original_open = open\n",
    "class custom_open():\n",
    "    def __init__(self):\n",
    "        self.text = ''\n",
    "    def __call__(self, file, *args, **kwargs):\n",
    "        if file == 0:\n",
    "            return io.StringIO(self.text)\n",
    "        return original_open(file, *args, **kwargs)\n",
    "    def updater(self, change):\n",
    "        self.text = change[\"new\"]\n",
    "class custom_input():\n",
    "    def __init__(self):\n",
    "        self.__sio = io.StringIO('')\n",
    "        self.shell = get_ipython()\n",
    "        if self.shell.events.callbacks['pre_run_cell'] != []:\n",
    "            self.shell.events.callbacks['pre_run_cell'] = []\n",
    "        self.shell.events.register('pre_run_cell', self.pre_run_cell)\n",
    "    def __call__(self):\n",
    "        return self.__sio.readline().strip()\n",
    "    def pre_run_cell(self, info):\n",
    "        text = self.shell.user_ns.get('text_area', None).value\n",
    "        self.__sio = io.StringIO(text)\n",
    "open = custom_open()\n",
    "input = custom_input()\n",
    "text_area = Textarea()\n",
    "text_area.observe(open.updater, names='value')\n",
    "display(text_area)"
   ]
  },
  {
   "cell_type": "code",
   "execution_count": 8,
   "id": "c19990f2-2154-43e9-80e7-0ecb1c239ed4",
   "metadata": {},
   "outputs": [
    {
     "name": "stdout",
     "output_type": "stream",
     "text": [
      "No\n"
     ]
    },
    {
     "ename": "SystemExit",
     "evalue": "0",
     "output_type": "error",
     "traceback": [
      "An exception has occurred, use %tb to see the full traceback.\n",
      "\u001b[1;31mSystemExit\u001b[0m\u001b[1;31m:\u001b[0m 0\n"
     ]
    }
   ],
   "source": [
    "import sys\n",
    "from collections import deque\n",
    "N, M = map(int, input().split())\n",
    "\n",
    "G = [list() for _ in range(N+1)]\n",
    "for _ in range(M):\n",
    "    u, v = map(int, input().split())\n",
    "    G[u].append(v)\n",
    "    G[v].append(u)\n",
    "\n",
    "v = [False] * (N+1)\n",
    "for i in range(1, N+1):\n",
    "    if v[i]:\n",
    "        continue\n",
    "    n_cnt = 0\n",
    "    m_cnt = 0\n",
    "    q = deque()\n",
    "    q.append(i)\n",
    "    v[i] = True\n",
    "    while q:\n",
    "        now = q.popleft()\n",
    "        n_cnt += 1\n",
    "        m_cnt += len(G[now])\n",
    "        for nex in G[now]:\n",
    "            if v[nex]:\n",
    "                continue\n",
    "            v[nex] = True\n",
    "            q.append(nex)\n",
    "    \n",
    "    if n_cnt != m_cnt // 2:\n",
    "        print(\"No\")\n",
    "        sys.exit(0)\n",
    "print(\"Yes\")"
   ]
  },
  {
   "cell_type": "code",
   "execution_count": 9,
   "id": "08dca7c7-8906-4575-b1d4-92fc5b955107",
   "metadata": {},
   "outputs": [
    {
     "data": {
      "text/plain": [
       "[[],\n",
       " [13, 11, 10],\n",
       " [11],\n",
       " [8, 3, 3, 12],\n",
       " [],\n",
       " [13],\n",
       " [11, 9],\n",
       " [9, 11],\n",
       " [3, 13, 12],\n",
       " [7, 11, 6],\n",
       " [1],\n",
       " [7, 11, 11, 6, 2, 9, 1],\n",
       " [8, 3],\n",
       " [1, 8, 5]]"
      ]
     },
     "execution_count": 9,
     "metadata": {},
     "output_type": "execute_result"
    }
   ],
   "source": [
    "G"
   ]
  },
  {
   "cell_type": "code",
   "execution_count": null,
   "id": "ff6218b3-c1c9-43d0-a7be-fa3eb9cfcb49",
   "metadata": {},
   "outputs": [],
   "source": []
  }
 ],
 "metadata": {
  "kernelspec": {
   "display_name": "Python 3 (ipykernel)",
   "language": "python",
   "name": "python3"
  },
  "language_info": {
   "codemirror_mode": {
    "name": "ipython",
    "version": 3
   },
   "file_extension": ".py",
   "mimetype": "text/x-python",
   "name": "python",
   "nbconvert_exporter": "python",
   "pygments_lexer": "ipython3",
   "version": "3.9.12"
  }
 },
 "nbformat": 4,
 "nbformat_minor": 5
}
