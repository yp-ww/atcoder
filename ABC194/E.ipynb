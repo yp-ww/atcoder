{
 "cells": [
  {
   "cell_type": "code",
   "execution_count": 1,
   "id": "9f3592b3-49bd-4bda-9c1c-e5be004b9cb9",
   "metadata": {},
   "outputs": [
    {
     "data": {
      "application/vnd.jupyter.widget-view+json": {
       "model_id": "df2b92f752364995808330117537fbe5",
       "version_major": 2,
       "version_minor": 0
      },
      "text/plain": [
       "Textarea(value='')"
      ]
     },
     "metadata": {},
     "output_type": "display_data"
    }
   ],
   "source": [
    "# Ref: https://qiita.com/noca/items/00646efd9d4a7302f522\n",
    "from ipywidgets import Textarea\n",
    "import io\n",
    "if 'open' in globals():\n",
    "    del open\n",
    "if 'input' in globals():\n",
    "    del input\n",
    "original_open = open\n",
    "class custom_open():\n",
    "    def __init__(self):\n",
    "        self.text = ''\n",
    "    def __call__(self, file, *args, **kwargs):\n",
    "        if file == 0:\n",
    "            return io.StringIO(self.text)\n",
    "        return original_open(file, *args, **kwargs)\n",
    "    def updater(self, change):\n",
    "        self.text = change[\"new\"]\n",
    "class custom_input():\n",
    "    def __init__(self):\n",
    "        self.__sio = io.StringIO('')\n",
    "        self.shell = get_ipython()\n",
    "        if self.shell.events.callbacks['pre_run_cell'] != []:\n",
    "            self.shell.events.callbacks['pre_run_cell'] = []\n",
    "        self.shell.events.register('pre_run_cell', self.pre_run_cell)\n",
    "    def __call__(self):\n",
    "        return self.__sio.readline().strip()\n",
    "    def pre_run_cell(self, info):\n",
    "        text = self.shell.user_ns.get('text_area', None).value\n",
    "        self.__sio = io.StringIO(text)\n",
    "open = custom_open()\n",
    "input = custom_input()\n",
    "text_area = Textarea()\n",
    "text_area.observe(open.updater, names='value')\n",
    "display(text_area)"
   ]
  },
  {
   "cell_type": "code",
   "execution_count": 101,
   "id": "3a6243eb-5319-4f70-8a52-c65eab6b2201",
   "metadata": {},
   "outputs": [
    {
     "name": "stdout",
     "output_type": "stream",
     "text": [
      "2\n"
     ]
    }
   ],
   "source": [
    "N, M = map(int, input().split())\n",
    "A = list(map(int, input().split()))\n",
    "\n",
    "p = [i for i in range(N+1)]\n",
    "cnt = [0] * (N+1)\n",
    "\n",
    "l = 0\n",
    "for r in range(l, M):\n",
    "    cnt[A[r]] += 1\n",
    "    p[A[r]] = p[A[r]+1]\n",
    "\n",
    "pos = 0 \n",
    "ans = N\n",
    "while 1:\n",
    "    idx = []\n",
    "    while pos != p[pos]:\n",
    "        pos = p[pos]\n",
    "        idx.append(pos)\n",
    "    for i in idx:\n",
    "        p[i] = pos\n",
    "        \n",
    "    ans = min(ans, pos)\n",
    "    \n",
    "    cnt[A[l]] -= 1\n",
    "    if cnt[A[l]] == 0:\n",
    "        p[A[l]] = A[l]\n",
    "        \n",
    "    pos = min(pos, A[l])\n",
    "        \n",
    "    l += 1\n",
    "    if l > N - M:\n",
    "        break\n",
    "    \n",
    "    r += 1\n",
    "    cnt[A[r]] += 1\n",
    "    p[A[r]] = p[A[r]+1]   \n",
    "\n",
    "print(ans)"
   ]
  },
  {
   "cell_type": "code",
   "execution_count": 102,
   "id": "fef17a71-04c2-496f-8966-6114c329e76b",
   "metadata": {},
   "outputs": [
    {
     "data": {
      "text/plain": [
       "[1, 1, 0, 0, 0, 0, 0, 0]"
      ]
     },
     "execution_count": 102,
     "metadata": {},
     "output_type": "execute_result"
    }
   ],
   "source": [
    "cnt"
   ]
  },
  {
   "cell_type": "code",
   "execution_count": 103,
   "id": "48fb5604-4ff6-4144-a5e7-450e9e503e57",
   "metadata": {},
   "outputs": [
    {
     "data": {
      "text/plain": [
       "[3, 3, 2, 3, 4, 5, 6, 7]"
      ]
     },
     "execution_count": 103,
     "metadata": {},
     "output_type": "execute_result"
    }
   ],
   "source": [
    "p"
   ]
  },
  {
   "cell_type": "code",
   "execution_count": 104,
   "id": "9a701b24-dfca-418a-a868-d563253a04f0",
   "metadata": {},
   "outputs": [
    {
     "data": {
      "text/plain": [
       "2"
      ]
     },
     "execution_count": 104,
     "metadata": {},
     "output_type": "execute_result"
    }
   ],
   "source": [
    "ans"
   ]
  },
  {
   "cell_type": "code",
   "execution_count": 105,
   "id": "48ea3f8f-79d8-4c87-99df-29c2897039b0",
   "metadata": {},
   "outputs": [
    {
     "name": "stdout",
     "output_type": "stream",
     "text": [
      "2\n"
     ]
    }
   ],
   "source": [
    "N, M = map(int, input().split())\n",
    "A = list(map(int, input().split()))\n",
    "\n",
    "p = [i for i in range(N+1)]\n",
    "cnt = [0] * (N+1)\n",
    "\n",
    "l = 0\n",
    "for r in range(l, M):\n",
    "    cnt[A[r]] += 1\n",
    "    \n",
    "ans = N\n",
    "for i in range(N):\n",
    "    if cnt[i] == 0:\n",
    "        ans = i\n",
    "        break\n",
    "\n",
    "while 1:\n",
    "    \n",
    "    ll = A[l]\n",
    "    cnt[ll] -= 1\n",
    "        \n",
    "    l += 1\n",
    "    if l > N - M:\n",
    "        break\n",
    "    \n",
    "    r += 1\n",
    "    rr = A[r]\n",
    "    cnt[rr] += 1\n",
    "    \n",
    "    if cnt[ll] == 0:\n",
    "        ans = min(ans, ll)\n",
    "\n",
    "print(ans)"
   ]
  },
  {
   "cell_type": "code",
   "execution_count": null,
   "id": "fdd8c20b-8dfa-427c-8bf1-853a57915d1f",
   "metadata": {},
   "outputs": [],
   "source": []
  }
 ],
 "metadata": {
  "kernelspec": {
   "display_name": "Python 3 (ipykernel)",
   "language": "python",
   "name": "python3"
  },
  "language_info": {
   "codemirror_mode": {
    "name": "ipython",
    "version": 3
   },
   "file_extension": ".py",
   "mimetype": "text/x-python",
   "name": "python",
   "nbconvert_exporter": "python",
   "pygments_lexer": "ipython3",
   "version": "3.9.12"
  }
 },
 "nbformat": 4,
 "nbformat_minor": 5
}
