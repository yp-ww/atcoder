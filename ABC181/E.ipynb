{
 "cells": [
  {
   "cell_type": "code",
   "execution_count": 1,
   "id": "4bbdc829-7c9d-4f9c-9d16-6ce4f5df3a30",
   "metadata": {},
   "outputs": [
    {
     "data": {
      "application/vnd.jupyter.widget-view+json": {
       "model_id": "4cc654486d9b46d1ac9f1c1ac52d3268",
       "version_major": 2,
       "version_minor": 0
      },
      "text/plain": [
       "Textarea(value='')"
      ]
     },
     "metadata": {},
     "output_type": "display_data"
    }
   ],
   "source": [
    "# Ref: https://qiita.com/noca/items/00646efd9d4a7302f522\n",
    "from ipywidgets import Textarea\n",
    "import io\n",
    "if 'open' in globals():\n",
    "    del open\n",
    "if 'input' in globals():\n",
    "    del input\n",
    "original_open = open\n",
    "class custom_open():\n",
    "    def __init__(self):\n",
    "        self.text = ''\n",
    "    def __call__(self, file, *args, **kwargs):\n",
    "        if file == 0:\n",
    "            return io.StringIO(self.text)\n",
    "        return original_open(file, *args, **kwargs)\n",
    "    def updater(self, change):\n",
    "        self.text = change[\"new\"]\n",
    "class custom_input():\n",
    "    def __init__(self):\n",
    "        self.__sio = io.StringIO('')\n",
    "        self.shell = get_ipython()\n",
    "        if self.shell.events.callbacks['pre_run_cell'] != []:\n",
    "            self.shell.events.callbacks['pre_run_cell'] = []\n",
    "        self.shell.events.register('pre_run_cell', self.pre_run_cell)\n",
    "    def __call__(self):\n",
    "        return self.__sio.readline().strip()\n",
    "    def pre_run_cell(self, info):\n",
    "        text = self.shell.user_ns.get('text_area', None).value\n",
    "        self.__sio = io.StringIO(text)\n",
    "open = custom_open()\n",
    "input = custom_input()\n",
    "text_area = Textarea()\n",
    "text_area.observe(open.updater, names='value')\n",
    "display(text_area)"
   ]
  },
  {
   "cell_type": "code",
   "execution_count": 61,
   "id": "bd161c7c-4aa1-45fd-b9dd-c264a6874db6",
   "metadata": {},
   "outputs": [
    {
     "name": "stdout",
     "output_type": "stream",
     "text": [
      "239\n"
     ]
    }
   ],
   "source": [
    "import bisect\n",
    "N, M = map(int, input().split())\n",
    "H = list(map(int, input().split()))\n",
    "W = list(map(int, input().split()))\n",
    "\n",
    "H.sort()\n",
    "W.sort()\n",
    "\n",
    "dif0 = [0]\n",
    "dif1 = [0]\n",
    "for i in range(N-1):\n",
    "    if i % 2 == 0:\n",
    "        dif0.append(dif0[-1] + H[i+1] - H[i])\n",
    "    else:\n",
    "        dif1.append(dif1[-1] + H[i+1] - H[i])\n",
    "      \n",
    "    \n",
    "ans = 10 ** 20\n",
    "for i in range(M):\n",
    "    y = W[i]\n",
    "    # y = 400\n",
    "    x = bisect.bisect_left(H, y)\n",
    "    \n",
    "    l = dif0[x//2] - dif0[0]\n",
    "    r = dif1[-1] - dif1[x//2]\n",
    "    \n",
    "    x //= 2\n",
    "    x *= 2\n",
    "    d = abs(y - H[x])\n",
    "    \n",
    "    ans = min(ans, l + r + d)\n",
    "print(ans)"
   ]
  },
  {
   "cell_type": "code",
   "execution_count": 62,
   "id": "9712fcb6-d1d1-4d84-8063-d98647ebad6b",
   "metadata": {},
   "outputs": [
    {
     "data": {
      "text/plain": [
       "[175, 279, 360, 382, 525, 541, 554, 661, 668, 688, 736, 783, 793, 814, 833]"
      ]
     },
     "execution_count": 62,
     "metadata": {},
     "output_type": "execute_result"
    }
   ],
   "source": [
    "H"
   ]
  },
  {
   "cell_type": "code",
   "execution_count": 63,
   "id": "1ea71678-8cf6-4945-8247-5224ff29a676",
   "metadata": {},
   "outputs": [
    {
     "data": {
      "text/plain": [
       "[0, 104, 126, 142, 249, 269, 316, 337]"
      ]
     },
     "execution_count": 63,
     "metadata": {},
     "output_type": "execute_result"
    }
   ],
   "source": [
    "dif0"
   ]
  },
  {
   "cell_type": "code",
   "execution_count": 64,
   "id": "834465b2-5604-4ff1-954c-1cba9855bd4b",
   "metadata": {},
   "outputs": [
    {
     "data": {
      "text/plain": [
       "[0, 81, 224, 237, 244, 292, 302, 321]"
      ]
     },
     "execution_count": 64,
     "metadata": {},
     "output_type": "execute_result"
    }
   ],
   "source": [
    "dif1"
   ]
  },
  {
   "cell_type": "code",
   "execution_count": 65,
   "id": "3d483ae2-43ff-43ba-8564-7acde33123c6",
   "metadata": {},
   "outputs": [
    {
     "data": {
      "text/plain": [
       "[104, 81, 22, 143, 16, 13, 107, 7, 20, 48, 47, 10, 21, 19]"
      ]
     },
     "execution_count": 65,
     "metadata": {},
     "output_type": "execute_result"
    }
   ],
   "source": [
    "dif"
   ]
  },
  {
   "cell_type": "code",
   "execution_count": 66,
   "id": "e1bb4b89-1712-4ce7-a214-6e5a4452688e",
   "metadata": {},
   "outputs": [
    {
     "data": {
      "text/plain": [
       "239"
      ]
     },
     "execution_count": 66,
     "metadata": {},
     "output_type": "execute_result"
    }
   ],
   "source": [
    "ans"
   ]
  },
  {
   "cell_type": "code",
   "execution_count": null,
   "id": "46cea41f-0ed6-4772-bc3c-4a366b147ec3",
   "metadata": {},
   "outputs": [],
   "source": []
  }
 ],
 "metadata": {
  "kernelspec": {
   "display_name": "Python 3 (ipykernel)",
   "language": "python",
   "name": "python3"
  },
  "language_info": {
   "codemirror_mode": {
    "name": "ipython",
    "version": 3
   },
   "file_extension": ".py",
   "mimetype": "text/x-python",
   "name": "python",
   "nbconvert_exporter": "python",
   "pygments_lexer": "ipython3",
   "version": "3.9.12"
  }
 },
 "nbformat": 4,
 "nbformat_minor": 5
}
