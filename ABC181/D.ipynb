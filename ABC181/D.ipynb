{
 "cells": [
  {
   "cell_type": "code",
   "execution_count": 1,
   "id": "ba31912c-4b94-4650-b719-837d3d8db533",
   "metadata": {},
   "outputs": [
    {
     "data": {
      "application/vnd.jupyter.widget-view+json": {
       "model_id": "2f654303617a4e7ab619906710fd46e8",
       "version_major": 2,
       "version_minor": 0
      },
      "text/plain": [
       "Textarea(value='')"
      ]
     },
     "metadata": {},
     "output_type": "display_data"
    }
   ],
   "source": [
    "# Ref: https://qiita.com/noca/items/00646efd9d4a7302f522\n",
    "from ipywidgets import Textarea\n",
    "import io\n",
    "if 'open' in globals():\n",
    "    del open\n",
    "if 'input' in globals():\n",
    "    del input\n",
    "original_open = open\n",
    "class custom_open():\n",
    "    def __init__(self):\n",
    "        self.text = ''\n",
    "    def __call__(self, file, *args, **kwargs):\n",
    "        if file == 0:\n",
    "            return io.StringIO(self.text)\n",
    "        return original_open(file, *args, **kwargs)\n",
    "    def updater(self, change):\n",
    "        self.text = change[\"new\"]\n",
    "class custom_input():\n",
    "    def __init__(self):\n",
    "        self.__sio = io.StringIO('')\n",
    "        self.shell = get_ipython()\n",
    "        if self.shell.events.callbacks['pre_run_cell'] != []:\n",
    "            self.shell.events.callbacks['pre_run_cell'] = []\n",
    "        self.shell.events.register('pre_run_cell', self.pre_run_cell)\n",
    "    def __call__(self):\n",
    "        return self.__sio.readline().strip()\n",
    "    def pre_run_cell(self, info):\n",
    "        text = self.shell.user_ns.get('text_area', None).value\n",
    "        self.__sio = io.StringIO(text)\n",
    "open = custom_open()\n",
    "input = custom_input()\n",
    "text_area = Textarea()\n",
    "text_area.observe(open.updater, names='value')\n",
    "display(text_area)"
   ]
  },
  {
   "cell_type": "code",
   "execution_count": 126,
   "id": "297d1ca0-237f-4bdc-b62e-075f35bb8ed2",
   "metadata": {},
   "outputs": [
    {
     "name": "stdout",
     "output_type": "stream",
     "text": [
      "Yes\n"
     ]
    },
    {
     "ename": "SystemExit",
     "evalue": "0",
     "output_type": "error",
     "traceback": [
      "An exception has occurred, use %tb to see the full traceback.\n",
      "\u001b[1;31mSystemExit\u001b[0m\u001b[1;31m:\u001b[0m 0\n"
     ]
    }
   ],
   "source": [
    "import sys\n",
    "S = input()\n",
    "cnt = 0\n",
    "arr = [0] * 10\n",
    "for i in range(len(S)):\n",
    "    if int(S[i]) % 2:\n",
    "        cnt += 1\n",
    "    arr[int(S[i])] += 1\n",
    "    \n",
    "if len(S) <= 2:\n",
    "    if int(S) % 8 == 0:\n",
    "        print(\"Yes\")\n",
    "        sys.exit(0)\n",
    "    if int(S[::-1]) % 8 == 0:\n",
    "        print(\"Yes\")\n",
    "        sys.exit(0)\n",
    "    \n",
    "for x in range(100, 1000):\n",
    "    if x % 8:\n",
    "        continue\n",
    "    brr = [0] * 10\n",
    "    for i in range(10):\n",
    "        brr[i] = arr[i]\n",
    "    \n",
    "    flag = True\n",
    "    for i in range(3):\n",
    "        y = (x // (10 ** i)) % 10\n",
    "        if brr[y] >= 1:\n",
    "            brr[y] -= 1\n",
    "        else:\n",
    "            flag = False\n",
    "            break\n",
    "    \n",
    "    if flag:\n",
    "        print(\"Yes\")\n",
    "        sys.exit(0)\n",
    "\n",
    "print(\"No\")"
   ]
  },
  {
   "cell_type": "code",
   "execution_count": 129,
   "id": "36194866-5a7a-4bb6-84e9-d4a8a6a5d6ca",
   "metadata": {},
   "outputs": [],
   "source": [
    "from collections import Counter\n"
   ]
  },
  {
   "cell_type": "code",
   "execution_count": 135,
   "id": "1d067dc4-488c-41f0-9c98-867424aba8e6",
   "metadata": {},
   "outputs": [
    {
     "data": {
      "text/plain": [
       "Counter({'4': 2, '2': 1})"
      ]
     },
     "execution_count": 135,
     "metadata": {},
     "output_type": "execute_result"
    }
   ],
   "source": [
    "cnt = Counter(S)\n",
    "cnt"
   ]
  },
  {
   "cell_type": "code",
   "execution_count": 138,
   "id": "ff4a2eda-e0e7-4751-8068-f2806f384822",
   "metadata": {},
   "outputs": [
    {
     "data": {
      "text/plain": [
       "False"
      ]
     },
     "execution_count": 138,
     "metadata": {},
     "output_type": "execute_result"
    }
   ],
   "source": [
    "bool(Counter(str(424)) - cnt)"
   ]
  },
  {
   "cell_type": "code",
   "execution_count": null,
   "id": "bd3903e5-090f-4527-9bd0-1977f7fc96a3",
   "metadata": {},
   "outputs": [],
   "source": []
  },
  {
   "cell_type": "code",
   "execution_count": null,
   "id": "88a8bb18-986c-4cec-85d6-1234dd9aac4d",
   "metadata": {},
   "outputs": [],
   "source": []
  }
 ],
 "metadata": {
  "kernelspec": {
   "display_name": "Python 3 (ipykernel)",
   "language": "python",
   "name": "python3"
  },
  "language_info": {
   "codemirror_mode": {
    "name": "ipython",
    "version": 3
   },
   "file_extension": ".py",
   "mimetype": "text/x-python",
   "name": "python",
   "nbconvert_exporter": "python",
   "pygments_lexer": "ipython3",
   "version": "3.9.12"
  }
 },
 "nbformat": 4,
 "nbformat_minor": 5
}
