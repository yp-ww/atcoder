{
 "cells": [
  {
   "cell_type": "code",
   "execution_count": 1,
   "id": "bb37f105-3f55-46ad-bf94-beb45e990252",
   "metadata": {},
   "outputs": [
    {
     "data": {
      "application/vnd.jupyter.widget-view+json": {
       "model_id": "d796e4115f264d6390460615a6eee8b7",
       "version_major": 2,
       "version_minor": 0
      },
      "text/plain": [
       "Textarea(value='')"
      ]
     },
     "metadata": {},
     "output_type": "display_data"
    }
   ],
   "source": [
    "# Ref: https://qiita.com/noca/items/00646efd9d4a7302f522\n",
    "from ipywidgets import Textarea\n",
    "import io\n",
    "if 'open' in globals():\n",
    "    del open\n",
    "if 'input' in globals():\n",
    "    del input\n",
    "original_open = open\n",
    "class custom_open():\n",
    "    def __init__(self):\n",
    "        self.text = ''\n",
    "    def __call__(self, file, *args, **kwargs):\n",
    "        if file == 0:\n",
    "            return io.StringIO(self.text)\n",
    "        return original_open(file, *args, **kwargs)\n",
    "    def updater(self, change):\n",
    "        self.text = change[\"new\"]\n",
    "class custom_input():\n",
    "    def __init__(self):\n",
    "        self.__sio = io.StringIO('')\n",
    "        self.shell = get_ipython()\n",
    "        if self.shell.events.callbacks['pre_run_cell'] != []:\n",
    "            self.shell.events.callbacks['pre_run_cell'] = []\n",
    "        self.shell.events.register('pre_run_cell', self.pre_run_cell)\n",
    "    def __call__(self):\n",
    "        return self.__sio.readline().strip()\n",
    "    def pre_run_cell(self, info):\n",
    "        text = self.shell.user_ns.get('text_area', None).value\n",
    "        self.__sio = io.StringIO(text)\n",
    "open = custom_open()\n",
    "input = custom_input()\n",
    "text_area = Textarea()\n",
    "text_area.observe(open.updater, names='value')\n",
    "display(text_area)"
   ]
  },
  {
   "cell_type": "code",
   "execution_count": 11,
   "id": "2023a42e-4103-4e0b-a5b5-27bc1d6f08d5",
   "metadata": {},
   "outputs": [
    {
     "name": "stdout",
     "output_type": "stream",
     "text": [
      "5 6 3 5 2 7\n",
      "2 4 1\n",
      "5 6 3 5 2 7\n",
      "4 1 5 2 7\n",
      "1 4\n",
      "2 6 3\n"
     ]
    }
   ],
   "source": [
    "N, Q = map(int, input().split())\n",
    "Query = [list(map(int, input().split())) for _ in range(Q)]\n",
    "\n",
    "front = [-1] * (N+1)\n",
    "back = [-1] * (N+1)\n",
    "\n",
    "for q in Query:\n",
    "    if q[0] == 1:\n",
    "        x, y = q[1], q[2]\n",
    "        back[x] = y\n",
    "        front[y] = x\n",
    "    elif q[0] == 2:\n",
    "        x, y = q[1], q[2]\n",
    "        back[x] = -1\n",
    "        front[y] = -1\n",
    "    else:\n",
    "        x = q[1]\n",
    "        z = x\n",
    "        f = []\n",
    "        while z != -1:\n",
    "            f.append(z)\n",
    "            z = front[z]\n",
    "        \n",
    "        f.reverse()\n",
    "        f.pop()\n",
    "        \n",
    "        z = x\n",
    "        b = []\n",
    "        while z != -1:\n",
    "            b.append(z)\n",
    "            z = back[z]\n",
    "        \n",
    "        out = f + b\n",
    "        print(len(out), *out)"
   ]
  },
  {
   "cell_type": "code",
   "execution_count": null,
   "id": "6e06fbb3-ddc4-432b-801f-fa04d8279fec",
   "metadata": {},
   "outputs": [],
   "source": []
  }
 ],
 "metadata": {
  "kernelspec": {
   "display_name": "Python 3 (ipykernel)",
   "language": "python",
   "name": "python3"
  },
  "language_info": {
   "codemirror_mode": {
    "name": "ipython",
    "version": 3
   },
   "file_extension": ".py",
   "mimetype": "text/x-python",
   "name": "python",
   "nbconvert_exporter": "python",
   "pygments_lexer": "ipython3",
   "version": "3.9.12"
  }
 },
 "nbformat": 4,
 "nbformat_minor": 5
}
