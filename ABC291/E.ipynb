{
 "cells": [
  {
   "cell_type": "code",
   "execution_count": 1,
   "id": "3863bfe8-e7d6-4516-b2b5-4fcb64dadb92",
   "metadata": {},
   "outputs": [
    {
     "data": {
      "application/vnd.jupyter.widget-view+json": {
       "model_id": "f5cf03a2b0524216b0d777b08be4004a",
       "version_major": 2,
       "version_minor": 0
      },
      "text/plain": [
       "Textarea(value='')"
      ]
     },
     "metadata": {},
     "output_type": "display_data"
    }
   ],
   "source": [
    "# Ref: https://qiita.com/noca/items/00646efd9d4a7302f522\n",
    "from ipywidgets import Textarea\n",
    "import io\n",
    "if 'open' in globals():\n",
    "    del open\n",
    "if 'input' in globals():\n",
    "    del input\n",
    "original_open = open\n",
    "class custom_open():\n",
    "    def __init__(self):\n",
    "        self.text = ''\n",
    "    def __call__(self, file, *args, **kwargs):\n",
    "        if file == 0:\n",
    "            return io.StringIO(self.text)\n",
    "        return original_open(file, *args, **kwargs)\n",
    "    def updater(self, change):\n",
    "        self.text = change[\"new\"]\n",
    "class custom_input():\n",
    "    def __init__(self):\n",
    "        self.__sio = io.StringIO('')\n",
    "        self.shell = get_ipython()\n",
    "        if self.shell.events.callbacks['pre_run_cell'] != []:\n",
    "            self.shell.events.callbacks['pre_run_cell'] = []\n",
    "        self.shell.events.register('pre_run_cell', self.pre_run_cell)\n",
    "    def __call__(self):\n",
    "        return self.__sio.readline().strip()\n",
    "    def pre_run_cell(self, info):\n",
    "        text = self.shell.user_ns.get('text_area', None).value\n",
    "        self.__sio = io.StringIO(text)\n",
    "open = custom_open()\n",
    "input = custom_input()\n",
    "text_area = Textarea()\n",
    "text_area.observe(open.updater, names='value')\n",
    "display(text_area)"
   ]
  },
  {
   "cell_type": "code",
   "execution_count": 16,
   "id": "1be3927b-ebc0-40a3-a6de-e6df9b45085c",
   "metadata": {},
   "outputs": [
    {
     "name": "stdout",
     "output_type": "stream",
     "text": [
      "Yes\n",
      "3 1 2\n"
     ]
    }
   ],
   "source": [
    "import sys\n",
    "from collections import deque\n",
    "N, M = map(int, input().split())\n",
    "G = [set() for _ in range(N+1)]\n",
    "indeg = [0] * (N+1)\n",
    "for _ in range(M):\n",
    "    x, y = map(int, input().split())\n",
    "    if y not in G[x]:\n",
    "        G[x].add(y)\n",
    "        indeg[y] += 1\n",
    "\n",
    "q = deque()\n",
    "for i in range(1, N+1):\n",
    "    if indeg[i] == 0:\n",
    "        q.append(i)\n",
    "\n",
    "if len(q) != 1:\n",
    "    print(\"No\")\n",
    "    sys.exit(0)\n",
    "\n",
    "arr = []\n",
    "while q:\n",
    "    now = q.popleft()\n",
    "    arr.append(now)\n",
    "    for nex in G[now]:\n",
    "        indeg[nex] -= 1\n",
    "        if indeg[nex] == 0:\n",
    "            q.append(nex)\n",
    "    if len(q) > 1:\n",
    "        print(\"No\")\n",
    "        sys.exit(0)\n",
    "\n",
    "if len(arr) != N:\n",
    "    print(\"No\")\n",
    "    sys.exit(0)\n",
    "\n",
    "ans = [0] * N\n",
    "for i in range(N):\n",
    "    ans[arr[i]-1] = i + 1\n",
    "print(\"Yes\")\n",
    "print(*ans)"
   ]
  },
  {
   "cell_type": "code",
   "execution_count": 13,
   "id": "a1f23e7a-8199-4849-accb-a8c1ba5f4d5d",
   "metadata": {},
   "outputs": [
    {
     "data": {
      "text/plain": [
       "[2, 3, 1]"
      ]
     },
     "execution_count": 13,
     "metadata": {},
     "output_type": "execute_result"
    }
   ],
   "source": [
    "arr"
   ]
  },
  {
   "cell_type": "code",
   "execution_count": null,
   "id": "674e7c95-1c4a-464b-b419-04c51b566a31",
   "metadata": {},
   "outputs": [],
   "source": [
    "A2 < A3 < A1\n",
    "1 2 3\n",
    "3 1 2"
   ]
  }
 ],
 "metadata": {
  "kernelspec": {
   "display_name": "Python 3 (ipykernel)",
   "language": "python",
   "name": "python3"
  },
  "language_info": {
   "codemirror_mode": {
    "name": "ipython",
    "version": 3
   },
   "file_extension": ".py",
   "mimetype": "text/x-python",
   "name": "python",
   "nbconvert_exporter": "python",
   "pygments_lexer": "ipython3",
   "version": "3.9.12"
  }
 },
 "nbformat": 4,
 "nbformat_minor": 5
}
