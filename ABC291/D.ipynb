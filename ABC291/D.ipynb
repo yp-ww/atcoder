{
 "cells": [
  {
   "cell_type": "code",
   "execution_count": 1,
   "id": "e97db14f-258b-412c-9a1b-a065c0c5dcb0",
   "metadata": {},
   "outputs": [
    {
     "data": {
      "application/vnd.jupyter.widget-view+json": {
       "model_id": "603b4462c79f4162814f9dc052850077",
       "version_major": 2,
       "version_minor": 0
      },
      "text/plain": [
       "Textarea(value='')"
      ]
     },
     "metadata": {},
     "output_type": "display_data"
    }
   ],
   "source": [
    "# Ref: https://qiita.com/noca/items/00646efd9d4a7302f522\n",
    "from ipywidgets import Textarea\n",
    "import io\n",
    "if 'open' in globals():\n",
    "    del open\n",
    "if 'input' in globals():\n",
    "    del input\n",
    "original_open = open\n",
    "class custom_open():\n",
    "    def __init__(self):\n",
    "        self.text = ''\n",
    "    def __call__(self, file, *args, **kwargs):\n",
    "        if file == 0:\n",
    "            return io.StringIO(self.text)\n",
    "        return original_open(file, *args, **kwargs)\n",
    "    def updater(self, change):\n",
    "        self.text = change[\"new\"]\n",
    "class custom_input():\n",
    "    def __init__(self):\n",
    "        self.__sio = io.StringIO('')\n",
    "        self.shell = get_ipython()\n",
    "        if self.shell.events.callbacks['pre_run_cell'] != []:\n",
    "            self.shell.events.callbacks['pre_run_cell'] = []\n",
    "        self.shell.events.register('pre_run_cell', self.pre_run_cell)\n",
    "    def __call__(self):\n",
    "        return self.__sio.readline().strip()\n",
    "    def pre_run_cell(self, info):\n",
    "        text = self.shell.user_ns.get('text_area', None).value\n",
    "        self.__sio = io.StringIO(text)\n",
    "open = custom_open()\n",
    "input = custom_input()\n",
    "text_area = Textarea()\n",
    "text_area.observe(open.updater, names='value')\n",
    "display(text_area)"
   ]
  },
  {
   "cell_type": "code",
   "execution_count": 22,
   "id": "3dff0d85-bfac-4d84-9a6a-d6681bdb1074",
   "metadata": {},
   "outputs": [
    {
     "name": "stdout",
     "output_type": "stream",
     "text": [
      "4\n"
     ]
    }
   ],
   "source": [
    "N = int(input())\n",
    "MOD = 998244353\n",
    "\n",
    "dpA = [0] * N\n",
    "dpB = [0] * N\n",
    "A = [0] * N\n",
    "B = [0] * N\n",
    "for i in range(N):\n",
    "    a, b = map(int, input().split())\n",
    "    A[i] = a\n",
    "    B[i] = b\n",
    "\n",
    "dpA[0] = 1\n",
    "dpB[0] = 1\n",
    "    \n",
    "for i in range(1, N):\n",
    "    if A[i] != A[i-1]:\n",
    "        dpA[i] += dpA[i-1]\n",
    "        dpA[i] %= MOD\n",
    "        \n",
    "    if A[i] != B[i-1]:\n",
    "        dpA[i] += dpB[i-1]\n",
    "        dpA[i] %= MOD\n",
    "    \n",
    "    if B[i] != A[i-1]:\n",
    "        dpB[i] += dpA[i-1]\n",
    "        dpB[i] %= MOD\n",
    "    \n",
    "    if B[i] != B[i-1]:\n",
    "        dpB[i] += dpB[i-1]\n",
    "        dpB[i] %= MOD\n",
    "        \n",
    "print((dpA[N-1] + dpB[N-1]) % MOD)"
   ]
  },
  {
   "cell_type": "code",
   "execution_count": null,
   "id": "c4d4ffdb-ab50-4869-96e4-d5b2f881edd5",
   "metadata": {},
   "outputs": [],
   "source": []
  }
 ],
 "metadata": {
  "kernelspec": {
   "display_name": "Python 3 (ipykernel)",
   "language": "python",
   "name": "python3"
  },
  "language_info": {
   "codemirror_mode": {
    "name": "ipython",
    "version": 3
   },
   "file_extension": ".py",
   "mimetype": "text/x-python",
   "name": "python",
   "nbconvert_exporter": "python",
   "pygments_lexer": "ipython3",
   "version": "3.9.12"
  }
 },
 "nbformat": 4,
 "nbformat_minor": 5
}
