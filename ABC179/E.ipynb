{
 "cells": [
  {
   "cell_type": "code",
   "execution_count": 1,
   "id": "0ddd39de-a320-4529-be68-0d64a1bf2cb9",
   "metadata": {},
   "outputs": [
    {
     "data": {
      "application/vnd.jupyter.widget-view+json": {
       "model_id": "415248412bb342b2bba3487540e28cc1",
       "version_major": 2,
       "version_minor": 0
      },
      "text/plain": [
       "Textarea(value='')"
      ]
     },
     "metadata": {},
     "output_type": "display_data"
    }
   ],
   "source": [
    "# Ref: https://qiita.com/noca/items/00646efd9d4a7302f522\n",
    "from ipywidgets import Textarea\n",
    "import io\n",
    "if 'open' in globals():\n",
    "    del open\n",
    "if 'input' in globals():\n",
    "    del input\n",
    "original_open = open\n",
    "class custom_open():\n",
    "    def __init__(self):\n",
    "        self.text = ''\n",
    "    def __call__(self, file, *args, **kwargs):\n",
    "        if file == 0:\n",
    "            return io.StringIO(self.text)\n",
    "        return original_open(file, *args, **kwargs)\n",
    "    def updater(self, change):\n",
    "        self.text = change[\"new\"]\n",
    "class custom_input():\n",
    "    def __init__(self):\n",
    "        self.__sio = io.StringIO('')\n",
    "        self.shell = get_ipython()\n",
    "        if self.shell.events.callbacks['pre_run_cell'] != []:\n",
    "            self.shell.events.callbacks['pre_run_cell'] = []\n",
    "        self.shell.events.register('pre_run_cell', self.pre_run_cell)\n",
    "    def __call__(self):\n",
    "        return self.__sio.readline().strip()\n",
    "    def pre_run_cell(self, info):\n",
    "        text = self.shell.user_ns.get('text_area', None).value\n",
    "        self.__sio = io.StringIO(text)\n",
    "open = custom_open()\n",
    "input = custom_input()\n",
    "text_area = Textarea()\n",
    "text_area.observe(open.updater, names='value')\n",
    "display(text_area)"
   ]
  },
  {
   "cell_type": "code",
   "execution_count": 136,
   "id": "09005599-92ec-487a-b33e-1cae1c28c381",
   "metadata": {},
   "outputs": [
    {
     "name": "stdout",
     "output_type": "stream",
     "text": [
      "492443256176507\n"
     ]
    }
   ],
   "source": [
    "from collections import defaultdict\n",
    "N, X, M = map(int, input().split())\n",
    "\n",
    "d = defaultdict(int)\n",
    "arr = []\n",
    "\n",
    "cnt = 0\n",
    "while 1:\n",
    "    if X in d:\n",
    "        l = d[X]\n",
    "        break\n",
    "    d[X] = cnt\n",
    "    cnt += 1\n",
    "    arr.append(X)\n",
    "    X *= X \n",
    "    X %= M\n",
    "    \n",
    "offset = 0\n",
    "for i in range(l):\n",
    "    offset += arr[i]\n",
    "\n",
    "size = cnt - l\n",
    "_sum = 0\n",
    "for i in range(l, cnt):\n",
    "    _sum += arr[i]\n",
    "\n",
    "ans = offset\n",
    "ans += (N-l) // size * _sum\n",
    "for i in range(l, l + (N-l)%size):\n",
    "    ans += arr[i]\n",
    "\n",
    "print(ans)"
   ]
  },
  {
   "cell_type": "code",
   "execution_count": null,
   "id": "28474cc4-1bfd-47e8-b777-127989b10b25",
   "metadata": {},
   "outputs": [],
   "source": []
  }
 ],
 "metadata": {
  "kernelspec": {
   "display_name": "Python 3 (ipykernel)",
   "language": "python",
   "name": "python3"
  },
  "language_info": {
   "codemirror_mode": {
    "name": "ipython",
    "version": 3
   },
   "file_extension": ".py",
   "mimetype": "text/x-python",
   "name": "python",
   "nbconvert_exporter": "python",
   "pygments_lexer": "ipython3",
   "version": "3.9.12"
  }
 },
 "nbformat": 4,
 "nbformat_minor": 5
}
