{
 "cells": [
  {
   "cell_type": "code",
   "execution_count": 1,
   "id": "374d087b-b7ef-4513-bb58-616730358b77",
   "metadata": {},
   "outputs": [
    {
     "data": {
      "application/vnd.jupyter.widget-view+json": {
       "model_id": "ef30c61569ef4d30a3ffd3013cd52ab1",
       "version_major": 2,
       "version_minor": 0
      },
      "text/plain": [
       "Textarea(value='')"
      ]
     },
     "metadata": {},
     "output_type": "display_data"
    }
   ],
   "source": [
    "# Ref: https://qiita.com/noca/items/00646efd9d4a7302f522\n",
    "from ipywidgets import Textarea\n",
    "import io\n",
    "if 'open' in globals():\n",
    "    del open\n",
    "if 'input' in globals():\n",
    "    del input\n",
    "original_open = open\n",
    "class custom_open():\n",
    "    def __init__(self):\n",
    "        self.text = ''\n",
    "    def __call__(self, file, *args, **kwargs):\n",
    "        if file == 0:\n",
    "            return io.StringIO(self.text)\n",
    "        return original_open(file, *args, **kwargs)\n",
    "    def updater(self, change):\n",
    "        self.text = change[\"new\"]\n",
    "class custom_input():\n",
    "    def __init__(self):\n",
    "        self.__sio = io.StringIO('')\n",
    "        self.shell = get_ipython()\n",
    "        if self.shell.events.callbacks['pre_run_cell'] != []:\n",
    "            self.shell.events.callbacks['pre_run_cell'] = []\n",
    "        self.shell.events.register('pre_run_cell', self.pre_run_cell)\n",
    "    def __call__(self):\n",
    "        return self.__sio.readline().strip()\n",
    "    def pre_run_cell(self, info):\n",
    "        text = self.shell.user_ns.get('text_area', None).value\n",
    "        self.__sio = io.StringIO(text)\n",
    "open = custom_open()\n",
    "input = custom_input()\n",
    "text_area = Textarea()\n",
    "text_area.observe(open.updater, names='value')\n",
    "display(text_area)"
   ]
  },
  {
   "cell_type": "code",
   "execution_count": 92,
   "id": "b617cd59-6d5b-49ee-b677-bf307654cf7b",
   "metadata": {},
   "outputs": [
    {
     "name": "stdout",
     "output_type": "stream",
     "text": [
      "6\n"
     ]
    }
   ],
   "source": [
    "import sys\n",
    "sys.setrecursionlimit(10**7)\n",
    "N = int(input())\n",
    "N *= 2\n",
    "\n",
    "A = [list() for _ in range(N+1)]\n",
    "for i in range(1, N):\n",
    "    A[i] = list(map(int, input().split()))\n",
    "    \n",
    "\n",
    "ans = 0\n",
    "def dfs(flag, score):\n",
    "    global ans\n",
    "    \n",
    "    if not flag:\n",
    "        ans = max(ans, score)\n",
    "        # print(score)\n",
    "        return\n",
    "    \n",
    "    now = flag.pop()\n",
    "      \n",
    "    for k in range(len(flag)):\n",
    "        nex = flag[0]\n",
    "        flag.remove(nex)\n",
    "        if now > nex:\n",
    "            i = nex\n",
    "            j = now - nex - 1\n",
    "        else:\n",
    "            i = now\n",
    "            j = nex - now - 1\n",
    "        dfs(flag, score ^ A[i][j])\n",
    "        flag.append(nex)\n",
    "        \n",
    "    flag.append(now)       \n",
    "    return\n",
    "\n",
    "f = [i for i in range(1, N+1)]\n",
    "\n",
    "dfs(f, 0)\n",
    "\n",
    "print(ans)"
   ]
  },
  {
   "cell_type": "code",
   "execution_count": null,
   "id": "52f19219-a424-4178-b416-0129dcc0e11b",
   "metadata": {},
   "outputs": [],
   "source": []
  },
  {
   "cell_type": "code",
   "execution_count": null,
   "id": "7382647c-d330-4473-a3ef-e0694ecbdfc0",
   "metadata": {},
   "outputs": [],
   "source": []
  }
 ],
 "metadata": {
  "kernelspec": {
   "display_name": "Python 3 (ipykernel)",
   "language": "python",
   "name": "python3"
  },
  "language_info": {
   "codemirror_mode": {
    "name": "ipython",
    "version": 3
   },
   "file_extension": ".py",
   "mimetype": "text/x-python",
   "name": "python",
   "nbconvert_exporter": "python",
   "pygments_lexer": "ipython3",
   "version": "3.9.12"
  }
 },
 "nbformat": 4,
 "nbformat_minor": 5
}
