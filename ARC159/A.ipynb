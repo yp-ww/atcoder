{
 "cells": [
  {
   "cell_type": "code",
   "execution_count": 1,
   "id": "65075585-291d-4aae-a75a-00bd8df85891",
   "metadata": {},
   "outputs": [
    {
     "data": {
      "application/vnd.jupyter.widget-view+json": {
       "model_id": "7722906af95f4a7ab361e180d4aef903",
       "version_major": 2,
       "version_minor": 0
      },
      "text/plain": [
       "Textarea(value='')"
      ]
     },
     "metadata": {},
     "output_type": "display_data"
    }
   ],
   "source": [
    "# Ref: https://qiita.com/noca/items/00646efd9d4a7302f522\n",
    "from ipywidgets import Textarea\n",
    "import io\n",
    "if 'open' in globals():\n",
    "    del open\n",
    "if 'input' in globals():\n",
    "    del input\n",
    "original_open = open\n",
    "class custom_open():\n",
    "    def __init__(self):\n",
    "        self.text = ''\n",
    "    def __call__(self, file, *args, **kwargs):\n",
    "        if file == 0:\n",
    "            return io.StringIO(self.text)\n",
    "        return original_open(file, *args, **kwargs)\n",
    "    def updater(self, change):\n",
    "        self.text = change[\"new\"]\n",
    "class custom_input():\n",
    "    def __init__(self):\n",
    "        self.__sio = io.StringIO('')\n",
    "        self.shell = get_ipython()\n",
    "        if self.shell.events.callbacks['pre_run_cell'] != []:\n",
    "            self.shell.events.callbacks['pre_run_cell'] = []\n",
    "        self.shell.events.register('pre_run_cell', self.pre_run_cell)\n",
    "    def __call__(self):\n",
    "        return self.__sio.readline().strip()\n",
    "    def pre_run_cell(self, info):\n",
    "        text = self.shell.user_ns.get('text_area', None).value\n",
    "        self.__sio = io.StringIO(text)\n",
    "open = custom_open()\n",
    "input = custom_input()\n",
    "text_area = Textarea()\n",
    "text_area.observe(open.updater, names='value')\n",
    "display(text_area)"
   ]
  },
  {
   "cell_type": "code",
   "execution_count": 9,
   "id": "3652d295-8e52-445c-a330-665f82bc2044",
   "metadata": {},
   "outputs": [
    {
     "name": "stdout",
     "output_type": "stream",
     "text": [
      "100000000000000000000\n"
     ]
    }
   ],
   "source": [
    "N, K = map(int, input().split())\n",
    "A = [list(map(int, input().split())) for _ in range(N)]\n",
    "\n",
    "INF = 10 ** 20\n",
    "D = [[INF] * N for _ in range(N)]\n",
    "\n",
    "for i in range(N):\n",
    "    for j in range(N):\n",
    "        if A[i][j]:\n",
    "            D[i][j] = 1\n",
    "\n",
    "for k in range(N):\n",
    "    for i in range(N):\n",
    "        for j in range(N):\n",
    "            D[i][j] = min(D[i][j], D[i][k] + D[k][j])\n",
    "\n",
    "Q = int(input())\n",
    "for _ in range(Q):\n",
    "    s, t = map(int, input().split())\n",
    "    s -= 1\n",
    "    t -= 1\n",
    "    ans = D[s%N][t%N]\n",
    "    if ans == INF:\n",
    "        print(-1)\n",
    "    else:\n",
    "        print(ans)"
   ]
  },
  {
   "cell_type": "code",
   "execution_count": 10,
   "id": "9e3e0132-6549-4282-9acc-b90b7db66a1d",
   "metadata": {},
   "outputs": [
    {
     "data": {
      "text/plain": [
       "[[100000000000000000000,\n",
       "  100000000000000000000,\n",
       "  100000000000000000000,\n",
       "  100000000000000000000],\n",
       " [100000000000000000000,\n",
       "  100000000000000000000,\n",
       "  100000000000000000000,\n",
       "  100000000000000000000],\n",
       " [100000000000000000000,\n",
       "  100000000000000000000,\n",
       "  100000000000000000000,\n",
       "  100000000000000000000],\n",
       " [100000000000000000000,\n",
       "  100000000000000000000,\n",
       "  100000000000000000000,\n",
       "  100000000000000000000]]"
      ]
     },
     "execution_count": 10,
     "metadata": {},
     "output_type": "execute_result"
    }
   ],
   "source": [
    "D"
   ]
  },
  {
   "cell_type": "code",
   "execution_count": null,
   "id": "805ad86b-278b-44bc-afc6-c8d9798430aa",
   "metadata": {},
   "outputs": [],
   "source": []
  }
 ],
 "metadata": {
  "kernelspec": {
   "display_name": "Python 3 (ipykernel)",
   "language": "python",
   "name": "python3"
  },
  "language_info": {
   "codemirror_mode": {
    "name": "ipython",
    "version": 3
   },
   "file_extension": ".py",
   "mimetype": "text/x-python",
   "name": "python",
   "nbconvert_exporter": "python",
   "pygments_lexer": "ipython3",
   "version": "3.9.12"
  }
 },
 "nbformat": 4,
 "nbformat_minor": 5
}
