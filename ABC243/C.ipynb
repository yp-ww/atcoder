{
 "cells": [
  {
   "cell_type": "code",
   "execution_count": 1,
   "id": "2cf1d8a9-7f95-48b3-bc83-1c5771953688",
   "metadata": {},
   "outputs": [
    {
     "data": {
      "application/vnd.jupyter.widget-view+json": {
       "model_id": "d42bebb4201e41538800c47821c6022d",
       "version_major": 2,
       "version_minor": 0
      },
      "text/plain": [
       "Textarea(value='')"
      ]
     },
     "metadata": {},
     "output_type": "display_data"
    }
   ],
   "source": [
    "# Ref: https://qiita.com/noca/items/00646efd9d4a7302f522\n",
    "from ipywidgets import Textarea\n",
    "import io\n",
    "if 'open' in globals():\n",
    "    del open\n",
    "if 'input' in globals():\n",
    "    del input\n",
    "original_open = open\n",
    "class custom_open():\n",
    "    def __init__(self):\n",
    "        self.text = ''\n",
    "    def __call__(self, file, *args, **kwargs):\n",
    "        if file == 0:\n",
    "            return io.StringIO(self.text)\n",
    "        return original_open(file, *args, **kwargs)\n",
    "    def updater(self, change):\n",
    "        self.text = change[\"new\"]\n",
    "class custom_input():\n",
    "    def __init__(self):\n",
    "        self.__sio = io.StringIO('')\n",
    "        self.shell = get_ipython()\n",
    "        if self.shell.events.callbacks['pre_run_cell'] != []:\n",
    "            self.shell.events.callbacks['pre_run_cell'] = []\n",
    "        self.shell.events.register('pre_run_cell', self.pre_run_cell)\n",
    "    def __call__(self):\n",
    "        return self.__sio.readline().strip()\n",
    "    def pre_run_cell(self, info):\n",
    "        text = self.shell.user_ns.get('text_area', None).value\n",
    "        self.__sio = io.StringIO(text)\n",
    "open = custom_open()\n",
    "input = custom_input()\n",
    "text_area = Textarea()\n",
    "text_area.observe(open.updater, names='value')\n",
    "display(text_area)"
   ]
  },
  {
   "cell_type": "code",
   "execution_count": 11,
   "id": "bc5af97c-e6a7-4918-943b-998cb7910b81",
   "metadata": {},
   "outputs": [
    {
     "name": "stdout",
     "output_type": "stream",
     "text": [
      "No\n"
     ]
    }
   ],
   "source": [
    "from collections import defaultdict\n",
    "N = int(input())\n",
    "XY = [list(map(int, input().split())) for _ in range(N)]\n",
    "S = list(input())\n",
    "\n",
    "go_l_max = defaultdict(int)\n",
    "go_r_min = defaultdict(int)\n",
    "\n",
    "y_list = set()\n",
    "\n",
    "for i in range(N):\n",
    "    x, y = XY[i][0], XY[i][1]\n",
    "    s = S[i]\n",
    "    \n",
    "    if s == \"R\":\n",
    "        if y not in go_r_min:\n",
    "            go_r_min[y] = x\n",
    "        else:\n",
    "            go_r_min[y] = min(go_r_min[y], x)\n",
    "        y_list.add(y)\n",
    "        \n",
    "    if s == \"L\":\n",
    "        if y not in go_l_max:\n",
    "            go_l_max[y] = x\n",
    "        else:\n",
    "            go_l_max[y] = max(go_l_max[y], x)\n",
    "    \n",
    "flag = False\n",
    "for y in y_list:\n",
    "    if y in go_l_max:\n",
    "        if go_r_min[y] < go_l_max[y]:\n",
    "            flag = True\n",
    "            break\n",
    "if flag:\n",
    "    print(\"Yes\")\n",
    "else:\n",
    "    print(\"No\")"
   ]
  },
  {
   "cell_type": "code",
   "execution_count": 12,
   "id": "f2b55c11-cb4b-4887-bbce-a9d8e80d9ad9",
   "metadata": {},
   "outputs": [
    {
     "data": {
      "text/plain": [
       "defaultdict(int, {1: 1})"
      ]
     },
     "execution_count": 12,
     "metadata": {},
     "output_type": "execute_result"
    }
   ],
   "source": [
    "go_r_min"
   ]
  },
  {
   "cell_type": "code",
   "execution_count": null,
   "id": "27fd57db-fd3a-40d1-97d2-151f193c6e07",
   "metadata": {},
   "outputs": [],
   "source": []
  }
 ],
 "metadata": {
  "kernelspec": {
   "display_name": "Python 3 (ipykernel)",
   "language": "python",
   "name": "python3"
  },
  "language_info": {
   "codemirror_mode": {
    "name": "ipython",
    "version": 3
   },
   "file_extension": ".py",
   "mimetype": "text/x-python",
   "name": "python",
   "nbconvert_exporter": "python",
   "pygments_lexer": "ipython3",
   "version": "3.9.12"
  }
 },
 "nbformat": 4,
 "nbformat_minor": 5
}
