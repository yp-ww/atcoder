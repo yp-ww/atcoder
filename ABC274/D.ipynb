{
 "cells": [
  {
   "cell_type": "code",
   "execution_count": 1,
   "id": "4077fce6-e2a3-4bec-aac7-70f52b6460ca",
   "metadata": {},
   "outputs": [
    {
     "data": {
      "application/vnd.jupyter.widget-view+json": {
       "model_id": "1ab8f92be1b34ae9b54bb5dc5942bca0",
       "version_major": 2,
       "version_minor": 0
      },
      "text/plain": [
       "Textarea(value='')"
      ]
     },
     "metadata": {},
     "output_type": "display_data"
    }
   ],
   "source": [
    "# Ref: https://qiita.com/noca/items/00646efd9d4a7302f522\n",
    "from ipywidgets import Textarea\n",
    "import io\n",
    "if 'open' in globals():\n",
    "    del open\n",
    "if 'input' in globals():\n",
    "    del input\n",
    "original_open = open\n",
    "class custom_open():\n",
    "    def __init__(self):\n",
    "        self.text = ''\n",
    "    def __call__(self, file, *args, **kwargs):\n",
    "        if file == 0:\n",
    "            return io.StringIO(self.text)\n",
    "        return original_open(file, *args, **kwargs)\n",
    "    def updater(self, change):\n",
    "        self.text = change[\"new\"]\n",
    "class custom_input():\n",
    "    def __init__(self):\n",
    "        self.__sio = io.StringIO('')\n",
    "        self.shell = get_ipython()\n",
    "        if self.shell.events.callbacks['pre_run_cell'] != []:\n",
    "            self.shell.events.callbacks['pre_run_cell'] = []\n",
    "        self.shell.events.register('pre_run_cell', self.pre_run_cell)\n",
    "    def __call__(self):\n",
    "        return self.__sio.readline().strip()\n",
    "    def pre_run_cell(self, info):\n",
    "        text = self.shell.user_ns.get('text_area', None).value\n",
    "        self.__sio = io.StringIO(text)\n",
    "open = custom_open()\n",
    "input = custom_input()\n",
    "text_area = Textarea()\n",
    "text_area.observe(open.updater, names='value')\n",
    "display(text_area)"
   ]
  },
  {
   "cell_type": "code",
   "execution_count": 87,
   "id": "c81bce1a-7cfb-4fd1-8675-9cfef4735535",
   "metadata": {},
   "outputs": [
    {
     "name": "stdout",
     "output_type": "stream",
     "text": [
      "Yes\n"
     ]
    }
   ],
   "source": [
    "N, X, Y = map(int, input().split())\n",
    "A = list(map(int, input().split()))\n",
    "\n",
    "MAX = 10001\n",
    "dpx = [[False] * (MAX + 6) for _ in range(-(-N//2) + 1)]\n",
    "dpy = [[False] * (MAX + 6) for _ in range(N//2 + 1)]\n",
    "\n",
    "dpx[0][(MAX+6)//2] = True\n",
    "dpy[0][(MAX+6)//2] = True\n",
    "\n",
    "for i in range(N):\n",
    "    a = A[i]\n",
    "    if i % 2:\n",
    "        i //= 2\n",
    "        for y in range(MAX+6):\n",
    "            if dpy[i][y]:\n",
    "                if y+a-(MAX+6)//2 < MAX:\n",
    "                    dpy[i+1][y+a] = True\n",
    "                if abs(y-a-(MAX+6)//2) < MAX:\n",
    "                    dpy[i+1][y-a] = True\n",
    "        \n",
    "    else:\n",
    "        i //= 2\n",
    "        for x in range(MAX+6):\n",
    "            if dpx[i][x]:\n",
    "                if i == 0:\n",
    "                    dpx[i+1][x+a] = True\n",
    "                else:\n",
    "                    if x+a-(MAX+6)//2 < MAX:\n",
    "                        dpx[i+1][x+a] = True\n",
    "                    if abs(x-a-(MAX+6)//2) < MAX:\n",
    "                        dpx[i+1][x-a] = True\n",
    "\n",
    "if dpx[-(-N//2)][(MAX+6)//2 + X] and dpy[N//2][(MAX+6)//2 + Y]:\n",
    "    print(\"Yes\")\n",
    "else:\n",
    "    print(\"No\")"
   ]
  },
  {
   "cell_type": "code",
   "execution_count": 88,
   "id": "d4a32a1e-41aa-4e29-a2b0-87a16dcedd5a",
   "metadata": {},
   "outputs": [
    {
     "data": {
      "text/plain": [
       "True"
      ]
     },
     "execution_count": 88,
     "metadata": {},
     "output_type": "execute_result"
    }
   ],
   "source": [
    "dpx[-(-N//2)][(MAX+6)//2 + X]"
   ]
  },
  {
   "cell_type": "code",
   "execution_count": 89,
   "id": "3671ea2f-0bb4-4e73-a9e0-6bb7ebeb5617",
   "metadata": {},
   "outputs": [
    {
     "data": {
      "text/plain": [
       "True"
      ]
     },
     "execution_count": 89,
     "metadata": {},
     "output_type": "execute_result"
    }
   ],
   "source": [
    "dpy[N//2][(MAX+6)//2 + Y]"
   ]
  },
  {
   "cell_type": "code",
   "execution_count": 77,
   "id": "743aa32d-fcbd-479e-a8e8-a8e51f2a2cf9",
   "metadata": {},
   "outputs": [
    {
     "data": {
      "text/plain": [
       "False"
      ]
     },
     "execution_count": 77,
     "metadata": {},
     "output_type": "execute_result"
    }
   ],
   "source": [
    "dpy[N//2][(MAX+6)//2 + Y + 1]"
   ]
  },
  {
   "cell_type": "code",
   "execution_count": null,
   "id": "d4f5aacb-d197-42a4-8088-43a8b71d8b1d",
   "metadata": {},
   "outputs": [],
   "source": []
  },
  {
   "cell_type": "code",
   "execution_count": null,
   "id": "74920591-f4ab-4a37-9805-bb2009db1465",
   "metadata": {},
   "outputs": [],
   "source": []
  }
 ],
 "metadata": {
  "kernelspec": {
   "display_name": "Python 3 (ipykernel)",
   "language": "python",
   "name": "python3"
  },
  "language_info": {
   "codemirror_mode": {
    "name": "ipython",
    "version": 3
   },
   "file_extension": ".py",
   "mimetype": "text/x-python",
   "name": "python",
   "nbconvert_exporter": "python",
   "pygments_lexer": "ipython3",
   "version": "3.9.12"
  }
 },
 "nbformat": 4,
 "nbformat_minor": 5
}
