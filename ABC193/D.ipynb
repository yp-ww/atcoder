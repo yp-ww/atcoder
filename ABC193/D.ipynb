{
 "cells": [
  {
   "cell_type": "code",
   "execution_count": 1,
   "id": "7b1871b9-7ce9-4582-aa53-f9499f62c308",
   "metadata": {},
   "outputs": [
    {
     "data": {
      "application/vnd.jupyter.widget-view+json": {
       "model_id": "09eadd8327ed4ae2b9594a310a483ea0",
       "version_major": 2,
       "version_minor": 0
      },
      "text/plain": [
       "Textarea(value='')"
      ]
     },
     "metadata": {},
     "output_type": "display_data"
    }
   ],
   "source": [
    "# Ref: https://qiita.com/noca/items/00646efd9d4a7302f522\n",
    "from ipywidgets import Textarea\n",
    "import io\n",
    "if 'open' in globals():\n",
    "    del open\n",
    "if 'input' in globals():\n",
    "    del input\n",
    "original_open = open\n",
    "class custom_open():\n",
    "    def __init__(self):\n",
    "        self.text = ''\n",
    "    def __call__(self, file, *args, **kwargs):\n",
    "        if file == 0:\n",
    "            return io.StringIO(self.text)\n",
    "        return original_open(file, *args, **kwargs)\n",
    "    def updater(self, change):\n",
    "        self.text = change[\"new\"]\n",
    "class custom_input():\n",
    "    def __init__(self):\n",
    "        self.__sio = io.StringIO('')\n",
    "        self.shell = get_ipython()\n",
    "        if self.shell.events.callbacks['pre_run_cell'] != []:\n",
    "            self.shell.events.callbacks['pre_run_cell'] = []\n",
    "        self.shell.events.register('pre_run_cell', self.pre_run_cell)\n",
    "    def __call__(self):\n",
    "        return self.__sio.readline().strip()\n",
    "    def pre_run_cell(self, info):\n",
    "        text = self.shell.user_ns.get('text_area', None).value\n",
    "        self.__sio = io.StringIO(text)\n",
    "open = custom_open()\n",
    "input = custom_input()\n",
    "text_area = Textarea()\n",
    "text_area.observe(open.updater, names='value')\n",
    "display(text_area)"
   ]
  },
  {
   "cell_type": "code",
   "execution_count": 42,
   "id": "e824c13d-392c-4ef0-a5fa-b626a2f687fd",
   "metadata": {},
   "outputs": [
    {
     "name": "stdout",
     "output_type": "stream",
     "text": [
      "1.0\n"
     ]
    }
   ],
   "source": [
    "K = int(input())\n",
    "S = input()\n",
    "T = input()\n",
    "\n",
    "cnt = [K] * 10\n",
    "cnt[0] = 0\n",
    "sp = [0] * 10\n",
    "tp = [0] * 10\n",
    "\n",
    "for i in range(4):\n",
    "    s = int(S[i])\n",
    "    cnt[s] -= 1\n",
    "    sp[s] += 1\n",
    "    \n",
    "for i in range(4):\n",
    "    t = int(T[i])\n",
    "    cnt[t] -= 1\n",
    "    tp[t] += 1\n",
    "    \n",
    "ans = 0\n",
    "for i in range(1, 10):\n",
    "    c = i\n",
    "    if cnt[c] == 0:\n",
    "        continue\n",
    "    \n",
    "    c = i\n",
    "    sp[c] += 1\n",
    "    cnt[c] -= 1\n",
    "    s = 0\n",
    "    for j in range(1, 10):\n",
    "        s += j * (10 ** sp[j])\n",
    "    \n",
    "    tot = 0\n",
    "    for k in range(1, 10):\n",
    "        if cnt[k] == 0:\n",
    "            continue\n",
    "        tp[k] += 1\n",
    "        t = 0\n",
    "        for j in range(1, 10):\n",
    "            t += j * (10 ** tp[j])\n",
    "        if t < s:\n",
    "            tot += cnt[k]\n",
    "        tp[k] -= 1\n",
    "    \n",
    "    sp[c] -= 1\n",
    "    cnt[c] += 1\n",
    "    ans += (tot / (sum(cnt)-1)) * (cnt[c] / sum(cnt))\n",
    "\n",
    "print(ans)"
   ]
  },
  {
   "cell_type": "code",
   "execution_count": 43,
   "id": "6472b05a-9e46-45c1-90d8-414d8a942bcf",
   "metadata": {},
   "outputs": [
    {
     "data": {
      "text/plain": [
       "[0, 0, 0, 2, 2, 2, 2, 2, 0, 0]"
      ]
     },
     "execution_count": 43,
     "metadata": {},
     "output_type": "execute_result"
    }
   ],
   "source": [
    "cnt"
   ]
  },
  {
   "cell_type": "code",
   "execution_count": 44,
   "id": "058ac0d9-801d-405c-8a80-38686b0c4658",
   "metadata": {},
   "outputs": [
    {
     "data": {
      "text/plain": [
       "1.0"
      ]
     },
     "execution_count": 44,
     "metadata": {},
     "output_type": "execute_result"
    }
   ],
   "source": [
    "ans"
   ]
  },
  {
   "cell_type": "code",
   "execution_count": null,
   "id": "c1f78913-5d7b-43f1-81b3-1d5562ccc1bb",
   "metadata": {},
   "outputs": [],
   "source": []
  },
  {
   "cell_type": "code",
   "execution_count": null,
   "id": "84c1c76e-1e51-4ec8-b6e3-96a835926b9f",
   "metadata": {},
   "outputs": [],
   "source": []
  }
 ],
 "metadata": {
  "kernelspec": {
   "display_name": "Python 3 (ipykernel)",
   "language": "python",
   "name": "python3"
  },
  "language_info": {
   "codemirror_mode": {
    "name": "ipython",
    "version": 3
   },
   "file_extension": ".py",
   "mimetype": "text/x-python",
   "name": "python",
   "nbconvert_exporter": "python",
   "pygments_lexer": "ipython3",
   "version": "3.9.12"
  }
 },
 "nbformat": 4,
 "nbformat_minor": 5
}
